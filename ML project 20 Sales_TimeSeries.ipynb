{
 "cells": [
  {
   "cell_type": "code",
   "execution_count": 1,
   "id": "288223cc",
   "metadata": {},
   "outputs": [],
   "source": [
    "import os\n",
    "import numpy as np\n",
    "import pandas as pd\n",
    "import matplotlib.pyplot as plt\n",
    "import seaborn as sns\n"
   ]
  },
  {
   "cell_type": "code",
   "execution_count": 3,
   "id": "c48bc183",
   "metadata": {},
   "outputs": [],
   "source": [
    "os.chdir(r'C:\\Users\\User\\Downloads\\ml')"
   ]
  },
  {
   "cell_type": "code",
   "execution_count": 4,
   "id": "e2a0d9e7",
   "metadata": {},
   "outputs": [
    {
     "data": {
      "text/plain": [
       "['1st model.ipynb',\n",
       " '2. Linear Regression (1).pdf',\n",
       " 'CHAPTER 5 - EDA_LoanData.ipynb',\n",
       " 'CHAPTERRR 18 - Naive Bayes -Kaggle Mobile Data.ipynb',\n",
       " 'Crop_Recommendation_Model.ipynb',\n",
       " 'data',\n",
       " 'data time series.csv',\n",
       " 'DecisionTreeTheory.ipynb',\n",
       " 'Diabatic-checkpoint.ipynb',\n",
       " 'Diabatic.ipynb',\n",
       " 'Downloads.profile.xlsx',\n",
       " 'Ensemble-checkpoint.ipynb',\n",
       " 'Ensemble.ipynb',\n",
       " 'final_clust2.xlsx',\n",
       " 'final_clust3.xlsx',\n",
       " 'Health Insurance Cross Sell Prediction.ipynb',\n",
       " 'house_price.csv',\n",
       " 'KC house data.ipynb',\n",
       " 'LinearRegressionCarSales.ipynb',\n",
       " 'Loan Data linear reg. SAhil (1) (1).ipynb',\n",
       " 'LogReg_Default.ipynb',\n",
       " 'nyc taxi.ipynb',\n",
       " 'Oversampling & Under sampling-Copy1.ipynb',\n",
       " 'PCA_with_house_prices (1).ipynb',\n",
       " 'Project 5 car data-checkpoint.ipynb',\n",
       " 'project work.ipynb',\n",
       " 'pyplot.rar',\n",
       " 'Sales_TimeSeries.ipynb',\n",
       " 'sample_submission.csv',\n",
       " 'snsdata1.csv',\n",
       " 'sonu Loan Data linear reg. loan data.ipynb',\n",
       " 'Support Vector Machine_Take Home Questions.ipynb',\n",
       " 'UNSUPERVISED.ipynb',\n",
       " 'Untitled (2).ipynb']"
      ]
     },
     "execution_count": 4,
     "metadata": {},
     "output_type": "execute_result"
    }
   ],
   "source": [
    "os.listdir()"
   ]
  },
  {
   "cell_type": "code",
   "execution_count": 5,
   "id": "42cda45c",
   "metadata": {},
   "outputs": [],
   "source": [
    "data=pd.read_csv('data time series.csv',encoding='latin-1')"
   ]
  },
  {
   "cell_type": "code",
   "execution_count": 6,
   "id": "d76ae2ef",
   "metadata": {},
   "outputs": [
    {
     "data": {
      "text/plain": [
       "(2121, 21)"
      ]
     },
     "execution_count": 6,
     "metadata": {},
     "output_type": "execute_result"
    }
   ],
   "source": [
    "data.shape"
   ]
  },
  {
   "cell_type": "code",
   "execution_count": 7,
   "id": "65df1622",
   "metadata": {},
   "outputs": [
    {
     "data": {
      "text/html": [
       "<div>\n",
       "<style scoped>\n",
       "    .dataframe tbody tr th:only-of-type {\n",
       "        vertical-align: middle;\n",
       "    }\n",
       "\n",
       "    .dataframe tbody tr th {\n",
       "        vertical-align: top;\n",
       "    }\n",
       "\n",
       "    .dataframe thead th {\n",
       "        text-align: right;\n",
       "    }\n",
       "</style>\n",
       "<table border=\"1\" class=\"dataframe\">\n",
       "  <thead>\n",
       "    <tr style=\"text-align: right;\">\n",
       "      <th></th>\n",
       "      <th>Row ID</th>\n",
       "      <th>Order ID</th>\n",
       "      <th>Order Date</th>\n",
       "      <th>Ship Date</th>\n",
       "      <th>Ship Mode</th>\n",
       "      <th>Customer ID</th>\n",
       "      <th>Customer Name</th>\n",
       "      <th>Segment</th>\n",
       "      <th>Country</th>\n",
       "      <th>City</th>\n",
       "      <th>...</th>\n",
       "      <th>Postal Code</th>\n",
       "      <th>Region</th>\n",
       "      <th>Product ID</th>\n",
       "      <th>Category</th>\n",
       "      <th>Sub-Category</th>\n",
       "      <th>Product Name</th>\n",
       "      <th>Sales</th>\n",
       "      <th>Quantity</th>\n",
       "      <th>Discount</th>\n",
       "      <th>Profit</th>\n",
       "    </tr>\n",
       "  </thead>\n",
       "  <tbody>\n",
       "    <tr>\n",
       "      <th>0</th>\n",
       "      <td>1</td>\n",
       "      <td>CA-2016-152156</td>\n",
       "      <td>11-08-2016</td>\n",
       "      <td>11-11-2016</td>\n",
       "      <td>Second Class</td>\n",
       "      <td>CG-12520</td>\n",
       "      <td>Claire Gute</td>\n",
       "      <td>Consumer</td>\n",
       "      <td>United States</td>\n",
       "      <td>Henderson</td>\n",
       "      <td>...</td>\n",
       "      <td>42420</td>\n",
       "      <td>South</td>\n",
       "      <td>FUR-BO-10001798</td>\n",
       "      <td>Furniture</td>\n",
       "      <td>Bookcases</td>\n",
       "      <td>Bush Somerset Collection Bookcase</td>\n",
       "      <td>261.9600</td>\n",
       "      <td>2</td>\n",
       "      <td>0.00</td>\n",
       "      <td>41.9136</td>\n",
       "    </tr>\n",
       "    <tr>\n",
       "      <th>1</th>\n",
       "      <td>2</td>\n",
       "      <td>CA-2016-152156</td>\n",
       "      <td>11-08-2016</td>\n",
       "      <td>11-11-2016</td>\n",
       "      <td>Second Class</td>\n",
       "      <td>CG-12520</td>\n",
       "      <td>Claire Gute</td>\n",
       "      <td>Consumer</td>\n",
       "      <td>United States</td>\n",
       "      <td>Henderson</td>\n",
       "      <td>...</td>\n",
       "      <td>42420</td>\n",
       "      <td>South</td>\n",
       "      <td>FUR-CH-10000454</td>\n",
       "      <td>Furniture</td>\n",
       "      <td>Chairs</td>\n",
       "      <td>Hon Deluxe Fabric Upholstered Stacking Chairs,...</td>\n",
       "      <td>731.9400</td>\n",
       "      <td>3</td>\n",
       "      <td>0.00</td>\n",
       "      <td>219.5820</td>\n",
       "    </tr>\n",
       "    <tr>\n",
       "      <th>2</th>\n",
       "      <td>4</td>\n",
       "      <td>US-2015-108966</td>\n",
       "      <td>10-11-2015</td>\n",
       "      <td>10/18/2015</td>\n",
       "      <td>Standard Class</td>\n",
       "      <td>SO-20335</td>\n",
       "      <td>Sean O'Donnell</td>\n",
       "      <td>Consumer</td>\n",
       "      <td>United States</td>\n",
       "      <td>Fort Lauderdale</td>\n",
       "      <td>...</td>\n",
       "      <td>33311</td>\n",
       "      <td>South</td>\n",
       "      <td>FUR-TA-10000577</td>\n",
       "      <td>Furniture</td>\n",
       "      <td>Tables</td>\n",
       "      <td>Bretford CR4500 Series Slim Rectangular Table</td>\n",
       "      <td>957.5775</td>\n",
       "      <td>5</td>\n",
       "      <td>0.45</td>\n",
       "      <td>-383.0310</td>\n",
       "    </tr>\n",
       "    <tr>\n",
       "      <th>3</th>\n",
       "      <td>6</td>\n",
       "      <td>CA-2014-115812</td>\n",
       "      <td>06-09-2014</td>\n",
       "      <td>6/14/2014</td>\n",
       "      <td>Standard Class</td>\n",
       "      <td>BH-11710</td>\n",
       "      <td>Brosina Hoffman</td>\n",
       "      <td>Consumer</td>\n",
       "      <td>United States</td>\n",
       "      <td>Los Angeles</td>\n",
       "      <td>...</td>\n",
       "      <td>90032</td>\n",
       "      <td>West</td>\n",
       "      <td>FUR-FU-10001487</td>\n",
       "      <td>Furniture</td>\n",
       "      <td>Furnishings</td>\n",
       "      <td>Eldon Expressions Wood and Plastic Desk Access...</td>\n",
       "      <td>48.8600</td>\n",
       "      <td>7</td>\n",
       "      <td>0.00</td>\n",
       "      <td>14.1694</td>\n",
       "    </tr>\n",
       "    <tr>\n",
       "      <th>4</th>\n",
       "      <td>11</td>\n",
       "      <td>CA-2014-115812</td>\n",
       "      <td>06-09-2014</td>\n",
       "      <td>6/14/2014</td>\n",
       "      <td>Standard Class</td>\n",
       "      <td>BH-11710</td>\n",
       "      <td>Brosina Hoffman</td>\n",
       "      <td>Consumer</td>\n",
       "      <td>United States</td>\n",
       "      <td>Los Angeles</td>\n",
       "      <td>...</td>\n",
       "      <td>90032</td>\n",
       "      <td>West</td>\n",
       "      <td>FUR-TA-10001539</td>\n",
       "      <td>Furniture</td>\n",
       "      <td>Tables</td>\n",
       "      <td>Chromcraft Rectangular Conference Tables</td>\n",
       "      <td>1706.1840</td>\n",
       "      <td>9</td>\n",
       "      <td>0.20</td>\n",
       "      <td>85.3092</td>\n",
       "    </tr>\n",
       "  </tbody>\n",
       "</table>\n",
       "<p>5 rows × 21 columns</p>\n",
       "</div>"
      ],
      "text/plain": [
       "   Row ID        Order ID  Order Date   Ship Date       Ship Mode Customer ID  \\\n",
       "0       1  CA-2016-152156  11-08-2016  11-11-2016    Second Class    CG-12520   \n",
       "1       2  CA-2016-152156  11-08-2016  11-11-2016    Second Class    CG-12520   \n",
       "2       4  US-2015-108966  10-11-2015  10/18/2015  Standard Class    SO-20335   \n",
       "3       6  CA-2014-115812  06-09-2014   6/14/2014  Standard Class    BH-11710   \n",
       "4      11  CA-2014-115812  06-09-2014   6/14/2014  Standard Class    BH-11710   \n",
       "\n",
       "     Customer Name   Segment        Country             City  ... Postal Code  \\\n",
       "0      Claire Gute  Consumer  United States        Henderson  ...       42420   \n",
       "1      Claire Gute  Consumer  United States        Henderson  ...       42420   \n",
       "2   Sean O'Donnell  Consumer  United States  Fort Lauderdale  ...       33311   \n",
       "3  Brosina Hoffman  Consumer  United States      Los Angeles  ...       90032   \n",
       "4  Brosina Hoffman  Consumer  United States      Los Angeles  ...       90032   \n",
       "\n",
       "   Region       Product ID   Category Sub-Category  \\\n",
       "0   South  FUR-BO-10001798  Furniture    Bookcases   \n",
       "1   South  FUR-CH-10000454  Furniture       Chairs   \n",
       "2   South  FUR-TA-10000577  Furniture       Tables   \n",
       "3    West  FUR-FU-10001487  Furniture  Furnishings   \n",
       "4    West  FUR-TA-10001539  Furniture       Tables   \n",
       "\n",
       "                                        Product Name      Sales  Quantity  \\\n",
       "0                  Bush Somerset Collection Bookcase   261.9600         2   \n",
       "1  Hon Deluxe Fabric Upholstered Stacking Chairs,...   731.9400         3   \n",
       "2      Bretford CR4500 Series Slim Rectangular Table   957.5775         5   \n",
       "3  Eldon Expressions Wood and Plastic Desk Access...    48.8600         7   \n",
       "4           Chromcraft Rectangular Conference Tables  1706.1840         9   \n",
       "\n",
       "   Discount    Profit  \n",
       "0      0.00   41.9136  \n",
       "1      0.00  219.5820  \n",
       "2      0.45 -383.0310  \n",
       "3      0.00   14.1694  \n",
       "4      0.20   85.3092  \n",
       "\n",
       "[5 rows x 21 columns]"
      ]
     },
     "execution_count": 7,
     "metadata": {},
     "output_type": "execute_result"
    }
   ],
   "source": [
    "data.head()"
   ]
  },
  {
   "cell_type": "code",
   "execution_count": 8,
   "id": "04d0a827",
   "metadata": {},
   "outputs": [
    {
     "name": "stdout",
     "output_type": "stream",
     "text": [
      "<class 'pandas.core.frame.DataFrame'>\n",
      "RangeIndex: 2121 entries, 0 to 2120\n",
      "Data columns (total 21 columns):\n",
      " #   Column         Non-Null Count  Dtype  \n",
      "---  ------         --------------  -----  \n",
      " 0   Row ID         2121 non-null   int64  \n",
      " 1   Order ID       2121 non-null   object \n",
      " 2   Order Date     2121 non-null   object \n",
      " 3   Ship Date      2121 non-null   object \n",
      " 4   Ship Mode      2121 non-null   object \n",
      " 5   Customer ID    2121 non-null   object \n",
      " 6   Customer Name  2121 non-null   object \n",
      " 7   Segment        2121 non-null   object \n",
      " 8   Country        2121 non-null   object \n",
      " 9   City           2121 non-null   object \n",
      " 10  State          2121 non-null   object \n",
      " 11  Postal Code    2121 non-null   int64  \n",
      " 12  Region         2121 non-null   object \n",
      " 13  Product ID     2121 non-null   object \n",
      " 14  Category       2121 non-null   object \n",
      " 15  Sub-Category   2121 non-null   object \n",
      " 16  Product Name   2121 non-null   object \n",
      " 17  Sales          2121 non-null   float64\n",
      " 18  Quantity       2121 non-null   int64  \n",
      " 19  Discount       2121 non-null   float64\n",
      " 20  Profit         2121 non-null   float64\n",
      "dtypes: float64(3), int64(3), object(15)\n",
      "memory usage: 348.1+ KB\n"
     ]
    }
   ],
   "source": [
    "data.info()"
   ]
  },
  {
   "cell_type": "code",
   "execution_count": 9,
   "id": "9d1c7784",
   "metadata": {},
   "outputs": [
    {
     "data": {
      "text/html": [
       "<div>\n",
       "<style scoped>\n",
       "    .dataframe tbody tr th:only-of-type {\n",
       "        vertical-align: middle;\n",
       "    }\n",
       "\n",
       "    .dataframe tbody tr th {\n",
       "        vertical-align: top;\n",
       "    }\n",
       "\n",
       "    .dataframe thead th {\n",
       "        text-align: right;\n",
       "    }\n",
       "</style>\n",
       "<table border=\"1\" class=\"dataframe\">\n",
       "  <thead>\n",
       "    <tr style=\"text-align: right;\">\n",
       "      <th></th>\n",
       "      <th>Row ID</th>\n",
       "      <th>Postal Code</th>\n",
       "      <th>Sales</th>\n",
       "      <th>Quantity</th>\n",
       "      <th>Discount</th>\n",
       "      <th>Profit</th>\n",
       "    </tr>\n",
       "  </thead>\n",
       "  <tbody>\n",
       "    <tr>\n",
       "      <th>count</th>\n",
       "      <td>2121.000000</td>\n",
       "      <td>2121.000000</td>\n",
       "      <td>2121.000000</td>\n",
       "      <td>2121.000000</td>\n",
       "      <td>2121.000000</td>\n",
       "      <td>2121.000000</td>\n",
       "    </tr>\n",
       "    <tr>\n",
       "      <th>mean</th>\n",
       "      <td>5041.643564</td>\n",
       "      <td>55726.556341</td>\n",
       "      <td>349.834887</td>\n",
       "      <td>3.785007</td>\n",
       "      <td>0.173923</td>\n",
       "      <td>8.699327</td>\n",
       "    </tr>\n",
       "    <tr>\n",
       "      <th>std</th>\n",
       "      <td>2885.740258</td>\n",
       "      <td>32261.888225</td>\n",
       "      <td>503.179145</td>\n",
       "      <td>2.251620</td>\n",
       "      <td>0.181547</td>\n",
       "      <td>136.049246</td>\n",
       "    </tr>\n",
       "    <tr>\n",
       "      <th>min</th>\n",
       "      <td>1.000000</td>\n",
       "      <td>1040.000000</td>\n",
       "      <td>1.892000</td>\n",
       "      <td>1.000000</td>\n",
       "      <td>0.000000</td>\n",
       "      <td>-1862.312400</td>\n",
       "    </tr>\n",
       "    <tr>\n",
       "      <th>25%</th>\n",
       "      <td>2568.000000</td>\n",
       "      <td>22801.000000</td>\n",
       "      <td>47.040000</td>\n",
       "      <td>2.000000</td>\n",
       "      <td>0.000000</td>\n",
       "      <td>-12.849000</td>\n",
       "    </tr>\n",
       "    <tr>\n",
       "      <th>50%</th>\n",
       "      <td>5145.000000</td>\n",
       "      <td>60505.000000</td>\n",
       "      <td>182.220000</td>\n",
       "      <td>3.000000</td>\n",
       "      <td>0.200000</td>\n",
       "      <td>7.774800</td>\n",
       "    </tr>\n",
       "    <tr>\n",
       "      <th>75%</th>\n",
       "      <td>7534.000000</td>\n",
       "      <td>90032.000000</td>\n",
       "      <td>435.168000</td>\n",
       "      <td>5.000000</td>\n",
       "      <td>0.300000</td>\n",
       "      <td>33.726600</td>\n",
       "    </tr>\n",
       "    <tr>\n",
       "      <th>max</th>\n",
       "      <td>9991.000000</td>\n",
       "      <td>99301.000000</td>\n",
       "      <td>4416.174000</td>\n",
       "      <td>14.000000</td>\n",
       "      <td>0.700000</td>\n",
       "      <td>1013.127000</td>\n",
       "    </tr>\n",
       "  </tbody>\n",
       "</table>\n",
       "</div>"
      ],
      "text/plain": [
       "            Row ID   Postal Code        Sales     Quantity     Discount  \\\n",
       "count  2121.000000   2121.000000  2121.000000  2121.000000  2121.000000   \n",
       "mean   5041.643564  55726.556341   349.834887     3.785007     0.173923   \n",
       "std    2885.740258  32261.888225   503.179145     2.251620     0.181547   \n",
       "min       1.000000   1040.000000     1.892000     1.000000     0.000000   \n",
       "25%    2568.000000  22801.000000    47.040000     2.000000     0.000000   \n",
       "50%    5145.000000  60505.000000   182.220000     3.000000     0.200000   \n",
       "75%    7534.000000  90032.000000   435.168000     5.000000     0.300000   \n",
       "max    9991.000000  99301.000000  4416.174000    14.000000     0.700000   \n",
       "\n",
       "            Profit  \n",
       "count  2121.000000  \n",
       "mean      8.699327  \n",
       "std     136.049246  \n",
       "min   -1862.312400  \n",
       "25%     -12.849000  \n",
       "50%       7.774800  \n",
       "75%      33.726600  \n",
       "max    1013.127000  "
      ]
     },
     "execution_count": 9,
     "metadata": {},
     "output_type": "execute_result"
    }
   ],
   "source": [
    "data.describe()"
   ]
  },
  {
   "cell_type": "code",
   "execution_count": 10,
   "id": "f55ea144",
   "metadata": {},
   "outputs": [],
   "source": [
    "Yt_data=data[['Order Date','Sales']]"
   ]
  },
  {
   "cell_type": "code",
   "execution_count": 11,
   "id": "f3ceadc3",
   "metadata": {},
   "outputs": [
    {
     "data": {
      "text/plain": [
       "(2121, 2)"
      ]
     },
     "execution_count": 11,
     "metadata": {},
     "output_type": "execute_result"
    }
   ],
   "source": [
    "Yt_data.shape"
   ]
  },
  {
   "cell_type": "code",
   "execution_count": 12,
   "id": "b750bde9",
   "metadata": {},
   "outputs": [
    {
     "data": {
      "text/html": [
       "<div>\n",
       "<style scoped>\n",
       "    .dataframe tbody tr th:only-of-type {\n",
       "        vertical-align: middle;\n",
       "    }\n",
       "\n",
       "    .dataframe tbody tr th {\n",
       "        vertical-align: top;\n",
       "    }\n",
       "\n",
       "    .dataframe thead th {\n",
       "        text-align: right;\n",
       "    }\n",
       "</style>\n",
       "<table border=\"1\" class=\"dataframe\">\n",
       "  <thead>\n",
       "    <tr style=\"text-align: right;\">\n",
       "      <th></th>\n",
       "      <th>Order Date</th>\n",
       "      <th>Sales</th>\n",
       "    </tr>\n",
       "  </thead>\n",
       "  <tbody>\n",
       "    <tr>\n",
       "      <th>0</th>\n",
       "      <td>11-08-2016</td>\n",
       "      <td>261.9600</td>\n",
       "    </tr>\n",
       "    <tr>\n",
       "      <th>1</th>\n",
       "      <td>11-08-2016</td>\n",
       "      <td>731.9400</td>\n",
       "    </tr>\n",
       "    <tr>\n",
       "      <th>2</th>\n",
       "      <td>10-11-2015</td>\n",
       "      <td>957.5775</td>\n",
       "    </tr>\n",
       "    <tr>\n",
       "      <th>3</th>\n",
       "      <td>06-09-2014</td>\n",
       "      <td>48.8600</td>\n",
       "    </tr>\n",
       "    <tr>\n",
       "      <th>4</th>\n",
       "      <td>06-09-2014</td>\n",
       "      <td>1706.1840</td>\n",
       "    </tr>\n",
       "    <tr>\n",
       "      <th>5</th>\n",
       "      <td>7/16/2017</td>\n",
       "      <td>71.3720</td>\n",
       "    </tr>\n",
       "    <tr>\n",
       "      <th>6</th>\n",
       "      <td>9/25/2015</td>\n",
       "      <td>1044.6300</td>\n",
       "    </tr>\n",
       "    <tr>\n",
       "      <th>7</th>\n",
       "      <td>9/17/2015</td>\n",
       "      <td>3083.4300</td>\n",
       "    </tr>\n",
       "    <tr>\n",
       "      <th>8</th>\n",
       "      <td>9/17/2015</td>\n",
       "      <td>124.2000</td>\n",
       "    </tr>\n",
       "    <tr>\n",
       "      <th>9</th>\n",
       "      <td>12-08-2016</td>\n",
       "      <td>190.9200</td>\n",
       "    </tr>\n",
       "  </tbody>\n",
       "</table>\n",
       "</div>"
      ],
      "text/plain": [
       "   Order Date      Sales\n",
       "0  11-08-2016   261.9600\n",
       "1  11-08-2016   731.9400\n",
       "2  10-11-2015   957.5775\n",
       "3  06-09-2014    48.8600\n",
       "4  06-09-2014  1706.1840\n",
       "5   7/16/2017    71.3720\n",
       "6   9/25/2015  1044.6300\n",
       "7   9/17/2015  3083.4300\n",
       "8   9/17/2015   124.2000\n",
       "9  12-08-2016   190.9200"
      ]
     },
     "execution_count": 12,
     "metadata": {},
     "output_type": "execute_result"
    }
   ],
   "source": [
    "Yt_data.head(10)"
   ]
  },
  {
   "cell_type": "code",
   "execution_count": 13,
   "id": "00afb11b",
   "metadata": {},
   "outputs": [
    {
     "data": {
      "text/plain": [
       "Order Date     object\n",
       "Sales         float64\n",
       "dtype: object"
      ]
     },
     "execution_count": 13,
     "metadata": {},
     "output_type": "execute_result"
    }
   ],
   "source": [
    "Yt_data.dtypes"
   ]
  },
  {
   "cell_type": "code",
   "execution_count": 14,
   "id": "993a63a4",
   "metadata": {},
   "outputs": [
    {
     "name": "stderr",
     "output_type": "stream",
     "text": [
      "C:\\Users\\User\\AppData\\Local\\Temp\\ipykernel_1544\\3798879652.py:1: SettingWithCopyWarning: \n",
      "A value is trying to be set on a copy of a slice from a DataFrame.\n",
      "Try using .loc[row_indexer,col_indexer] = value instead\n",
      "\n",
      "See the caveats in the documentation: https://pandas.pydata.org/pandas-docs/stable/user_guide/indexing.html#returning-a-view-versus-a-copy\n",
      "  Yt_data['order_date']=pd.to_datetime(Yt_data['Order Date'])\n"
     ]
    }
   ],
   "source": [
    "Yt_data['order_date']=pd.to_datetime(Yt_data['Order Date'])"
   ]
  },
  {
   "cell_type": "code",
   "execution_count": 15,
   "id": "ec54abba",
   "metadata": {},
   "outputs": [
    {
     "data": {
      "text/plain": [
       "Order Date            object\n",
       "Sales                float64\n",
       "order_date    datetime64[ns]\n",
       "dtype: object"
      ]
     },
     "execution_count": 15,
     "metadata": {},
     "output_type": "execute_result"
    }
   ],
   "source": [
    "Yt_data.dtypes"
   ]
  },
  {
   "cell_type": "code",
   "execution_count": 16,
   "id": "00f0afa0",
   "metadata": {},
   "outputs": [
    {
     "name": "stderr",
     "output_type": "stream",
     "text": [
      "C:\\Users\\User\\AppData\\Local\\Temp\\ipykernel_1544\\3144707936.py:1: SettingWithCopyWarning: \n",
      "A value is trying to be set on a copy of a slice from a DataFrame\n",
      "\n",
      "See the caveats in the documentation: https://pandas.pydata.org/pandas-docs/stable/user_guide/indexing.html#returning-a-view-versus-a-copy\n",
      "  Yt_data.drop(columns=['Order Date'],inplace=True)\n"
     ]
    }
   ],
   "source": [
    "Yt_data.drop(columns=['Order Date'],inplace=True)"
   ]
  },
  {
   "cell_type": "code",
   "execution_count": 17,
   "id": "7bfbf06c",
   "metadata": {},
   "outputs": [
    {
     "data": {
      "text/plain": [
       "Sales         0\n",
       "order_date    0\n",
       "dtype: int64"
      ]
     },
     "execution_count": 17,
     "metadata": {},
     "output_type": "execute_result"
    }
   ],
   "source": [
    "Yt_data.isnull().sum()"
   ]
  },
  {
   "cell_type": "code",
   "execution_count": 18,
   "id": "d42e696c",
   "metadata": {},
   "outputs": [],
   "source": [
    "Yt_data1=Yt_data.groupby('order_date')['Sales'].sum().reset_index()\n"
   ]
  },
  {
   "cell_type": "markdown",
   "id": "9fe18bba",
   "metadata": {},
   "source": [
    "60###### Yt_data1.head()"
   ]
  },
  {
   "cell_type": "code",
   "execution_count": 19,
   "id": "22a6de35",
   "metadata": {},
   "outputs": [
    {
     "data": {
      "text/plain": [
       "(889, 2)"
      ]
     },
     "execution_count": 19,
     "metadata": {},
     "output_type": "execute_result"
    }
   ],
   "source": [
    "Yt_data1.shape"
   ]
  },
  {
   "cell_type": "code",
   "execution_count": 20,
   "id": "fba62525",
   "metadata": {},
   "outputs": [],
   "source": [
    "Yt_data1.sort_values(by='order_date', inplace=True)"
   ]
  },
  {
   "cell_type": "code",
   "execution_count": 21,
   "id": "d0f77527",
   "metadata": {},
   "outputs": [
    {
     "data": {
      "text/plain": [
       "order_date    2014-01-06 00:00:00\n",
       "Sales                       1.988\n",
       "dtype: object"
      ]
     },
     "execution_count": 21,
     "metadata": {},
     "output_type": "execute_result"
    }
   ],
   "source": [
    "Yt_data1.min()"
   ]
  },
  {
   "cell_type": "code",
   "execution_count": 22,
   "id": "a70391e0",
   "metadata": {},
   "outputs": [
    {
     "data": {
      "text/plain": [
       "order_date    2017-12-30 00:00:00\n",
       "Sales                   10006.174\n",
       "dtype: object"
      ]
     },
     "execution_count": 22,
     "metadata": {},
     "output_type": "execute_result"
    }
   ],
   "source": [
    "Yt_data1.max()"
   ]
  },
  {
   "cell_type": "code",
   "execution_count": 23,
   "id": "833e8caa",
   "metadata": {},
   "outputs": [
    {
     "data": {
      "text/plain": [
       "1460"
      ]
     },
     "execution_count": 23,
     "metadata": {},
     "output_type": "execute_result"
    }
   ],
   "source": [
    "4*365"
   ]
  },
  {
   "cell_type": "code",
   "execution_count": 24,
   "id": "22167472",
   "metadata": {},
   "outputs": [],
   "source": [
    "Yt_data1.set_index(['order_date'], inplace=True)\n"
   ]
  },
  {
   "cell_type": "code",
   "execution_count": 25,
   "id": "e31663db",
   "metadata": {},
   "outputs": [],
   "source": [
    "Yt_data2=Yt_data1['Sales'].resample('MS').mean()"
   ]
  },
  {
   "cell_type": "code",
   "execution_count": 26,
   "id": "ccdac0e9",
   "metadata": {},
   "outputs": [
    {
     "data": {
      "text/plain": [
       "order_date\n",
       "2014-01-01     480.194231\n",
       "2014-02-01     367.931600\n",
       "2014-03-01     857.291529\n",
       "2014-04-01     567.488357\n",
       "2014-05-01     432.049188\n",
       "2014-06-01     695.059242\n",
       "2014-07-01     601.169500\n",
       "2014-08-01     457.521656\n",
       "2014-09-01     992.353367\n",
       "2014-10-01     769.015437\n",
       "2014-11-01     980.221486\n",
       "2014-12-01    1532.298325\n",
       "2015-01-01     978.328467\n",
       "2015-02-01     522.395667\n",
       "2015-03-01     781.236437\n",
       "2015-04-01     805.822962\n",
       "2015-05-01     624.996700\n",
       "2015-06-01     428.565500\n",
       "2015-07-01     719.706316\n",
       "2015-08-01     602.412012\n",
       "2015-09-01    1382.790684\n",
       "2015-10-01     632.980184\n",
       "2015-11-01    1286.701354\n",
       "2015-12-01    1049.355418\n",
       "2016-01-01     508.182867\n",
       "2016-02-01     356.868273\n",
       "2016-03-01     609.575810\n",
       "2016-04-01     695.373158\n",
       "2016-05-01     687.265227\n",
       "2016-06-01     816.910750\n",
       "2016-07-01     768.736412\n",
       "2016-08-01     734.307782\n",
       "2016-09-01    1135.953371\n",
       "2016-10-01     624.872474\n",
       "2016-11-01    1271.345152\n",
       "2016-12-01    1410.719808\n",
       "2017-01-01     397.602133\n",
       "2017-02-01     528.179800\n",
       "2017-03-01     544.672240\n",
       "2017-04-01     453.297905\n",
       "2017-05-01     678.302328\n",
       "2017-06-01     826.460291\n",
       "2017-07-01     562.524857\n",
       "2017-08-01     857.881889\n",
       "2017-09-01    1209.508583\n",
       "2017-10-01     875.362728\n",
       "2017-11-01    1277.817759\n",
       "2017-12-01    1256.298672\n",
       "Freq: MS, Name: Sales, dtype: float64"
      ]
     },
     "execution_count": 26,
     "metadata": {},
     "output_type": "execute_result"
    }
   ],
   "source": [
    "Yt_data2"
   ]
  },
  {
   "cell_type": "markdown",
   "id": "e036186c",
   "metadata": {},
   "source": [
    "### Visualization"
   ]
  },
  {
   "cell_type": "code",
   "execution_count": 27,
   "id": "8be80e94",
   "metadata": {},
   "outputs": [
    {
     "data": {
      "text/plain": [
       "<AxesSubplot:xlabel='order_date'>"
      ]
     },
     "execution_count": 27,
     "metadata": {},
     "output_type": "execute_result"
    },
    {
     "data": {
      "image/png": "[encoded data removed]",
      "text/plain": [
       "<Figure size 432x288 with 1 Axes>"
      ]
     },
     "metadata": {
      "needs_background": "light"
     },
     "output_type": "display_data"
    }
   ],
   "source": [
    "Yt_data2.plot()"
   ]
  },
  {
   "cell_type": "markdown",
   "id": "1cce4f6b",
   "metadata": {},
   "source": [
    "### Decomposition"
   ]
  },
  {
   "cell_type": "code",
   "execution_count": 28,
   "id": "2dd15cdb",
   "metadata": {},
   "outputs": [],
   "source": [
    "from statsmodels.tsa.seasonal import seasonal_decompose\n",
    "decompose = seasonal_decompose(Yt_data2, model = 'multiplicative', two_sided=False, extrapolate_trend=4)"
   ]
  },
  {
   "cell_type": "code",
   "execution_count": 29,
   "id": "56c38002",
   "metadata": {},
   "outputs": [
    {
     "data": {
      "image/png": "[encoded data removed]",
      "text/plain": [
       "<Figure size 432x288 with 4 Axes>"
      ]
     },
     "metadata": {
      "needs_background": "light"
     },
     "output_type": "display_data"
    }
   ],
   "source": [
    "decompose.plot()\n",
    "plt.show()"
   ]
  },
  {
   "cell_type": "code",
   "execution_count": 30,
   "id": "763e1c1c",
   "metadata": {},
   "outputs": [
    {
     "data": {
      "text/html": [
       "<div>\n",
       "<style scoped>\n",
       "    .dataframe tbody tr th:only-of-type {\n",
       "        vertical-align: middle;\n",
       "    }\n",
       "\n",
       "    .dataframe tbody tr th {\n",
       "        vertical-align: top;\n",
       "    }\n",
       "\n",
       "    .dataframe thead th {\n",
       "        text-align: right;\n",
       "    }\n",
       "</style>\n",
       "<table border=\"1\" class=\"dataframe\">\n",
       "  <thead>\n",
       "    <tr style=\"text-align: right;\">\n",
       "      <th></th>\n",
       "      <th>Actual</th>\n",
       "      <th>SI</th>\n",
       "      <th>Trend</th>\n",
       "      <th>It</th>\n",
       "    </tr>\n",
       "    <tr>\n",
       "      <th>order_date</th>\n",
       "      <th></th>\n",
       "      <th></th>\n",
       "      <th></th>\n",
       "      <th></th>\n",
       "    </tr>\n",
       "  </thead>\n",
       "  <tbody>\n",
       "    <tr>\n",
       "      <th>2014-01-01</th>\n",
       "      <td>480.194231</td>\n",
       "      <td>0.785191</td>\n",
       "      <td>609.910729</td>\n",
       "      <td>1.002710</td>\n",
       "    </tr>\n",
       "    <tr>\n",
       "      <th>2014-02-01</th>\n",
       "      <td>367.931600</td>\n",
       "      <td>0.580535</td>\n",
       "      <td>621.951672</td>\n",
       "      <td>1.019019</td>\n",
       "    </tr>\n",
       "    <tr>\n",
       "      <th>2014-03-01</th>\n",
       "      <td>857.291529</td>\n",
       "      <td>0.932805</td>\n",
       "      <td>633.992615</td>\n",
       "      <td>1.449618</td>\n",
       "    </tr>\n",
       "    <tr>\n",
       "      <th>2014-04-01</th>\n",
       "      <td>567.488357</td>\n",
       "      <td>0.828757</td>\n",
       "      <td>646.033558</td>\n",
       "      <td>1.059923</td>\n",
       "    </tr>\n",
       "    <tr>\n",
       "      <th>2014-05-01</th>\n",
       "      <td>432.049188</td>\n",
       "      <td>0.784427</td>\n",
       "      <td>658.074501</td>\n",
       "      <td>0.836962</td>\n",
       "    </tr>\n",
       "    <tr>\n",
       "      <th>2014-06-01</th>\n",
       "      <td>695.059242</td>\n",
       "      <td>0.899964</td>\n",
       "      <td>670.115444</td>\n",
       "      <td>1.152516</td>\n",
       "    </tr>\n",
       "    <tr>\n",
       "      <th>2014-07-01</th>\n",
       "      <td>601.169500</td>\n",
       "      <td>0.850767</td>\n",
       "      <td>682.156387</td>\n",
       "      <td>1.035863</td>\n",
       "    </tr>\n",
       "    <tr>\n",
       "      <th>2014-08-01</th>\n",
       "      <td>457.521656</td>\n",
       "      <td>0.839583</td>\n",
       "      <td>694.197330</td>\n",
       "      <td>0.784992</td>\n",
       "    </tr>\n",
       "    <tr>\n",
       "      <th>2014-09-01</th>\n",
       "      <td>992.353367</td>\n",
       "      <td>1.478321</td>\n",
       "      <td>706.238273</td>\n",
       "      <td>0.950487</td>\n",
       "    </tr>\n",
       "    <tr>\n",
       "      <th>2014-10-01</th>\n",
       "      <td>769.015437</td>\n",
       "      <td>0.909398</td>\n",
       "      <td>718.279216</td>\n",
       "      <td>1.177302</td>\n",
       "    </tr>\n",
       "    <tr>\n",
       "      <th>2014-11-01</th>\n",
       "      <td>980.221486</td>\n",
       "      <td>1.484094</td>\n",
       "      <td>730.320159</td>\n",
       "      <td>0.904377</td>\n",
       "    </tr>\n",
       "    <tr>\n",
       "      <th>2014-12-01</th>\n",
       "      <td>1532.298325</td>\n",
       "      <td>1.626158</td>\n",
       "      <td>742.361102</td>\n",
       "      <td>1.269304</td>\n",
       "    </tr>\n",
       "    <tr>\n",
       "      <th>2015-01-01</th>\n",
       "      <td>978.328467</td>\n",
       "      <td>0.785191</td>\n",
       "      <td>748.471753</td>\n",
       "      <td>1.664691</td>\n",
       "    </tr>\n",
       "    <tr>\n",
       "      <th>2015-02-01</th>\n",
       "      <td>522.395667</td>\n",
       "      <td>0.580535</td>\n",
       "      <td>775.663349</td>\n",
       "      <td>1.160107</td>\n",
       "    </tr>\n",
       "    <tr>\n",
       "      <th>2015-03-01</th>\n",
       "      <td>781.236437</td>\n",
       "      <td>0.932805</td>\n",
       "      <td>778.930390</td>\n",
       "      <td>1.075209</td>\n",
       "    </tr>\n",
       "    <tr>\n",
       "      <th>2015-04-01</th>\n",
       "      <td>805.822962</td>\n",
       "      <td>0.828757</td>\n",
       "      <td>785.692036</td>\n",
       "      <td>1.237542</td>\n",
       "    </tr>\n",
       "    <tr>\n",
       "      <th>2015-05-01</th>\n",
       "      <td>624.996700</td>\n",
       "      <td>0.784427</td>\n",
       "      <td>803.662124</td>\n",
       "      <td>0.991407</td>\n",
       "    </tr>\n",
       "    <tr>\n",
       "      <th>2015-06-01</th>\n",
       "      <td>428.565500</td>\n",
       "      <td>0.899964</td>\n",
       "      <td>800.597698</td>\n",
       "      <td>0.594809</td>\n",
       "    </tr>\n",
       "    <tr>\n",
       "      <th>2015-07-01</th>\n",
       "      <td>719.706316</td>\n",
       "      <td>0.850767</td>\n",
       "      <td>794.432826</td>\n",
       "      <td>1.064848</td>\n",
       "    </tr>\n",
       "    <tr>\n",
       "      <th>2015-08-01</th>\n",
       "      <td>602.412012</td>\n",
       "      <td>0.839583</td>\n",
       "      <td>805.408958</td>\n",
       "      <td>0.890869</td>\n",
       "    </tr>\n",
       "    <tr>\n",
       "      <th>2015-09-01</th>\n",
       "      <td>1382.790684</td>\n",
       "      <td>1.478321</td>\n",
       "      <td>827.714278</td>\n",
       "      <td>1.130075</td>\n",
       "    </tr>\n",
       "    <tr>\n",
       "      <th>2015-10-01</th>\n",
       "      <td>632.980184</td>\n",
       "      <td>0.909398</td>\n",
       "      <td>838.314364</td>\n",
       "      <td>0.830289</td>\n",
       "    </tr>\n",
       "    <tr>\n",
       "      <th>2015-11-01</th>\n",
       "      <td>1286.701354</td>\n",
       "      <td>1.484094</td>\n",
       "      <td>845.416223</td>\n",
       "      <td>1.025524</td>\n",
       "    </tr>\n",
       "    <tr>\n",
       "      <th>2015-12-01</th>\n",
       "      <td>1049.355418</td>\n",
       "      <td>1.626158</td>\n",
       "      <td>838.063596</td>\n",
       "      <td>0.769986</td>\n",
       "    </tr>\n",
       "    <tr>\n",
       "      <th>2016-01-01</th>\n",
       "      <td>508.182867</td>\n",
       "      <td>0.785191</td>\n",
       "      <td>798.351575</td>\n",
       "      <td>0.810682</td>\n",
       "    </tr>\n",
       "    <tr>\n",
       "      <th>2016-02-01</th>\n",
       "      <td>356.868273</td>\n",
       "      <td>0.580535</td>\n",
       "      <td>771.865200</td>\n",
       "      <td>0.796413</td>\n",
       "    </tr>\n",
       "    <tr>\n",
       "      <th>2016-03-01</th>\n",
       "      <td>609.575810</td>\n",
       "      <td>0.932805</td>\n",
       "      <td>757.815699</td>\n",
       "      <td>0.862330</td>\n",
       "    </tr>\n",
       "    <tr>\n",
       "      <th>2016-04-01</th>\n",
       "      <td>695.373158</td>\n",
       "      <td>0.828757</td>\n",
       "      <td>746.061098</td>\n",
       "      <td>1.124647</td>\n",
       "    </tr>\n",
       "    <tr>\n",
       "      <th>2016-05-01</th>\n",
       "      <td>687.265227</td>\n",
       "      <td>0.784427</td>\n",
       "      <td>744.053545</td>\n",
       "      <td>1.177519</td>\n",
       "    </tr>\n",
       "    <tr>\n",
       "      <th>2016-06-01</th>\n",
       "      <td>816.910750</td>\n",
       "      <td>0.899964</td>\n",
       "      <td>762.829119</td>\n",
       "      <td>1.189932</td>\n",
       "    </tr>\n",
       "    <tr>\n",
       "      <th>2016-07-01</th>\n",
       "      <td>768.736412</td>\n",
       "      <td>0.850767</td>\n",
       "      <td>781.053092</td>\n",
       "      <td>1.156875</td>\n",
       "    </tr>\n",
       "    <tr>\n",
       "      <th>2016-08-01</th>\n",
       "      <td>734.307782</td>\n",
       "      <td>0.839583</td>\n",
       "      <td>788.591670</td>\n",
       "      <td>1.109079</td>\n",
       "    </tr>\n",
       "    <tr>\n",
       "      <th>2016-09-01</th>\n",
       "      <td>1135.953371</td>\n",
       "      <td>1.478321</td>\n",
       "      <td>783.802439</td>\n",
       "      <td>0.980359</td>\n",
       "    </tr>\n",
       "    <tr>\n",
       "      <th>2016-10-01</th>\n",
       "      <td>624.872474</td>\n",
       "      <td>0.909398</td>\n",
       "      <td>773.179729</td>\n",
       "      <td>0.888704</td>\n",
       "    </tr>\n",
       "    <tr>\n",
       "      <th>2016-11-01</th>\n",
       "      <td>1271.345152</td>\n",
       "      <td>1.484094</td>\n",
       "      <td>772.202066</td>\n",
       "      <td>1.109356</td>\n",
       "    </tr>\n",
       "    <tr>\n",
       "      <th>2016-12-01</th>\n",
       "      <td>1410.719808</td>\n",
       "      <td>1.626158</td>\n",
       "      <td>786.619074</td>\n",
       "      <td>1.102843</td>\n",
       "    </tr>\n",
       "    <tr>\n",
       "      <th>2017-01-01</th>\n",
       "      <td>397.602133</td>\n",
       "      <td>0.785191</td>\n",
       "      <td>797.068393</td>\n",
       "      <td>0.635298</td>\n",
       "    </tr>\n",
       "    <tr>\n",
       "      <th>2017-02-01</th>\n",
       "      <td>528.179800</td>\n",
       "      <td>0.580535</td>\n",
       "      <td>799.598843</td>\n",
       "      <td>1.137841</td>\n",
       "    </tr>\n",
       "    <tr>\n",
       "      <th>2017-03-01</th>\n",
       "      <td>544.672240</td>\n",
       "      <td>0.932805</td>\n",
       "      <td>804.032508</td>\n",
       "      <td>0.726224</td>\n",
       "    </tr>\n",
       "    <tr>\n",
       "      <th>2017-04-01</th>\n",
       "      <td>453.297905</td>\n",
       "      <td>0.828757</td>\n",
       "      <td>791.241723</td>\n",
       "      <td>0.691269</td>\n",
       "    </tr>\n",
       "    <tr>\n",
       "      <th>2017-05-01</th>\n",
       "      <td>678.302328</td>\n",
       "      <td>0.784427</td>\n",
       "      <td>780.781800</td>\n",
       "      <td>1.107494</td>\n",
       "    </tr>\n",
       "    <tr>\n",
       "      <th>2017-06-01</th>\n",
       "      <td>826.460291</td>\n",
       "      <td>0.899964</td>\n",
       "      <td>780.806244</td>\n",
       "      <td>1.176125</td>\n",
       "    </tr>\n",
       "    <tr>\n",
       "      <th>2017-07-01</th>\n",
       "      <td>562.524857</td>\n",
       "      <td>0.850767</td>\n",
       "      <td>772.611993</td>\n",
       "      <td>0.855795</td>\n",
       "    </tr>\n",
       "    <tr>\n",
       "      <th>2017-08-01</th>\n",
       "      <td>857.881889</td>\n",
       "      <td>0.839583</td>\n",
       "      <td>769.168766</td>\n",
       "      <td>1.328441</td>\n",
       "    </tr>\n",
       "    <tr>\n",
       "      <th>2017-09-01</th>\n",
       "      <td>1209.508583</td>\n",
       "      <td>1.478321</td>\n",
       "      <td>777.382488</td>\n",
       "      <td>1.052460</td>\n",
       "    </tr>\n",
       "    <tr>\n",
       "      <th>2017-10-01</th>\n",
       "      <td>875.362728</td>\n",
       "      <td>0.909398</td>\n",
       "      <td>790.884382</td>\n",
       "      <td>1.217086</td>\n",
       "    </tr>\n",
       "    <tr>\n",
       "      <th>2017-11-01</th>\n",
       "      <td>1277.817759</td>\n",
       "      <td>1.484094</td>\n",
       "      <td>801.591168</td>\n",
       "      <td>1.074124</td>\n",
       "    </tr>\n",
       "    <tr>\n",
       "      <th>2017-12-01</th>\n",
       "      <td>1256.298672</td>\n",
       "      <td>1.626158</td>\n",
       "      <td>795.426646</td>\n",
       "      <td>0.971248</td>\n",
       "    </tr>\n",
       "  </tbody>\n",
       "</table>\n",
       "</div>"
      ],
      "text/plain": [
       "                 Actual        SI       Trend        It\n",
       "order_date                                             \n",
       "2014-01-01   480.194231  0.785191  609.910729  1.002710\n",
       "2014-02-01   367.931600  0.580535  621.951672  1.019019\n",
       "2014-03-01   857.291529  0.932805  633.992615  1.449618\n",
       "2014-04-01   567.488357  0.828757  646.033558  1.059923\n",
       "2014-05-01   432.049188  0.784427  658.074501  0.836962\n",
       "2014-06-01   695.059242  0.899964  670.115444  1.152516\n",
       "2014-07-01   601.169500  0.850767  682.156387  1.035863\n",
       "2014-08-01   457.521656  0.839583  694.197330  0.784992\n",
       "2014-09-01   992.353367  1.478321  706.238273  0.950487\n",
       "2014-10-01   769.015437  0.909398  718.279216  1.177302\n",
       "2014-11-01   980.221486  1.484094  730.320159  0.904377\n",
       "2014-12-01  1532.298325  1.626158  742.361102  1.269304\n",
       "2015-01-01   978.328467  0.785191  748.471753  1.664691\n",
       "2015-02-01   522.395667  0.580535  775.663349  1.160107\n",
       "2015-03-01   781.236437  0.932805  778.930390  1.075209\n",
       "2015-04-01   805.822962  0.828757  785.692036  1.237542\n",
       "2015-05-01   624.996700  0.784427  803.662124  0.991407\n",
       "2015-06-01   428.565500  0.899964  800.597698  0.594809\n",
       "2015-07-01   719.706316  0.850767  794.432826  1.064848\n",
       "2015-08-01   602.412012  0.839583  805.408958  0.890869\n",
       "2015-09-01  1382.790684  1.478321  827.714278  1.130075\n",
       "2015-10-01   632.980184  0.909398  838.314364  0.830289\n",
       "2015-11-01  1286.701354  1.484094  845.416223  1.025524\n",
       "2015-12-01  1049.355418  1.626158  838.063596  0.769986\n",
       "2016-01-01   508.182867  0.785191  798.351575  0.810682\n",
       "2016-02-01   356.868273  0.580535  771.865200  0.796413\n",
       "2016-03-01   609.575810  0.932805  757.815699  0.862330\n",
       "2016-04-01   695.373158  0.828757  746.061098  1.124647\n",
       "2016-05-01   687.265227  0.784427  744.053545  1.177519\n",
       "2016-06-01   816.910750  0.899964  762.829119  1.189932\n",
       "2016-07-01   768.736412  0.850767  781.053092  1.156875\n",
       "2016-08-01   734.307782  0.839583  788.591670  1.109079\n",
       "2016-09-01  1135.953371  1.478321  783.802439  0.980359\n",
       "2016-10-01   624.872474  0.909398  773.179729  0.888704\n",
       "2016-11-01  1271.345152  1.484094  772.202066  1.109356\n",
       "2016-12-01  1410.719808  1.626158  786.619074  1.102843\n",
       "2017-01-01   397.602133  0.785191  797.068393  0.635298\n",
       "2017-02-01   528.179800  0.580535  799.598843  1.137841\n",
       "2017-03-01   544.672240  0.932805  804.032508  0.726224\n",
       "2017-04-01   453.297905  0.828757  791.241723  0.691269\n",
       "2017-05-01   678.302328  0.784427  780.781800  1.107494\n",
       "2017-06-01   826.460291  0.899964  780.806244  1.176125\n",
       "2017-07-01   562.524857  0.850767  772.611993  0.855795\n",
       "2017-08-01   857.881889  0.839583  769.168766  1.328441\n",
       "2017-09-01  1209.508583  1.478321  777.382488  1.052460\n",
       "2017-10-01   875.362728  0.909398  790.884382  1.217086\n",
       "2017-11-01  1277.817759  1.484094  801.591168  1.074124\n",
       "2017-12-01  1256.298672  1.626158  795.426646  0.971248"
      ]
     },
     "execution_count": 30,
     "metadata": {},
     "output_type": "execute_result"
    }
   ],
   "source": [
    "pd.DataFrame({'Actual': decompose.observed, 'SI': decompose.seasonal, 'Trend': decompose.trend, 'It':decompose.resid})"
   ]
  },
  {
   "cell_type": "markdown",
   "id": "d5c9f804",
   "metadata": {},
   "source": [
    "### ETS"
   ]
  },
  {
   "cell_type": "code",
   "execution_count": 31,
   "id": "e31b077e",
   "metadata": {},
   "outputs": [],
   "source": [
    "train=Yt_data2['2014-01-01':'2017-06-01']\n",
    "test=Yt_data2['2017-06-01':]"
   ]
  },
  {
   "cell_type": "code",
   "execution_count": 32,
   "id": "f3569996",
   "metadata": {},
   "outputs": [
    {
     "data": {
      "text/plain": [
       "(42,)"
      ]
     },
     "execution_count": 32,
     "metadata": {},
     "output_type": "execute_result"
    }
   ],
   "source": [
    "train.shape"
   ]
  },
  {
   "cell_type": "code",
   "execution_count": 33,
   "id": "f6359306",
   "metadata": {},
   "outputs": [
    {
     "data": {
      "text/plain": [
       "order_date\n",
       "2017-02-01    528.179800\n",
       "2017-03-01    544.672240\n",
       "2017-04-01    453.297905\n",
       "2017-05-01    678.302328\n",
       "2017-06-01    826.460291\n",
       "Freq: MS, Name: Sales, dtype: float64"
      ]
     },
     "execution_count": 33,
     "metadata": {},
     "output_type": "execute_result"
    }
   ],
   "source": [
    "train.tail()"
   ]
  },
  {
   "cell_type": "code",
   "execution_count": 34,
   "id": "2e009c67",
   "metadata": {},
   "outputs": [
    {
     "name": "stderr",
     "output_type": "stream",
     "text": [
      "C:\\Users\\User\\AppData\\Local\\Temp\\ipykernel_1544\\895207560.py:10: FutureWarning: the 'smoothing_slope'' keyword is deprecated, use 'smoothing_trend' instead.\n",
      "  ets_fit = ets_model.fit(smoothing_level=alpha, smoothing_slope=beta, smoothing_seasonal=gamma)\n",
      "C:\\Users\\User\\anaconda3\\lib\\site-packages\\statsmodels\\tsa\\holtwinters\\model.py:83: RuntimeWarning: overflow encountered in matmul\n",
      "  return err.T @ err\n"
     ]
    }
   ],
   "source": [
    "# Our guessed parameters\n",
    "\n",
    "from statsmodels.tsa.holtwinters import ExponentialSmoothing\n",
    "alpha=0.6\n",
    "beta=0.2\n",
    "gamma=0.4\n",
    "\n",
    "ets_model = ExponentialSmoothing(train, trend='mul', seasonal='mul', seasonal_periods=12)\n",
    "\n",
    "ets_fit = ets_model.fit(smoothing_level=alpha, smoothing_slope=beta, smoothing_seasonal=gamma)"
   ]
  },
  {
   "cell_type": "code",
   "execution_count": 35,
   "id": "d79b4001",
   "metadata": {},
   "outputs": [],
   "source": [
    "pred_y=ets_fit.forecast(6)"
   ]
  },
  {
   "cell_type": "code",
   "execution_count": 36,
   "id": "3fdde6dc",
   "metadata": {},
   "outputs": [
    {
     "data": {
      "text/plain": [
       "2017-07-01     844.788091\n",
       "2017-08-01     756.764815\n",
       "2017-09-01    1410.590987\n",
       "2017-10-01     883.538485\n",
       "2017-11-01    1783.572502\n",
       "2017-12-01    1936.905003\n",
       "Freq: MS, dtype: float64"
      ]
     },
     "execution_count": 36,
     "metadata": {},
     "output_type": "execute_result"
    }
   ],
   "source": [
    "pred_y"
   ]
  },
  {
   "cell_type": "code",
   "execution_count": 37,
   "id": "34a03540",
   "metadata": {
    "scrolled": true
   },
   "outputs": [
    {
     "data": {
      "text/plain": [
       "order_date\n",
       "2017-06-01     826.460291\n",
       "2017-07-01     562.524857\n",
       "2017-08-01     857.881889\n",
       "2017-09-01    1209.508583\n",
       "2017-10-01     875.362728\n",
       "2017-11-01    1277.817759\n",
       "2017-12-01    1256.298672\n",
       "Freq: MS, Name: Sales, dtype: float64"
      ]
     },
     "execution_count": 37,
     "metadata": {},
     "output_type": "execute_result"
    }
   ],
   "source": [
    "test"
   ]
  },
  {
   "cell_type": "code",
   "execution_count": 38,
   "id": "5ed4bcc5",
   "metadata": {},
   "outputs": [
    {
     "name": "stdout",
     "output_type": "stream",
     "text": [
      "Test MAE 0.28879824505875906\n"
     ]
    }
   ],
   "source": [
    "print('Test MAE', np.mean(abs((test-pred_y))/test))"
   ]
  },
  {
   "cell_type": "markdown",
   "id": "e0ecec29",
   "metadata": {},
   "source": [
    "### Loop for Selecting best alpha, beta and gamma to get optimal MAE for ETS method"
   ]
  },
  {
   "cell_type": "code",
   "execution_count": 39,
   "id": "e11e3cfc",
   "metadata": {},
   "outputs": [
    {
     "name": "stderr",
     "output_type": "stream",
     "text": [
      "C:\\Users\\User\\AppData\\Local\\Temp\\ipykernel_1544\\2318987598.py:16: FutureWarning: the 'smoothing_slope'' keyword is deprecated, use 'smoothing_trend' instead.\n",
      "  ets_fit = ets_model.fit(smoothing_level=a, smoothing_slope=b, smoothing_seasonal=g)\n",
      "C:\\Users\\User\\anaconda3\\lib\\site-packages\\statsmodels\\tsa\\holtwinters\\model.py:915: ConvergenceWarning: Optimization failed to converge. Check mle_retvals.\n",
      "  warnings.warn(\n",
      "C:\\Users\\User\\AppData\\Local\\Temp\\ipykernel_1544\\2318987598.py:16: FutureWarning: the 'smoothing_slope'' keyword is deprecated, use 'smoothing_trend' instead.\n",
      "  ets_fit = ets_model.fit(smoothing_level=a, smoothing_slope=b, smoothing_seasonal=g)\n",
      "C:\\Users\\User\\anaconda3\\lib\\site-packages\\statsmodels\\tsa\\holtwinters\\model.py:915: ConvergenceWarning: Optimization failed to converge. Check mle_retvals.\n",
      "  warnings.warn(\n",
      "C:\\Users\\User\\AppData\\Local\\Temp\\ipykernel_1544\\2318987598.py:16: FutureWarning: the 'smoothing_slope'' keyword is deprecated, use 'smoothing_trend' instead.\n",
      "  ets_fit = ets_model.fit(smoothing_level=a, smoothing_slope=b, smoothing_seasonal=g)\n",
      "C:\\Users\\User\\anaconda3\\lib\\site-packages\\statsmodels\\tsa\\holtwinters\\model.py:915: ConvergenceWarning: Optimization failed to converge. Check mle_retvals.\n",
      "  warnings.warn(\n",
      "C:\\Users\\User\\AppData\\Local\\Temp\\ipykernel_1544\\2318987598.py:16: FutureWarning: the 'smoothing_slope'' keyword is deprecated, use 'smoothing_trend' instead.\n",
      "  ets_fit = ets_model.fit(smoothing_level=a, smoothing_slope=b, smoothing_seasonal=g)\n",
      "C:\\Users\\User\\anaconda3\\lib\\site-packages\\statsmodels\\tsa\\holtwinters\\model.py:915: ConvergenceWarning: Optimization failed to converge. Check mle_retvals.\n",
      "  warnings.warn(\n",
      "C:\\Users\\User\\AppData\\Local\\Temp\\ipykernel_1544\\2318987598.py:16: FutureWarning: the 'smoothing_slope'' keyword is deprecated, use 'smoothing_trend' instead.\n",
      "  ets_fit = ets_model.fit(smoothing_level=a, smoothing_slope=b, smoothing_seasonal=g)\n",
      "C:\\Users\\User\\anaconda3\\lib\\site-packages\\statsmodels\\tsa\\holtwinters\\model.py:915: ConvergenceWarning: Optimization failed to converge. Check mle_retvals.\n",
      "  warnings.warn(\n",
      "C:\\Users\\User\\AppData\\Local\\Temp\\ipykernel_1544\\2318987598.py:16: FutureWarning: the 'smoothing_slope'' keyword is deprecated, use 'smoothing_trend' instead.\n",
      "  ets_fit = ets_model.fit(smoothing_level=a, smoothing_slope=b, smoothing_seasonal=g)\n",
      "C:\\Users\\User\\anaconda3\\lib\\site-packages\\statsmodels\\tsa\\holtwinters\\model.py:915: ConvergenceWarning: Optimization failed to converge. Check mle_retvals.\n",
      "  warnings.warn(\n",
      "C:\\Users\\User\\AppData\\Local\\Temp\\ipykernel_1544\\2318987598.py:16: FutureWarning: the 'smoothing_slope'' keyword is deprecated, use 'smoothing_trend' instead.\n",
      "  ets_fit = ets_model.fit(smoothing_level=a, smoothing_slope=b, smoothing_seasonal=g)\n",
      "C:\\Users\\User\\anaconda3\\lib\\site-packages\\statsmodels\\tsa\\holtwinters\\model.py:915: ConvergenceWarning: Optimization failed to converge. Check mle_retvals.\n",
      "  warnings.warn(\n",
      "C:\\Users\\User\\AppData\\Local\\Temp\\ipykernel_1544\\2318987598.py:16: FutureWarning: the 'smoothing_slope'' keyword is deprecated, use 'smoothing_trend' instead.\n",
      "  ets_fit = ets_model.fit(smoothing_level=a, smoothing_slope=b, smoothing_seasonal=g)\n",
      "C:\\Users\\User\\anaconda3\\lib\\site-packages\\statsmodels\\tsa\\holtwinters\\model.py:915: ConvergenceWarning: Optimization failed to converge. Check mle_retvals.\n",
      "  warnings.warn(\n",
      "C:\\Users\\User\\AppData\\Local\\Temp\\ipykernel_1544\\2318987598.py:16: FutureWarning: the 'smoothing_slope'' keyword is deprecated, use 'smoothing_trend' instead.\n",
      "  ets_fit = ets_model.fit(smoothing_level=a, smoothing_slope=b, smoothing_seasonal=g)\n",
      "C:\\Users\\User\\anaconda3\\lib\\site-packages\\statsmodels\\tsa\\holtwinters\\model.py:915: ConvergenceWarning: Optimization failed to converge. Check mle_retvals.\n",
      "  warnings.warn(\n",
      "C:\\Users\\User\\AppData\\Local\\Temp\\ipykernel_1544\\2318987598.py:16: FutureWarning: the 'smoothing_slope'' keyword is deprecated, use 'smoothing_trend' instead.\n",
      "  ets_fit = ets_model.fit(smoothing_level=a, smoothing_slope=b, smoothing_seasonal=g)\n",
      "C:\\Users\\User\\anaconda3\\lib\\site-packages\\statsmodels\\tsa\\holtwinters\\model.py:915: ConvergenceWarning: Optimization failed to converge. Check mle_retvals.\n",
      "  warnings.warn(\n",
      "C:\\Users\\User\\AppData\\Local\\Temp\\ipykernel_1544\\2318987598.py:16: FutureWarning: the 'smoothing_slope'' keyword is deprecated, use 'smoothing_trend' instead.\n",
      "  ets_fit = ets_model.fit(smoothing_level=a, smoothing_slope=b, smoothing_seasonal=g)\n",
      "C:\\Users\\User\\anaconda3\\lib\\site-packages\\statsmodels\\tsa\\holtwinters\\model.py:915: ConvergenceWarning: Optimization failed to converge. Check mle_retvals.\n",
      "  warnings.warn(\n",
      "C:\\Users\\User\\AppData\\Local\\Temp\\ipykernel_1544\\2318987598.py:16: FutureWarning: the 'smoothing_slope'' keyword is deprecated, use 'smoothing_trend' instead.\n",
      "  ets_fit = ets_model.fit(smoothing_level=a, smoothing_slope=b, smoothing_seasonal=g)\n",
      "C:\\Users\\User\\anaconda3\\lib\\site-packages\\statsmodels\\tsa\\holtwinters\\model.py:915: ConvergenceWarning: Optimization failed to converge. Check mle_retvals.\n",
      "  warnings.warn(\n",
      "C:\\Users\\User\\AppData\\Local\\Temp\\ipykernel_1544\\2318987598.py:16: FutureWarning: the 'smoothing_slope'' keyword is deprecated, use 'smoothing_trend' instead.\n",
      "  ets_fit = ets_model.fit(smoothing_level=a, smoothing_slope=b, smoothing_seasonal=g)\n",
      "C:\\Users\\User\\anaconda3\\lib\\site-packages\\statsmodels\\tsa\\holtwinters\\model.py:915: ConvergenceWarning: Optimization failed to converge. Check mle_retvals.\n",
      "  warnings.warn(\n",
      "C:\\Users\\User\\AppData\\Local\\Temp\\ipykernel_1544\\2318987598.py:16: FutureWarning: the 'smoothing_slope'' keyword is deprecated, use 'smoothing_trend' instead.\n",
      "  ets_fit = ets_model.fit(smoothing_level=a, smoothing_slope=b, smoothing_seasonal=g)\n",
      "C:\\Users\\User\\anaconda3\\lib\\site-packages\\statsmodels\\tsa\\holtwinters\\model.py:915: ConvergenceWarning: Optimization failed to converge. Check mle_retvals.\n",
      "  warnings.warn(\n",
      "C:\\Users\\User\\AppData\\Local\\Temp\\ipykernel_1544\\2318987598.py:16: FutureWarning: the 'smoothing_slope'' keyword is deprecated, use 'smoothing_trend' instead.\n",
      "  ets_fit = ets_model.fit(smoothing_level=a, smoothing_slope=b, smoothing_seasonal=g)\n",
      "C:\\Users\\User\\anaconda3\\lib\\site-packages\\statsmodels\\tsa\\holtwinters\\model.py:915: ConvergenceWarning: Optimization failed to converge. Check mle_retvals.\n",
      "  warnings.warn(\n",
      "C:\\Users\\User\\AppData\\Local\\Temp\\ipykernel_1544\\2318987598.py:16: FutureWarning: the 'smoothing_slope'' keyword is deprecated, use 'smoothing_trend' instead.\n",
      "  ets_fit = ets_model.fit(smoothing_level=a, smoothing_slope=b, smoothing_seasonal=g)\n",
      "C:\\Users\\User\\anaconda3\\lib\\site-packages\\statsmodels\\tsa\\holtwinters\\model.py:915: ConvergenceWarning: Optimization failed to converge. Check mle_retvals.\n",
      "  warnings.warn(\n",
      "C:\\Users\\User\\AppData\\Local\\Temp\\ipykernel_1544\\2318987598.py:16: FutureWarning: the 'smoothing_slope'' keyword is deprecated, use 'smoothing_trend' instead.\n",
      "  ets_fit = ets_model.fit(smoothing_level=a, smoothing_slope=b, smoothing_seasonal=g)\n"
     ]
    },
    {
     "name": "stdout",
     "output_type": "stream",
     "text": [
      "MAE = 0.458971042891533 for alpha 0.0, beta 0.0, gamma 0.0\n",
      "MAE = 0.39634101843939346 for alpha 0.0, beta 0.0, gamma 0.11\n",
      "MAE = 0.34239387045695985 for alpha 0.0, beta 0.0, gamma 0.22\n",
      "MAE = 0.29638546359757617 for alpha 0.0, beta 0.0, gamma 0.33\n",
      "MAE = 0.26091368840696144 for alpha 0.0, beta 0.0, gamma 0.44\n",
      "MAE = 0.2459903072100881 for alpha 0.0, beta 0.0, gamma 0.55\n",
      "MAE = 0.23399064641020742 for alpha 0.0, beta 0.0, gamma 0.66\n",
      "MAE = 0.22414989853115352 for alpha 0.0, beta 0.0, gamma 0.77\n",
      "MAE = 0.21570325609676141 for alpha 0.0, beta 0.0, gamma 0.88\n",
      "MAE = 0.20788591163086553 for alpha 0.0, beta 0.0, gamma 0.99\n",
      "MAE = 0.458971042891533 for alpha 0.0, beta 0.11, gamma 0.0\n",
      "MAE = 0.39634101843939346 for alpha 0.0, beta 0.11, gamma 0.11\n",
      "MAE = 0.34239387045695985 for alpha 0.0, beta 0.11, gamma 0.22\n",
      "MAE = 0.29638546359757617 for alpha 0.0, beta 0.11, gamma 0.33\n",
      "MAE = 0.26091368840696144 for alpha 0.0, beta 0.11, gamma 0.44\n",
      "MAE = 0.2459903072100881 for alpha 0.0, beta 0.11, gamma 0.55\n",
      "MAE = 0.23399064641020742 for alpha 0.0, beta 0.11, gamma 0.66"
     ]
    },
    {
     "name": "stderr",
     "output_type": "stream",
     "text": [
      "C:\\Users\\User\\anaconda3\\lib\\site-packages\\statsmodels\\tsa\\holtwinters\\model.py:915: ConvergenceWarning: Optimization failed to converge. Check mle_retvals.\n",
      "  warnings.warn(\n",
      "C:\\Users\\User\\AppData\\Local\\Temp\\ipykernel_1544\\2318987598.py:16: FutureWarning: the 'smoothing_slope'' keyword is deprecated, use 'smoothing_trend' instead.\n",
      "  ets_fit = ets_model.fit(smoothing_level=a, smoothing_slope=b, smoothing_seasonal=g)\n",
      "C:\\Users\\User\\anaconda3\\lib\\site-packages\\statsmodels\\tsa\\holtwinters\\model.py:915: ConvergenceWarning: Optimization failed to converge. Check mle_retvals.\n",
      "  warnings.warn(\n",
      "C:\\Users\\User\\AppData\\Local\\Temp\\ipykernel_1544\\2318987598.py:16: FutureWarning: the 'smoothing_slope'' keyword is deprecated, use 'smoothing_trend' instead.\n",
      "  ets_fit = ets_model.fit(smoothing_level=a, smoothing_slope=b, smoothing_seasonal=g)\n",
      "C:\\Users\\User\\anaconda3\\lib\\site-packages\\statsmodels\\tsa\\holtwinters\\model.py:915: ConvergenceWarning: Optimization failed to converge. Check mle_retvals.\n",
      "  warnings.warn(\n",
      "C:\\Users\\User\\AppData\\Local\\Temp\\ipykernel_1544\\2318987598.py:16: FutureWarning: the 'smoothing_slope'' keyword is deprecated, use 'smoothing_trend' instead.\n",
      "  ets_fit = ets_model.fit(smoothing_level=a, smoothing_slope=b, smoothing_seasonal=g)\n",
      "C:\\Users\\User\\anaconda3\\lib\\site-packages\\statsmodels\\tsa\\holtwinters\\model.py:915: ConvergenceWarning: Optimization failed to converge. Check mle_retvals.\n",
      "  warnings.warn(\n",
      "C:\\Users\\User\\AppData\\Local\\Temp\\ipykernel_1544\\2318987598.py:16: FutureWarning: the 'smoothing_slope'' keyword is deprecated, use 'smoothing_trend' instead.\n",
      "  ets_fit = ets_model.fit(smoothing_level=a, smoothing_slope=b, smoothing_seasonal=g)\n",
      "C:\\Users\\User\\anaconda3\\lib\\site-packages\\statsmodels\\tsa\\holtwinters\\model.py:915: ConvergenceWarning: Optimization failed to converge. Check mle_retvals.\n",
      "  warnings.warn(\n",
      "C:\\Users\\User\\AppData\\Local\\Temp\\ipykernel_1544\\2318987598.py:16: FutureWarning: the 'smoothing_slope'' keyword is deprecated, use 'smoothing_trend' instead.\n",
      "  ets_fit = ets_model.fit(smoothing_level=a, smoothing_slope=b, smoothing_seasonal=g)\n",
      "C:\\Users\\User\\anaconda3\\lib\\site-packages\\statsmodels\\tsa\\holtwinters\\model.py:915: ConvergenceWarning: Optimization failed to converge. Check mle_retvals.\n",
      "  warnings.warn(\n",
      "C:\\Users\\User\\AppData\\Local\\Temp\\ipykernel_1544\\2318987598.py:16: FutureWarning: the 'smoothing_slope'' keyword is deprecated, use 'smoothing_trend' instead.\n",
      "  ets_fit = ets_model.fit(smoothing_level=a, smoothing_slope=b, smoothing_seasonal=g)\n",
      "C:\\Users\\User\\anaconda3\\lib\\site-packages\\statsmodels\\tsa\\holtwinters\\model.py:915: ConvergenceWarning: Optimization failed to converge. Check mle_retvals.\n",
      "  warnings.warn(\n",
      "C:\\Users\\User\\AppData\\Local\\Temp\\ipykernel_1544\\2318987598.py:16: FutureWarning: the 'smoothing_slope'' keyword is deprecated, use 'smoothing_trend' instead.\n",
      "  ets_fit = ets_model.fit(smoothing_level=a, smoothing_slope=b, smoothing_seasonal=g)\n",
      "C:\\Users\\User\\anaconda3\\lib\\site-packages\\statsmodels\\tsa\\holtwinters\\model.py:915: ConvergenceWarning: Optimization failed to converge. Check mle_retvals.\n",
      "  warnings.warn(\n",
      "C:\\Users\\User\\AppData\\Local\\Temp\\ipykernel_1544\\2318987598.py:16: FutureWarning: the 'smoothing_slope'' keyword is deprecated, use 'smoothing_trend' instead.\n",
      "  ets_fit = ets_model.fit(smoothing_level=a, smoothing_slope=b, smoothing_seasonal=g)\n",
      "C:\\Users\\User\\anaconda3\\lib\\site-packages\\statsmodels\\tsa\\holtwinters\\model.py:915: ConvergenceWarning: Optimization failed to converge. Check mle_retvals.\n",
      "  warnings.warn(\n",
      "C:\\Users\\User\\AppData\\Local\\Temp\\ipykernel_1544\\2318987598.py:16: FutureWarning: the 'smoothing_slope'' keyword is deprecated, use 'smoothing_trend' instead.\n",
      "  ets_fit = ets_model.fit(smoothing_level=a, smoothing_slope=b, smoothing_seasonal=g)\n",
      "C:\\Users\\User\\anaconda3\\lib\\site-packages\\statsmodels\\tsa\\holtwinters\\model.py:915: ConvergenceWarning: Optimization failed to converge. Check mle_retvals.\n",
      "  warnings.warn(\n",
      "C:\\Users\\User\\AppData\\Local\\Temp\\ipykernel_1544\\2318987598.py:16: FutureWarning: the 'smoothing_slope'' keyword is deprecated, use 'smoothing_trend' instead.\n",
      "  ets_fit = ets_model.fit(smoothing_level=a, smoothing_slope=b, smoothing_seasonal=g)\n",
      "C:\\Users\\User\\anaconda3\\lib\\site-packages\\statsmodels\\tsa\\holtwinters\\model.py:915: ConvergenceWarning: Optimization failed to converge. Check mle_retvals.\n",
      "  warnings.warn(\n",
      "C:\\Users\\User\\AppData\\Local\\Temp\\ipykernel_1544\\2318987598.py:16: FutureWarning: the 'smoothing_slope'' keyword is deprecated, use 'smoothing_trend' instead.\n",
      "  ets_fit = ets_model.fit(smoothing_level=a, smoothing_slope=b, smoothing_seasonal=g)\n",
      "C:\\Users\\User\\anaconda3\\lib\\site-packages\\statsmodels\\tsa\\holtwinters\\model.py:915: ConvergenceWarning: Optimization failed to converge. Check mle_retvals.\n",
      "  warnings.warn(\n",
      "C:\\Users\\User\\AppData\\Local\\Temp\\ipykernel_1544\\2318987598.py:16: FutureWarning: the 'smoothing_slope'' keyword is deprecated, use 'smoothing_trend' instead.\n",
      "  ets_fit = ets_model.fit(smoothing_level=a, smoothing_slope=b, smoothing_seasonal=g)\n",
      "C:\\Users\\User\\anaconda3\\lib\\site-packages\\statsmodels\\tsa\\holtwinters\\model.py:915: ConvergenceWarning: Optimization failed to converge. Check mle_retvals.\n",
      "  warnings.warn(\n",
      "C:\\Users\\User\\AppData\\Local\\Temp\\ipykernel_1544\\2318987598.py:16: FutureWarning: the 'smoothing_slope'' keyword is deprecated, use 'smoothing_trend' instead.\n",
      "  ets_fit = ets_model.fit(smoothing_level=a, smoothing_slope=b, smoothing_seasonal=g)\n",
      "C:\\Users\\User\\anaconda3\\lib\\site-packages\\statsmodels\\tsa\\holtwinters\\model.py:915: ConvergenceWarning: Optimization failed to converge. Check mle_retvals.\n",
      "  warnings.warn(\n",
      "C:\\Users\\User\\AppData\\Local\\Temp\\ipykernel_1544\\2318987598.py:16: FutureWarning: the 'smoothing_slope'' keyword is deprecated, use 'smoothing_trend' instead.\n",
      "  ets_fit = ets_model.fit(smoothing_level=a, smoothing_slope=b, smoothing_seasonal=g)\n",
      "C:\\Users\\User\\anaconda3\\lib\\site-packages\\statsmodels\\tsa\\holtwinters\\model.py:915: ConvergenceWarning: Optimization failed to converge. Check mle_retvals.\n",
      "  warnings.warn(\n",
      "C:\\Users\\User\\AppData\\Local\\Temp\\ipykernel_1544\\2318987598.py:16: FutureWarning: the 'smoothing_slope'' keyword is deprecated, use 'smoothing_trend' instead.\n",
      "  ets_fit = ets_model.fit(smoothing_level=a, smoothing_slope=b, smoothing_seasonal=g)\n"
     ]
    },
    {
     "name": "stdout",
     "output_type": "stream",
     "text": [
      "\n",
      "MAE = 0.22414989853115352 for alpha 0.0, beta 0.11, gamma 0.77\n",
      "MAE = 0.21570325609676141 for alpha 0.0, beta 0.11, gamma 0.88\n",
      "MAE = 0.20788591163086553 for alpha 0.0, beta 0.11, gamma 0.99\n",
      "MAE = 0.458971042891533 for alpha 0.0, beta 0.22, gamma 0.0\n",
      "MAE = 0.39634101843939346 for alpha 0.0, beta 0.22, gamma 0.11\n",
      "MAE = 0.34239387045695985 for alpha 0.0, beta 0.22, gamma 0.22\n",
      "MAE = 0.29638546359757617 for alpha 0.0, beta 0.22, gamma 0.33\n",
      "MAE = 0.26091368840696144 for alpha 0.0, beta 0.22, gamma 0.44\n",
      "MAE = 0.2459903072100881 for alpha 0.0, beta 0.22, gamma 0.55\n",
      "MAE = 0.23399064641020742 for alpha 0.0, beta 0.22, gamma 0.66\n",
      "MAE = 0.22414989853115352 for alpha 0.0, beta 0.22, gamma 0.77\n",
      "MAE = 0.21570325609676141 for alpha 0.0, beta 0.22, gamma 0.88\n",
      "MAE = 0.20788591163086553 for alpha 0.0, beta 0.22, gamma 0.99\n",
      "MAE = 0.458971042891533 for alpha 0.0, beta 0.33, gamma 0.0\n",
      "MAE = 0.39634101843939346 for alpha 0.0, beta 0.33, gamma 0.11\n",
      "MAE = 0.34239387045695985 for alpha 0.0, beta 0.33, gamma 0.22\n",
      "MAE = 0.29638546359757617 for alpha 0.0, beta 0.33, gamma 0.33\n"
     ]
    },
    {
     "name": "stderr",
     "output_type": "stream",
     "text": [
      "C:\\Users\\User\\anaconda3\\lib\\site-packages\\statsmodels\\tsa\\holtwinters\\model.py:915: ConvergenceWarning: Optimization failed to converge. Check mle_retvals.\n",
      "  warnings.warn(\n",
      "C:\\Users\\User\\AppData\\Local\\Temp\\ipykernel_1544\\2318987598.py:16: FutureWarning: the 'smoothing_slope'' keyword is deprecated, use 'smoothing_trend' instead.\n",
      "  ets_fit = ets_model.fit(smoothing_level=a, smoothing_slope=b, smoothing_seasonal=g)\n",
      "C:\\Users\\User\\anaconda3\\lib\\site-packages\\statsmodels\\tsa\\holtwinters\\model.py:915: ConvergenceWarning: Optimization failed to converge. Check mle_retvals.\n",
      "  warnings.warn(\n",
      "C:\\Users\\User\\AppData\\Local\\Temp\\ipykernel_1544\\2318987598.py:16: FutureWarning: the 'smoothing_slope'' keyword is deprecated, use 'smoothing_trend' instead.\n",
      "  ets_fit = ets_model.fit(smoothing_level=a, smoothing_slope=b, smoothing_seasonal=g)\n",
      "C:\\Users\\User\\anaconda3\\lib\\site-packages\\statsmodels\\tsa\\holtwinters\\model.py:915: ConvergenceWarning: Optimization failed to converge. Check mle_retvals.\n",
      "  warnings.warn(\n",
      "C:\\Users\\User\\AppData\\Local\\Temp\\ipykernel_1544\\2318987598.py:16: FutureWarning: the 'smoothing_slope'' keyword is deprecated, use 'smoothing_trend' instead.\n",
      "  ets_fit = ets_model.fit(smoothing_level=a, smoothing_slope=b, smoothing_seasonal=g)\n",
      "C:\\Users\\User\\anaconda3\\lib\\site-packages\\statsmodels\\tsa\\holtwinters\\model.py:915: ConvergenceWarning: Optimization failed to converge. Check mle_retvals.\n",
      "  warnings.warn(\n",
      "C:\\Users\\User\\AppData\\Local\\Temp\\ipykernel_1544\\2318987598.py:16: FutureWarning: the 'smoothing_slope'' keyword is deprecated, use 'smoothing_trend' instead.\n",
      "  ets_fit = ets_model.fit(smoothing_level=a, smoothing_slope=b, smoothing_seasonal=g)\n",
      "C:\\Users\\User\\anaconda3\\lib\\site-packages\\statsmodels\\tsa\\holtwinters\\model.py:915: ConvergenceWarning: Optimization failed to converge. Check mle_retvals.\n",
      "  warnings.warn(\n",
      "C:\\Users\\User\\AppData\\Local\\Temp\\ipykernel_1544\\2318987598.py:16: FutureWarning: the 'smoothing_slope'' keyword is deprecated, use 'smoothing_trend' instead.\n",
      "  ets_fit = ets_model.fit(smoothing_level=a, smoothing_slope=b, smoothing_seasonal=g)\n",
      "C:\\Users\\User\\anaconda3\\lib\\site-packages\\statsmodels\\tsa\\holtwinters\\model.py:915: ConvergenceWarning: Optimization failed to converge. Check mle_retvals.\n",
      "  warnings.warn(\n",
      "C:\\Users\\User\\AppData\\Local\\Temp\\ipykernel_1544\\2318987598.py:16: FutureWarning: the 'smoothing_slope'' keyword is deprecated, use 'smoothing_trend' instead.\n",
      "  ets_fit = ets_model.fit(smoothing_level=a, smoothing_slope=b, smoothing_seasonal=g)\n",
      "C:\\Users\\User\\anaconda3\\lib\\site-packages\\statsmodels\\tsa\\holtwinters\\model.py:915: ConvergenceWarning: Optimization failed to converge. Check mle_retvals.\n",
      "  warnings.warn(\n",
      "C:\\Users\\User\\AppData\\Local\\Temp\\ipykernel_1544\\2318987598.py:16: FutureWarning: the 'smoothing_slope'' keyword is deprecated, use 'smoothing_trend' instead.\n",
      "  ets_fit = ets_model.fit(smoothing_level=a, smoothing_slope=b, smoothing_seasonal=g)\n",
      "C:\\Users\\User\\anaconda3\\lib\\site-packages\\statsmodels\\tsa\\holtwinters\\model.py:915: ConvergenceWarning: Optimization failed to converge. Check mle_retvals.\n",
      "  warnings.warn(\n",
      "C:\\Users\\User\\AppData\\Local\\Temp\\ipykernel_1544\\2318987598.py:16: FutureWarning: the 'smoothing_slope'' keyword is deprecated, use 'smoothing_trend' instead.\n",
      "  ets_fit = ets_model.fit(smoothing_level=a, smoothing_slope=b, smoothing_seasonal=g)\n",
      "C:\\Users\\User\\anaconda3\\lib\\site-packages\\statsmodels\\tsa\\holtwinters\\model.py:915: ConvergenceWarning: Optimization failed to converge. Check mle_retvals.\n",
      "  warnings.warn(\n",
      "C:\\Users\\User\\AppData\\Local\\Temp\\ipykernel_1544\\2318987598.py:16: FutureWarning: the 'smoothing_slope'' keyword is deprecated, use 'smoothing_trend' instead.\n",
      "  ets_fit = ets_model.fit(smoothing_level=a, smoothing_slope=b, smoothing_seasonal=g)\n",
      "C:\\Users\\User\\anaconda3\\lib\\site-packages\\statsmodels\\tsa\\holtwinters\\model.py:915: ConvergenceWarning: Optimization failed to converge. Check mle_retvals.\n",
      "  warnings.warn(\n",
      "C:\\Users\\User\\AppData\\Local\\Temp\\ipykernel_1544\\2318987598.py:16: FutureWarning: the 'smoothing_slope'' keyword is deprecated, use 'smoothing_trend' instead.\n",
      "  ets_fit = ets_model.fit(smoothing_level=a, smoothing_slope=b, smoothing_seasonal=g)\n",
      "C:\\Users\\User\\anaconda3\\lib\\site-packages\\statsmodels\\tsa\\holtwinters\\model.py:915: ConvergenceWarning: Optimization failed to converge. Check mle_retvals.\n",
      "  warnings.warn(\n",
      "C:\\Users\\User\\AppData\\Local\\Temp\\ipykernel_1544\\2318987598.py:16: FutureWarning: the 'smoothing_slope'' keyword is deprecated, use 'smoothing_trend' instead.\n",
      "  ets_fit = ets_model.fit(smoothing_level=a, smoothing_slope=b, smoothing_seasonal=g)\n",
      "C:\\Users\\User\\anaconda3\\lib\\site-packages\\statsmodels\\tsa\\holtwinters\\model.py:915: ConvergenceWarning: Optimization failed to converge. Check mle_retvals.\n",
      "  warnings.warn(\n",
      "C:\\Users\\User\\AppData\\Local\\Temp\\ipykernel_1544\\2318987598.py:16: FutureWarning: the 'smoothing_slope'' keyword is deprecated, use 'smoothing_trend' instead.\n",
      "  ets_fit = ets_model.fit(smoothing_level=a, smoothing_slope=b, smoothing_seasonal=g)\n",
      "C:\\Users\\User\\anaconda3\\lib\\site-packages\\statsmodels\\tsa\\holtwinters\\model.py:915: ConvergenceWarning: Optimization failed to converge. Check mle_retvals.\n",
      "  warnings.warn(\n",
      "C:\\Users\\User\\AppData\\Local\\Temp\\ipykernel_1544\\2318987598.py:16: FutureWarning: the 'smoothing_slope'' keyword is deprecated, use 'smoothing_trend' instead.\n",
      "  ets_fit = ets_model.fit(smoothing_level=a, smoothing_slope=b, smoothing_seasonal=g)\n",
      "C:\\Users\\User\\anaconda3\\lib\\site-packages\\statsmodels\\tsa\\holtwinters\\model.py:915: ConvergenceWarning: Optimization failed to converge. Check mle_retvals.\n",
      "  warnings.warn(\n",
      "C:\\Users\\User\\AppData\\Local\\Temp\\ipykernel_1544\\2318987598.py:16: FutureWarning: the 'smoothing_slope'' keyword is deprecated, use 'smoothing_trend' instead.\n",
      "  ets_fit = ets_model.fit(smoothing_level=a, smoothing_slope=b, smoothing_seasonal=g)\n",
      "C:\\Users\\User\\anaconda3\\lib\\site-packages\\statsmodels\\tsa\\holtwinters\\model.py:915: ConvergenceWarning: Optimization failed to converge. Check mle_retvals.\n",
      "  warnings.warn(\n",
      "C:\\Users\\User\\AppData\\Local\\Temp\\ipykernel_1544\\2318987598.py:16: FutureWarning: the 'smoothing_slope'' keyword is deprecated, use 'smoothing_trend' instead.\n",
      "  ets_fit = ets_model.fit(smoothing_level=a, smoothing_slope=b, smoothing_seasonal=g)\n",
      "C:\\Users\\User\\anaconda3\\lib\\site-packages\\statsmodels\\tsa\\holtwinters\\model.py:915: ConvergenceWarning: Optimization failed to converge. Check mle_retvals.\n",
      "  warnings.warn(\n",
      "C:\\Users\\User\\AppData\\Local\\Temp\\ipykernel_1544\\2318987598.py:16: FutureWarning: the 'smoothing_slope'' keyword is deprecated, use 'smoothing_trend' instead.\n",
      "  ets_fit = ets_model.fit(smoothing_level=a, smoothing_slope=b, smoothing_seasonal=g)\n",
      "C:\\Users\\User\\anaconda3\\lib\\site-packages\\statsmodels\\tsa\\holtwinters\\model.py:915: ConvergenceWarning: Optimization failed to converge. Check mle_retvals.\n",
      "  warnings.warn(\n"
     ]
    },
    {
     "name": "stdout",
     "output_type": "stream",
     "text": [
      "MAE = 0.26091368840696144 for alpha 0.0, beta 0.33, gamma 0.44\n",
      "MAE = 0.2459903072100881 for alpha 0.0, beta 0.33, gamma 0.55\n",
      "MAE = 0.23399064641020742 for alpha 0.0, beta 0.33, gamma 0.66\n",
      "MAE = 0.22414989853115352 for alpha 0.0, beta 0.33, gamma 0.77\n",
      "MAE = 0.21570325609676141 for alpha 0.0, beta 0.33, gamma 0.88\n",
      "MAE = 0.20788591163086553 for alpha 0.0, beta 0.33, gamma 0.99\n",
      "MAE = 0.458971042891533 for alpha 0.0, beta 0.44, gamma 0.0\n",
      "MAE = 0.39634101843939346 for alpha 0.0, beta 0.44, gamma 0.11\n",
      "MAE = 0.34239387045695985 for alpha 0.0, beta 0.44, gamma 0.22\n",
      "MAE = 0.29638546359757617 for alpha 0.0, beta 0.44, gamma 0.33\n",
      "MAE = 0.26091368840696144 for alpha 0.0, beta 0.44, gamma 0.44\n",
      "MAE = 0.2459903072100881 for alpha 0.0, beta 0.44, gamma 0.55\n",
      "MAE = 0.23399064641020742 for alpha 0.0, beta 0.44, gamma 0.66\n",
      "MAE = 0.22414989853115352 for alpha 0.0, beta 0.44, gamma 0.77\n",
      "MAE = 0.21570325609676141 for alpha 0.0, beta 0.44, gamma 0.88\n",
      "MAE = 0.20788591163086553 for alpha 0.0, beta 0.44, gamma 0.99\n",
      "MAE = 0.458971042891533 for alpha 0.0, beta 0.55, gamma 0.0\n"
     ]
    },
    {
     "name": "stderr",
     "output_type": "stream",
     "text": [
      "C:\\Users\\User\\AppData\\Local\\Temp\\ipykernel_1544\\2318987598.py:16: FutureWarning: the 'smoothing_slope'' keyword is deprecated, use 'smoothing_trend' instead.\n",
      "  ets_fit = ets_model.fit(smoothing_level=a, smoothing_slope=b, smoothing_seasonal=g)\n",
      "C:\\Users\\User\\anaconda3\\lib\\site-packages\\statsmodels\\tsa\\holtwinters\\model.py:915: ConvergenceWarning: Optimization failed to converge. Check mle_retvals.\n",
      "  warnings.warn(\n",
      "C:\\Users\\User\\AppData\\Local\\Temp\\ipykernel_1544\\2318987598.py:16: FutureWarning: the 'smoothing_slope'' keyword is deprecated, use 'smoothing_trend' instead.\n",
      "  ets_fit = ets_model.fit(smoothing_level=a, smoothing_slope=b, smoothing_seasonal=g)\n",
      "C:\\Users\\User\\anaconda3\\lib\\site-packages\\statsmodels\\tsa\\holtwinters\\model.py:915: ConvergenceWarning: Optimization failed to converge. Check mle_retvals.\n",
      "  warnings.warn(\n",
      "C:\\Users\\User\\AppData\\Local\\Temp\\ipykernel_1544\\2318987598.py:16: FutureWarning: the 'smoothing_slope'' keyword is deprecated, use 'smoothing_trend' instead.\n",
      "  ets_fit = ets_model.fit(smoothing_level=a, smoothing_slope=b, smoothing_seasonal=g)\n",
      "C:\\Users\\User\\anaconda3\\lib\\site-packages\\statsmodels\\tsa\\holtwinters\\model.py:915: ConvergenceWarning: Optimization failed to converge. Check mle_retvals.\n",
      "  warnings.warn(\n",
      "C:\\Users\\User\\AppData\\Local\\Temp\\ipykernel_1544\\2318987598.py:16: FutureWarning: the 'smoothing_slope'' keyword is deprecated, use 'smoothing_trend' instead.\n",
      "  ets_fit = ets_model.fit(smoothing_level=a, smoothing_slope=b, smoothing_seasonal=g)\n",
      "C:\\Users\\User\\anaconda3\\lib\\site-packages\\statsmodels\\tsa\\holtwinters\\model.py:915: ConvergenceWarning: Optimization failed to converge. Check mle_retvals.\n",
      "  warnings.warn(\n",
      "C:\\Users\\User\\AppData\\Local\\Temp\\ipykernel_1544\\2318987598.py:16: FutureWarning: the 'smoothing_slope'' keyword is deprecated, use 'smoothing_trend' instead.\n",
      "  ets_fit = ets_model.fit(smoothing_level=a, smoothing_slope=b, smoothing_seasonal=g)\n",
      "C:\\Users\\User\\anaconda3\\lib\\site-packages\\statsmodels\\tsa\\holtwinters\\model.py:915: ConvergenceWarning: Optimization failed to converge. Check mle_retvals.\n",
      "  warnings.warn(\n",
      "C:\\Users\\User\\AppData\\Local\\Temp\\ipykernel_1544\\2318987598.py:16: FutureWarning: the 'smoothing_slope'' keyword is deprecated, use 'smoothing_trend' instead.\n",
      "  ets_fit = ets_model.fit(smoothing_level=a, smoothing_slope=b, smoothing_seasonal=g)\n",
      "C:\\Users\\User\\anaconda3\\lib\\site-packages\\statsmodels\\tsa\\holtwinters\\model.py:915: ConvergenceWarning: Optimization failed to converge. Check mle_retvals.\n",
      "  warnings.warn(\n",
      "C:\\Users\\User\\AppData\\Local\\Temp\\ipykernel_1544\\2318987598.py:16: FutureWarning: the 'smoothing_slope'' keyword is deprecated, use 'smoothing_trend' instead.\n",
      "  ets_fit = ets_model.fit(smoothing_level=a, smoothing_slope=b, smoothing_seasonal=g)\n",
      "C:\\Users\\User\\anaconda3\\lib\\site-packages\\statsmodels\\tsa\\holtwinters\\model.py:915: ConvergenceWarning: Optimization failed to converge. Check mle_retvals.\n",
      "  warnings.warn(\n",
      "C:\\Users\\User\\AppData\\Local\\Temp\\ipykernel_1544\\2318987598.py:16: FutureWarning: the 'smoothing_slope'' keyword is deprecated, use 'smoothing_trend' instead.\n",
      "  ets_fit = ets_model.fit(smoothing_level=a, smoothing_slope=b, smoothing_seasonal=g)\n",
      "C:\\Users\\User\\anaconda3\\lib\\site-packages\\statsmodels\\tsa\\holtwinters\\model.py:915: ConvergenceWarning: Optimization failed to converge. Check mle_retvals.\n",
      "  warnings.warn(\n",
      "C:\\Users\\User\\AppData\\Local\\Temp\\ipykernel_1544\\2318987598.py:16: FutureWarning: the 'smoothing_slope'' keyword is deprecated, use 'smoothing_trend' instead.\n",
      "  ets_fit = ets_model.fit(smoothing_level=a, smoothing_slope=b, smoothing_seasonal=g)\n",
      "C:\\Users\\User\\anaconda3\\lib\\site-packages\\statsmodels\\tsa\\holtwinters\\model.py:915: ConvergenceWarning: Optimization failed to converge. Check mle_retvals.\n",
      "  warnings.warn(\n",
      "C:\\Users\\User\\AppData\\Local\\Temp\\ipykernel_1544\\2318987598.py:16: FutureWarning: the 'smoothing_slope'' keyword is deprecated, use 'smoothing_trend' instead.\n",
      "  ets_fit = ets_model.fit(smoothing_level=a, smoothing_slope=b, smoothing_seasonal=g)\n",
      "C:\\Users\\User\\anaconda3\\lib\\site-packages\\statsmodels\\tsa\\holtwinters\\model.py:915: ConvergenceWarning: Optimization failed to converge. Check mle_retvals.\n",
      "  warnings.warn(\n",
      "C:\\Users\\User\\AppData\\Local\\Temp\\ipykernel_1544\\2318987598.py:16: FutureWarning: the 'smoothing_slope'' keyword is deprecated, use 'smoothing_trend' instead.\n",
      "  ets_fit = ets_model.fit(smoothing_level=a, smoothing_slope=b, smoothing_seasonal=g)\n",
      "C:\\Users\\User\\anaconda3\\lib\\site-packages\\statsmodels\\tsa\\holtwinters\\model.py:915: ConvergenceWarning: Optimization failed to converge. Check mle_retvals.\n",
      "  warnings.warn(\n",
      "C:\\Users\\User\\AppData\\Local\\Temp\\ipykernel_1544\\2318987598.py:16: FutureWarning: the 'smoothing_slope'' keyword is deprecated, use 'smoothing_trend' instead.\n",
      "  ets_fit = ets_model.fit(smoothing_level=a, smoothing_slope=b, smoothing_seasonal=g)\n",
      "C:\\Users\\User\\anaconda3\\lib\\site-packages\\statsmodels\\tsa\\holtwinters\\model.py:915: ConvergenceWarning: Optimization failed to converge. Check mle_retvals.\n",
      "  warnings.warn(\n",
      "C:\\Users\\User\\AppData\\Local\\Temp\\ipykernel_1544\\2318987598.py:16: FutureWarning: the 'smoothing_slope'' keyword is deprecated, use 'smoothing_trend' instead.\n",
      "  ets_fit = ets_model.fit(smoothing_level=a, smoothing_slope=b, smoothing_seasonal=g)\n",
      "C:\\Users\\User\\anaconda3\\lib\\site-packages\\statsmodels\\tsa\\holtwinters\\model.py:915: ConvergenceWarning: Optimization failed to converge. Check mle_retvals.\n",
      "  warnings.warn(\n",
      "C:\\Users\\User\\AppData\\Local\\Temp\\ipykernel_1544\\2318987598.py:16: FutureWarning: the 'smoothing_slope'' keyword is deprecated, use 'smoothing_trend' instead.\n",
      "  ets_fit = ets_model.fit(smoothing_level=a, smoothing_slope=b, smoothing_seasonal=g)\n",
      "C:\\Users\\User\\anaconda3\\lib\\site-packages\\statsmodels\\tsa\\holtwinters\\model.py:915: ConvergenceWarning: Optimization failed to converge. Check mle_retvals.\n",
      "  warnings.warn(\n",
      "C:\\Users\\User\\AppData\\Local\\Temp\\ipykernel_1544\\2318987598.py:16: FutureWarning: the 'smoothing_slope'' keyword is deprecated, use 'smoothing_trend' instead.\n",
      "  ets_fit = ets_model.fit(smoothing_level=a, smoothing_slope=b, smoothing_seasonal=g)\n",
      "C:\\Users\\User\\anaconda3\\lib\\site-packages\\statsmodels\\tsa\\holtwinters\\model.py:915: ConvergenceWarning: Optimization failed to converge. Check mle_retvals.\n",
      "  warnings.warn(\n",
      "C:\\Users\\User\\AppData\\Local\\Temp\\ipykernel_1544\\2318987598.py:16: FutureWarning: the 'smoothing_slope'' keyword is deprecated, use 'smoothing_trend' instead.\n",
      "  ets_fit = ets_model.fit(smoothing_level=a, smoothing_slope=b, smoothing_seasonal=g)\n",
      "C:\\Users\\User\\anaconda3\\lib\\site-packages\\statsmodels\\tsa\\holtwinters\\model.py:915: ConvergenceWarning: Optimization failed to converge. Check mle_retvals.\n",
      "  warnings.warn(\n",
      "C:\\Users\\User\\AppData\\Local\\Temp\\ipykernel_1544\\2318987598.py:16: FutureWarning: the 'smoothing_slope'' keyword is deprecated, use 'smoothing_trend' instead.\n",
      "  ets_fit = ets_model.fit(smoothing_level=a, smoothing_slope=b, smoothing_seasonal=g)\n",
      "C:\\Users\\User\\anaconda3\\lib\\site-packages\\statsmodels\\tsa\\holtwinters\\model.py:915: ConvergenceWarning: Optimization failed to converge. Check mle_retvals.\n",
      "  warnings.warn(\n",
      "C:\\Users\\User\\AppData\\Local\\Temp\\ipykernel_1544\\2318987598.py:16: FutureWarning: the 'smoothing_slope'' keyword is deprecated, use 'smoothing_trend' instead.\n",
      "  ets_fit = ets_model.fit(smoothing_level=a, smoothing_slope=b, smoothing_seasonal=g)\n",
      "C:\\Users\\User\\anaconda3\\lib\\site-packages\\statsmodels\\tsa\\holtwinters\\model.py:915: ConvergenceWarning: Optimization failed to converge. Check mle_retvals.\n",
      "  warnings.warn(\n"
     ]
    },
    {
     "name": "stdout",
     "output_type": "stream",
     "text": [
      "MAE = 0.39634101843939346 for alpha 0.0, beta 0.55, gamma 0.11\n",
      "MAE = 0.34239387045695985 for alpha 0.0, beta 0.55, gamma 0.22\n",
      "MAE = 0.29638546359757617 for alpha 0.0, beta 0.55, gamma 0.33\n",
      "MAE = 0.26091368840696144 for alpha 0.0, beta 0.55, gamma 0.44\n",
      "MAE = 0.2459903072100881 for alpha 0.0, beta 0.55, gamma 0.55\n",
      "MAE = 0.23399064641020742 for alpha 0.0, beta 0.55, gamma 0.66\n",
      "MAE = 0.22414989853115352 for alpha 0.0, beta 0.55, gamma 0.77\n",
      "MAE = 0.21570325609676141 for alpha 0.0, beta 0.55, gamma 0.88\n",
      "MAE = 0.20788591163086553 for alpha 0.0, beta 0.55, gamma 0.99\n",
      "MAE = 0.458971042891533 for alpha 0.0, beta 0.66, gamma 0.0\n",
      "MAE = 0.39634101843939346 for alpha 0.0, beta 0.66, gamma 0.11\n",
      "MAE = 0.34239387045695985 for alpha 0.0, beta 0.66, gamma 0.22\n",
      "MAE = 0.29638546359757617 for alpha 0.0, beta 0.66, gamma 0.33\n",
      "MAE = 0.26091368840696144 for alpha 0.0, beta 0.66, gamma 0.44\n",
      "MAE = 0.2459903072100881 for alpha 0.0, beta 0.66, gamma 0.55\n",
      "MAE = 0.23399064641020742 for alpha 0.0, beta 0.66, gamma 0.66\n"
     ]
    },
    {
     "name": "stderr",
     "output_type": "stream",
     "text": [
      "C:\\Users\\User\\AppData\\Local\\Temp\\ipykernel_1544\\2318987598.py:16: FutureWarning: the 'smoothing_slope'' keyword is deprecated, use 'smoothing_trend' instead.\n",
      "  ets_fit = ets_model.fit(smoothing_level=a, smoothing_slope=b, smoothing_seasonal=g)\n",
      "C:\\Users\\User\\anaconda3\\lib\\site-packages\\statsmodels\\tsa\\holtwinters\\model.py:915: ConvergenceWarning: Optimization failed to converge. Check mle_retvals.\n",
      "  warnings.warn(\n",
      "C:\\Users\\User\\AppData\\Local\\Temp\\ipykernel_1544\\2318987598.py:16: FutureWarning: the 'smoothing_slope'' keyword is deprecated, use 'smoothing_trend' instead.\n",
      "  ets_fit = ets_model.fit(smoothing_level=a, smoothing_slope=b, smoothing_seasonal=g)\n",
      "C:\\Users\\User\\anaconda3\\lib\\site-packages\\statsmodels\\tsa\\holtwinters\\model.py:915: ConvergenceWarning: Optimization failed to converge. Check mle_retvals.\n",
      "  warnings.warn(\n",
      "C:\\Users\\User\\AppData\\Local\\Temp\\ipykernel_1544\\2318987598.py:16: FutureWarning: the 'smoothing_slope'' keyword is deprecated, use 'smoothing_trend' instead.\n",
      "  ets_fit = ets_model.fit(smoothing_level=a, smoothing_slope=b, smoothing_seasonal=g)\n",
      "C:\\Users\\User\\anaconda3\\lib\\site-packages\\statsmodels\\tsa\\holtwinters\\model.py:915: ConvergenceWarning: Optimization failed to converge. Check mle_retvals.\n",
      "  warnings.warn(\n",
      "C:\\Users\\User\\AppData\\Local\\Temp\\ipykernel_1544\\2318987598.py:16: FutureWarning: the 'smoothing_slope'' keyword is deprecated, use 'smoothing_trend' instead.\n",
      "  ets_fit = ets_model.fit(smoothing_level=a, smoothing_slope=b, smoothing_seasonal=g)\n",
      "C:\\Users\\User\\anaconda3\\lib\\site-packages\\statsmodels\\tsa\\holtwinters\\model.py:915: ConvergenceWarning: Optimization failed to converge. Check mle_retvals.\n",
      "  warnings.warn(\n",
      "C:\\Users\\User\\AppData\\Local\\Temp\\ipykernel_1544\\2318987598.py:16: FutureWarning: the 'smoothing_slope'' keyword is deprecated, use 'smoothing_trend' instead.\n",
      "  ets_fit = ets_model.fit(smoothing_level=a, smoothing_slope=b, smoothing_seasonal=g)\n",
      "C:\\Users\\User\\anaconda3\\lib\\site-packages\\statsmodels\\tsa\\holtwinters\\model.py:915: ConvergenceWarning: Optimization failed to converge. Check mle_retvals.\n",
      "  warnings.warn(\n",
      "C:\\Users\\User\\AppData\\Local\\Temp\\ipykernel_1544\\2318987598.py:16: FutureWarning: the 'smoothing_slope'' keyword is deprecated, use 'smoothing_trend' instead.\n",
      "  ets_fit = ets_model.fit(smoothing_level=a, smoothing_slope=b, smoothing_seasonal=g)\n",
      "C:\\Users\\User\\anaconda3\\lib\\site-packages\\statsmodels\\tsa\\holtwinters\\model.py:915: ConvergenceWarning: Optimization failed to converge. Check mle_retvals.\n",
      "  warnings.warn(\n",
      "C:\\Users\\User\\AppData\\Local\\Temp\\ipykernel_1544\\2318987598.py:16: FutureWarning: the 'smoothing_slope'' keyword is deprecated, use 'smoothing_trend' instead.\n",
      "  ets_fit = ets_model.fit(smoothing_level=a, smoothing_slope=b, smoothing_seasonal=g)\n",
      "C:\\Users\\User\\anaconda3\\lib\\site-packages\\statsmodels\\tsa\\holtwinters\\model.py:915: ConvergenceWarning: Optimization failed to converge. Check mle_retvals.\n",
      "  warnings.warn(\n",
      "C:\\Users\\User\\AppData\\Local\\Temp\\ipykernel_1544\\2318987598.py:16: FutureWarning: the 'smoothing_slope'' keyword is deprecated, use 'smoothing_trend' instead.\n",
      "  ets_fit = ets_model.fit(smoothing_level=a, smoothing_slope=b, smoothing_seasonal=g)\n",
      "C:\\Users\\User\\anaconda3\\lib\\site-packages\\statsmodels\\tsa\\holtwinters\\model.py:915: ConvergenceWarning: Optimization failed to converge. Check mle_retvals.\n",
      "  warnings.warn(\n",
      "C:\\Users\\User\\AppData\\Local\\Temp\\ipykernel_1544\\2318987598.py:16: FutureWarning: the 'smoothing_slope'' keyword is deprecated, use 'smoothing_trend' instead.\n",
      "  ets_fit = ets_model.fit(smoothing_level=a, smoothing_slope=b, smoothing_seasonal=g)\n",
      "C:\\Users\\User\\anaconda3\\lib\\site-packages\\statsmodels\\tsa\\holtwinters\\model.py:915: ConvergenceWarning: Optimization failed to converge. Check mle_retvals.\n",
      "  warnings.warn(\n",
      "C:\\Users\\User\\AppData\\Local\\Temp\\ipykernel_1544\\2318987598.py:16: FutureWarning: the 'smoothing_slope'' keyword is deprecated, use 'smoothing_trend' instead.\n",
      "  ets_fit = ets_model.fit(smoothing_level=a, smoothing_slope=b, smoothing_seasonal=g)\n",
      "C:\\Users\\User\\anaconda3\\lib\\site-packages\\statsmodels\\tsa\\holtwinters\\model.py:915: ConvergenceWarning: Optimization failed to converge. Check mle_retvals.\n",
      "  warnings.warn(\n",
      "C:\\Users\\User\\AppData\\Local\\Temp\\ipykernel_1544\\2318987598.py:16: FutureWarning: the 'smoothing_slope'' keyword is deprecated, use 'smoothing_trend' instead.\n",
      "  ets_fit = ets_model.fit(smoothing_level=a, smoothing_slope=b, smoothing_seasonal=g)\n",
      "C:\\Users\\User\\anaconda3\\lib\\site-packages\\statsmodels\\tsa\\holtwinters\\model.py:915: ConvergenceWarning: Optimization failed to converge. Check mle_retvals.\n",
      "  warnings.warn(\n",
      "C:\\Users\\User\\AppData\\Local\\Temp\\ipykernel_1544\\2318987598.py:16: FutureWarning: the 'smoothing_slope'' keyword is deprecated, use 'smoothing_trend' instead.\n",
      "  ets_fit = ets_model.fit(smoothing_level=a, smoothing_slope=b, smoothing_seasonal=g)\n",
      "C:\\Users\\User\\anaconda3\\lib\\site-packages\\statsmodels\\tsa\\holtwinters\\model.py:915: ConvergenceWarning: Optimization failed to converge. Check mle_retvals.\n",
      "  warnings.warn(\n",
      "C:\\Users\\User\\AppData\\Local\\Temp\\ipykernel_1544\\2318987598.py:16: FutureWarning: the 'smoothing_slope'' keyword is deprecated, use 'smoothing_trend' instead.\n",
      "  ets_fit = ets_model.fit(smoothing_level=a, smoothing_slope=b, smoothing_seasonal=g)\n",
      "C:\\Users\\User\\anaconda3\\lib\\site-packages\\statsmodels\\tsa\\holtwinters\\model.py:915: ConvergenceWarning: Optimization failed to converge. Check mle_retvals.\n",
      "  warnings.warn(\n",
      "C:\\Users\\User\\AppData\\Local\\Temp\\ipykernel_1544\\2318987598.py:16: FutureWarning: the 'smoothing_slope'' keyword is deprecated, use 'smoothing_trend' instead.\n",
      "  ets_fit = ets_model.fit(smoothing_level=a, smoothing_slope=b, smoothing_seasonal=g)\n",
      "C:\\Users\\User\\anaconda3\\lib\\site-packages\\statsmodels\\tsa\\holtwinters\\model.py:915: ConvergenceWarning: Optimization failed to converge. Check mle_retvals.\n",
      "  warnings.warn(\n",
      "C:\\Users\\User\\AppData\\Local\\Temp\\ipykernel_1544\\2318987598.py:16: FutureWarning: the 'smoothing_slope'' keyword is deprecated, use 'smoothing_trend' instead.\n",
      "  ets_fit = ets_model.fit(smoothing_level=a, smoothing_slope=b, smoothing_seasonal=g)\n",
      "C:\\Users\\User\\anaconda3\\lib\\site-packages\\statsmodels\\tsa\\holtwinters\\model.py:915: ConvergenceWarning: Optimization failed to converge. Check mle_retvals.\n",
      "  warnings.warn(\n",
      "C:\\Users\\User\\AppData\\Local\\Temp\\ipykernel_1544\\2318987598.py:16: FutureWarning: the 'smoothing_slope'' keyword is deprecated, use 'smoothing_trend' instead.\n",
      "  ets_fit = ets_model.fit(smoothing_level=a, smoothing_slope=b, smoothing_seasonal=g)\n",
      "C:\\Users\\User\\anaconda3\\lib\\site-packages\\statsmodels\\tsa\\holtwinters\\model.py:915: ConvergenceWarning: Optimization failed to converge. Check mle_retvals.\n",
      "  warnings.warn(\n",
      "C:\\Users\\User\\AppData\\Local\\Temp\\ipykernel_1544\\2318987598.py:16: FutureWarning: the 'smoothing_slope'' keyword is deprecated, use 'smoothing_trend' instead.\n",
      "  ets_fit = ets_model.fit(smoothing_level=a, smoothing_slope=b, smoothing_seasonal=g)\n",
      "C:\\Users\\User\\anaconda3\\lib\\site-packages\\statsmodels\\tsa\\holtwinters\\model.py:915: ConvergenceWarning: Optimization failed to converge. Check mle_retvals.\n",
      "  warnings.warn(\n",
      "C:\\Users\\User\\AppData\\Local\\Temp\\ipykernel_1544\\2318987598.py:16: FutureWarning: the 'smoothing_slope'' keyword is deprecated, use 'smoothing_trend' instead.\n",
      "  ets_fit = ets_model.fit(smoothing_level=a, smoothing_slope=b, smoothing_seasonal=g)\n",
      "C:\\Users\\User\\anaconda3\\lib\\site-packages\\statsmodels\\tsa\\holtwinters\\model.py:915: ConvergenceWarning: Optimization failed to converge. Check mle_retvals.\n",
      "  warnings.warn(\n"
     ]
    },
    {
     "name": "stdout",
     "output_type": "stream",
     "text": [
      "MAE = 0.22414989853115352 for alpha 0.0, beta 0.66, gamma 0.77\n",
      "MAE = 0.21570325609676141 for alpha 0.0, beta 0.66, gamma 0.88\n",
      "MAE = 0.20788591163086553 for alpha 0.0, beta 0.66, gamma 0.99\n",
      "MAE = 0.458971042891533 for alpha 0.0, beta 0.77, gamma 0.0\n",
      "MAE = 0.39634101843939346 for alpha 0.0, beta 0.77, gamma 0.11\n",
      "MAE = 0.34239387045695985 for alpha 0.0, beta 0.77, gamma 0.22\n",
      "MAE = 0.29638546359757617 for alpha 0.0, beta 0.77, gamma 0.33\n",
      "MAE = 0.26091368840696144 for alpha 0.0, beta 0.77, gamma 0.44\n",
      "MAE = 0.2459903072100881 for alpha 0.0, beta 0.77, gamma 0.55\n",
      "MAE = 0.23399064641020742 for alpha 0.0, beta 0.77, gamma 0.66\n",
      "MAE = 0.22414989853115352 for alpha 0.0, beta 0.77, gamma 0.77\n",
      "MAE = 0.21570325609676141 for alpha 0.0, beta 0.77, gamma 0.88\n",
      "MAE = 0.20788591163086553 for alpha 0.0, beta 0.77, gamma 0.99\n",
      "MAE = 0.458971042891533 for alpha 0.0, beta 0.88, gamma 0.0\n",
      "MAE = 0.39634101843939346 for alpha 0.0, beta 0.88, gamma 0.11\n",
      "MAE = 0.34239387045695985 for alpha 0.0, beta 0.88, gamma 0.22\n",
      "MAE = 0.29638546359757617 for alpha 0.0, beta 0.88, gamma 0.33\n"
     ]
    },
    {
     "name": "stderr",
     "output_type": "stream",
     "text": [
      "C:\\Users\\User\\AppData\\Local\\Temp\\ipykernel_1544\\2318987598.py:16: FutureWarning: the 'smoothing_slope'' keyword is deprecated, use 'smoothing_trend' instead.\n",
      "  ets_fit = ets_model.fit(smoothing_level=a, smoothing_slope=b, smoothing_seasonal=g)\n",
      "C:\\Users\\User\\anaconda3\\lib\\site-packages\\statsmodels\\tsa\\holtwinters\\model.py:915: ConvergenceWarning: Optimization failed to converge. Check mle_retvals.\n",
      "  warnings.warn(\n",
      "C:\\Users\\User\\AppData\\Local\\Temp\\ipykernel_1544\\2318987598.py:16: FutureWarning: the 'smoothing_slope'' keyword is deprecated, use 'smoothing_trend' instead.\n",
      "  ets_fit = ets_model.fit(smoothing_level=a, smoothing_slope=b, smoothing_seasonal=g)\n",
      "C:\\Users\\User\\anaconda3\\lib\\site-packages\\statsmodels\\tsa\\holtwinters\\model.py:915: ConvergenceWarning: Optimization failed to converge. Check mle_retvals.\n",
      "  warnings.warn(\n",
      "C:\\Users\\User\\AppData\\Local\\Temp\\ipykernel_1544\\2318987598.py:16: FutureWarning: the 'smoothing_slope'' keyword is deprecated, use 'smoothing_trend' instead.\n",
      "  ets_fit = ets_model.fit(smoothing_level=a, smoothing_slope=b, smoothing_seasonal=g)\n",
      "C:\\Users\\User\\anaconda3\\lib\\site-packages\\statsmodels\\tsa\\holtwinters\\model.py:915: ConvergenceWarning: Optimization failed to converge. Check mle_retvals.\n",
      "  warnings.warn(\n",
      "C:\\Users\\User\\AppData\\Local\\Temp\\ipykernel_1544\\2318987598.py:16: FutureWarning: the 'smoothing_slope'' keyword is deprecated, use 'smoothing_trend' instead.\n",
      "  ets_fit = ets_model.fit(smoothing_level=a, smoothing_slope=b, smoothing_seasonal=g)\n",
      "C:\\Users\\User\\anaconda3\\lib\\site-packages\\statsmodels\\tsa\\holtwinters\\model.py:915: ConvergenceWarning: Optimization failed to converge. Check mle_retvals.\n",
      "  warnings.warn(\n",
      "C:\\Users\\User\\AppData\\Local\\Temp\\ipykernel_1544\\2318987598.py:16: FutureWarning: the 'smoothing_slope'' keyword is deprecated, use 'smoothing_trend' instead.\n",
      "  ets_fit = ets_model.fit(smoothing_level=a, smoothing_slope=b, smoothing_seasonal=g)\n",
      "C:\\Users\\User\\anaconda3\\lib\\site-packages\\statsmodels\\tsa\\holtwinters\\model.py:915: ConvergenceWarning: Optimization failed to converge. Check mle_retvals.\n",
      "  warnings.warn(\n",
      "C:\\Users\\User\\AppData\\Local\\Temp\\ipykernel_1544\\2318987598.py:16: FutureWarning: the 'smoothing_slope'' keyword is deprecated, use 'smoothing_trend' instead.\n",
      "  ets_fit = ets_model.fit(smoothing_level=a, smoothing_slope=b, smoothing_seasonal=g)\n",
      "C:\\Users\\User\\anaconda3\\lib\\site-packages\\statsmodels\\tsa\\holtwinters\\model.py:915: ConvergenceWarning: Optimization failed to converge. Check mle_retvals.\n",
      "  warnings.warn(\n",
      "C:\\Users\\User\\AppData\\Local\\Temp\\ipykernel_1544\\2318987598.py:16: FutureWarning: the 'smoothing_slope'' keyword is deprecated, use 'smoothing_trend' instead.\n",
      "  ets_fit = ets_model.fit(smoothing_level=a, smoothing_slope=b, smoothing_seasonal=g)\n",
      "C:\\Users\\User\\anaconda3\\lib\\site-packages\\statsmodels\\tsa\\holtwinters\\model.py:915: ConvergenceWarning: Optimization failed to converge. Check mle_retvals.\n",
      "  warnings.warn(\n",
      "C:\\Users\\User\\AppData\\Local\\Temp\\ipykernel_1544\\2318987598.py:16: FutureWarning: the 'smoothing_slope'' keyword is deprecated, use 'smoothing_trend' instead.\n",
      "  ets_fit = ets_model.fit(smoothing_level=a, smoothing_slope=b, smoothing_seasonal=g)\n",
      "C:\\Users\\User\\anaconda3\\lib\\site-packages\\statsmodels\\tsa\\holtwinters\\model.py:915: ConvergenceWarning: Optimization failed to converge. Check mle_retvals.\n",
      "  warnings.warn(\n",
      "C:\\Users\\User\\AppData\\Local\\Temp\\ipykernel_1544\\2318987598.py:16: FutureWarning: the 'smoothing_slope'' keyword is deprecated, use 'smoothing_trend' instead.\n",
      "  ets_fit = ets_model.fit(smoothing_level=a, smoothing_slope=b, smoothing_seasonal=g)\n",
      "C:\\Users\\User\\anaconda3\\lib\\site-packages\\statsmodels\\tsa\\holtwinters\\model.py:915: ConvergenceWarning: Optimization failed to converge. Check mle_retvals.\n",
      "  warnings.warn(\n",
      "C:\\Users\\User\\AppData\\Local\\Temp\\ipykernel_1544\\2318987598.py:16: FutureWarning: the 'smoothing_slope'' keyword is deprecated, use 'smoothing_trend' instead.\n",
      "  ets_fit = ets_model.fit(smoothing_level=a, smoothing_slope=b, smoothing_seasonal=g)\n",
      "C:\\Users\\User\\anaconda3\\lib\\site-packages\\statsmodels\\tsa\\holtwinters\\model.py:915: ConvergenceWarning: Optimization failed to converge. Check mle_retvals.\n",
      "  warnings.warn(\n",
      "C:\\Users\\User\\AppData\\Local\\Temp\\ipykernel_1544\\2318987598.py:16: FutureWarning: the 'smoothing_slope'' keyword is deprecated, use 'smoothing_trend' instead.\n",
      "  ets_fit = ets_model.fit(smoothing_level=a, smoothing_slope=b, smoothing_seasonal=g)\n",
      "C:\\Users\\User\\anaconda3\\lib\\site-packages\\statsmodels\\tsa\\holtwinters\\model.py:915: ConvergenceWarning: Optimization failed to converge. Check mle_retvals.\n",
      "  warnings.warn(\n",
      "C:\\Users\\User\\AppData\\Local\\Temp\\ipykernel_1544\\2318987598.py:16: FutureWarning: the 'smoothing_slope'' keyword is deprecated, use 'smoothing_trend' instead.\n",
      "  ets_fit = ets_model.fit(smoothing_level=a, smoothing_slope=b, smoothing_seasonal=g)\n",
      "C:\\Users\\User\\anaconda3\\lib\\site-packages\\statsmodels\\tsa\\holtwinters\\model.py:915: ConvergenceWarning: Optimization failed to converge. Check mle_retvals.\n",
      "  warnings.warn(\n",
      "C:\\Users\\User\\AppData\\Local\\Temp\\ipykernel_1544\\2318987598.py:16: FutureWarning: the 'smoothing_slope'' keyword is deprecated, use 'smoothing_trend' instead.\n",
      "  ets_fit = ets_model.fit(smoothing_level=a, smoothing_slope=b, smoothing_seasonal=g)\n",
      "C:\\Users\\User\\anaconda3\\lib\\site-packages\\statsmodels\\tsa\\holtwinters\\model.py:915: ConvergenceWarning: Optimization failed to converge. Check mle_retvals.\n",
      "  warnings.warn(\n",
      "C:\\Users\\User\\AppData\\Local\\Temp\\ipykernel_1544\\2318987598.py:16: FutureWarning: the 'smoothing_slope'' keyword is deprecated, use 'smoothing_trend' instead.\n",
      "  ets_fit = ets_model.fit(smoothing_level=a, smoothing_slope=b, smoothing_seasonal=g)\n",
      "C:\\Users\\User\\anaconda3\\lib\\site-packages\\statsmodels\\tsa\\holtwinters\\model.py:915: ConvergenceWarning: Optimization failed to converge. Check mle_retvals.\n",
      "  warnings.warn(\n",
      "C:\\Users\\User\\AppData\\Local\\Temp\\ipykernel_1544\\2318987598.py:16: FutureWarning: the 'smoothing_slope'' keyword is deprecated, use 'smoothing_trend' instead.\n",
      "  ets_fit = ets_model.fit(smoothing_level=a, smoothing_slope=b, smoothing_seasonal=g)\n",
      "C:\\Users\\User\\anaconda3\\lib\\site-packages\\statsmodels\\tsa\\holtwinters\\model.py:915: ConvergenceWarning: Optimization failed to converge. Check mle_retvals.\n",
      "  warnings.warn(\n",
      "C:\\Users\\User\\AppData\\Local\\Temp\\ipykernel_1544\\2318987598.py:16: FutureWarning: the 'smoothing_slope'' keyword is deprecated, use 'smoothing_trend' instead.\n",
      "  ets_fit = ets_model.fit(smoothing_level=a, smoothing_slope=b, smoothing_seasonal=g)\n",
      "C:\\Users\\User\\anaconda3\\lib\\site-packages\\statsmodels\\tsa\\holtwinters\\model.py:915: ConvergenceWarning: Optimization failed to converge. Check mle_retvals.\n",
      "  warnings.warn(\n"
     ]
    },
    {
     "name": "stdout",
     "output_type": "stream",
     "text": [
      "MAE = 0.26091368840696144 for alpha 0.0, beta 0.88, gamma 0.44\n",
      "MAE = 0.2459903072100881 for alpha 0.0, beta 0.88, gamma 0.55\n",
      "MAE = 0.23399064641020742 for alpha 0.0, beta 0.88, gamma 0.66\n",
      "MAE = 0.22414989853115352 for alpha 0.0, beta 0.88, gamma 0.77\n",
      "MAE = 0.21570325609676141 for alpha 0.0, beta 0.88, gamma 0.88\n",
      "MAE = 0.20788591163086553 for alpha 0.0, beta 0.88, gamma 0.99\n",
      "MAE = 0.458971042891533 for alpha 0.0, beta 0.99, gamma 0.0\n",
      "MAE = 0.39634101843939346 for alpha 0.0, beta 0.99, gamma 0.11\n",
      "MAE = 0.34239387045695985 for alpha 0.0, beta 0.99, gamma 0.22\n",
      "MAE = 0.29638546359757617 for alpha 0.0, beta 0.99, gamma 0.33\n",
      "MAE = 0.26091368840696144 for alpha 0.0, beta 0.99, gamma 0.44\n",
      "MAE = 0.2459903072100881 for alpha 0.0, beta 0.99, gamma 0.55\n",
      "MAE = 0.23399064641020742 for alpha 0.0, beta 0.99, gamma 0.66\n",
      "MAE = 0.22414989853115352 for alpha 0.0, beta 0.99, gamma 0.77\n",
      "MAE = 0.21570325609676141 for alpha 0.0, beta 0.99, gamma 0.88\n",
      "MAE = 0.20788591163086553 for alpha 0.0, beta 0.99, gamma 0.99\n",
      "MAE = 0.17782307303700984 for alpha 0.11, beta 0.0, gamma 0.0"
     ]
    },
    {
     "name": "stderr",
     "output_type": "stream",
     "text": [
      "C:\\Users\\User\\AppData\\Local\\Temp\\ipykernel_1544\\2318987598.py:16: FutureWarning: the 'smoothing_slope'' keyword is deprecated, use 'smoothing_trend' instead.\n",
      "  ets_fit = ets_model.fit(smoothing_level=a, smoothing_slope=b, smoothing_seasonal=g)\n",
      "C:\\Users\\User\\AppData\\Local\\Temp\\ipykernel_1544\\2318987598.py:16: FutureWarning: the 'smoothing_slope'' keyword is deprecated, use 'smoothing_trend' instead.\n",
      "  ets_fit = ets_model.fit(smoothing_level=a, smoothing_slope=b, smoothing_seasonal=g)\n",
      "C:\\Users\\User\\AppData\\Local\\Temp\\ipykernel_1544\\2318987598.py:16: FutureWarning: the 'smoothing_slope'' keyword is deprecated, use 'smoothing_trend' instead.\n",
      "  ets_fit = ets_model.fit(smoothing_level=a, smoothing_slope=b, smoothing_seasonal=g)\n",
      "C:\\Users\\User\\AppData\\Local\\Temp\\ipykernel_1544\\2318987598.py:16: FutureWarning: the 'smoothing_slope'' keyword is deprecated, use 'smoothing_trend' instead.\n",
      "  ets_fit = ets_model.fit(smoothing_level=a, smoothing_slope=b, smoothing_seasonal=g)\n",
      "C:\\Users\\User\\AppData\\Local\\Temp\\ipykernel_1544\\2318987598.py:16: FutureWarning: the 'smoothing_slope'' keyword is deprecated, use 'smoothing_trend' instead.\n",
      "  ets_fit = ets_model.fit(smoothing_level=a, smoothing_slope=b, smoothing_seasonal=g)\n",
      "C:\\Users\\User\\AppData\\Local\\Temp\\ipykernel_1544\\2318987598.py:16: FutureWarning: the 'smoothing_slope'' keyword is deprecated, use 'smoothing_trend' instead.\n",
      "  ets_fit = ets_model.fit(smoothing_level=a, smoothing_slope=b, smoothing_seasonal=g)\n",
      "C:\\Users\\User\\AppData\\Local\\Temp\\ipykernel_1544\\2318987598.py:16: FutureWarning: the 'smoothing_slope'' keyword is deprecated, use 'smoothing_trend' instead.\n",
      "  ets_fit = ets_model.fit(smoothing_level=a, smoothing_slope=b, smoothing_seasonal=g)\n",
      "C:\\Users\\User\\AppData\\Local\\Temp\\ipykernel_1544\\2318987598.py:16: FutureWarning: the 'smoothing_slope'' keyword is deprecated, use 'smoothing_trend' instead.\n",
      "  ets_fit = ets_model.fit(smoothing_level=a, smoothing_slope=b, smoothing_seasonal=g)\n",
      "C:\\Users\\User\\AppData\\Local\\Temp\\ipykernel_1544\\2318987598.py:16: FutureWarning: the 'smoothing_slope'' keyword is deprecated, use 'smoothing_trend' instead.\n",
      "  ets_fit = ets_model.fit(smoothing_level=a, smoothing_slope=b, smoothing_seasonal=g)\n",
      "C:\\Users\\User\\AppData\\Local\\Temp\\ipykernel_1544\\2318987598.py:16: FutureWarning: the 'smoothing_slope'' keyword is deprecated, use 'smoothing_trend' instead.\n",
      "  ets_fit = ets_model.fit(smoothing_level=a, smoothing_slope=b, smoothing_seasonal=g)\n",
      "C:\\Users\\User\\AppData\\Local\\Temp\\ipykernel_1544\\2318987598.py:16: FutureWarning: the 'smoothing_slope'' keyword is deprecated, use 'smoothing_trend' instead.\n",
      "  ets_fit = ets_model.fit(smoothing_level=a, smoothing_slope=b, smoothing_seasonal=g)\n",
      "C:\\Users\\User\\anaconda3\\lib\\site-packages\\statsmodels\\tsa\\holtwinters\\model.py:83: RuntimeWarning: overflow encountered in matmul\n",
      "  return err.T @ err\n",
      "C:\\Users\\User\\AppData\\Local\\Temp\\ipykernel_1544\\2318987598.py:16: FutureWarning: the 'smoothing_slope'' keyword is deprecated, use 'smoothing_trend' instead.\n",
      "  ets_fit = ets_model.fit(smoothing_level=a, smoothing_slope=b, smoothing_seasonal=g)\n",
      "C:\\Users\\User\\anaconda3\\lib\\site-packages\\statsmodels\\tsa\\holtwinters\\model.py:83: RuntimeWarning: overflow encountered in matmul\n",
      "  return err.T @ err\n",
      "C:\\Users\\User\\AppData\\Local\\Temp\\ipykernel_1544\\2318987598.py:16: FutureWarning: the 'smoothing_slope'' keyword is deprecated, use 'smoothing_trend' instead.\n",
      "  ets_fit = ets_model.fit(smoothing_level=a, smoothing_slope=b, smoothing_seasonal=g)\n",
      "C:\\Users\\User\\anaconda3\\lib\\site-packages\\statsmodels\\tsa\\holtwinters\\model.py:83: RuntimeWarning: overflow encountered in matmul\n",
      "  return err.T @ err\n"
     ]
    },
    {
     "name": "stdout",
     "output_type": "stream",
     "text": [
      "\n",
      "MAE = 0.17462582443186922 for alpha 0.11, beta 0.0, gamma 0.11\n",
      "MAE = 0.17174204564241138 for alpha 0.11, beta 0.0, gamma 0.22\n",
      "MAE = 0.16889688041869702 for alpha 0.11, beta 0.0, gamma 0.33\n",
      "MAE = 0.16597405151627645 for alpha 0.11, beta 0.0, gamma 0.44\n",
      "MAE = 0.16294950986710202 for alpha 0.11, beta 0.0, gamma 0.55\n",
      "MAE = 0.15983429917774677 for alpha 0.11, beta 0.0, gamma 0.66\n",
      "MAE = 0.16187773539345784 for alpha 0.11, beta 0.0, gamma 0.77\n",
      "MAE = 0.16637048973529056 for alpha 0.11, beta 0.0, gamma 0.88\n",
      "MAE = 0.17163001293473748 for alpha 0.11, beta 0.0, gamma 0.99\n",
      "MAE = 0.1569497637388013 for alpha 0.11, beta 0.11, gamma 0.0\n",
      "MAE = 0.1577911195858366 for alpha 0.11, beta 0.11, gamma 0.11\n",
      "MAE = 0.15970949405506188 for alpha 0.11, beta 0.11, gamma 0.22\n",
      "MAE = 0.1613741741276096 for alpha 0.11, beta 0.11, gamma 0.33\n",
      "MAE = 0.16306334975664047 for alpha 0.11, beta 0.11, gamma 0.44\n",
      "MAE = 0.16460992911847697 for alpha 0.11, beta 0.11, gamma 0.55\n",
      "MAE = 0.16684164891953512 for alpha 0.11, beta 0.11, gamma 0.66\n",
      "MAE = 0.1687656315674648 for alpha 0.11, beta 0.11, gamma 0.77\n",
      "MAE = 0.17109369632879343 for alpha 0.11, beta 0.11, gamma 0.88\n",
      "MAE = 0.17583676843085627 for alpha 0.11, beta 0.11, gamma 0.99\n"
     ]
    },
    {
     "name": "stderr",
     "output_type": "stream",
     "text": [
      "C:\\Users\\User\\AppData\\Local\\Temp\\ipykernel_1544\\2318987598.py:16: FutureWarning: the 'smoothing_slope'' keyword is deprecated, use 'smoothing_trend' instead.\n",
      "  ets_fit = ets_model.fit(smoothing_level=a, smoothing_slope=b, smoothing_seasonal=g)\n",
      "C:\\Users\\User\\anaconda3\\lib\\site-packages\\statsmodels\\tsa\\holtwinters\\model.py:83: RuntimeWarning: overflow encountered in matmul\n",
      "  return err.T @ err\n",
      "C:\\Users\\User\\AppData\\Local\\Temp\\ipykernel_1544\\2318987598.py:16: FutureWarning: the 'smoothing_slope'' keyword is deprecated, use 'smoothing_trend' instead.\n",
      "  ets_fit = ets_model.fit(smoothing_level=a, smoothing_slope=b, smoothing_seasonal=g)\n",
      "C:\\Users\\User\\anaconda3\\lib\\site-packages\\statsmodels\\tsa\\holtwinters\\model.py:83: RuntimeWarning: overflow encountered in matmul\n",
      "  return err.T @ err\n",
      "C:\\Users\\User\\AppData\\Local\\Temp\\ipykernel_1544\\2318987598.py:16: FutureWarning: the 'smoothing_slope'' keyword is deprecated, use 'smoothing_trend' instead.\n",
      "  ets_fit = ets_model.fit(smoothing_level=a, smoothing_slope=b, smoothing_seasonal=g)\n",
      "C:\\Users\\User\\anaconda3\\lib\\site-packages\\statsmodels\\tsa\\holtwinters\\model.py:83: RuntimeWarning: overflow encountered in matmul\n",
      "  return err.T @ err\n",
      "C:\\Users\\User\\AppData\\Local\\Temp\\ipykernel_1544\\2318987598.py:16: FutureWarning: the 'smoothing_slope'' keyword is deprecated, use 'smoothing_trend' instead.\n",
      "  ets_fit = ets_model.fit(smoothing_level=a, smoothing_slope=b, smoothing_seasonal=g)\n",
      "C:\\Users\\User\\AppData\\Local\\Temp\\ipykernel_1544\\2318987598.py:16: FutureWarning: the 'smoothing_slope'' keyword is deprecated, use 'smoothing_trend' instead.\n",
      "  ets_fit = ets_model.fit(smoothing_level=a, smoothing_slope=b, smoothing_seasonal=g)\n",
      "C:\\Users\\User\\AppData\\Local\\Temp\\ipykernel_1544\\2318987598.py:16: FutureWarning: the 'smoothing_slope'' keyword is deprecated, use 'smoothing_trend' instead.\n",
      "  ets_fit = ets_model.fit(smoothing_level=a, smoothing_slope=b, smoothing_seasonal=g)\n",
      "C:\\Users\\User\\anaconda3\\lib\\site-packages\\statsmodels\\tsa\\holtwinters\\model.py:83: RuntimeWarning: overflow encountered in matmul\n",
      "  return err.T @ err\n",
      "C:\\Users\\User\\AppData\\Local\\Temp\\ipykernel_1544\\2318987598.py:16: FutureWarning: the 'smoothing_slope'' keyword is deprecated, use 'smoothing_trend' instead.\n",
      "  ets_fit = ets_model.fit(smoothing_level=a, smoothing_slope=b, smoothing_seasonal=g)\n",
      "C:\\Users\\User\\AppData\\Local\\Temp\\ipykernel_1544\\2318987598.py:16: FutureWarning: the 'smoothing_slope'' keyword is deprecated, use 'smoothing_trend' instead.\n",
      "  ets_fit = ets_model.fit(smoothing_level=a, smoothing_slope=b, smoothing_seasonal=g)\n",
      "C:\\Users\\User\\anaconda3\\lib\\site-packages\\statsmodels\\tsa\\holtwinters\\model.py:83: RuntimeWarning: overflow encountered in matmul\n",
      "  return err.T @ err\n",
      "C:\\Users\\User\\AppData\\Local\\Temp\\ipykernel_1544\\2318987598.py:16: FutureWarning: the 'smoothing_slope'' keyword is deprecated, use 'smoothing_trend' instead.\n",
      "  ets_fit = ets_model.fit(smoothing_level=a, smoothing_slope=b, smoothing_seasonal=g)\n",
      "C:\\Users\\User\\anaconda3\\lib\\site-packages\\statsmodels\\tsa\\holtwinters\\model.py:83: RuntimeWarning: overflow encountered in matmul\n",
      "  return err.T @ err\n",
      "C:\\Users\\User\\AppData\\Local\\Temp\\ipykernel_1544\\2318987598.py:16: FutureWarning: the 'smoothing_slope'' keyword is deprecated, use 'smoothing_trend' instead.\n",
      "  ets_fit = ets_model.fit(smoothing_level=a, smoothing_slope=b, smoothing_seasonal=g)\n",
      "C:\\Users\\User\\anaconda3\\lib\\site-packages\\statsmodels\\tsa\\holtwinters\\model.py:83: RuntimeWarning: overflow encountered in matmul\n",
      "  return err.T @ err\n",
      "C:\\Users\\User\\AppData\\Local\\Temp\\ipykernel_1544\\2318987598.py:16: FutureWarning: the 'smoothing_slope'' keyword is deprecated, use 'smoothing_trend' instead.\n",
      "  ets_fit = ets_model.fit(smoothing_level=a, smoothing_slope=b, smoothing_seasonal=g)\n",
      "C:\\Users\\User\\anaconda3\\lib\\site-packages\\statsmodels\\tsa\\holtwinters\\model.py:83: RuntimeWarning: overflow encountered in matmul\n",
      "  return err.T @ err\n",
      "C:\\Users\\User\\AppData\\Local\\Temp\\ipykernel_1544\\2318987598.py:16: FutureWarning: the 'smoothing_slope'' keyword is deprecated, use 'smoothing_trend' instead.\n",
      "  ets_fit = ets_model.fit(smoothing_level=a, smoothing_slope=b, smoothing_seasonal=g)\n",
      "C:\\Users\\User\\anaconda3\\lib\\site-packages\\statsmodels\\tsa\\holtwinters\\model.py:83: RuntimeWarning: overflow encountered in matmul\n",
      "  return err.T @ err\n",
      "C:\\Users\\User\\AppData\\Local\\Temp\\ipykernel_1544\\2318987598.py:16: FutureWarning: the 'smoothing_slope'' keyword is deprecated, use 'smoothing_trend' instead.\n",
      "  ets_fit = ets_model.fit(smoothing_level=a, smoothing_slope=b, smoothing_seasonal=g)\n",
      "C:\\Users\\User\\anaconda3\\lib\\site-packages\\statsmodels\\tsa\\holtwinters\\model.py:83: RuntimeWarning: overflow encountered in matmul\n",
      "  return err.T @ err\n",
      "C:\\Users\\User\\AppData\\Local\\Temp\\ipykernel_1544\\2318987598.py:16: FutureWarning: the 'smoothing_slope'' keyword is deprecated, use 'smoothing_trend' instead.\n",
      "  ets_fit = ets_model.fit(smoothing_level=a, smoothing_slope=b, smoothing_seasonal=g)\n"
     ]
    },
    {
     "name": "stdout",
     "output_type": "stream",
     "text": [
      "MAE = 0.15828433210435636 for alpha 0.11, beta 0.22, gamma 0.0\n",
      "MAE = 0.15978890369809876 for alpha 0.11, beta 0.22, gamma 0.11\n",
      "MAE = 0.16188215095461828 for alpha 0.11, beta 0.22, gamma 0.22\n",
      "MAE = 0.176235086643353 for alpha 0.11, beta 0.22, gamma 0.33\n",
      "MAE = 0.18092634419221898 for alpha 0.11, beta 0.22, gamma 0.44\n",
      "MAE = 0.18437143684956647 for alpha 0.11, beta 0.22, gamma 0.55\n"
     ]
    },
    {
     "name": "stderr",
     "output_type": "stream",
     "text": [
      "C:\\Users\\User\\anaconda3\\lib\\site-packages\\statsmodels\\tsa\\holtwinters\\model.py:83: RuntimeWarning: overflow encountered in matmul\n",
      "  return err.T @ err\n",
      "C:\\Users\\User\\AppData\\Local\\Temp\\ipykernel_1544\\2318987598.py:16: FutureWarning: the 'smoothing_slope'' keyword is deprecated, use 'smoothing_trend' instead.\n",
      "  ets_fit = ets_model.fit(smoothing_level=a, smoothing_slope=b, smoothing_seasonal=g)\n",
      "C:\\Users\\User\\anaconda3\\lib\\site-packages\\statsmodels\\tsa\\holtwinters\\model.py:83: RuntimeWarning: overflow encountered in matmul\n",
      "  return err.T @ err\n",
      "C:\\Users\\User\\AppData\\Local\\Temp\\ipykernel_1544\\2318987598.py:16: FutureWarning: the 'smoothing_slope'' keyword is deprecated, use 'smoothing_trend' instead.\n",
      "  ets_fit = ets_model.fit(smoothing_level=a, smoothing_slope=b, smoothing_seasonal=g)\n",
      "C:\\Users\\User\\anaconda3\\lib\\site-packages\\statsmodels\\tsa\\holtwinters\\model.py:83: RuntimeWarning: overflow encountered in matmul\n",
      "  return err.T @ err\n",
      "C:\\Users\\User\\AppData\\Local\\Temp\\ipykernel_1544\\2318987598.py:16: FutureWarning: the 'smoothing_slope'' keyword is deprecated, use 'smoothing_trend' instead.\n",
      "  ets_fit = ets_model.fit(smoothing_level=a, smoothing_slope=b, smoothing_seasonal=g)\n",
      "C:\\Users\\User\\anaconda3\\lib\\site-packages\\statsmodels\\tsa\\holtwinters\\model.py:83: RuntimeWarning: overflow encountered in matmul\n",
      "  return err.T @ err\n",
      "C:\\Users\\User\\AppData\\Local\\Temp\\ipykernel_1544\\2318987598.py:16: FutureWarning: the 'smoothing_slope'' keyword is deprecated, use 'smoothing_trend' instead.\n",
      "  ets_fit = ets_model.fit(smoothing_level=a, smoothing_slope=b, smoothing_seasonal=g)\n",
      "C:\\Users\\User\\anaconda3\\lib\\site-packages\\statsmodels\\tsa\\holtwinters\\model.py:83: RuntimeWarning: overflow encountered in matmul\n",
      "  return err.T @ err\n",
      "C:\\Users\\User\\AppData\\Local\\Temp\\ipykernel_1544\\2318987598.py:16: FutureWarning: the 'smoothing_slope'' keyword is deprecated, use 'smoothing_trend' instead.\n",
      "  ets_fit = ets_model.fit(smoothing_level=a, smoothing_slope=b, smoothing_seasonal=g)\n",
      "C:\\Users\\User\\anaconda3\\lib\\site-packages\\statsmodels\\tsa\\holtwinters\\model.py:83: RuntimeWarning: overflow encountered in matmul\n",
      "  return err.T @ err\n",
      "C:\\Users\\User\\AppData\\Local\\Temp\\ipykernel_1544\\2318987598.py:16: FutureWarning: the 'smoothing_slope'' keyword is deprecated, use 'smoothing_trend' instead.\n",
      "  ets_fit = ets_model.fit(smoothing_level=a, smoothing_slope=b, smoothing_seasonal=g)\n",
      "C:\\Users\\User\\anaconda3\\lib\\site-packages\\statsmodels\\tsa\\holtwinters\\model.py:83: RuntimeWarning: overflow encountered in matmul\n",
      "  return err.T @ err\n",
      "C:\\Users\\User\\AppData\\Local\\Temp\\ipykernel_1544\\2318987598.py:16: FutureWarning: the 'smoothing_slope'' keyword is deprecated, use 'smoothing_trend' instead.\n",
      "  ets_fit = ets_model.fit(smoothing_level=a, smoothing_slope=b, smoothing_seasonal=g)\n",
      "C:\\Users\\User\\anaconda3\\lib\\site-packages\\statsmodels\\tsa\\holtwinters\\model.py:83: RuntimeWarning: overflow encountered in matmul\n",
      "  return err.T @ err\n",
      "C:\\Users\\User\\AppData\\Local\\Temp\\ipykernel_1544\\2318987598.py:16: FutureWarning: the 'smoothing_slope'' keyword is deprecated, use 'smoothing_trend' instead.\n",
      "  ets_fit = ets_model.fit(smoothing_level=a, smoothing_slope=b, smoothing_seasonal=g)\n",
      "C:\\Users\\User\\anaconda3\\lib\\site-packages\\statsmodels\\tsa\\holtwinters\\model.py:83: RuntimeWarning: overflow encountered in matmul\n",
      "  return err.T @ err\n",
      "C:\\Users\\User\\AppData\\Local\\Temp\\ipykernel_1544\\2318987598.py:16: FutureWarning: the 'smoothing_slope'' keyword is deprecated, use 'smoothing_trend' instead.\n",
      "  ets_fit = ets_model.fit(smoothing_level=a, smoothing_slope=b, smoothing_seasonal=g)\n",
      "C:\\Users\\User\\anaconda3\\lib\\site-packages\\statsmodels\\tsa\\holtwinters\\model.py:83: RuntimeWarning: overflow encountered in matmul\n",
      "  return err.T @ err\n"
     ]
    },
    {
     "name": "stdout",
     "output_type": "stream",
     "text": [
      "MAE = 0.18874279169822963 for alpha 0.11, beta 0.22, gamma 0.66\n",
      "MAE = 0.19086369249931046 for alpha 0.11, beta 0.22, gamma 0.77\n",
      "MAE = 0.18533755328841994 for alpha 0.11, beta 0.22, gamma 0.88\n",
      "MAE = 0.18605785615746293 for alpha 0.11, beta 0.22, gamma 0.99\n",
      "MAE = 0.1547766318343371 for alpha 0.11, beta 0.33, gamma 0.0\n",
      "MAE = 0.16029047567364468 for alpha 0.11, beta 0.33, gamma 0.11\n",
      "MAE = 0.16555068440625617 for alpha 0.11, beta 0.33, gamma 0.22\n",
      "MAE = 0.18004394268432247 for alpha 0.11, beta 0.33, gamma 0.33\n",
      "MAE = 0.19506650647270798 for alpha 0.11, beta 0.33, gamma 0.44\n",
      "MAE = 0.21092385313696385 for alpha 0.11, beta 0.33, gamma 0.55\n"
     ]
    },
    {
     "name": "stderr",
     "output_type": "stream",
     "text": [
      "C:\\Users\\User\\AppData\\Local\\Temp\\ipykernel_1544\\2318987598.py:16: FutureWarning: the 'smoothing_slope'' keyword is deprecated, use 'smoothing_trend' instead.\n",
      "  ets_fit = ets_model.fit(smoothing_level=a, smoothing_slope=b, smoothing_seasonal=g)\n",
      "C:\\Users\\User\\anaconda3\\lib\\site-packages\\statsmodels\\tsa\\holtwinters\\model.py:83: RuntimeWarning: overflow encountered in matmul\n",
      "  return err.T @ err\n",
      "C:\\Users\\User\\AppData\\Local\\Temp\\ipykernel_1544\\2318987598.py:16: FutureWarning: the 'smoothing_slope'' keyword is deprecated, use 'smoothing_trend' instead.\n",
      "  ets_fit = ets_model.fit(smoothing_level=a, smoothing_slope=b, smoothing_seasonal=g)\n",
      "C:\\Users\\User\\anaconda3\\lib\\site-packages\\statsmodels\\tsa\\holtwinters\\model.py:83: RuntimeWarning: overflow encountered in matmul\n",
      "  return err.T @ err\n",
      "C:\\Users\\User\\AppData\\Local\\Temp\\ipykernel_1544\\2318987598.py:16: FutureWarning: the 'smoothing_slope'' keyword is deprecated, use 'smoothing_trend' instead.\n",
      "  ets_fit = ets_model.fit(smoothing_level=a, smoothing_slope=b, smoothing_seasonal=g)\n",
      "C:\\Users\\User\\anaconda3\\lib\\site-packages\\statsmodels\\tsa\\holtwinters\\model.py:83: RuntimeWarning: overflow encountered in matmul\n",
      "  return err.T @ err\n",
      "C:\\Users\\User\\AppData\\Local\\Temp\\ipykernel_1544\\2318987598.py:16: FutureWarning: the 'smoothing_slope'' keyword is deprecated, use 'smoothing_trend' instead.\n",
      "  ets_fit = ets_model.fit(smoothing_level=a, smoothing_slope=b, smoothing_seasonal=g)\n",
      "C:\\Users\\User\\anaconda3\\lib\\site-packages\\statsmodels\\tsa\\holtwinters\\model.py:83: RuntimeWarning: overflow encountered in matmul\n",
      "  return err.T @ err\n",
      "C:\\Users\\User\\AppData\\Local\\Temp\\ipykernel_1544\\2318987598.py:16: FutureWarning: the 'smoothing_slope'' keyword is deprecated, use 'smoothing_trend' instead.\n",
      "  ets_fit = ets_model.fit(smoothing_level=a, smoothing_slope=b, smoothing_seasonal=g)\n",
      "C:\\Users\\User\\anaconda3\\lib\\site-packages\\statsmodels\\tsa\\holtwinters\\model.py:83: RuntimeWarning: overflow encountered in matmul\n",
      "  return err.T @ err\n",
      "C:\\Users\\User\\AppData\\Local\\Temp\\ipykernel_1544\\2318987598.py:16: FutureWarning: the 'smoothing_slope'' keyword is deprecated, use 'smoothing_trend' instead.\n",
      "  ets_fit = ets_model.fit(smoothing_level=a, smoothing_slope=b, smoothing_seasonal=g)\n",
      "C:\\Users\\User\\anaconda3\\lib\\site-packages\\statsmodels\\tsa\\holtwinters\\model.py:83: RuntimeWarning: overflow encountered in matmul\n",
      "  return err.T @ err\n",
      "C:\\Users\\User\\AppData\\Local\\Temp\\ipykernel_1544\\2318987598.py:16: FutureWarning: the 'smoothing_slope'' keyword is deprecated, use 'smoothing_trend' instead.\n",
      "  ets_fit = ets_model.fit(smoothing_level=a, smoothing_slope=b, smoothing_seasonal=g)\n",
      "C:\\Users\\User\\anaconda3\\lib\\site-packages\\statsmodels\\tsa\\holtwinters\\model.py:83: RuntimeWarning: overflow encountered in matmul\n",
      "  return err.T @ err\n",
      "C:\\Users\\User\\AppData\\Local\\Temp\\ipykernel_1544\\2318987598.py:16: FutureWarning: the 'smoothing_slope'' keyword is deprecated, use 'smoothing_trend' instead.\n",
      "  ets_fit = ets_model.fit(smoothing_level=a, smoothing_slope=b, smoothing_seasonal=g)\n",
      "C:\\Users\\User\\anaconda3\\lib\\site-packages\\statsmodels\\tsa\\holtwinters\\model.py:83: RuntimeWarning: overflow encountered in matmul\n",
      "  return err.T @ err\n",
      "C:\\Users\\User\\AppData\\Local\\Temp\\ipykernel_1544\\2318987598.py:16: FutureWarning: the 'smoothing_slope'' keyword is deprecated, use 'smoothing_trend' instead.\n",
      "  ets_fit = ets_model.fit(smoothing_level=a, smoothing_slope=b, smoothing_seasonal=g)\n",
      "C:\\Users\\User\\anaconda3\\lib\\site-packages\\statsmodels\\tsa\\holtwinters\\model.py:83: RuntimeWarning: overflow encountered in matmul\n",
      "  return err.T @ err\n"
     ]
    },
    {
     "name": "stdout",
     "output_type": "stream",
     "text": [
      "MAE = 0.22231336406050597 for alpha 0.11, beta 0.33, gamma 0.66\n",
      "MAE = 0.2280303216998436 for alpha 0.11, beta 0.33, gamma 0.77\n",
      "MAE = 0.23219945601207737 for alpha 0.11, beta 0.33, gamma 0.88\n",
      "MAE = 0.24689745164272203 for alpha 0.11, beta 0.33, gamma 0.99\n",
      "MAE = 0.15550597265285898 for alpha 0.11, beta 0.44, gamma 0.0\n",
      "MAE = 0.18940374290927808 for alpha 0.11, beta 0.44, gamma 0.11\n",
      "MAE = 0.199236696761921 for alpha 0.11, beta 0.44, gamma 0.22\n",
      "MAE = 0.21632122263010034 for alpha 0.11, beta 0.44, gamma 0.33\n",
      "MAE = 0.24070748618920532 for alpha 0.11, beta 0.44, gamma 0.44\n"
     ]
    },
    {
     "name": "stderr",
     "output_type": "stream",
     "text": [
      "C:\\Users\\User\\AppData\\Local\\Temp\\ipykernel_1544\\2318987598.py:16: FutureWarning: the 'smoothing_slope'' keyword is deprecated, use 'smoothing_trend' instead.\n",
      "  ets_fit = ets_model.fit(smoothing_level=a, smoothing_slope=b, smoothing_seasonal=g)\n",
      "C:\\Users\\User\\anaconda3\\lib\\site-packages\\statsmodels\\tsa\\holtwinters\\model.py:83: RuntimeWarning: overflow encountered in matmul\n",
      "  return err.T @ err\n",
      "C:\\Users\\User\\AppData\\Local\\Temp\\ipykernel_1544\\2318987598.py:16: FutureWarning: the 'smoothing_slope'' keyword is deprecated, use 'smoothing_trend' instead.\n",
      "  ets_fit = ets_model.fit(smoothing_level=a, smoothing_slope=b, smoothing_seasonal=g)\n",
      "C:\\Users\\User\\anaconda3\\lib\\site-packages\\statsmodels\\tsa\\holtwinters\\model.py:83: RuntimeWarning: overflow encountered in matmul\n",
      "  return err.T @ err\n",
      "C:\\Users\\User\\AppData\\Local\\Temp\\ipykernel_1544\\2318987598.py:16: FutureWarning: the 'smoothing_slope'' keyword is deprecated, use 'smoothing_trend' instead.\n",
      "  ets_fit = ets_model.fit(smoothing_level=a, smoothing_slope=b, smoothing_seasonal=g)\n",
      "C:\\Users\\User\\anaconda3\\lib\\site-packages\\statsmodels\\tsa\\holtwinters\\model.py:83: RuntimeWarning: overflow encountered in matmul\n",
      "  return err.T @ err\n",
      "C:\\Users\\User\\AppData\\Local\\Temp\\ipykernel_1544\\2318987598.py:16: FutureWarning: the 'smoothing_slope'' keyword is deprecated, use 'smoothing_trend' instead.\n",
      "  ets_fit = ets_model.fit(smoothing_level=a, smoothing_slope=b, smoothing_seasonal=g)\n",
      "C:\\Users\\User\\anaconda3\\lib\\site-packages\\statsmodels\\tsa\\holtwinters\\model.py:83: RuntimeWarning: overflow encountered in matmul\n",
      "  return err.T @ err\n",
      "C:\\Users\\User\\AppData\\Local\\Temp\\ipykernel_1544\\2318987598.py:16: FutureWarning: the 'smoothing_slope'' keyword is deprecated, use 'smoothing_trend' instead.\n",
      "  ets_fit = ets_model.fit(smoothing_level=a, smoothing_slope=b, smoothing_seasonal=g)\n",
      "C:\\Users\\User\\anaconda3\\lib\\site-packages\\statsmodels\\tsa\\holtwinters\\model.py:83: RuntimeWarning: overflow encountered in matmul\n",
      "  return err.T @ err\n",
      "C:\\Users\\User\\AppData\\Local\\Temp\\ipykernel_1544\\2318987598.py:16: FutureWarning: the 'smoothing_slope'' keyword is deprecated, use 'smoothing_trend' instead.\n",
      "  ets_fit = ets_model.fit(smoothing_level=a, smoothing_slope=b, smoothing_seasonal=g)\n",
      "C:\\Users\\User\\anaconda3\\lib\\site-packages\\statsmodels\\tsa\\holtwinters\\model.py:83: RuntimeWarning: overflow encountered in matmul\n",
      "  return err.T @ err\n",
      "C:\\Users\\User\\AppData\\Local\\Temp\\ipykernel_1544\\2318987598.py:16: FutureWarning: the 'smoothing_slope'' keyword is deprecated, use 'smoothing_trend' instead.\n",
      "  ets_fit = ets_model.fit(smoothing_level=a, smoothing_slope=b, smoothing_seasonal=g)\n",
      "C:\\Users\\User\\anaconda3\\lib\\site-packages\\statsmodels\\tsa\\holtwinters\\model.py:83: RuntimeWarning: overflow encountered in matmul\n",
      "  return err.T @ err\n",
      "C:\\Users\\User\\AppData\\Local\\Temp\\ipykernel_1544\\2318987598.py:16: FutureWarning: the 'smoothing_slope'' keyword is deprecated, use 'smoothing_trend' instead.\n",
      "  ets_fit = ets_model.fit(smoothing_level=a, smoothing_slope=b, smoothing_seasonal=g)\n",
      "C:\\Users\\User\\anaconda3\\lib\\site-packages\\statsmodels\\tsa\\holtwinters\\model.py:83: RuntimeWarning: overflow encountered in matmul\n",
      "  return err.T @ err\n",
      "C:\\Users\\User\\AppData\\Local\\Temp\\ipykernel_1544\\2318987598.py:16: FutureWarning: the 'smoothing_slope'' keyword is deprecated, use 'smoothing_trend' instead.\n",
      "  ets_fit = ets_model.fit(smoothing_level=a, smoothing_slope=b, smoothing_seasonal=g)\n",
      "C:\\Users\\User\\anaconda3\\lib\\site-packages\\statsmodels\\tsa\\holtwinters\\model.py:83: RuntimeWarning: overflow encountered in matmul\n",
      "  return err.T @ err\n"
     ]
    },
    {
     "name": "stdout",
     "output_type": "stream",
     "text": [
      "MAE = 0.2626801046975174 for alpha 0.11, beta 0.44, gamma 0.55\n",
      "MAE = 0.28272344594513993 for alpha 0.11, beta 0.44, gamma 0.66\n",
      "MAE = 0.3100216365695391 for alpha 0.11, beta 0.44, gamma 0.77\n",
      "MAE = 0.2678293313849239 for alpha 0.11, beta 0.44, gamma 0.88\n",
      "MAE = 0.3664366336075601 for alpha 0.11, beta 0.44, gamma 0.99\n",
      "MAE = 0.1737524300735724 for alpha 0.11, beta 0.55, gamma 0.0\n",
      "MAE = 0.18814427267406966 for alpha 0.11, beta 0.55, gamma 0.11\n",
      "MAE = 0.24175618633775153 for alpha 0.11, beta 0.55, gamma 0.22\n"
     ]
    },
    {
     "name": "stderr",
     "output_type": "stream",
     "text": [
      "C:\\Users\\User\\AppData\\Local\\Temp\\ipykernel_1544\\2318987598.py:16: FutureWarning: the 'smoothing_slope'' keyword is deprecated, use 'smoothing_trend' instead.\n",
      "  ets_fit = ets_model.fit(smoothing_level=a, smoothing_slope=b, smoothing_seasonal=g)\n",
      "C:\\Users\\User\\anaconda3\\lib\\site-packages\\statsmodels\\tsa\\holtwinters\\model.py:83: RuntimeWarning: overflow encountered in matmul\n",
      "  return err.T @ err\n",
      "C:\\Users\\User\\AppData\\Local\\Temp\\ipykernel_1544\\2318987598.py:16: FutureWarning: the 'smoothing_slope'' keyword is deprecated, use 'smoothing_trend' instead.\n",
      "  ets_fit = ets_model.fit(smoothing_level=a, smoothing_slope=b, smoothing_seasonal=g)\n",
      "C:\\Users\\User\\anaconda3\\lib\\site-packages\\statsmodels\\tsa\\holtwinters\\model.py:83: RuntimeWarning: overflow encountered in matmul\n",
      "  return err.T @ err\n",
      "C:\\Users\\User\\AppData\\Local\\Temp\\ipykernel_1544\\2318987598.py:16: FutureWarning: the 'smoothing_slope'' keyword is deprecated, use 'smoothing_trend' instead.\n",
      "  ets_fit = ets_model.fit(smoothing_level=a, smoothing_slope=b, smoothing_seasonal=g)\n",
      "C:\\Users\\User\\anaconda3\\lib\\site-packages\\statsmodels\\tsa\\holtwinters\\model.py:83: RuntimeWarning: overflow encountered in matmul\n",
      "  return err.T @ err\n",
      "C:\\Users\\User\\AppData\\Local\\Temp\\ipykernel_1544\\2318987598.py:16: FutureWarning: the 'smoothing_slope'' keyword is deprecated, use 'smoothing_trend' instead.\n",
      "  ets_fit = ets_model.fit(smoothing_level=a, smoothing_slope=b, smoothing_seasonal=g)\n",
      "C:\\Users\\User\\anaconda3\\lib\\site-packages\\statsmodels\\tsa\\holtwinters\\model.py:83: RuntimeWarning: overflow encountered in matmul\n",
      "  return err.T @ err\n",
      "C:\\Users\\User\\AppData\\Local\\Temp\\ipykernel_1544\\2318987598.py:16: FutureWarning: the 'smoothing_slope'' keyword is deprecated, use 'smoothing_trend' instead.\n",
      "  ets_fit = ets_model.fit(smoothing_level=a, smoothing_slope=b, smoothing_seasonal=g)\n",
      "C:\\Users\\User\\anaconda3\\lib\\site-packages\\statsmodels\\tsa\\holtwinters\\model.py:83: RuntimeWarning: overflow encountered in matmul\n",
      "  return err.T @ err\n",
      "C:\\Users\\User\\AppData\\Local\\Temp\\ipykernel_1544\\2318987598.py:16: FutureWarning: the 'smoothing_slope'' keyword is deprecated, use 'smoothing_trend' instead.\n",
      "  ets_fit = ets_model.fit(smoothing_level=a, smoothing_slope=b, smoothing_seasonal=g)\n",
      "C:\\Users\\User\\anaconda3\\lib\\site-packages\\statsmodels\\tsa\\holtwinters\\model.py:83: RuntimeWarning: overflow encountered in matmul\n",
      "  return err.T @ err\n",
      "C:\\Users\\User\\AppData\\Local\\Temp\\ipykernel_1544\\2318987598.py:16: FutureWarning: the 'smoothing_slope'' keyword is deprecated, use 'smoothing_trend' instead.\n",
      "  ets_fit = ets_model.fit(smoothing_level=a, smoothing_slope=b, smoothing_seasonal=g)\n",
      "C:\\Users\\User\\anaconda3\\lib\\site-packages\\statsmodels\\tsa\\holtwinters\\model.py:83: RuntimeWarning: overflow encountered in matmul\n",
      "  return err.T @ err\n",
      "C:\\Users\\User\\AppData\\Local\\Temp\\ipykernel_1544\\2318987598.py:16: FutureWarning: the 'smoothing_slope'' keyword is deprecated, use 'smoothing_trend' instead.\n",
      "  ets_fit = ets_model.fit(smoothing_level=a, smoothing_slope=b, smoothing_seasonal=g)\n",
      "C:\\Users\\User\\anaconda3\\lib\\site-packages\\statsmodels\\tsa\\holtwinters\\model.py:83: RuntimeWarning: overflow encountered in matmul\n",
      "  return err.T @ err\n",
      "C:\\Users\\User\\AppData\\Local\\Temp\\ipykernel_1544\\2318987598.py:16: FutureWarning: the 'smoothing_slope'' keyword is deprecated, use 'smoothing_trend' instead.\n",
      "  ets_fit = ets_model.fit(smoothing_level=a, smoothing_slope=b, smoothing_seasonal=g)\n"
     ]
    },
    {
     "name": "stdout",
     "output_type": "stream",
     "text": [
      "MAE = 0.27625520690592026 for alpha 0.11, beta 0.55, gamma 0.33\n",
      "MAE = 0.30381927560458527 for alpha 0.11, beta 0.55, gamma 0.44\n",
      "MAE = 0.3389566486062731 for alpha 0.11, beta 0.55, gamma 0.55\n",
      "MAE = 0.3616000315575376 for alpha 0.11, beta 0.55, gamma 0.66\n",
      "MAE = 0.4141171878396038 for alpha 0.11, beta 0.55, gamma 0.77\n",
      "MAE = 0.4570662313886294 for alpha 0.11, beta 0.55, gamma 0.88\n",
      "MAE = 0.49567754338365716 for alpha 0.11, beta 0.55, gamma 0.99\n",
      "MAE = 0.20652385323425268 for alpha 0.11, beta 0.66, gamma 0.0\n",
      "MAE = 0.25951928443087535 for alpha 0.11, beta 0.66, gamma 0.11\n",
      "MAE = 0.29559215448922477 for alpha 0.11, beta 0.66, gamma 0.22\n",
      "MAE = 0.35078452412958677 for alpha 0.11, beta 0.66, gamma 0.33\n"
     ]
    },
    {
     "name": "stderr",
     "output_type": "stream",
     "text": [
      "C:\\Users\\User\\anaconda3\\lib\\site-packages\\statsmodels\\tsa\\holtwinters\\model.py:83: RuntimeWarning: overflow encountered in matmul\n",
      "  return err.T @ err\n",
      "C:\\Users\\User\\AppData\\Local\\Temp\\ipykernel_1544\\2318987598.py:16: FutureWarning: the 'smoothing_slope'' keyword is deprecated, use 'smoothing_trend' instead.\n",
      "  ets_fit = ets_model.fit(smoothing_level=a, smoothing_slope=b, smoothing_seasonal=g)\n",
      "C:\\Users\\User\\anaconda3\\lib\\site-packages\\statsmodels\\tsa\\holtwinters\\model.py:83: RuntimeWarning: overflow encountered in matmul\n",
      "  return err.T @ err\n",
      "C:\\Users\\User\\AppData\\Local\\Temp\\ipykernel_1544\\2318987598.py:16: FutureWarning: the 'smoothing_slope'' keyword is deprecated, use 'smoothing_trend' instead.\n",
      "  ets_fit = ets_model.fit(smoothing_level=a, smoothing_slope=b, smoothing_seasonal=g)\n",
      "C:\\Users\\User\\AppData\\Local\\Temp\\ipykernel_1544\\2318987598.py:16: FutureWarning: the 'smoothing_slope'' keyword is deprecated, use 'smoothing_trend' instead.\n",
      "  ets_fit = ets_model.fit(smoothing_level=a, smoothing_slope=b, smoothing_seasonal=g)\n",
      "C:\\Users\\User\\AppData\\Local\\Temp\\ipykernel_1544\\2318987598.py:16: FutureWarning: the 'smoothing_slope'' keyword is deprecated, use 'smoothing_trend' instead.\n",
      "  ets_fit = ets_model.fit(smoothing_level=a, smoothing_slope=b, smoothing_seasonal=g)\n",
      "C:\\Users\\User\\AppData\\Local\\Temp\\ipykernel_1544\\2318987598.py:16: FutureWarning: the 'smoothing_slope'' keyword is deprecated, use 'smoothing_trend' instead.\n",
      "  ets_fit = ets_model.fit(smoothing_level=a, smoothing_slope=b, smoothing_seasonal=g)\n",
      "C:\\Users\\User\\AppData\\Local\\Temp\\ipykernel_1544\\2318987598.py:16: FutureWarning: the 'smoothing_slope'' keyword is deprecated, use 'smoothing_trend' instead.\n",
      "  ets_fit = ets_model.fit(smoothing_level=a, smoothing_slope=b, smoothing_seasonal=g)\n",
      "C:\\Users\\User\\AppData\\Local\\Temp\\ipykernel_1544\\2318987598.py:16: FutureWarning: the 'smoothing_slope'' keyword is deprecated, use 'smoothing_trend' instead.\n",
      "  ets_fit = ets_model.fit(smoothing_level=a, smoothing_slope=b, smoothing_seasonal=g)\n",
      "C:\\Users\\User\\anaconda3\\lib\\site-packages\\statsmodels\\tsa\\holtwinters\\model.py:915: ConvergenceWarning: Optimization failed to converge. Check mle_retvals.\n",
      "  warnings.warn(\n",
      "C:\\Users\\User\\AppData\\Local\\Temp\\ipykernel_1544\\2318987598.py:16: FutureWarning: the 'smoothing_slope'' keyword is deprecated, use 'smoothing_trend' instead.\n",
      "  ets_fit = ets_model.fit(smoothing_level=a, smoothing_slope=b, smoothing_seasonal=g)\n",
      "C:\\Users\\User\\anaconda3\\lib\\site-packages\\statsmodels\\tsa\\holtwinters\\model.py:83: RuntimeWarning: overflow encountered in matmul\n",
      "  return err.T @ err\n",
      "C:\\Users\\User\\AppData\\Local\\Temp\\ipykernel_1544\\2318987598.py:16: FutureWarning: the 'smoothing_slope'' keyword is deprecated, use 'smoothing_trend' instead.\n",
      "  ets_fit = ets_model.fit(smoothing_level=a, smoothing_slope=b, smoothing_seasonal=g)\n",
      "C:\\Users\\User\\anaconda3\\lib\\site-packages\\statsmodels\\tsa\\holtwinters\\model.py:83: RuntimeWarning: overflow encountered in matmul\n",
      "  return err.T @ err\n",
      "C:\\Users\\User\\AppData\\Local\\Temp\\ipykernel_1544\\2318987598.py:16: FutureWarning: the 'smoothing_slope'' keyword is deprecated, use 'smoothing_trend' instead.\n",
      "  ets_fit = ets_model.fit(smoothing_level=a, smoothing_slope=b, smoothing_seasonal=g)\n",
      "C:\\Users\\User\\AppData\\Local\\Temp\\ipykernel_1544\\2318987598.py:16: FutureWarning: the 'smoothing_slope'' keyword is deprecated, use 'smoothing_trend' instead.\n",
      "  ets_fit = ets_model.fit(smoothing_level=a, smoothing_slope=b, smoothing_seasonal=g)\n",
      "C:\\Users\\User\\AppData\\Local\\Temp\\ipykernel_1544\\2318987598.py:16: FutureWarning: the 'smoothing_slope'' keyword is deprecated, use 'smoothing_trend' instead.\n",
      "  ets_fit = ets_model.fit(smoothing_level=a, smoothing_slope=b, smoothing_seasonal=g)\n"
     ]
    },
    {
     "name": "stdout",
     "output_type": "stream",
     "text": [
      "MAE = 0.3901212248333827 for alpha 0.11, beta 0.66, gamma 0.44\n",
      "MAE = 0.41779957403396645 for alpha 0.11, beta 0.66, gamma 0.55\n",
      "MAE = 0.44964894366812463 for alpha 0.11, beta 0.66, gamma 0.66\n",
      "MAE = 0.49488954320618156 for alpha 0.11, beta 0.66, gamma 0.77\n",
      "MAE = 0.594659349127007 for alpha 0.11, beta 0.66, gamma 0.88\n",
      "MAE = 0.6393867248181843 for alpha 0.11, beta 0.66, gamma 0.99\n",
      "MAE = 0.24503437451307228 for alpha 0.11, beta 0.77, gamma 0.0\n",
      "MAE = 0.3001396019586741 for alpha 0.11, beta 0.77, gamma 0.11\n",
      "MAE = 0.36989669561792776 for alpha 0.11, beta 0.77, gamma 0.22\n",
      "MAE = 0.4191651419749666 for alpha 0.11, beta 0.77, gamma 0.33\n",
      "MAE = 0.4344631853754273 for alpha 0.11, beta 0.77, gamma 0.44\n",
      "MAE = 0.48786035645208 for alpha 0.11, beta 0.77, gamma 0.55\n",
      "MAE = 0.5972217026626526 for alpha 0.11, beta 0.77, gamma 0.66\n",
      "MAE = 0.6507905908362708 for alpha 0.11, beta 0.77, gamma 0.77\n"
     ]
    },
    {
     "name": "stderr",
     "output_type": "stream",
     "text": [
      "C:\\Users\\User\\AppData\\Local\\Temp\\ipykernel_1544\\2318987598.py:16: FutureWarning: the 'smoothing_slope'' keyword is deprecated, use 'smoothing_trend' instead.\n",
      "  ets_fit = ets_model.fit(smoothing_level=a, smoothing_slope=b, smoothing_seasonal=g)\n",
      "C:\\Users\\User\\anaconda3\\lib\\site-packages\\statsmodels\\tsa\\holtwinters\\model.py:83: RuntimeWarning: overflow encountered in matmul\n",
      "  return err.T @ err\n",
      "C:\\Users\\User\\AppData\\Local\\Temp\\ipykernel_1544\\2318987598.py:16: FutureWarning: the 'smoothing_slope'' keyword is deprecated, use 'smoothing_trend' instead.\n",
      "  ets_fit = ets_model.fit(smoothing_level=a, smoothing_slope=b, smoothing_seasonal=g)\n",
      "C:\\Users\\User\\AppData\\Local\\Temp\\ipykernel_1544\\2318987598.py:16: FutureWarning: the 'smoothing_slope'' keyword is deprecated, use 'smoothing_trend' instead.\n",
      "  ets_fit = ets_model.fit(smoothing_level=a, smoothing_slope=b, smoothing_seasonal=g)\n",
      "C:\\Users\\User\\anaconda3\\lib\\site-packages\\statsmodels\\tsa\\holtwinters\\model.py:915: ConvergenceWarning: Optimization failed to converge. Check mle_retvals.\n",
      "  warnings.warn(\n",
      "C:\\Users\\User\\AppData\\Local\\Temp\\ipykernel_1544\\2318987598.py:16: FutureWarning: the 'smoothing_slope'' keyword is deprecated, use 'smoothing_trend' instead.\n",
      "  ets_fit = ets_model.fit(smoothing_level=a, smoothing_slope=b, smoothing_seasonal=g)\n",
      "C:\\Users\\User\\anaconda3\\lib\\site-packages\\statsmodels\\tsa\\holtwinters\\model.py:915: ConvergenceWarning: Optimization failed to converge. Check mle_retvals.\n",
      "  warnings.warn(\n",
      "C:\\Users\\User\\AppData\\Local\\Temp\\ipykernel_1544\\2318987598.py:16: FutureWarning: the 'smoothing_slope'' keyword is deprecated, use 'smoothing_trend' instead.\n",
      "  ets_fit = ets_model.fit(smoothing_level=a, smoothing_slope=b, smoothing_seasonal=g)\n",
      "C:\\Users\\User\\anaconda3\\lib\\site-packages\\statsmodels\\tsa\\holtwinters\\model.py:915: ConvergenceWarning: Optimization failed to converge. Check mle_retvals.\n",
      "  warnings.warn(\n",
      "C:\\Users\\User\\AppData\\Local\\Temp\\ipykernel_1544\\2318987598.py:16: FutureWarning: the 'smoothing_slope'' keyword is deprecated, use 'smoothing_trend' instead.\n",
      "  ets_fit = ets_model.fit(smoothing_level=a, smoothing_slope=b, smoothing_seasonal=g)\n",
      "C:\\Users\\User\\anaconda3\\lib\\site-packages\\statsmodels\\tsa\\holtwinters\\model.py:83: RuntimeWarning: overflow encountered in matmul\n",
      "  return err.T @ err\n",
      "C:\\Users\\User\\AppData\\Local\\Temp\\ipykernel_1544\\2318987598.py:16: FutureWarning: the 'smoothing_slope'' keyword is deprecated, use 'smoothing_trend' instead.\n",
      "  ets_fit = ets_model.fit(smoothing_level=a, smoothing_slope=b, smoothing_seasonal=g)\n",
      "C:\\Users\\User\\AppData\\Local\\Temp\\ipykernel_1544\\2318987598.py:16: FutureWarning: the 'smoothing_slope'' keyword is deprecated, use 'smoothing_trend' instead.\n",
      "  ets_fit = ets_model.fit(smoothing_level=a, smoothing_slope=b, smoothing_seasonal=g)\n",
      "C:\\Users\\User\\anaconda3\\lib\\site-packages\\statsmodels\\tsa\\holtwinters\\model.py:83: RuntimeWarning: overflow encountered in matmul\n",
      "  return err.T @ err\n",
      "C:\\Users\\User\\AppData\\Local\\Temp\\ipykernel_1544\\2318987598.py:16: FutureWarning: the 'smoothing_slope'' keyword is deprecated, use 'smoothing_trend' instead.\n",
      "  ets_fit = ets_model.fit(smoothing_level=a, smoothing_slope=b, smoothing_seasonal=g)\n",
      "C:\\Users\\User\\anaconda3\\lib\\site-packages\\statsmodels\\tsa\\holtwinters\\model.py:83: RuntimeWarning: overflow encountered in matmul\n",
      "  return err.T @ err\n",
      "C:\\Users\\User\\AppData\\Local\\Temp\\ipykernel_1544\\2318987598.py:16: FutureWarning: the 'smoothing_slope'' keyword is deprecated, use 'smoothing_trend' instead.\n",
      "  ets_fit = ets_model.fit(smoothing_level=a, smoothing_slope=b, smoothing_seasonal=g)\n"
     ]
    },
    {
     "name": "stdout",
     "output_type": "stream",
     "text": [
      "MAE = 0.6972207500567466 for alpha 0.11, beta 0.77, gamma 0.88\n",
      "MAE = 0.7340086635624502 for alpha 0.11, beta 0.77, gamma 0.99\n",
      "MAE = 0.32427722654160557 for alpha 0.11, beta 0.88, gamma 0.0\n",
      "MAE = 0.3722447046436466 for alpha 0.11, beta 0.88, gamma 0.11\n",
      "MAE = 0.4530334025584504 for alpha 0.11, beta 0.88, gamma 0.22\n",
      "MAE = 0.4699921439056218 for alpha 0.11, beta 0.88, gamma 0.33\n",
      "MAE = 0.5747710665532261 for alpha 0.11, beta 0.88, gamma 0.44\n",
      "MAE = 0.6405169281872664 for alpha 0.11, beta 0.88, gamma 0.55\n",
      "MAE = 0.7000888846576689 for alpha 0.11, beta 0.88, gamma 0.66\n",
      "MAE = 0.7523295786957278 for alpha 0.11, beta 0.88, gamma 0.77\n",
      "MAE = 0.7961460460116433 for alpha 0.11, beta 0.88, gamma 0.88\n",
      "MAE = 0.8294535147120644 for alpha 0.11, beta 0.88, gamma 0.99\n"
     ]
    },
    {
     "name": "stderr",
     "output_type": "stream",
     "text": [
      "C:\\Users\\User\\AppData\\Local\\Temp\\ipykernel_1544\\2318987598.py:16: FutureWarning: the 'smoothing_slope'' keyword is deprecated, use 'smoothing_trend' instead.\n",
      "  ets_fit = ets_model.fit(smoothing_level=a, smoothing_slope=b, smoothing_seasonal=g)\n",
      "C:\\Users\\User\\AppData\\Local\\Temp\\ipykernel_1544\\2318987598.py:16: FutureWarning: the 'smoothing_slope'' keyword is deprecated, use 'smoothing_trend' instead.\n",
      "  ets_fit = ets_model.fit(smoothing_level=a, smoothing_slope=b, smoothing_seasonal=g)\n",
      "C:\\Users\\User\\anaconda3\\lib\\site-packages\\statsmodels\\tsa\\holtwinters\\model.py:915: ConvergenceWarning: Optimization failed to converge. Check mle_retvals.\n",
      "  warnings.warn(\n",
      "C:\\Users\\User\\AppData\\Local\\Temp\\ipykernel_1544\\2318987598.py:16: FutureWarning: the 'smoothing_slope'' keyword is deprecated, use 'smoothing_trend' instead.\n",
      "  ets_fit = ets_model.fit(smoothing_level=a, smoothing_slope=b, smoothing_seasonal=g)\n",
      "C:\\Users\\User\\anaconda3\\lib\\site-packages\\statsmodels\\tsa\\holtwinters\\model.py:915: ConvergenceWarning: Optimization failed to converge. Check mle_retvals.\n",
      "  warnings.warn(\n",
      "C:\\Users\\User\\AppData\\Local\\Temp\\ipykernel_1544\\2318987598.py:16: FutureWarning: the 'smoothing_slope'' keyword is deprecated, use 'smoothing_trend' instead.\n",
      "  ets_fit = ets_model.fit(smoothing_level=a, smoothing_slope=b, smoothing_seasonal=g)\n",
      "C:\\Users\\User\\anaconda3\\lib\\site-packages\\statsmodels\\tsa\\holtwinters\\model.py:915: ConvergenceWarning: Optimization failed to converge. Check mle_retvals.\n",
      "  warnings.warn(\n",
      "C:\\Users\\User\\AppData\\Local\\Temp\\ipykernel_1544\\2318987598.py:16: FutureWarning: the 'smoothing_slope'' keyword is deprecated, use 'smoothing_trend' instead.\n",
      "  ets_fit = ets_model.fit(smoothing_level=a, smoothing_slope=b, smoothing_seasonal=g)\n",
      "C:\\Users\\User\\anaconda3\\lib\\site-packages\\statsmodels\\tsa\\holtwinters\\model.py:915: ConvergenceWarning: Optimization failed to converge. Check mle_retvals.\n",
      "  warnings.warn(\n",
      "C:\\Users\\User\\AppData\\Local\\Temp\\ipykernel_1544\\2318987598.py:16: FutureWarning: the 'smoothing_slope'' keyword is deprecated, use 'smoothing_trend' instead.\n",
      "  ets_fit = ets_model.fit(smoothing_level=a, smoothing_slope=b, smoothing_seasonal=g)\n",
      "C:\\Users\\User\\AppData\\Local\\Temp\\ipykernel_1544\\2318987598.py:16: FutureWarning: the 'smoothing_slope'' keyword is deprecated, use 'smoothing_trend' instead.\n",
      "  ets_fit = ets_model.fit(smoothing_level=a, smoothing_slope=b, smoothing_seasonal=g)\n",
      "C:\\Users\\User\\AppData\\Local\\Temp\\ipykernel_1544\\2318987598.py:16: FutureWarning: the 'smoothing_slope'' keyword is deprecated, use 'smoothing_trend' instead.\n",
      "  ets_fit = ets_model.fit(smoothing_level=a, smoothing_slope=b, smoothing_seasonal=g)\n",
      "C:\\Users\\User\\anaconda3\\lib\\site-packages\\statsmodels\\tsa\\holtwinters\\model.py:83: RuntimeWarning: overflow encountered in matmul\n",
      "  return err.T @ err\n",
      "C:\\Users\\User\\AppData\\Local\\Temp\\ipykernel_1544\\2318987598.py:16: FutureWarning: the 'smoothing_slope'' keyword is deprecated, use 'smoothing_trend' instead.\n",
      "  ets_fit = ets_model.fit(smoothing_level=a, smoothing_slope=b, smoothing_seasonal=g)\n",
      "C:\\Users\\User\\anaconda3\\lib\\site-packages\\statsmodels\\tsa\\holtwinters\\model.py:83: RuntimeWarning: overflow encountered in matmul\n",
      "  return err.T @ err\n",
      "C:\\Users\\User\\AppData\\Local\\Temp\\ipykernel_1544\\2318987598.py:16: FutureWarning: the 'smoothing_slope'' keyword is deprecated, use 'smoothing_trend' instead.\n",
      "  ets_fit = ets_model.fit(smoothing_level=a, smoothing_slope=b, smoothing_seasonal=g)\n",
      "C:\\Users\\User\\AppData\\Local\\Temp\\ipykernel_1544\\2318987598.py:16: FutureWarning: the 'smoothing_slope'' keyword is deprecated, use 'smoothing_trend' instead.\n",
      "  ets_fit = ets_model.fit(smoothing_level=a, smoothing_slope=b, smoothing_seasonal=g)\n",
      "C:\\Users\\User\\anaconda3\\lib\\site-packages\\statsmodels\\tsa\\holtwinters\\model.py:915: ConvergenceWarning: Optimization failed to converge. Check mle_retvals.\n",
      "  warnings.warn(\n",
      "C:\\Users\\User\\AppData\\Local\\Temp\\ipykernel_1544\\2318987598.py:16: FutureWarning: the 'smoothing_slope'' keyword is deprecated, use 'smoothing_trend' instead.\n",
      "  ets_fit = ets_model.fit(smoothing_level=a, smoothing_slope=b, smoothing_seasonal=g)\n",
      "C:\\Users\\User\\anaconda3\\lib\\site-packages\\statsmodels\\tsa\\holtwinters\\model.py:915: ConvergenceWarning: Optimization failed to converge. Check mle_retvals.\n",
      "  warnings.warn(\n",
      "C:\\Users\\User\\AppData\\Local\\Temp\\ipykernel_1544\\2318987598.py:16: FutureWarning: the 'smoothing_slope'' keyword is deprecated, use 'smoothing_trend' instead.\n",
      "  ets_fit = ets_model.fit(smoothing_level=a, smoothing_slope=b, smoothing_seasonal=g)\n",
      "C:\\Users\\User\\anaconda3\\lib\\site-packages\\statsmodels\\tsa\\holtwinters\\model.py:915: ConvergenceWarning: Optimization failed to converge. Check mle_retvals.\n",
      "  warnings.warn(\n"
     ]
    },
    {
     "name": "stdout",
     "output_type": "stream",
     "text": [
      "MAE = 0.34774071518368704 for alpha 0.11, beta 0.99, gamma 0.0\n",
      "MAE = 0.44627722297858413 for alpha 0.11, beta 0.99, gamma 0.11\n",
      "MAE = 0.39338464821495606 for alpha 0.11, beta 0.99, gamma 0.22\n",
      "MAE = 0.4453368894404373 for alpha 0.11, beta 0.99, gamma 0.33\n",
      "MAE = 0.6359600328797131 for alpha 0.11, beta 0.99, gamma 0.44\n",
      "MAE = 0.7018387072866156 for alpha 0.11, beta 0.99, gamma 0.55\n",
      "MAE = 0.7612110020025457 for alpha 0.11, beta 0.99, gamma 0.66\n",
      "MAE = 0.8129109264177236 for alpha 0.11, beta 0.99, gamma 0.77\n",
      "MAE = 0.856001145230498 for alpha 0.11, beta 0.99, gamma 0.88\n",
      "MAE = 0.8891096956186919 for alpha 0.11, beta 0.99, gamma 0.99\n",
      "MAE = 0.16010251165962947 for alpha 0.22, beta 0.0, gamma 0.0\n",
      "MAE = 0.14344171128052133 for alpha 0.22, beta 0.0, gamma 0.11\n",
      "MAE = 0.1522556060114586 for alpha 0.22, beta 0.0, gamma 0.22\n",
      "MAE = 0.14314879783380732 for alpha 0.22, beta 0.0, gamma 0.33\n"
     ]
    },
    {
     "name": "stderr",
     "output_type": "stream",
     "text": [
      "C:\\Users\\User\\AppData\\Local\\Temp\\ipykernel_1544\\2318987598.py:16: FutureWarning: the 'smoothing_slope'' keyword is deprecated, use 'smoothing_trend' instead.\n",
      "  ets_fit = ets_model.fit(smoothing_level=a, smoothing_slope=b, smoothing_seasonal=g)\n",
      "C:\\Users\\User\\anaconda3\\lib\\site-packages\\statsmodels\\tsa\\holtwinters\\model.py:915: ConvergenceWarning: Optimization failed to converge. Check mle_retvals.\n",
      "  warnings.warn(\n",
      "C:\\Users\\User\\AppData\\Local\\Temp\\ipykernel_1544\\2318987598.py:16: FutureWarning: the 'smoothing_slope'' keyword is deprecated, use 'smoothing_trend' instead.\n",
      "  ets_fit = ets_model.fit(smoothing_level=a, smoothing_slope=b, smoothing_seasonal=g)\n",
      "C:\\Users\\User\\anaconda3\\lib\\site-packages\\statsmodels\\tsa\\holtwinters\\model.py:915: ConvergenceWarning: Optimization failed to converge. Check mle_retvals.\n",
      "  warnings.warn(\n",
      "C:\\Users\\User\\AppData\\Local\\Temp\\ipykernel_1544\\2318987598.py:16: FutureWarning: the 'smoothing_slope'' keyword is deprecated, use 'smoothing_trend' instead.\n",
      "  ets_fit = ets_model.fit(smoothing_level=a, smoothing_slope=b, smoothing_seasonal=g)\n",
      "C:\\Users\\User\\AppData\\Local\\Temp\\ipykernel_1544\\2318987598.py:16: FutureWarning: the 'smoothing_slope'' keyword is deprecated, use 'smoothing_trend' instead.\n",
      "  ets_fit = ets_model.fit(smoothing_level=a, smoothing_slope=b, smoothing_seasonal=g)\n",
      "C:\\Users\\User\\AppData\\Local\\Temp\\ipykernel_1544\\2318987598.py:16: FutureWarning: the 'smoothing_slope'' keyword is deprecated, use 'smoothing_trend' instead.\n",
      "  ets_fit = ets_model.fit(smoothing_level=a, smoothing_slope=b, smoothing_seasonal=g)\n",
      "C:\\Users\\User\\AppData\\Local\\Temp\\ipykernel_1544\\2318987598.py:16: FutureWarning: the 'smoothing_slope'' keyword is deprecated, use 'smoothing_trend' instead.\n",
      "  ets_fit = ets_model.fit(smoothing_level=a, smoothing_slope=b, smoothing_seasonal=g)\n",
      "C:\\Users\\User\\AppData\\Local\\Temp\\ipykernel_1544\\2318987598.py:16: FutureWarning: the 'smoothing_slope'' keyword is deprecated, use 'smoothing_trend' instead.\n",
      "  ets_fit = ets_model.fit(smoothing_level=a, smoothing_slope=b, smoothing_seasonal=g)\n",
      "C:\\Users\\User\\AppData\\Local\\Temp\\ipykernel_1544\\2318987598.py:16: FutureWarning: the 'smoothing_slope'' keyword is deprecated, use 'smoothing_trend' instead.\n",
      "  ets_fit = ets_model.fit(smoothing_level=a, smoothing_slope=b, smoothing_seasonal=g)\n",
      "C:\\Users\\User\\AppData\\Local\\Temp\\ipykernel_1544\\2318987598.py:16: FutureWarning: the 'smoothing_slope'' keyword is deprecated, use 'smoothing_trend' instead.\n",
      "  ets_fit = ets_model.fit(smoothing_level=a, smoothing_slope=b, smoothing_seasonal=g)\n",
      "C:\\Users\\User\\AppData\\Local\\Temp\\ipykernel_1544\\2318987598.py:16: FutureWarning: the 'smoothing_slope'' keyword is deprecated, use 'smoothing_trend' instead.\n",
      "  ets_fit = ets_model.fit(smoothing_level=a, smoothing_slope=b, smoothing_seasonal=g)\n",
      "C:\\Users\\User\\AppData\\Local\\Temp\\ipykernel_1544\\2318987598.py:16: FutureWarning: the 'smoothing_slope'' keyword is deprecated, use 'smoothing_trend' instead.\n",
      "  ets_fit = ets_model.fit(smoothing_level=a, smoothing_slope=b, smoothing_seasonal=g)\n",
      "C:\\Users\\User\\AppData\\Local\\Temp\\ipykernel_1544\\2318987598.py:16: FutureWarning: the 'smoothing_slope'' keyword is deprecated, use 'smoothing_trend' instead.\n",
      "  ets_fit = ets_model.fit(smoothing_level=a, smoothing_slope=b, smoothing_seasonal=g)\n",
      "C:\\Users\\User\\AppData\\Local\\Temp\\ipykernel_1544\\2318987598.py:16: FutureWarning: the 'smoothing_slope'' keyword is deprecated, use 'smoothing_trend' instead.\n",
      "  ets_fit = ets_model.fit(smoothing_level=a, smoothing_slope=b, smoothing_seasonal=g)\n",
      "C:\\Users\\User\\anaconda3\\lib\\site-packages\\statsmodels\\tsa\\holtwinters\\model.py:83: RuntimeWarning: overflow encountered in matmul\n",
      "  return err.T @ err\n",
      "C:\\Users\\User\\AppData\\Local\\Temp\\ipykernel_1544\\2318987598.py:16: FutureWarning: the 'smoothing_slope'' keyword is deprecated, use 'smoothing_trend' instead.\n",
      "  ets_fit = ets_model.fit(smoothing_level=a, smoothing_slope=b, smoothing_seasonal=g)\n",
      "C:\\Users\\User\\anaconda3\\lib\\site-packages\\statsmodels\\tsa\\holtwinters\\model.py:83: RuntimeWarning: overflow encountered in matmul\n",
      "  return err.T @ err\n",
      "C:\\Users\\User\\AppData\\Local\\Temp\\ipykernel_1544\\2318987598.py:16: FutureWarning: the 'smoothing_slope'' keyword is deprecated, use 'smoothing_trend' instead.\n",
      "  ets_fit = ets_model.fit(smoothing_level=a, smoothing_slope=b, smoothing_seasonal=g)\n"
     ]
    },
    {
     "name": "stdout",
     "output_type": "stream",
     "text": [
      "MAE = 0.15112491205189318 for alpha 0.22, beta 0.0, gamma 0.44\n",
      "MAE = 0.1569576756715975 for alpha 0.22, beta 0.0, gamma 0.55\n",
      "MAE = 0.16329808221597797 for alpha 0.22, beta 0.0, gamma 0.66\n",
      "MAE = 0.17065342834724903 for alpha 0.22, beta 0.0, gamma 0.77\n",
      "MAE = 0.1795864797433601 for alpha 0.22, beta 0.0, gamma 0.88\n",
      "MAE = 0.18965615015997403 for alpha 0.22, beta 0.0, gamma 0.99\n",
      "MAE = 0.15206195776927064 for alpha 0.22, beta 0.11, gamma 0.0\n",
      "MAE = 0.15756645321925844 for alpha 0.22, beta 0.11, gamma 0.11\n",
      "MAE = 0.15763381825240855 for alpha 0.22, beta 0.11, gamma 0.22\n",
      "MAE = 0.17817378325211405 for alpha 0.22, beta 0.11, gamma 0.33\n",
      "MAE = 0.1922376684265434 for alpha 0.22, beta 0.11, gamma 0.44"
     ]
    },
    {
     "name": "stderr",
     "output_type": "stream",
     "text": [
      "C:\\Users\\User\\anaconda3\\lib\\site-packages\\statsmodels\\tsa\\holtwinters\\model.py:83: RuntimeWarning: overflow encountered in matmul\n",
      "  return err.T @ err\n",
      "C:\\Users\\User\\AppData\\Local\\Temp\\ipykernel_1544\\2318987598.py:16: FutureWarning: the 'smoothing_slope'' keyword is deprecated, use 'smoothing_trend' instead.\n",
      "  ets_fit = ets_model.fit(smoothing_level=a, smoothing_slope=b, smoothing_seasonal=g)\n",
      "C:\\Users\\User\\anaconda3\\lib\\site-packages\\statsmodels\\tsa\\holtwinters\\model.py:83: RuntimeWarning: overflow encountered in matmul\n",
      "  return err.T @ err\n",
      "C:\\Users\\User\\AppData\\Local\\Temp\\ipykernel_1544\\2318987598.py:16: FutureWarning: the 'smoothing_slope'' keyword is deprecated, use 'smoothing_trend' instead.\n",
      "  ets_fit = ets_model.fit(smoothing_level=a, smoothing_slope=b, smoothing_seasonal=g)\n",
      "C:\\Users\\User\\anaconda3\\lib\\site-packages\\statsmodels\\tsa\\holtwinters\\model.py:83: RuntimeWarning: overflow encountered in matmul\n",
      "  return err.T @ err\n",
      "C:\\Users\\User\\AppData\\Local\\Temp\\ipykernel_1544\\2318987598.py:16: FutureWarning: the 'smoothing_slope'' keyword is deprecated, use 'smoothing_trend' instead.\n",
      "  ets_fit = ets_model.fit(smoothing_level=a, smoothing_slope=b, smoothing_seasonal=g)\n",
      "C:\\Users\\User\\anaconda3\\lib\\site-packages\\statsmodels\\tsa\\holtwinters\\model.py:83: RuntimeWarning: overflow encountered in matmul\n",
      "  return err.T @ err\n",
      "C:\\Users\\User\\AppData\\Local\\Temp\\ipykernel_1544\\2318987598.py:16: FutureWarning: the 'smoothing_slope'' keyword is deprecated, use 'smoothing_trend' instead.\n",
      "  ets_fit = ets_model.fit(smoothing_level=a, smoothing_slope=b, smoothing_seasonal=g)\n",
      "C:\\Users\\User\\AppData\\Local\\Temp\\ipykernel_1544\\2318987598.py:16: FutureWarning: the 'smoothing_slope'' keyword is deprecated, use 'smoothing_trend' instead.\n",
      "  ets_fit = ets_model.fit(smoothing_level=a, smoothing_slope=b, smoothing_seasonal=g)\n",
      "C:\\Users\\User\\AppData\\Local\\Temp\\ipykernel_1544\\2318987598.py:16: FutureWarning: the 'smoothing_slope'' keyword is deprecated, use 'smoothing_trend' instead.\n",
      "  ets_fit = ets_model.fit(smoothing_level=a, smoothing_slope=b, smoothing_seasonal=g)\n",
      "C:\\Users\\User\\AppData\\Local\\Temp\\ipykernel_1544\\2318987598.py:16: FutureWarning: the 'smoothing_slope'' keyword is deprecated, use 'smoothing_trend' instead.\n",
      "  ets_fit = ets_model.fit(smoothing_level=a, smoothing_slope=b, smoothing_seasonal=g)\n",
      "C:\\Users\\User\\AppData\\Local\\Temp\\ipykernel_1544\\2318987598.py:16: FutureWarning: the 'smoothing_slope'' keyword is deprecated, use 'smoothing_trend' instead.\n",
      "  ets_fit = ets_model.fit(smoothing_level=a, smoothing_slope=b, smoothing_seasonal=g)\n",
      "C:\\Users\\User\\anaconda3\\lib\\site-packages\\statsmodels\\tsa\\holtwinters\\model.py:83: RuntimeWarning: overflow encountered in matmul\n",
      "  return err.T @ err\n",
      "C:\\Users\\User\\AppData\\Local\\Temp\\ipykernel_1544\\2318987598.py:16: FutureWarning: the 'smoothing_slope'' keyword is deprecated, use 'smoothing_trend' instead.\n",
      "  ets_fit = ets_model.fit(smoothing_level=a, smoothing_slope=b, smoothing_seasonal=g)\n"
     ]
    },
    {
     "name": "stdout",
     "output_type": "stream",
     "text": [
      "\n",
      "MAE = 0.20642526566087116 for alpha 0.22, beta 0.11, gamma 0.55\n",
      "MAE = 0.22247412367079744 for alpha 0.22, beta 0.11, gamma 0.66\n",
      "MAE = 0.23874565748906273 for alpha 0.22, beta 0.11, gamma 0.77\n",
      "MAE = 0.26047479263777634 for alpha 0.22, beta 0.11, gamma 0.88\n",
      "MAE = 0.29365987548675704 for alpha 0.22, beta 0.11, gamma 0.99\n",
      "MAE = 0.1539892992975512 for alpha 0.22, beta 0.22, gamma 0.0\n",
      "MAE = 0.15942808843385023 for alpha 0.22, beta 0.22, gamma 0.11\n",
      "MAE = 0.19004546173037173 for alpha 0.22, beta 0.22, gamma 0.22\n",
      "MAE = 0.20801523045064338 for alpha 0.22, beta 0.22, gamma 0.33\n",
      "MAE = 0.24667706889861532 for alpha 0.22, beta 0.22, gamma 0.44\n"
     ]
    },
    {
     "name": "stderr",
     "output_type": "stream",
     "text": [
      "C:\\Users\\User\\anaconda3\\lib\\site-packages\\statsmodels\\tsa\\holtwinters\\model.py:83: RuntimeWarning: overflow encountered in matmul\n",
      "  return err.T @ err\n",
      "C:\\Users\\User\\AppData\\Local\\Temp\\ipykernel_1544\\2318987598.py:16: FutureWarning: the 'smoothing_slope'' keyword is deprecated, use 'smoothing_trend' instead.\n",
      "  ets_fit = ets_model.fit(smoothing_level=a, smoothing_slope=b, smoothing_seasonal=g)\n",
      "C:\\Users\\User\\anaconda3\\lib\\site-packages\\statsmodels\\tsa\\holtwinters\\model.py:83: RuntimeWarning: overflow encountered in matmul\n",
      "  return err.T @ err\n",
      "C:\\Users\\User\\AppData\\Local\\Temp\\ipykernel_1544\\2318987598.py:16: FutureWarning: the 'smoothing_slope'' keyword is deprecated, use 'smoothing_trend' instead.\n",
      "  ets_fit = ets_model.fit(smoothing_level=a, smoothing_slope=b, smoothing_seasonal=g)\n",
      "C:\\Users\\User\\anaconda3\\lib\\site-packages\\statsmodels\\tsa\\holtwinters\\model.py:83: RuntimeWarning: overflow encountered in matmul\n",
      "  return err.T @ err\n",
      "C:\\Users\\User\\AppData\\Local\\Temp\\ipykernel_1544\\2318987598.py:16: FutureWarning: the 'smoothing_slope'' keyword is deprecated, use 'smoothing_trend' instead.\n",
      "  ets_fit = ets_model.fit(smoothing_level=a, smoothing_slope=b, smoothing_seasonal=g)\n",
      "C:\\Users\\User\\anaconda3\\lib\\site-packages\\statsmodels\\tsa\\holtwinters\\model.py:83: RuntimeWarning: overflow encountered in matmul\n",
      "  return err.T @ err\n",
      "C:\\Users\\User\\AppData\\Local\\Temp\\ipykernel_1544\\2318987598.py:16: FutureWarning: the 'smoothing_slope'' keyword is deprecated, use 'smoothing_trend' instead.\n",
      "  ets_fit = ets_model.fit(smoothing_level=a, smoothing_slope=b, smoothing_seasonal=g)\n",
      "C:\\Users\\User\\anaconda3\\lib\\site-packages\\statsmodels\\tsa\\holtwinters\\model.py:83: RuntimeWarning: overflow encountered in matmul\n",
      "  return err.T @ err\n",
      "C:\\Users\\User\\AppData\\Local\\Temp\\ipykernel_1544\\2318987598.py:16: FutureWarning: the 'smoothing_slope'' keyword is deprecated, use 'smoothing_trend' instead.\n",
      "  ets_fit = ets_model.fit(smoothing_level=a, smoothing_slope=b, smoothing_seasonal=g)\n",
      "C:\\Users\\User\\anaconda3\\lib\\site-packages\\statsmodels\\tsa\\holtwinters\\model.py:83: RuntimeWarning: overflow encountered in matmul\n",
      "  return err.T @ err\n",
      "C:\\Users\\User\\AppData\\Local\\Temp\\ipykernel_1544\\2318987598.py:16: FutureWarning: the 'smoothing_slope'' keyword is deprecated, use 'smoothing_trend' instead.\n",
      "  ets_fit = ets_model.fit(smoothing_level=a, smoothing_slope=b, smoothing_seasonal=g)\n",
      "C:\\Users\\User\\anaconda3\\lib\\site-packages\\statsmodels\\tsa\\holtwinters\\model.py:83: RuntimeWarning: overflow encountered in matmul\n",
      "  return err.T @ err\n",
      "C:\\Users\\User\\AppData\\Local\\Temp\\ipykernel_1544\\2318987598.py:16: FutureWarning: the 'smoothing_slope'' keyword is deprecated, use 'smoothing_trend' instead.\n",
      "  ets_fit = ets_model.fit(smoothing_level=a, smoothing_slope=b, smoothing_seasonal=g)\n"
     ]
    },
    {
     "name": "stdout",
     "output_type": "stream",
     "text": [
      "MAE = 0.26716799799096436 for alpha 0.22, beta 0.22, gamma 0.55\n",
      "MAE = 0.28836134538816355 for alpha 0.22, beta 0.22, gamma 0.66\n",
      "MAE = 0.3269714693154499 for alpha 0.22, beta 0.22, gamma 0.77\n",
      "MAE = 0.32988038373226247 for alpha 0.22, beta 0.22, gamma 0.88\n",
      "MAE = 0.46289875501043865 for alpha 0.22, beta 0.22, gamma 0.99\n",
      "MAE = 0.16117775822684066 for alpha 0.22, beta 0.33, gamma 0.0\n",
      "MAE = 0.1685017666136256 for alpha 0.22, beta 0.33, gamma 0.11\n",
      "MAE = 0.23331228647934474 for alpha 0.22, beta 0.33, gamma 0.22\n",
      "MAE = 0.27875088752531474 for alpha 0.22, beta 0.33, gamma 0.33\n"
     ]
    },
    {
     "name": "stderr",
     "output_type": "stream",
     "text": [
      "C:\\Users\\User\\anaconda3\\lib\\site-packages\\statsmodels\\tsa\\holtwinters\\model.py:83: RuntimeWarning: overflow encountered in matmul\n",
      "  return err.T @ err\n",
      "C:\\Users\\User\\AppData\\Local\\Temp\\ipykernel_1544\\2318987598.py:16: FutureWarning: the 'smoothing_slope'' keyword is deprecated, use 'smoothing_trend' instead.\n",
      "  ets_fit = ets_model.fit(smoothing_level=a, smoothing_slope=b, smoothing_seasonal=g)\n",
      "C:\\Users\\User\\AppData\\Local\\Temp\\ipykernel_1544\\2318987598.py:16: FutureWarning: the 'smoothing_slope'' keyword is deprecated, use 'smoothing_trend' instead.\n",
      "  ets_fit = ets_model.fit(smoothing_level=a, smoothing_slope=b, smoothing_seasonal=g)\n",
      "C:\\Users\\User\\anaconda3\\lib\\site-packages\\statsmodels\\tsa\\holtwinters\\model.py:83: RuntimeWarning: overflow encountered in matmul\n",
      "  return err.T @ err\n",
      "C:\\Users\\User\\AppData\\Local\\Temp\\ipykernel_1544\\2318987598.py:16: FutureWarning: the 'smoothing_slope'' keyword is deprecated, use 'smoothing_trend' instead.\n",
      "  ets_fit = ets_model.fit(smoothing_level=a, smoothing_slope=b, smoothing_seasonal=g)\n",
      "C:\\Users\\User\\anaconda3\\lib\\site-packages\\statsmodels\\tsa\\holtwinters\\model.py:83: RuntimeWarning: overflow encountered in matmul\n",
      "  return err.T @ err\n",
      "C:\\Users\\User\\AppData\\Local\\Temp\\ipykernel_1544\\2318987598.py:16: FutureWarning: the 'smoothing_slope'' keyword is deprecated, use 'smoothing_trend' instead.\n",
      "  ets_fit = ets_model.fit(smoothing_level=a, smoothing_slope=b, smoothing_seasonal=g)\n",
      "C:\\Users\\User\\anaconda3\\lib\\site-packages\\statsmodels\\tsa\\holtwinters\\model.py:83: RuntimeWarning: overflow encountered in matmul\n",
      "  return err.T @ err\n",
      "C:\\Users\\User\\AppData\\Local\\Temp\\ipykernel_1544\\2318987598.py:16: FutureWarning: the 'smoothing_slope'' keyword is deprecated, use 'smoothing_trend' instead.\n",
      "  ets_fit = ets_model.fit(smoothing_level=a, smoothing_slope=b, smoothing_seasonal=g)\n",
      "C:\\Users\\User\\AppData\\Local\\Temp\\ipykernel_1544\\2318987598.py:16: FutureWarning: the 'smoothing_slope'' keyword is deprecated, use 'smoothing_trend' instead.\n",
      "  ets_fit = ets_model.fit(smoothing_level=a, smoothing_slope=b, smoothing_seasonal=g)\n",
      "C:\\Users\\User\\anaconda3\\lib\\site-packages\\statsmodels\\tsa\\holtwinters\\model.py:83: RuntimeWarning: overflow encountered in matmul\n",
      "  return err.T @ err\n",
      "C:\\Users\\User\\AppData\\Local\\Temp\\ipykernel_1544\\2318987598.py:16: FutureWarning: the 'smoothing_slope'' keyword is deprecated, use 'smoothing_trend' instead.\n",
      "  ets_fit = ets_model.fit(smoothing_level=a, smoothing_slope=b, smoothing_seasonal=g)\n",
      "C:\\Users\\User\\anaconda3\\lib\\site-packages\\statsmodels\\tsa\\holtwinters\\model.py:83: RuntimeWarning: overflow encountered in matmul\n",
      "  return err.T @ err\n"
     ]
    },
    {
     "name": "stdout",
     "output_type": "stream",
     "text": [
      "MAE = 0.3092438342187236 for alpha 0.22, beta 0.33, gamma 0.44\n",
      "MAE = 0.32587795180687823 for alpha 0.22, beta 0.33, gamma 0.55\n",
      "MAE = 0.3468550591552653 for alpha 0.22, beta 0.33, gamma 0.66\n",
      "MAE = 0.4486989984462208 for alpha 0.22, beta 0.33, gamma 0.77\n",
      "MAE = 0.45439222717176025 for alpha 0.22, beta 0.33, gamma 0.88\n",
      "MAE = 0.6687431138936222 for alpha 0.22, beta 0.33, gamma 0.99\n",
      "MAE = 0.17232795021262806 for alpha 0.22, beta 0.44, gamma 0.0\n",
      "MAE = 0.2206689044128769 for alpha 0.22, beta 0.44, gamma 0.11\n",
      "MAE = 0.26606230915508033 for alpha 0.22, beta 0.44, gamma 0.22\n",
      "MAE = 0.3232612698792306 for alpha 0.22, beta 0.44, gamma 0.33"
     ]
    },
    {
     "name": "stderr",
     "output_type": "stream",
     "text": [
      "C:\\Users\\User\\AppData\\Local\\Temp\\ipykernel_1544\\2318987598.py:16: FutureWarning: the 'smoothing_slope'' keyword is deprecated, use 'smoothing_trend' instead.\n",
      "  ets_fit = ets_model.fit(smoothing_level=a, smoothing_slope=b, smoothing_seasonal=g)\n",
      "C:\\Users\\User\\anaconda3\\lib\\site-packages\\statsmodels\\tsa\\holtwinters\\model.py:83: RuntimeWarning: overflow encountered in matmul\n",
      "  return err.T @ err\n",
      "C:\\Users\\User\\AppData\\Local\\Temp\\ipykernel_1544\\2318987598.py:16: FutureWarning: the 'smoothing_slope'' keyword is deprecated, use 'smoothing_trend' instead.\n",
      "  ets_fit = ets_model.fit(smoothing_level=a, smoothing_slope=b, smoothing_seasonal=g)\n",
      "C:\\Users\\User\\anaconda3\\lib\\site-packages\\statsmodels\\tsa\\holtwinters\\model.py:83: RuntimeWarning: overflow encountered in matmul\n",
      "  return err.T @ err\n",
      "C:\\Users\\User\\AppData\\Local\\Temp\\ipykernel_1544\\2318987598.py:16: FutureWarning: the 'smoothing_slope'' keyword is deprecated, use 'smoothing_trend' instead.\n",
      "  ets_fit = ets_model.fit(smoothing_level=a, smoothing_slope=b, smoothing_seasonal=g)\n",
      "C:\\Users\\User\\AppData\\Local\\Temp\\ipykernel_1544\\2318987598.py:16: FutureWarning: the 'smoothing_slope'' keyword is deprecated, use 'smoothing_trend' instead.\n",
      "  ets_fit = ets_model.fit(smoothing_level=a, smoothing_slope=b, smoothing_seasonal=g)\n",
      "C:\\Users\\User\\AppData\\Local\\Temp\\ipykernel_1544\\2318987598.py:16: FutureWarning: the 'smoothing_slope'' keyword is deprecated, use 'smoothing_trend' instead.\n",
      "  ets_fit = ets_model.fit(smoothing_level=a, smoothing_slope=b, smoothing_seasonal=g)\n",
      "C:\\Users\\User\\anaconda3\\lib\\site-packages\\statsmodels\\tsa\\holtwinters\\model.py:83: RuntimeWarning: overflow encountered in matmul\n",
      "  return err.T @ err\n",
      "C:\\Users\\User\\AppData\\Local\\Temp\\ipykernel_1544\\2318987598.py:16: FutureWarning: the 'smoothing_slope'' keyword is deprecated, use 'smoothing_trend' instead.\n",
      "  ets_fit = ets_model.fit(smoothing_level=a, smoothing_slope=b, smoothing_seasonal=g)\n",
      "C:\\Users\\User\\anaconda3\\lib\\site-packages\\statsmodels\\tsa\\holtwinters\\model.py:83: RuntimeWarning: overflow encountered in matmul\n",
      "  return err.T @ err\n",
      "C:\\Users\\User\\AppData\\Local\\Temp\\ipykernel_1544\\2318987598.py:16: FutureWarning: the 'smoothing_slope'' keyword is deprecated, use 'smoothing_trend' instead.\n",
      "  ets_fit = ets_model.fit(smoothing_level=a, smoothing_slope=b, smoothing_seasonal=g)\n",
      "C:\\Users\\User\\AppData\\Local\\Temp\\ipykernel_1544\\2318987598.py:16: FutureWarning: the 'smoothing_slope'' keyword is deprecated, use 'smoothing_trend' instead.\n",
      "  ets_fit = ets_model.fit(smoothing_level=a, smoothing_slope=b, smoothing_seasonal=g)\n",
      "C:\\Users\\User\\anaconda3\\lib\\site-packages\\statsmodels\\tsa\\holtwinters\\model.py:83: RuntimeWarning: overflow encountered in matmul\n",
      "  return err.T @ err\n",
      "C:\\Users\\User\\AppData\\Local\\Temp\\ipykernel_1544\\2318987598.py:16: FutureWarning: the 'smoothing_slope'' keyword is deprecated, use 'smoothing_trend' instead.\n",
      "  ets_fit = ets_model.fit(smoothing_level=a, smoothing_slope=b, smoothing_seasonal=g)\n",
      "C:\\Users\\User\\anaconda3\\lib\\site-packages\\statsmodels\\tsa\\holtwinters\\model.py:83: RuntimeWarning: overflow encountered in matmul\n",
      "  return err.T @ err\n",
      "C:\\Users\\User\\AppData\\Local\\Temp\\ipykernel_1544\\2318987598.py:16: FutureWarning: the 'smoothing_slope'' keyword is deprecated, use 'smoothing_trend' instead.\n",
      "  ets_fit = ets_model.fit(smoothing_level=a, smoothing_slope=b, smoothing_seasonal=g)\n",
      "C:\\Users\\User\\anaconda3\\lib\\site-packages\\statsmodels\\tsa\\holtwinters\\model.py:83: RuntimeWarning: overflow encountered in matmul\n",
      "  return err.T @ err\n"
     ]
    },
    {
     "name": "stdout",
     "output_type": "stream",
     "text": [
      "\n",
      "MAE = 0.3390533592495722 for alpha 0.22, beta 0.44, gamma 0.44\n",
      "MAE = 0.34803645000415623 for alpha 0.22, beta 0.44, gamma 0.55\n",
      "MAE = 0.3844165307397913 for alpha 0.22, beta 0.44, gamma 0.66\n",
      "MAE = 0.5601975911697937 for alpha 0.22, beta 0.44, gamma 0.77\n",
      "MAE = 0.42352941999076904 for alpha 0.22, beta 0.44, gamma 0.88\n",
      "MAE = 0.7383335156349272 for alpha 0.22, beta 0.44, gamma 0.99\n",
      "MAE = 0.1753428768480738 for alpha 0.22, beta 0.55, gamma 0.0\n",
      "MAE = 0.20130240092318785 for alpha 0.22, beta 0.55, gamma 0.11\n",
      "MAE = 0.2507702820775495 for alpha 0.22, beta 0.55, gamma 0.22\n",
      "MAE = 0.3075430797827802 for alpha 0.22, beta 0.55, gamma 0.33\n"
     ]
    },
    {
     "name": "stderr",
     "output_type": "stream",
     "text": [
      "C:\\Users\\User\\AppData\\Local\\Temp\\ipykernel_1544\\2318987598.py:16: FutureWarning: the 'smoothing_slope'' keyword is deprecated, use 'smoothing_trend' instead.\n",
      "  ets_fit = ets_model.fit(smoothing_level=a, smoothing_slope=b, smoothing_seasonal=g)\n",
      "C:\\Users\\User\\anaconda3\\lib\\site-packages\\statsmodels\\tsa\\holtwinters\\model.py:83: RuntimeWarning: overflow encountered in matmul\n",
      "  return err.T @ err\n",
      "C:\\Users\\User\\AppData\\Local\\Temp\\ipykernel_1544\\2318987598.py:16: FutureWarning: the 'smoothing_slope'' keyword is deprecated, use 'smoothing_trend' instead.\n",
      "  ets_fit = ets_model.fit(smoothing_level=a, smoothing_slope=b, smoothing_seasonal=g)\n",
      "C:\\Users\\User\\AppData\\Local\\Temp\\ipykernel_1544\\2318987598.py:16: FutureWarning: the 'smoothing_slope'' keyword is deprecated, use 'smoothing_trend' instead.\n",
      "  ets_fit = ets_model.fit(smoothing_level=a, smoothing_slope=b, smoothing_seasonal=g)\n",
      "C:\\Users\\User\\AppData\\Local\\Temp\\ipykernel_1544\\2318987598.py:16: FutureWarning: the 'smoothing_slope'' keyword is deprecated, use 'smoothing_trend' instead.\n",
      "  ets_fit = ets_model.fit(smoothing_level=a, smoothing_slope=b, smoothing_seasonal=g)\n",
      "C:\\Users\\User\\anaconda3\\lib\\site-packages\\statsmodels\\tsa\\holtwinters\\model.py:915: ConvergenceWarning: Optimization failed to converge. Check mle_retvals.\n",
      "  warnings.warn(\n",
      "C:\\Users\\User\\AppData\\Local\\Temp\\ipykernel_1544\\2318987598.py:16: FutureWarning: the 'smoothing_slope'' keyword is deprecated, use 'smoothing_trend' instead.\n",
      "  ets_fit = ets_model.fit(smoothing_level=a, smoothing_slope=b, smoothing_seasonal=g)\n",
      "C:\\Users\\User\\AppData\\Local\\Temp\\ipykernel_1544\\2318987598.py:16: FutureWarning: the 'smoothing_slope'' keyword is deprecated, use 'smoothing_trend' instead.\n",
      "  ets_fit = ets_model.fit(smoothing_level=a, smoothing_slope=b, smoothing_seasonal=g)\n",
      "C:\\Users\\User\\AppData\\Local\\Temp\\ipykernel_1544\\2318987598.py:16: FutureWarning: the 'smoothing_slope'' keyword is deprecated, use 'smoothing_trend' instead.\n",
      "  ets_fit = ets_model.fit(smoothing_level=a, smoothing_slope=b, smoothing_seasonal=g)\n",
      "C:\\Users\\User\\AppData\\Local\\Temp\\ipykernel_1544\\2318987598.py:16: FutureWarning: the 'smoothing_slope'' keyword is deprecated, use 'smoothing_trend' instead.\n",
      "  ets_fit = ets_model.fit(smoothing_level=a, smoothing_slope=b, smoothing_seasonal=g)\n",
      "C:\\Users\\User\\AppData\\Local\\Temp\\ipykernel_1544\\2318987598.py:16: FutureWarning: the 'smoothing_slope'' keyword is deprecated, use 'smoothing_trend' instead.\n",
      "  ets_fit = ets_model.fit(smoothing_level=a, smoothing_slope=b, smoothing_seasonal=g)\n",
      "C:\\Users\\User\\anaconda3\\lib\\site-packages\\statsmodels\\tsa\\holtwinters\\model.py:83: RuntimeWarning: overflow encountered in matmul\n",
      "  return err.T @ err\n",
      "C:\\Users\\User\\AppData\\Local\\Temp\\ipykernel_1544\\2318987598.py:16: FutureWarning: the 'smoothing_slope'' keyword is deprecated, use 'smoothing_trend' instead.\n",
      "  ets_fit = ets_model.fit(smoothing_level=a, smoothing_slope=b, smoothing_seasonal=g)\n",
      "C:\\Users\\User\\anaconda3\\lib\\site-packages\\statsmodels\\tsa\\holtwinters\\model.py:83: RuntimeWarning: overflow encountered in matmul\n",
      "  return err.T @ err\n"
     ]
    },
    {
     "name": "stdout",
     "output_type": "stream",
     "text": [
      "MAE = 0.32915386759544735 for alpha 0.22, beta 0.55, gamma 0.44\n",
      "MAE = 0.34546569650413245 for alpha 0.22, beta 0.55, gamma 0.55\n",
      "MAE = 0.34574856901275536 for alpha 0.22, beta 0.55, gamma 0.66\n",
      "MAE = 0.4925423214217213 for alpha 0.22, beta 0.55, gamma 0.77\n",
      "MAE = 0.5771247152386806 for alpha 0.22, beta 0.55, gamma 0.88\n",
      "MAE = 0.6780769268340373 for alpha 0.22, beta 0.55, gamma 0.99\n",
      "MAE = 0.16741366321011183 for alpha 0.22, beta 0.66, gamma 0.0\n",
      "MAE = 0.17289404448259435 for alpha 0.22, beta 0.66, gamma 0.11\n",
      "MAE = 0.21574414146905385 for alpha 0.22, beta 0.66, gamma 0.22\n"
     ]
    },
    {
     "name": "stderr",
     "output_type": "stream",
     "text": [
      "C:\\Users\\User\\AppData\\Local\\Temp\\ipykernel_1544\\2318987598.py:16: FutureWarning: the 'smoothing_slope'' keyword is deprecated, use 'smoothing_trend' instead.\n",
      "  ets_fit = ets_model.fit(smoothing_level=a, smoothing_slope=b, smoothing_seasonal=g)\n",
      "C:\\Users\\User\\anaconda3\\lib\\site-packages\\statsmodels\\tsa\\holtwinters\\model.py:83: RuntimeWarning: overflow encountered in matmul\n",
      "  return err.T @ err\n",
      "C:\\Users\\User\\AppData\\Local\\Temp\\ipykernel_1544\\2318987598.py:16: FutureWarning: the 'smoothing_slope'' keyword is deprecated, use 'smoothing_trend' instead.\n",
      "  ets_fit = ets_model.fit(smoothing_level=a, smoothing_slope=b, smoothing_seasonal=g)\n",
      "C:\\Users\\User\\AppData\\Local\\Temp\\ipykernel_1544\\2318987598.py:16: FutureWarning: the 'smoothing_slope'' keyword is deprecated, use 'smoothing_trend' instead.\n",
      "  ets_fit = ets_model.fit(smoothing_level=a, smoothing_slope=b, smoothing_seasonal=g)\n",
      "C:\\Users\\User\\anaconda3\\lib\\site-packages\\statsmodels\\tsa\\holtwinters\\model.py:915: ConvergenceWarning: Optimization failed to converge. Check mle_retvals.\n",
      "  warnings.warn(\n",
      "C:\\Users\\User\\AppData\\Local\\Temp\\ipykernel_1544\\2318987598.py:16: FutureWarning: the 'smoothing_slope'' keyword is deprecated, use 'smoothing_trend' instead.\n",
      "  ets_fit = ets_model.fit(smoothing_level=a, smoothing_slope=b, smoothing_seasonal=g)\n",
      "C:\\Users\\User\\anaconda3\\lib\\site-packages\\statsmodels\\tsa\\holtwinters\\model.py:915: ConvergenceWarning: Optimization failed to converge. Check mle_retvals.\n",
      "  warnings.warn(\n",
      "C:\\Users\\User\\AppData\\Local\\Temp\\ipykernel_1544\\2318987598.py:16: FutureWarning: the 'smoothing_slope'' keyword is deprecated, use 'smoothing_trend' instead.\n",
      "  ets_fit = ets_model.fit(smoothing_level=a, smoothing_slope=b, smoothing_seasonal=g)\n",
      "C:\\Users\\User\\AppData\\Local\\Temp\\ipykernel_1544\\2318987598.py:16: FutureWarning: the 'smoothing_slope'' keyword is deprecated, use 'smoothing_trend' instead.\n",
      "  ets_fit = ets_model.fit(smoothing_level=a, smoothing_slope=b, smoothing_seasonal=g)\n",
      "C:\\Users\\User\\AppData\\Local\\Temp\\ipykernel_1544\\2318987598.py:16: FutureWarning: the 'smoothing_slope'' keyword is deprecated, use 'smoothing_trend' instead.\n",
      "  ets_fit = ets_model.fit(smoothing_level=a, smoothing_slope=b, smoothing_seasonal=g)\n",
      "C:\\Users\\User\\AppData\\Local\\Temp\\ipykernel_1544\\2318987598.py:16: FutureWarning: the 'smoothing_slope'' keyword is deprecated, use 'smoothing_trend' instead.\n",
      "  ets_fit = ets_model.fit(smoothing_level=a, smoothing_slope=b, smoothing_seasonal=g)\n",
      "C:\\Users\\User\\AppData\\Local\\Temp\\ipykernel_1544\\2318987598.py:16: FutureWarning: the 'smoothing_slope'' keyword is deprecated, use 'smoothing_trend' instead.\n",
      "  ets_fit = ets_model.fit(smoothing_level=a, smoothing_slope=b, smoothing_seasonal=g)\n",
      "C:\\Users\\User\\anaconda3\\lib\\site-packages\\statsmodels\\tsa\\holtwinters\\model.py:83: RuntimeWarning: overflow encountered in matmul\n",
      "  return err.T @ err\n",
      "C:\\Users\\User\\AppData\\Local\\Temp\\ipykernel_1544\\2318987598.py:16: FutureWarning: the 'smoothing_slope'' keyword is deprecated, use 'smoothing_trend' instead.\n",
      "  ets_fit = ets_model.fit(smoothing_level=a, smoothing_slope=b, smoothing_seasonal=g)\n"
     ]
    },
    {
     "name": "stdout",
     "output_type": "stream",
     "text": [
      "MAE = 0.2703525223459143 for alpha 0.22, beta 0.66, gamma 0.33\n",
      "MAE = 0.30935981273819385 for alpha 0.22, beta 0.66, gamma 0.44\n",
      "MAE = 0.2388698253091622 for alpha 0.22, beta 0.66, gamma 0.55\n",
      "MAE = 0.2849696491250701 for alpha 0.22, beta 0.66, gamma 0.66\n",
      "MAE = 0.3406027415769945 for alpha 0.22, beta 0.66, gamma 0.77\n",
      "MAE = 0.4100263315165016 for alpha 0.22, beta 0.66, gamma 0.88\n",
      "MAE = 0.5004339245019963 for alpha 0.22, beta 0.66, gamma 0.99\n",
      "MAE = 0.17243874634547518 for alpha 0.22, beta 0.77, gamma 0.0\n",
      "MAE = 0.15777449385323442 for alpha 0.22, beta 0.77, gamma 0.11\n",
      "MAE = 0.1737424877758307 for alpha 0.22, beta 0.77, gamma 0.22\n",
      "MAE = 0.24748150561315094 for alpha 0.22, beta 0.77, gamma 0.33\n"
     ]
    },
    {
     "name": "stderr",
     "output_type": "stream",
     "text": [
      "C:\\Users\\User\\AppData\\Local\\Temp\\ipykernel_1544\\2318987598.py:16: FutureWarning: the 'smoothing_slope'' keyword is deprecated, use 'smoothing_trend' instead.\n",
      "  ets_fit = ets_model.fit(smoothing_level=a, smoothing_slope=b, smoothing_seasonal=g)\n",
      "C:\\Users\\User\\AppData\\Local\\Temp\\ipykernel_1544\\2318987598.py:16: FutureWarning: the 'smoothing_slope'' keyword is deprecated, use 'smoothing_trend' instead.\n",
      "  ets_fit = ets_model.fit(smoothing_level=a, smoothing_slope=b, smoothing_seasonal=g)\n",
      "C:\\Users\\User\\anaconda3\\lib\\site-packages\\statsmodels\\tsa\\holtwinters\\model.py:915: ConvergenceWarning: Optimization failed to converge. Check mle_retvals.\n",
      "  warnings.warn(\n",
      "C:\\Users\\User\\AppData\\Local\\Temp\\ipykernel_1544\\2318987598.py:16: FutureWarning: the 'smoothing_slope'' keyword is deprecated, use 'smoothing_trend' instead.\n",
      "  ets_fit = ets_model.fit(smoothing_level=a, smoothing_slope=b, smoothing_seasonal=g)\n",
      "C:\\Users\\User\\anaconda3\\lib\\site-packages\\statsmodels\\tsa\\holtwinters\\model.py:915: ConvergenceWarning: Optimization failed to converge. Check mle_retvals.\n",
      "  warnings.warn(\n",
      "C:\\Users\\User\\AppData\\Local\\Temp\\ipykernel_1544\\2318987598.py:16: FutureWarning: the 'smoothing_slope'' keyword is deprecated, use 'smoothing_trend' instead.\n",
      "  ets_fit = ets_model.fit(smoothing_level=a, smoothing_slope=b, smoothing_seasonal=g)\n",
      "C:\\Users\\User\\anaconda3\\lib\\site-packages\\statsmodels\\tsa\\holtwinters\\model.py:915: ConvergenceWarning: Optimization failed to converge. Check mle_retvals.\n",
      "  warnings.warn(\n",
      "C:\\Users\\User\\AppData\\Local\\Temp\\ipykernel_1544\\2318987598.py:16: FutureWarning: the 'smoothing_slope'' keyword is deprecated, use 'smoothing_trend' instead.\n",
      "  ets_fit = ets_model.fit(smoothing_level=a, smoothing_slope=b, smoothing_seasonal=g)\n",
      "C:\\Users\\User\\anaconda3\\lib\\site-packages\\statsmodels\\tsa\\holtwinters\\model.py:83: RuntimeWarning: overflow encountered in matmul\n",
      "  return err.T @ err\n",
      "C:\\Users\\User\\AppData\\Local\\Temp\\ipykernel_1544\\2318987598.py:16: FutureWarning: the 'smoothing_slope'' keyword is deprecated, use 'smoothing_trend' instead.\n",
      "  ets_fit = ets_model.fit(smoothing_level=a, smoothing_slope=b, smoothing_seasonal=g)\n",
      "C:\\Users\\User\\AppData\\Local\\Temp\\ipykernel_1544\\2318987598.py:16: FutureWarning: the 'smoothing_slope'' keyword is deprecated, use 'smoothing_trend' instead.\n",
      "  ets_fit = ets_model.fit(smoothing_level=a, smoothing_slope=b, smoothing_seasonal=g)\n",
      "C:\\Users\\User\\AppData\\Local\\Temp\\ipykernel_1544\\2318987598.py:16: FutureWarning: the 'smoothing_slope'' keyword is deprecated, use 'smoothing_trend' instead.\n",
      "  ets_fit = ets_model.fit(smoothing_level=a, smoothing_slope=b, smoothing_seasonal=g)\n",
      "C:\\Users\\User\\AppData\\Local\\Temp\\ipykernel_1544\\2318987598.py:16: FutureWarning: the 'smoothing_slope'' keyword is deprecated, use 'smoothing_trend' instead.\n",
      "  ets_fit = ets_model.fit(smoothing_level=a, smoothing_slope=b, smoothing_seasonal=g)\n",
      "C:\\Users\\User\\anaconda3\\lib\\site-packages\\statsmodels\\tsa\\holtwinters\\model.py:83: RuntimeWarning: overflow encountered in matmul\n",
      "  return err.T @ err\n",
      "C:\\Users\\User\\AppData\\Local\\Temp\\ipykernel_1544\\2318987598.py:16: FutureWarning: the 'smoothing_slope'' keyword is deprecated, use 'smoothing_trend' instead.\n",
      "  ets_fit = ets_model.fit(smoothing_level=a, smoothing_slope=b, smoothing_seasonal=g)\n",
      "C:\\Users\\User\\anaconda3\\lib\\site-packages\\statsmodels\\tsa\\holtwinters\\model.py:83: RuntimeWarning: overflow encountered in matmul\n",
      "  return err.T @ err\n"
     ]
    },
    {
     "name": "stdout",
     "output_type": "stream",
     "text": [
      "MAE = 0.26171553778633744 for alpha 0.22, beta 0.77, gamma 0.44\n",
      "MAE = 0.22524926983681737 for alpha 0.22, beta 0.77, gamma 0.55\n",
      "MAE = 0.43674320250792825 for alpha 0.22, beta 0.77, gamma 0.66\n",
      "MAE = 0.5614210461984793 for alpha 0.22, beta 0.77, gamma 0.77\n",
      "MAE = 0.7418203547220958 for alpha 0.22, beta 0.77, gamma 0.88\n",
      "MAE = 1.0071611298377832 for alpha 0.22, beta 0.77, gamma 0.99\n",
      "MAE = 0.24888259318448705 for alpha 0.22, beta 0.88, gamma 0.0\n",
      "MAE = 0.2109460630562828 for alpha 0.22, beta 0.88, gamma 0.11\n",
      "MAE = 0.1661974982721058 for alpha 0.22, beta 0.88, gamma 0.22\n"
     ]
    },
    {
     "name": "stderr",
     "output_type": "stream",
     "text": [
      "C:\\Users\\User\\AppData\\Local\\Temp\\ipykernel_1544\\2318987598.py:16: FutureWarning: the 'smoothing_slope'' keyword is deprecated, use 'smoothing_trend' instead.\n",
      "  ets_fit = ets_model.fit(smoothing_level=a, smoothing_slope=b, smoothing_seasonal=g)\n",
      "C:\\Users\\User\\AppData\\Local\\Temp\\ipykernel_1544\\2318987598.py:16: FutureWarning: the 'smoothing_slope'' keyword is deprecated, use 'smoothing_trend' instead.\n",
      "  ets_fit = ets_model.fit(smoothing_level=a, smoothing_slope=b, smoothing_seasonal=g)\n",
      "C:\\Users\\User\\anaconda3\\lib\\site-packages\\statsmodels\\tsa\\holtwinters\\model.py:915: ConvergenceWarning: Optimization failed to converge. Check mle_retvals.\n",
      "  warnings.warn(\n",
      "C:\\Users\\User\\AppData\\Local\\Temp\\ipykernel_1544\\2318987598.py:16: FutureWarning: the 'smoothing_slope'' keyword is deprecated, use 'smoothing_trend' instead.\n",
      "  ets_fit = ets_model.fit(smoothing_level=a, smoothing_slope=b, smoothing_seasonal=g)\n",
      "C:\\Users\\User\\anaconda3\\lib\\site-packages\\statsmodels\\tsa\\holtwinters\\model.py:915: ConvergenceWarning: Optimization failed to converge. Check mle_retvals.\n",
      "  warnings.warn(\n",
      "C:\\Users\\User\\AppData\\Local\\Temp\\ipykernel_1544\\2318987598.py:16: FutureWarning: the 'smoothing_slope'' keyword is deprecated, use 'smoothing_trend' instead.\n",
      "  ets_fit = ets_model.fit(smoothing_level=a, smoothing_slope=b, smoothing_seasonal=g)\n",
      "C:\\Users\\User\\anaconda3\\lib\\site-packages\\statsmodels\\tsa\\holtwinters\\model.py:915: ConvergenceWarning: Optimization failed to converge. Check mle_retvals.\n",
      "  warnings.warn(\n",
      "C:\\Users\\User\\AppData\\Local\\Temp\\ipykernel_1544\\2318987598.py:16: FutureWarning: the 'smoothing_slope'' keyword is deprecated, use 'smoothing_trend' instead.\n",
      "  ets_fit = ets_model.fit(smoothing_level=a, smoothing_slope=b, smoothing_seasonal=g)\n",
      "C:\\Users\\User\\AppData\\Local\\Temp\\ipykernel_1544\\2318987598.py:16: FutureWarning: the 'smoothing_slope'' keyword is deprecated, use 'smoothing_trend' instead.\n",
      "  ets_fit = ets_model.fit(smoothing_level=a, smoothing_slope=b, smoothing_seasonal=g)\n",
      "C:\\Users\\User\\anaconda3\\lib\\site-packages\\statsmodels\\tsa\\holtwinters\\model.py:83: RuntimeWarning: overflow encountered in matmul\n",
      "  return err.T @ err\n",
      "C:\\Users\\User\\AppData\\Local\\Temp\\ipykernel_1544\\2318987598.py:16: FutureWarning: the 'smoothing_slope'' keyword is deprecated, use 'smoothing_trend' instead.\n",
      "  ets_fit = ets_model.fit(smoothing_level=a, smoothing_slope=b, smoothing_seasonal=g)\n",
      "C:\\Users\\User\\AppData\\Local\\Temp\\ipykernel_1544\\2318987598.py:16: FutureWarning: the 'smoothing_slope'' keyword is deprecated, use 'smoothing_trend' instead.\n",
      "  ets_fit = ets_model.fit(smoothing_level=a, smoothing_slope=b, smoothing_seasonal=g)\n",
      "C:\\Users\\User\\anaconda3\\lib\\site-packages\\statsmodels\\tsa\\holtwinters\\model.py:83: RuntimeWarning: overflow encountered in matmul\n",
      "  return err.T @ err\n",
      "C:\\Users\\User\\AppData\\Local\\Temp\\ipykernel_1544\\2318987598.py:16: FutureWarning: the 'smoothing_slope'' keyword is deprecated, use 'smoothing_trend' instead.\n",
      "  ets_fit = ets_model.fit(smoothing_level=a, smoothing_slope=b, smoothing_seasonal=g)\n"
     ]
    },
    {
     "name": "stdout",
     "output_type": "stream",
     "text": [
      "MAE = 0.1912283513791104 for alpha 0.22, beta 0.88, gamma 0.33\n",
      "MAE = 0.2620198342436536 for alpha 0.22, beta 0.88, gamma 0.44\n",
      "MAE = 0.2565781169187022 for alpha 0.22, beta 0.88, gamma 0.55\n",
      "MAE = 0.2546120729798902 for alpha 0.22, beta 0.88, gamma 0.66\n",
      "MAE = 1.1068513203157189 for alpha 0.22, beta 0.88, gamma 0.77\n",
      "MAE = 1.5958831833400702 for alpha 0.22, beta 0.88, gamma 0.88\n",
      "MAE = 2.5065498621879465 for alpha 0.22, beta 0.88, gamma 0.99\n",
      "MAE = 0.44442634385966656 for alpha 0.22, beta 0.99, gamma 0.0\n",
      "MAE = 0.28304021960589204 for alpha 0.22, beta 0.99, gamma 0.11"
     ]
    },
    {
     "name": "stderr",
     "output_type": "stream",
     "text": [
      "C:\\Users\\User\\anaconda3\\lib\\site-packages\\statsmodels\\tsa\\holtwinters\\model.py:83: RuntimeWarning: overflow encountered in matmul\n",
      "  return err.T @ err\n",
      "C:\\Users\\User\\AppData\\Local\\Temp\\ipykernel_1544\\2318987598.py:16: FutureWarning: the 'smoothing_slope'' keyword is deprecated, use 'smoothing_trend' instead.\n",
      "  ets_fit = ets_model.fit(smoothing_level=a, smoothing_slope=b, smoothing_seasonal=g)\n",
      "C:\\Users\\User\\anaconda3\\lib\\site-packages\\statsmodels\\tsa\\holtwinters\\model.py:83: RuntimeWarning: overflow encountered in matmul\n",
      "  return err.T @ err\n",
      "C:\\Users\\User\\AppData\\Local\\Temp\\ipykernel_1544\\2318987598.py:16: FutureWarning: the 'smoothing_slope'' keyword is deprecated, use 'smoothing_trend' instead.\n",
      "  ets_fit = ets_model.fit(smoothing_level=a, smoothing_slope=b, smoothing_seasonal=g)\n",
      "C:\\Users\\User\\anaconda3\\lib\\site-packages\\statsmodels\\tsa\\holtwinters\\model.py:83: RuntimeWarning: overflow encountered in matmul\n",
      "  return err.T @ err\n",
      "C:\\Users\\User\\AppData\\Local\\Temp\\ipykernel_1544\\2318987598.py:16: FutureWarning: the 'smoothing_slope'' keyword is deprecated, use 'smoothing_trend' instead.\n",
      "  ets_fit = ets_model.fit(smoothing_level=a, smoothing_slope=b, smoothing_seasonal=g)\n",
      "C:\\Users\\User\\anaconda3\\lib\\site-packages\\statsmodels\\tsa\\holtwinters\\model.py:915: ConvergenceWarning: Optimization failed to converge. Check mle_retvals.\n",
      "  warnings.warn(\n",
      "C:\\Users\\User\\AppData\\Local\\Temp\\ipykernel_1544\\2318987598.py:16: FutureWarning: the 'smoothing_slope'' keyword is deprecated, use 'smoothing_trend' instead.\n",
      "  ets_fit = ets_model.fit(smoothing_level=a, smoothing_slope=b, smoothing_seasonal=g)\n",
      "C:\\Users\\User\\anaconda3\\lib\\site-packages\\statsmodels\\tsa\\holtwinters\\model.py:915: ConvergenceWarning: Optimization failed to converge. Check mle_retvals.\n",
      "  warnings.warn(\n",
      "C:\\Users\\User\\AppData\\Local\\Temp\\ipykernel_1544\\2318987598.py:16: FutureWarning: the 'smoothing_slope'' keyword is deprecated, use 'smoothing_trend' instead.\n",
      "  ets_fit = ets_model.fit(smoothing_level=a, smoothing_slope=b, smoothing_seasonal=g)\n",
      "C:\\Users\\User\\anaconda3\\lib\\site-packages\\statsmodels\\tsa\\holtwinters\\model.py:915: ConvergenceWarning: Optimization failed to converge. Check mle_retvals.\n",
      "  warnings.warn(\n",
      "C:\\Users\\User\\AppData\\Local\\Temp\\ipykernel_1544\\2318987598.py:16: FutureWarning: the 'smoothing_slope'' keyword is deprecated, use 'smoothing_trend' instead.\n",
      "  ets_fit = ets_model.fit(smoothing_level=a, smoothing_slope=b, smoothing_seasonal=g)\n",
      "C:\\Users\\User\\AppData\\Local\\Temp\\ipykernel_1544\\2318987598.py:16: FutureWarning: the 'smoothing_slope'' keyword is deprecated, use 'smoothing_trend' instead.\n",
      "  ets_fit = ets_model.fit(smoothing_level=a, smoothing_slope=b, smoothing_seasonal=g)\n",
      "C:\\Users\\User\\anaconda3\\lib\\site-packages\\statsmodels\\tsa\\holtwinters\\model.py:83: RuntimeWarning: overflow encountered in matmul\n",
      "  return err.T @ err\n"
     ]
    },
    {
     "name": "stdout",
     "output_type": "stream",
     "text": [
      "\n",
      "MAE = 0.16301567295436664 for alpha 0.22, beta 0.99, gamma 0.22\n",
      "MAE = 0.1847019530302436 for alpha 0.22, beta 0.99, gamma 0.33\n",
      "MAE = 0.2093791199755963 for alpha 0.22, beta 0.99, gamma 0.44\n",
      "MAE = 0.2586803066753535 for alpha 0.22, beta 0.99, gamma 0.55\n",
      "MAE = 0.2663464561609732 for alpha 0.22, beta 0.99, gamma 0.66\n",
      "MAE = 1.7310919687845374 for alpha 0.22, beta 0.99, gamma 0.77\n",
      "MAE = 2.665343400061744 for alpha 0.22, beta 0.99, gamma 0.88\n",
      "MAE = 4.729172165747046 for alpha 0.22, beta 0.99, gamma 0.99\n",
      "MAE = 0.15197555606167662 for alpha 0.33, beta 0.0, gamma 0.0\n",
      "MAE = 0.1521423702441326 for alpha 0.33, beta 0.0, gamma 0.11\n",
      "MAE = 0.15689294717256383 for alpha 0.33, beta 0.0, gamma 0.22\n",
      "MAE = 0.15009049377499517 for alpha 0.33, beta 0.0, gamma 0.33\n",
      "MAE = 0.15363521098313296 for alpha 0.33, beta 0.0, gamma 0.44\n",
      "MAE = 0.15690015926587086 for alpha 0.33, beta 0.0, gamma 0.55"
     ]
    },
    {
     "name": "stderr",
     "output_type": "stream",
     "text": [
      "C:\\Users\\User\\AppData\\Local\\Temp\\ipykernel_1544\\2318987598.py:16: FutureWarning: the 'smoothing_slope'' keyword is deprecated, use 'smoothing_trend' instead.\n",
      "  ets_fit = ets_model.fit(smoothing_level=a, smoothing_slope=b, smoothing_seasonal=g)\n",
      "C:\\Users\\User\\AppData\\Local\\Temp\\ipykernel_1544\\2318987598.py:16: FutureWarning: the 'smoothing_slope'' keyword is deprecated, use 'smoothing_trend' instead.\n",
      "  ets_fit = ets_model.fit(smoothing_level=a, smoothing_slope=b, smoothing_seasonal=g)\n",
      "C:\\Users\\User\\anaconda3\\lib\\site-packages\\statsmodels\\tsa\\holtwinters\\model.py:83: RuntimeWarning: overflow encountered in matmul\n",
      "  return err.T @ err\n",
      "C:\\Users\\User\\AppData\\Local\\Temp\\ipykernel_1544\\2318987598.py:16: FutureWarning: the 'smoothing_slope'' keyword is deprecated, use 'smoothing_trend' instead.\n",
      "  ets_fit = ets_model.fit(smoothing_level=a, smoothing_slope=b, smoothing_seasonal=g)\n",
      "C:\\Users\\User\\anaconda3\\lib\\site-packages\\statsmodels\\tsa\\holtwinters\\model.py:83: RuntimeWarning: overflow encountered in matmul\n",
      "  return err.T @ err\n",
      "C:\\Users\\User\\AppData\\Local\\Temp\\ipykernel_1544\\2318987598.py:16: FutureWarning: the 'smoothing_slope'' keyword is deprecated, use 'smoothing_trend' instead.\n",
      "  ets_fit = ets_model.fit(smoothing_level=a, smoothing_slope=b, smoothing_seasonal=g)\n",
      "C:\\Users\\User\\AppData\\Local\\Temp\\ipykernel_1544\\2318987598.py:16: FutureWarning: the 'smoothing_slope'' keyword is deprecated, use 'smoothing_trend' instead.\n",
      "  ets_fit = ets_model.fit(smoothing_level=a, smoothing_slope=b, smoothing_seasonal=g)\n",
      "C:\\Users\\User\\anaconda3\\lib\\site-packages\\statsmodels\\tsa\\holtwinters\\model.py:83: RuntimeWarning: overflow encountered in matmul\n",
      "  return err.T @ err\n",
      "C:\\Users\\User\\AppData\\Local\\Temp\\ipykernel_1544\\2318987598.py:16: FutureWarning: the 'smoothing_slope'' keyword is deprecated, use 'smoothing_trend' instead.\n",
      "  ets_fit = ets_model.fit(smoothing_level=a, smoothing_slope=b, smoothing_seasonal=g)\n",
      "C:\\Users\\User\\anaconda3\\lib\\site-packages\\statsmodels\\tsa\\holtwinters\\model.py:915: ConvergenceWarning: Optimization failed to converge. Check mle_retvals.\n",
      "  warnings.warn(\n",
      "C:\\Users\\User\\AppData\\Local\\Temp\\ipykernel_1544\\2318987598.py:16: FutureWarning: the 'smoothing_slope'' keyword is deprecated, use 'smoothing_trend' instead.\n",
      "  ets_fit = ets_model.fit(smoothing_level=a, smoothing_slope=b, smoothing_seasonal=g)\n",
      "C:\\Users\\User\\anaconda3\\lib\\site-packages\\statsmodels\\tsa\\holtwinters\\model.py:915: ConvergenceWarning: Optimization failed to converge. Check mle_retvals.\n",
      "  warnings.warn(\n",
      "C:\\Users\\User\\AppData\\Local\\Temp\\ipykernel_1544\\2318987598.py:16: FutureWarning: the 'smoothing_slope'' keyword is deprecated, use 'smoothing_trend' instead.\n",
      "  ets_fit = ets_model.fit(smoothing_level=a, smoothing_slope=b, smoothing_seasonal=g)\n",
      "C:\\Users\\User\\anaconda3\\lib\\site-packages\\statsmodels\\tsa\\holtwinters\\model.py:915: ConvergenceWarning: Optimization failed to converge. Check mle_retvals.\n",
      "  warnings.warn(\n",
      "C:\\Users\\User\\AppData\\Local\\Temp\\ipykernel_1544\\2318987598.py:16: FutureWarning: the 'smoothing_slope'' keyword is deprecated, use 'smoothing_trend' instead.\n",
      "  ets_fit = ets_model.fit(smoothing_level=a, smoothing_slope=b, smoothing_seasonal=g)\n",
      "C:\\Users\\User\\anaconda3\\lib\\site-packages\\statsmodels\\tsa\\holtwinters\\model.py:83: RuntimeWarning: overflow encountered in matmul\n",
      "  return err.T @ err\n",
      "C:\\Users\\User\\AppData\\Local\\Temp\\ipykernel_1544\\2318987598.py:16: FutureWarning: the 'smoothing_slope'' keyword is deprecated, use 'smoothing_trend' instead.\n",
      "  ets_fit = ets_model.fit(smoothing_level=a, smoothing_slope=b, smoothing_seasonal=g)\n",
      "C:\\Users\\User\\anaconda3\\lib\\site-packages\\statsmodels\\tsa\\holtwinters\\model.py:83: RuntimeWarning: overflow encountered in matmul\n",
      "  return err.T @ err\n",
      "C:\\Users\\User\\AppData\\Local\\Temp\\ipykernel_1544\\2318987598.py:16: FutureWarning: the 'smoothing_slope'' keyword is deprecated, use 'smoothing_trend' instead.\n",
      "  ets_fit = ets_model.fit(smoothing_level=a, smoothing_slope=b, smoothing_seasonal=g)\n",
      "C:\\Users\\User\\AppData\\Local\\Temp\\ipykernel_1544\\2318987598.py:16: FutureWarning: the 'smoothing_slope'' keyword is deprecated, use 'smoothing_trend' instead.\n",
      "  ets_fit = ets_model.fit(smoothing_level=a, smoothing_slope=b, smoothing_seasonal=g)\n",
      "C:\\Users\\User\\AppData\\Local\\Temp\\ipykernel_1544\\2318987598.py:16: FutureWarning: the 'smoothing_slope'' keyword is deprecated, use 'smoothing_trend' instead.\n",
      "  ets_fit = ets_model.fit(smoothing_level=a, smoothing_slope=b, smoothing_seasonal=g)\n",
      "C:\\Users\\User\\AppData\\Local\\Temp\\ipykernel_1544\\2318987598.py:16: FutureWarning: the 'smoothing_slope'' keyword is deprecated, use 'smoothing_trend' instead.\n",
      "  ets_fit = ets_model.fit(smoothing_level=a, smoothing_slope=b, smoothing_seasonal=g)\n"
     ]
    },
    {
     "name": "stdout",
     "output_type": "stream",
     "text": [
      "\n",
      "MAE = 0.15946896759074342 for alpha 0.33, beta 0.0, gamma 0.66\n",
      "MAE = 0.17109098772765285 for alpha 0.33, beta 0.0, gamma 0.77\n",
      "MAE = 0.17173019851826885 for alpha 0.33, beta 0.0, gamma 0.88\n",
      "MAE = 0.2296099997657878 for alpha 0.33, beta 0.0, gamma 0.99\n",
      "MAE = 0.14867587479988262 for alpha 0.33, beta 0.11, gamma 0.0\n",
      "MAE = 0.1432075936665248 for alpha 0.33, beta 0.11, gamma 0.11\n",
      "MAE = 0.1552765703375841 for alpha 0.33, beta 0.11, gamma 0.22\n",
      "MAE = 0.16252566901096543 for alpha 0.33, beta 0.11, gamma 0.33\n"
     ]
    },
    {
     "name": "stderr",
     "output_type": "stream",
     "text": [
      "C:\\Users\\User\\AppData\\Local\\Temp\\ipykernel_1544\\2318987598.py:16: FutureWarning: the 'smoothing_slope'' keyword is deprecated, use 'smoothing_trend' instead.\n",
      "  ets_fit = ets_model.fit(smoothing_level=a, smoothing_slope=b, smoothing_seasonal=g)\n",
      "C:\\Users\\User\\AppData\\Local\\Temp\\ipykernel_1544\\2318987598.py:16: FutureWarning: the 'smoothing_slope'' keyword is deprecated, use 'smoothing_trend' instead.\n",
      "  ets_fit = ets_model.fit(smoothing_level=a, smoothing_slope=b, smoothing_seasonal=g)\n",
      "C:\\Users\\User\\AppData\\Local\\Temp\\ipykernel_1544\\2318987598.py:16: FutureWarning: the 'smoothing_slope'' keyword is deprecated, use 'smoothing_trend' instead.\n",
      "  ets_fit = ets_model.fit(smoothing_level=a, smoothing_slope=b, smoothing_seasonal=g)\n",
      "C:\\Users\\User\\anaconda3\\lib\\site-packages\\statsmodels\\tsa\\holtwinters\\model.py:83: RuntimeWarning: overflow encountered in matmul\n",
      "  return err.T @ err\n",
      "C:\\Users\\User\\AppData\\Local\\Temp\\ipykernel_1544\\2318987598.py:16: FutureWarning: the 'smoothing_slope'' keyword is deprecated, use 'smoothing_trend' instead.\n",
      "  ets_fit = ets_model.fit(smoothing_level=a, smoothing_slope=b, smoothing_seasonal=g)\n",
      "C:\\Users\\User\\AppData\\Local\\Temp\\ipykernel_1544\\2318987598.py:16: FutureWarning: the 'smoothing_slope'' keyword is deprecated, use 'smoothing_trend' instead.\n",
      "  ets_fit = ets_model.fit(smoothing_level=a, smoothing_slope=b, smoothing_seasonal=g)\n",
      "C:\\Users\\User\\anaconda3\\lib\\site-packages\\statsmodels\\tsa\\holtwinters\\model.py:83: RuntimeWarning: overflow encountered in matmul\n",
      "  return err.T @ err\n",
      "C:\\Users\\User\\AppData\\Local\\Temp\\ipykernel_1544\\2318987598.py:16: FutureWarning: the 'smoothing_slope'' keyword is deprecated, use 'smoothing_trend' instead.\n",
      "  ets_fit = ets_model.fit(smoothing_level=a, smoothing_slope=b, smoothing_seasonal=g)\n",
      "C:\\Users\\User\\anaconda3\\lib\\site-packages\\statsmodels\\tsa\\holtwinters\\model.py:83: RuntimeWarning: overflow encountered in matmul\n",
      "  return err.T @ err\n",
      "C:\\Users\\User\\AppData\\Local\\Temp\\ipykernel_1544\\2318987598.py:16: FutureWarning: the 'smoothing_slope'' keyword is deprecated, use 'smoothing_trend' instead.\n",
      "  ets_fit = ets_model.fit(smoothing_level=a, smoothing_slope=b, smoothing_seasonal=g)\n",
      "C:\\Users\\User\\anaconda3\\lib\\site-packages\\statsmodels\\tsa\\holtwinters\\model.py:83: RuntimeWarning: overflow encountered in matmul\n",
      "  return err.T @ err\n",
      "C:\\Users\\User\\AppData\\Local\\Temp\\ipykernel_1544\\2318987598.py:16: FutureWarning: the 'smoothing_slope'' keyword is deprecated, use 'smoothing_trend' instead.\n",
      "  ets_fit = ets_model.fit(smoothing_level=a, smoothing_slope=b, smoothing_seasonal=g)\n",
      "C:\\Users\\User\\anaconda3\\lib\\site-packages\\statsmodels\\tsa\\holtwinters\\model.py:83: RuntimeWarning: overflow encountered in matmul\n",
      "  return err.T @ err\n",
      "C:\\Users\\User\\AppData\\Local\\Temp\\ipykernel_1544\\2318987598.py:16: FutureWarning: the 'smoothing_slope'' keyword is deprecated, use 'smoothing_trend' instead.\n",
      "  ets_fit = ets_model.fit(smoothing_level=a, smoothing_slope=b, smoothing_seasonal=g)\n",
      "C:\\Users\\User\\anaconda3\\lib\\site-packages\\statsmodels\\tsa\\holtwinters\\model.py:83: RuntimeWarning: overflow encountered in matmul\n",
      "  return err.T @ err\n",
      "C:\\Users\\User\\AppData\\Local\\Temp\\ipykernel_1544\\2318987598.py:16: FutureWarning: the 'smoothing_slope'' keyword is deprecated, use 'smoothing_trend' instead.\n",
      "  ets_fit = ets_model.fit(smoothing_level=a, smoothing_slope=b, smoothing_seasonal=g)\n",
      "C:\\Users\\User\\anaconda3\\lib\\site-packages\\statsmodels\\tsa\\holtwinters\\model.py:83: RuntimeWarning: overflow encountered in matmul\n",
      "  return err.T @ err\n",
      "C:\\Users\\User\\AppData\\Local\\Temp\\ipykernel_1544\\2318987598.py:16: FutureWarning: the 'smoothing_slope'' keyword is deprecated, use 'smoothing_trend' instead.\n",
      "  ets_fit = ets_model.fit(smoothing_level=a, smoothing_slope=b, smoothing_seasonal=g)\n",
      "C:\\Users\\User\\AppData\\Local\\Temp\\ipykernel_1544\\2318987598.py:16: FutureWarning: the 'smoothing_slope'' keyword is deprecated, use 'smoothing_trend' instead.\n",
      "  ets_fit = ets_model.fit(smoothing_level=a, smoothing_slope=b, smoothing_seasonal=g)\n",
      "C:\\Users\\User\\AppData\\Local\\Temp\\ipykernel_1544\\2318987598.py:16: FutureWarning: the 'smoothing_slope'' keyword is deprecated, use 'smoothing_trend' instead.\n",
      "  ets_fit = ets_model.fit(smoothing_level=a, smoothing_slope=b, smoothing_seasonal=g)\n",
      "C:\\Users\\User\\AppData\\Local\\Temp\\ipykernel_1544\\2318987598.py:16: FutureWarning: the 'smoothing_slope'' keyword is deprecated, use 'smoothing_trend' instead.\n",
      "  ets_fit = ets_model.fit(smoothing_level=a, smoothing_slope=b, smoothing_seasonal=g)\n",
      "C:\\Users\\User\\AppData\\Local\\Temp\\ipykernel_1544\\2318987598.py:16: FutureWarning: the 'smoothing_slope'' keyword is deprecated, use 'smoothing_trend' instead.\n",
      "  ets_fit = ets_model.fit(smoothing_level=a, smoothing_slope=b, smoothing_seasonal=g)\n",
      "C:\\Users\\User\\anaconda3\\lib\\site-packages\\statsmodels\\tsa\\holtwinters\\model.py:83: RuntimeWarning: overflow encountered in matmul\n",
      "  return err.T @ err\n",
      "C:\\Users\\User\\AppData\\Local\\Temp\\ipykernel_1544\\2318987598.py:16: FutureWarning: the 'smoothing_slope'' keyword is deprecated, use 'smoothing_trend' instead.\n",
      "  ets_fit = ets_model.fit(smoothing_level=a, smoothing_slope=b, smoothing_seasonal=g)\n"
     ]
    },
    {
     "name": "stdout",
     "output_type": "stream",
     "text": [
      "MAE = 0.17701426117571428 for alpha 0.33, beta 0.11, gamma 0.44\n",
      "MAE = 0.198449307870702 for alpha 0.33, beta 0.11, gamma 0.55\n",
      "MAE = 0.1978051523065737 for alpha 0.33, beta 0.11, gamma 0.66\n",
      "MAE = 0.21933434349539094 for alpha 0.33, beta 0.11, gamma 0.77\n",
      "MAE = 0.2631082126222419 for alpha 0.33, beta 0.11, gamma 0.88\n",
      "MAE = 0.3250300810120939 for alpha 0.33, beta 0.11, gamma 0.99\n",
      "MAE = 0.15172631639214462 for alpha 0.33, beta 0.22, gamma 0.0\n",
      "MAE = 0.1523187196640644 for alpha 0.33, beta 0.22, gamma 0.11\n"
     ]
    },
    {
     "name": "stderr",
     "output_type": "stream",
     "text": [
      "C:\\Users\\User\\anaconda3\\lib\\site-packages\\statsmodels\\tsa\\holtwinters\\model.py:83: RuntimeWarning: overflow encountered in matmul\n",
      "  return err.T @ err\n",
      "C:\\Users\\User\\AppData\\Local\\Temp\\ipykernel_1544\\2318987598.py:16: FutureWarning: the 'smoothing_slope'' keyword is deprecated, use 'smoothing_trend' instead.\n",
      "  ets_fit = ets_model.fit(smoothing_level=a, smoothing_slope=b, smoothing_seasonal=g)\n",
      "C:\\Users\\User\\anaconda3\\lib\\site-packages\\statsmodels\\tsa\\holtwinters\\model.py:83: RuntimeWarning: overflow encountered in matmul\n",
      "  return err.T @ err\n",
      "C:\\Users\\User\\AppData\\Local\\Temp\\ipykernel_1544\\2318987598.py:16: FutureWarning: the 'smoothing_slope'' keyword is deprecated, use 'smoothing_trend' instead.\n",
      "  ets_fit = ets_model.fit(smoothing_level=a, smoothing_slope=b, smoothing_seasonal=g)\n",
      "C:\\Users\\User\\anaconda3\\lib\\site-packages\\statsmodels\\tsa\\holtwinters\\model.py:83: RuntimeWarning: overflow encountered in matmul\n",
      "  return err.T @ err\n",
      "C:\\Users\\User\\AppData\\Local\\Temp\\ipykernel_1544\\2318987598.py:16: FutureWarning: the 'smoothing_slope'' keyword is deprecated, use 'smoothing_trend' instead.\n",
      "  ets_fit = ets_model.fit(smoothing_level=a, smoothing_slope=b, smoothing_seasonal=g)\n",
      "C:\\Users\\User\\anaconda3\\lib\\site-packages\\statsmodels\\tsa\\holtwinters\\model.py:83: RuntimeWarning: overflow encountered in matmul\n",
      "  return err.T @ err\n",
      "C:\\Users\\User\\AppData\\Local\\Temp\\ipykernel_1544\\2318987598.py:16: FutureWarning: the 'smoothing_slope'' keyword is deprecated, use 'smoothing_trend' instead.\n",
      "  ets_fit = ets_model.fit(smoothing_level=a, smoothing_slope=b, smoothing_seasonal=g)\n",
      "C:\\Users\\User\\anaconda3\\lib\\site-packages\\statsmodels\\tsa\\holtwinters\\model.py:83: RuntimeWarning: overflow encountered in matmul\n",
      "  return err.T @ err\n",
      "C:\\Users\\User\\AppData\\Local\\Temp\\ipykernel_1544\\2318987598.py:16: FutureWarning: the 'smoothing_slope'' keyword is deprecated, use 'smoothing_trend' instead.\n",
      "  ets_fit = ets_model.fit(smoothing_level=a, smoothing_slope=b, smoothing_seasonal=g)\n",
      "C:\\Users\\User\\anaconda3\\lib\\site-packages\\statsmodels\\tsa\\holtwinters\\model.py:83: RuntimeWarning: overflow encountered in matmul\n",
      "  return err.T @ err\n",
      "C:\\Users\\User\\AppData\\Local\\Temp\\ipykernel_1544\\2318987598.py:16: FutureWarning: the 'smoothing_slope'' keyword is deprecated, use 'smoothing_trend' instead.\n",
      "  ets_fit = ets_model.fit(smoothing_level=a, smoothing_slope=b, smoothing_seasonal=g)\n",
      "C:\\Users\\User\\anaconda3\\lib\\site-packages\\statsmodels\\tsa\\holtwinters\\model.py:83: RuntimeWarning: overflow encountered in matmul\n",
      "  return err.T @ err\n",
      "C:\\Users\\User\\AppData\\Local\\Temp\\ipykernel_1544\\2318987598.py:16: FutureWarning: the 'smoothing_slope'' keyword is deprecated, use 'smoothing_trend' instead.\n",
      "  ets_fit = ets_model.fit(smoothing_level=a, smoothing_slope=b, smoothing_seasonal=g)\n"
     ]
    },
    {
     "name": "stdout",
     "output_type": "stream",
     "text": [
      "MAE = 0.15286591474275754 for alpha 0.33, beta 0.22, gamma 0.22\n",
      "MAE = 0.1714509282006527 for alpha 0.33, beta 0.22, gamma 0.33\n",
      "MAE = 0.21908100086691473 for alpha 0.33, beta 0.22, gamma 0.44\n",
      "MAE = 0.24567471401673013 for alpha 0.33, beta 0.22, gamma 0.55\n",
      "MAE = 0.237374442843964 for alpha 0.33, beta 0.22, gamma 0.66\n",
      "MAE = 0.2806714976271279 for alpha 0.33, beta 0.22, gamma 0.77\n",
      "MAE = 0.3228146137356708 for alpha 0.33, beta 0.22, gamma 0.88\n"
     ]
    },
    {
     "name": "stderr",
     "output_type": "stream",
     "text": [
      "C:\\Users\\User\\AppData\\Local\\Temp\\ipykernel_1544\\2318987598.py:16: FutureWarning: the 'smoothing_slope'' keyword is deprecated, use 'smoothing_trend' instead.\n",
      "  ets_fit = ets_model.fit(smoothing_level=a, smoothing_slope=b, smoothing_seasonal=g)\n",
      "C:\\Users\\User\\anaconda3\\lib\\site-packages\\statsmodels\\tsa\\holtwinters\\model.py:83: RuntimeWarning: overflow encountered in matmul\n",
      "  return err.T @ err\n",
      "C:\\Users\\User\\AppData\\Local\\Temp\\ipykernel_1544\\2318987598.py:16: FutureWarning: the 'smoothing_slope'' keyword is deprecated, use 'smoothing_trend' instead.\n",
      "  ets_fit = ets_model.fit(smoothing_level=a, smoothing_slope=b, smoothing_seasonal=g)\n",
      "C:\\Users\\User\\anaconda3\\lib\\site-packages\\statsmodels\\tsa\\holtwinters\\model.py:83: RuntimeWarning: overflow encountered in matmul\n",
      "  return err.T @ err\n",
      "C:\\Users\\User\\AppData\\Local\\Temp\\ipykernel_1544\\2318987598.py:16: FutureWarning: the 'smoothing_slope'' keyword is deprecated, use 'smoothing_trend' instead.\n",
      "  ets_fit = ets_model.fit(smoothing_level=a, smoothing_slope=b, smoothing_seasonal=g)\n",
      "C:\\Users\\User\\AppData\\Local\\Temp\\ipykernel_1544\\2318987598.py:16: FutureWarning: the 'smoothing_slope'' keyword is deprecated, use 'smoothing_trend' instead.\n",
      "  ets_fit = ets_model.fit(smoothing_level=a, smoothing_slope=b, smoothing_seasonal=g)\n",
      "C:\\Users\\User\\anaconda3\\lib\\site-packages\\statsmodels\\tsa\\holtwinters\\model.py:83: RuntimeWarning: overflow encountered in matmul\n",
      "  return err.T @ err\n",
      "C:\\Users\\User\\AppData\\Local\\Temp\\ipykernel_1544\\2318987598.py:16: FutureWarning: the 'smoothing_slope'' keyword is deprecated, use 'smoothing_trend' instead.\n",
      "  ets_fit = ets_model.fit(smoothing_level=a, smoothing_slope=b, smoothing_seasonal=g)\n",
      "C:\\Users\\User\\anaconda3\\lib\\site-packages\\statsmodels\\tsa\\holtwinters\\model.py:83: RuntimeWarning: overflow encountered in matmul\n",
      "  return err.T @ err\n",
      "C:\\Users\\User\\AppData\\Local\\Temp\\ipykernel_1544\\2318987598.py:16: FutureWarning: the 'smoothing_slope'' keyword is deprecated, use 'smoothing_trend' instead.\n",
      "  ets_fit = ets_model.fit(smoothing_level=a, smoothing_slope=b, smoothing_seasonal=g)\n"
     ]
    },
    {
     "name": "stdout",
     "output_type": "stream",
     "text": [
      "MAE = 0.3844253625790579 for alpha 0.33, beta 0.22, gamma 0.99\n",
      "MAE = 0.1544481920472343 for alpha 0.33, beta 0.33, gamma 0.0\n",
      "MAE = 0.1480152219561587 for alpha 0.33, beta 0.33, gamma 0.11\n",
      "MAE = 0.16595096756123873 for alpha 0.33, beta 0.33, gamma 0.22\n",
      "MAE = 0.20002557782149996 for alpha 0.33, beta 0.33, gamma 0.33\n"
     ]
    },
    {
     "name": "stderr",
     "output_type": "stream",
     "text": [
      "C:\\Users\\User\\anaconda3\\lib\\site-packages\\statsmodels\\tsa\\holtwinters\\model.py:83: RuntimeWarning: overflow encountered in matmul\n",
      "  return err.T @ err\n",
      "C:\\Users\\User\\AppData\\Local\\Temp\\ipykernel_1544\\2318987598.py:16: FutureWarning: the 'smoothing_slope'' keyword is deprecated, use 'smoothing_trend' instead.\n",
      "  ets_fit = ets_model.fit(smoothing_level=a, smoothing_slope=b, smoothing_seasonal=g)\n",
      "C:\\Users\\User\\anaconda3\\lib\\site-packages\\statsmodels\\tsa\\holtwinters\\model.py:83: RuntimeWarning: overflow encountered in matmul\n",
      "  return err.T @ err\n",
      "C:\\Users\\User\\AppData\\Local\\Temp\\ipykernel_1544\\2318987598.py:16: FutureWarning: the 'smoothing_slope'' keyword is deprecated, use 'smoothing_trend' instead.\n",
      "  ets_fit = ets_model.fit(smoothing_level=a, smoothing_slope=b, smoothing_seasonal=g)\n",
      "C:\\Users\\User\\AppData\\Local\\Temp\\ipykernel_1544\\2318987598.py:16: FutureWarning: the 'smoothing_slope'' keyword is deprecated, use 'smoothing_trend' instead.\n",
      "  ets_fit = ets_model.fit(smoothing_level=a, smoothing_slope=b, smoothing_seasonal=g)\n",
      "C:\\Users\\User\\anaconda3\\lib\\site-packages\\statsmodels\\tsa\\holtwinters\\model.py:83: RuntimeWarning: overflow encountered in matmul\n",
      "  return err.T @ err\n",
      "C:\\Users\\User\\AppData\\Local\\Temp\\ipykernel_1544\\2318987598.py:16: FutureWarning: the 'smoothing_slope'' keyword is deprecated, use 'smoothing_trend' instead.\n",
      "  ets_fit = ets_model.fit(smoothing_level=a, smoothing_slope=b, smoothing_seasonal=g)\n",
      "C:\\Users\\User\\anaconda3\\lib\\site-packages\\statsmodels\\tsa\\holtwinters\\model.py:83: RuntimeWarning: overflow encountered in matmul\n",
      "  return err.T @ err\n",
      "C:\\Users\\User\\AppData\\Local\\Temp\\ipykernel_1544\\2318987598.py:16: FutureWarning: the 'smoothing_slope'' keyword is deprecated, use 'smoothing_trend' instead.\n",
      "  ets_fit = ets_model.fit(smoothing_level=a, smoothing_slope=b, smoothing_seasonal=g)\n",
      "C:\\Users\\User\\AppData\\Local\\Temp\\ipykernel_1544\\2318987598.py:16: FutureWarning: the 'smoothing_slope'' keyword is deprecated, use 'smoothing_trend' instead.\n",
      "  ets_fit = ets_model.fit(smoothing_level=a, smoothing_slope=b, smoothing_seasonal=g)\n",
      "C:\\Users\\User\\anaconda3\\lib\\site-packages\\statsmodels\\tsa\\holtwinters\\model.py:83: RuntimeWarning: overflow encountered in matmul\n",
      "  return err.T @ err\n",
      "C:\\Users\\User\\AppData\\Local\\Temp\\ipykernel_1544\\2318987598.py:16: FutureWarning: the 'smoothing_slope'' keyword is deprecated, use 'smoothing_trend' instead.\n",
      "  ets_fit = ets_model.fit(smoothing_level=a, smoothing_slope=b, smoothing_seasonal=g)\n"
     ]
    },
    {
     "name": "stdout",
     "output_type": "stream",
     "text": [
      "MAE = 0.23336775900161866 for alpha 0.33, beta 0.33, gamma 0.44\n",
      "MAE = 0.2281305495194956 for alpha 0.33, beta 0.33, gamma 0.55\n",
      "MAE = 0.24545217274702194 for alpha 0.33, beta 0.33, gamma 0.66\n",
      "MAE = 0.3016850342951645 for alpha 0.33, beta 0.33, gamma 0.77\n",
      "MAE = 0.24514946498927703 for alpha 0.33, beta 0.33, gamma 0.88\n",
      "MAE = 0.41540687095392775 for alpha 0.33, beta 0.33, gamma 0.99\n",
      "MAE = 0.2038692915358393 for alpha 0.33, beta 0.44, gamma 0.0\n",
      "MAE = 0.169533702434195 for alpha 0.33, beta 0.44, gamma 0.11\n"
     ]
    },
    {
     "name": "stderr",
     "output_type": "stream",
     "text": [
      "C:\\Users\\User\\AppData\\Local\\Temp\\ipykernel_1544\\2318987598.py:16: FutureWarning: the 'smoothing_slope'' keyword is deprecated, use 'smoothing_trend' instead.\n",
      "  ets_fit = ets_model.fit(smoothing_level=a, smoothing_slope=b, smoothing_seasonal=g)\n",
      "C:\\Users\\User\\anaconda3\\lib\\site-packages\\statsmodels\\tsa\\holtwinters\\model.py:83: RuntimeWarning: overflow encountered in matmul\n",
      "  return err.T @ err\n",
      "C:\\Users\\User\\AppData\\Local\\Temp\\ipykernel_1544\\2318987598.py:16: FutureWarning: the 'smoothing_slope'' keyword is deprecated, use 'smoothing_trend' instead.\n",
      "  ets_fit = ets_model.fit(smoothing_level=a, smoothing_slope=b, smoothing_seasonal=g)\n",
      "C:\\Users\\User\\anaconda3\\lib\\site-packages\\statsmodels\\tsa\\holtwinters\\model.py:83: RuntimeWarning: overflow encountered in matmul\n",
      "  return err.T @ err\n",
      "C:\\Users\\User\\AppData\\Local\\Temp\\ipykernel_1544\\2318987598.py:16: FutureWarning: the 'smoothing_slope'' keyword is deprecated, use 'smoothing_trend' instead.\n",
      "  ets_fit = ets_model.fit(smoothing_level=a, smoothing_slope=b, smoothing_seasonal=g)\n",
      "C:\\Users\\User\\anaconda3\\lib\\site-packages\\statsmodels\\tsa\\holtwinters\\model.py:83: RuntimeWarning: overflow encountered in matmul\n",
      "  return err.T @ err\n",
      "C:\\Users\\User\\AppData\\Local\\Temp\\ipykernel_1544\\2318987598.py:16: FutureWarning: the 'smoothing_slope'' keyword is deprecated, use 'smoothing_trend' instead.\n",
      "  ets_fit = ets_model.fit(smoothing_level=a, smoothing_slope=b, smoothing_seasonal=g)\n",
      "C:\\Users\\User\\anaconda3\\lib\\site-packages\\statsmodels\\tsa\\holtwinters\\model.py:83: RuntimeWarning: overflow encountered in matmul\n",
      "  return err.T @ err\n",
      "C:\\Users\\User\\AppData\\Local\\Temp\\ipykernel_1544\\2318987598.py:16: FutureWarning: the 'smoothing_slope'' keyword is deprecated, use 'smoothing_trend' instead.\n",
      "  ets_fit = ets_model.fit(smoothing_level=a, smoothing_slope=b, smoothing_seasonal=g)\n",
      "C:\\Users\\User\\anaconda3\\lib\\site-packages\\statsmodels\\tsa\\holtwinters\\model.py:83: RuntimeWarning: overflow encountered in matmul\n",
      "  return err.T @ err\n",
      "C:\\Users\\User\\AppData\\Local\\Temp\\ipykernel_1544\\2318987598.py:16: FutureWarning: the 'smoothing_slope'' keyword is deprecated, use 'smoothing_trend' instead.\n",
      "  ets_fit = ets_model.fit(smoothing_level=a, smoothing_slope=b, smoothing_seasonal=g)\n"
     ]
    },
    {
     "name": "stdout",
     "output_type": "stream",
     "text": [
      "MAE = 0.15830771656077428 for alpha 0.33, beta 0.44, gamma 0.22\n",
      "MAE = 0.174506355479724 for alpha 0.33, beta 0.44, gamma 0.33\n",
      "MAE = 0.20889665286694536 for alpha 0.33, beta 0.44, gamma 0.44\n",
      "MAE = 0.2569308017172718 for alpha 0.33, beta 0.44, gamma 0.55\n",
      "MAE = 0.23916195561987388 for alpha 0.33, beta 0.44, gamma 0.66\n",
      "MAE = 0.2307379488764996 for alpha 0.33, beta 0.44, gamma 0.77\n",
      "MAE = 0.2802639684090209 for alpha 0.33, beta 0.44, gamma 0.88\n"
     ]
    },
    {
     "name": "stderr",
     "output_type": "stream",
     "text": [
      "C:\\Users\\User\\anaconda3\\lib\\site-packages\\statsmodels\\tsa\\holtwinters\\model.py:83: RuntimeWarning: overflow encountered in matmul\n",
      "  return err.T @ err\n",
      "C:\\Users\\User\\AppData\\Local\\Temp\\ipykernel_1544\\2318987598.py:16: FutureWarning: the 'smoothing_slope'' keyword is deprecated, use 'smoothing_trend' instead.\n",
      "  ets_fit = ets_model.fit(smoothing_level=a, smoothing_slope=b, smoothing_seasonal=g)\n",
      "C:\\Users\\User\\anaconda3\\lib\\site-packages\\statsmodels\\tsa\\holtwinters\\model.py:83: RuntimeWarning: overflow encountered in matmul\n",
      "  return err.T @ err\n",
      "C:\\Users\\User\\AppData\\Local\\Temp\\ipykernel_1544\\2318987598.py:16: FutureWarning: the 'smoothing_slope'' keyword is deprecated, use 'smoothing_trend' instead.\n",
      "  ets_fit = ets_model.fit(smoothing_level=a, smoothing_slope=b, smoothing_seasonal=g)\n",
      "C:\\Users\\User\\AppData\\Local\\Temp\\ipykernel_1544\\2318987598.py:16: FutureWarning: the 'smoothing_slope'' keyword is deprecated, use 'smoothing_trend' instead.\n",
      "  ets_fit = ets_model.fit(smoothing_level=a, smoothing_slope=b, smoothing_seasonal=g)\n",
      "C:\\Users\\User\\AppData\\Local\\Temp\\ipykernel_1544\\2318987598.py:16: FutureWarning: the 'smoothing_slope'' keyword is deprecated, use 'smoothing_trend' instead.\n",
      "  ets_fit = ets_model.fit(smoothing_level=a, smoothing_slope=b, smoothing_seasonal=g)\n",
      "C:\\Users\\User\\anaconda3\\lib\\site-packages\\statsmodels\\tsa\\holtwinters\\model.py:83: RuntimeWarning: overflow encountered in matmul\n",
      "  return err.T @ err\n",
      "C:\\Users\\User\\AppData\\Local\\Temp\\ipykernel_1544\\2318987598.py:16: FutureWarning: the 'smoothing_slope'' keyword is deprecated, use 'smoothing_trend' instead.\n",
      "  ets_fit = ets_model.fit(smoothing_level=a, smoothing_slope=b, smoothing_seasonal=g)\n",
      "C:\\Users\\User\\anaconda3\\lib\\site-packages\\statsmodels\\tsa\\holtwinters\\model.py:83: RuntimeWarning: overflow encountered in matmul\n",
      "  return err.T @ err\n",
      "C:\\Users\\User\\AppData\\Local\\Temp\\ipykernel_1544\\2318987598.py:16: FutureWarning: the 'smoothing_slope'' keyword is deprecated, use 'smoothing_trend' instead.\n",
      "  ets_fit = ets_model.fit(smoothing_level=a, smoothing_slope=b, smoothing_seasonal=g)\n",
      "C:\\Users\\User\\anaconda3\\lib\\site-packages\\statsmodels\\tsa\\holtwinters\\model.py:83: RuntimeWarning: overflow encountered in matmul\n",
      "  return err.T @ err\n"
     ]
    },
    {
     "name": "stdout",
     "output_type": "stream",
     "text": [
      "MAE = 0.5072113653639954 for alpha 0.33, beta 0.44, gamma 0.99\n",
      "MAE = 0.2858326529466991 for alpha 0.33, beta 0.55, gamma 0.0\n",
      "MAE = 0.23140645406893615 for alpha 0.33, beta 0.55, gamma 0.11\n",
      "MAE = 0.1810051546238626 for alpha 0.33, beta 0.55, gamma 0.22\n",
      "MAE = 0.16207194519831802 for alpha 0.33, beta 0.55, gamma 0.33\n",
      "MAE = 0.17272253323950737 for alpha 0.33, beta 0.55, gamma 0.44\n"
     ]
    },
    {
     "name": "stderr",
     "output_type": "stream",
     "text": [
      "C:\\Users\\User\\AppData\\Local\\Temp\\ipykernel_1544\\2318987598.py:16: FutureWarning: the 'smoothing_slope'' keyword is deprecated, use 'smoothing_trend' instead.\n",
      "  ets_fit = ets_model.fit(smoothing_level=a, smoothing_slope=b, smoothing_seasonal=g)\n",
      "C:\\Users\\User\\anaconda3\\lib\\site-packages\\statsmodels\\tsa\\holtwinters\\model.py:83: RuntimeWarning: overflow encountered in matmul\n",
      "  return err.T @ err\n",
      "C:\\Users\\User\\AppData\\Local\\Temp\\ipykernel_1544\\2318987598.py:16: FutureWarning: the 'smoothing_slope'' keyword is deprecated, use 'smoothing_trend' instead.\n",
      "  ets_fit = ets_model.fit(smoothing_level=a, smoothing_slope=b, smoothing_seasonal=g)\n",
      "C:\\Users\\User\\anaconda3\\lib\\site-packages\\statsmodels\\tsa\\holtwinters\\model.py:83: RuntimeWarning: overflow encountered in matmul\n",
      "  return err.T @ err\n",
      "C:\\Users\\User\\AppData\\Local\\Temp\\ipykernel_1544\\2318987598.py:16: FutureWarning: the 'smoothing_slope'' keyword is deprecated, use 'smoothing_trend' instead.\n",
      "  ets_fit = ets_model.fit(smoothing_level=a, smoothing_slope=b, smoothing_seasonal=g)\n",
      "C:\\Users\\User\\AppData\\Local\\Temp\\ipykernel_1544\\2318987598.py:16: FutureWarning: the 'smoothing_slope'' keyword is deprecated, use 'smoothing_trend' instead.\n",
      "  ets_fit = ets_model.fit(smoothing_level=a, smoothing_slope=b, smoothing_seasonal=g)\n",
      "C:\\Users\\User\\anaconda3\\lib\\site-packages\\statsmodels\\tsa\\holtwinters\\model.py:83: RuntimeWarning: overflow encountered in matmul\n",
      "  return err.T @ err\n",
      "C:\\Users\\User\\AppData\\Local\\Temp\\ipykernel_1544\\2318987598.py:16: FutureWarning: the 'smoothing_slope'' keyword is deprecated, use 'smoothing_trend' instead.\n",
      "  ets_fit = ets_model.fit(smoothing_level=a, smoothing_slope=b, smoothing_seasonal=g)\n",
      "C:\\Users\\User\\anaconda3\\lib\\site-packages\\statsmodels\\tsa\\holtwinters\\model.py:83: RuntimeWarning: overflow encountered in matmul\n",
      "  return err.T @ err\n",
      "C:\\Users\\User\\AppData\\Local\\Temp\\ipykernel_1544\\2318987598.py:16: FutureWarning: the 'smoothing_slope'' keyword is deprecated, use 'smoothing_trend' instead.\n",
      "  ets_fit = ets_model.fit(smoothing_level=a, smoothing_slope=b, smoothing_seasonal=g)\n",
      "C:\\Users\\User\\AppData\\Local\\Temp\\ipykernel_1544\\2318987598.py:16: FutureWarning: the 'smoothing_slope'' keyword is deprecated, use 'smoothing_trend' instead.\n",
      "  ets_fit = ets_model.fit(smoothing_level=a, smoothing_slope=b, smoothing_seasonal=g)\n",
      "C:\\Users\\User\\anaconda3\\lib\\site-packages\\statsmodels\\tsa\\holtwinters\\model.py:83: RuntimeWarning: overflow encountered in matmul\n",
      "  return err.T @ err\n"
     ]
    },
    {
     "name": "stdout",
     "output_type": "stream",
     "text": [
      "MAE = 0.19834765544306712 for alpha 0.33, beta 0.55, gamma 0.55\n",
      "MAE = 0.18825654049007592 for alpha 0.33, beta 0.55, gamma 0.66\n",
      "MAE = 0.17786175943809704 for alpha 0.33, beta 0.55, gamma 0.77\n",
      "MAE = 0.21487313310062173 for alpha 0.33, beta 0.55, gamma 0.88\n",
      "MAE = 1.158212515786463 for alpha 0.33, beta 0.55, gamma 0.99\n",
      "MAE = 0.40092383830246064 for alpha 0.33, beta 0.66, gamma 0.0\n",
      "MAE = 0.31197285610951025 for alpha 0.33, beta 0.66, gamma 0.11\n",
      "MAE = 0.2311980335892839 for alpha 0.33, beta 0.66, gamma 0.22\n"
     ]
    },
    {
     "name": "stderr",
     "output_type": "stream",
     "text": [
      "C:\\Users\\User\\AppData\\Local\\Temp\\ipykernel_1544\\2318987598.py:16: FutureWarning: the 'smoothing_slope'' keyword is deprecated, use 'smoothing_trend' instead.\n",
      "  ets_fit = ets_model.fit(smoothing_level=a, smoothing_slope=b, smoothing_seasonal=g)\n",
      "C:\\Users\\User\\anaconda3\\lib\\site-packages\\statsmodels\\tsa\\holtwinters\\model.py:83: RuntimeWarning: overflow encountered in matmul\n",
      "  return err.T @ err\n",
      "C:\\Users\\User\\AppData\\Local\\Temp\\ipykernel_1544\\2318987598.py:16: FutureWarning: the 'smoothing_slope'' keyword is deprecated, use 'smoothing_trend' instead.\n",
      "  ets_fit = ets_model.fit(smoothing_level=a, smoothing_slope=b, smoothing_seasonal=g)\n",
      "C:\\Users\\User\\AppData\\Local\\Temp\\ipykernel_1544\\2318987598.py:16: FutureWarning: the 'smoothing_slope'' keyword is deprecated, use 'smoothing_trend' instead.\n",
      "  ets_fit = ets_model.fit(smoothing_level=a, smoothing_slope=b, smoothing_seasonal=g)\n",
      "C:\\Users\\User\\anaconda3\\lib\\site-packages\\statsmodels\\tsa\\holtwinters\\model.py:83: RuntimeWarning: overflow encountered in matmul\n",
      "  return err.T @ err\n",
      "C:\\Users\\User\\AppData\\Local\\Temp\\ipykernel_1544\\2318987598.py:16: FutureWarning: the 'smoothing_slope'' keyword is deprecated, use 'smoothing_trend' instead.\n",
      "  ets_fit = ets_model.fit(smoothing_level=a, smoothing_slope=b, smoothing_seasonal=g)\n",
      "C:\\Users\\User\\AppData\\Local\\Temp\\ipykernel_1544\\2318987598.py:16: FutureWarning: the 'smoothing_slope'' keyword is deprecated, use 'smoothing_trend' instead.\n",
      "  ets_fit = ets_model.fit(smoothing_level=a, smoothing_slope=b, smoothing_seasonal=g)\n",
      "C:\\Users\\User\\anaconda3\\lib\\site-packages\\statsmodels\\tsa\\holtwinters\\model.py:83: RuntimeWarning: overflow encountered in matmul\n",
      "  return err.T @ err\n"
     ]
    },
    {
     "name": "stdout",
     "output_type": "stream",
     "text": [
      "MAE = 0.18919507848401307 for alpha 0.33, beta 0.66, gamma 0.33\n",
      "MAE = 0.1745343315621367 for alpha 0.33, beta 0.66, gamma 0.44\n",
      "MAE = 0.1675391278091799 for alpha 0.33, beta 0.66, gamma 0.55\n",
      "MAE = 0.17454673979822702 for alpha 0.33, beta 0.66, gamma 0.66\n",
      "MAE = 0.257348340833963 for alpha 0.33, beta 0.66, gamma 0.77\n",
      "MAE = 0.21468278380320283 for alpha 0.33, beta 0.66, gamma 0.88\n",
      "MAE = 2.626389421963997 for alpha 0.33, beta 0.66, gamma 0.99\n",
      "MAE = 0.5161890602947297 for alpha 0.33, beta 0.77, gamma 0.0"
     ]
    },
    {
     "name": "stderr",
     "output_type": "stream",
     "text": [
      "C:\\Users\\User\\AppData\\Local\\Temp\\ipykernel_1544\\2318987598.py:16: FutureWarning: the 'smoothing_slope'' keyword is deprecated, use 'smoothing_trend' instead.\n",
      "  ets_fit = ets_model.fit(smoothing_level=a, smoothing_slope=b, smoothing_seasonal=g)\n",
      "C:\\Users\\User\\AppData\\Local\\Temp\\ipykernel_1544\\2318987598.py:16: FutureWarning: the 'smoothing_slope'' keyword is deprecated, use 'smoothing_trend' instead.\n",
      "  ets_fit = ets_model.fit(smoothing_level=a, smoothing_slope=b, smoothing_seasonal=g)\n",
      "C:\\Users\\User\\anaconda3\\lib\\site-packages\\statsmodels\\tsa\\holtwinters\\model.py:83: RuntimeWarning: overflow encountered in matmul\n",
      "  return err.T @ err\n",
      "C:\\Users\\User\\AppData\\Local\\Temp\\ipykernel_1544\\2318987598.py:16: FutureWarning: the 'smoothing_slope'' keyword is deprecated, use 'smoothing_trend' instead.\n",
      "  ets_fit = ets_model.fit(smoothing_level=a, smoothing_slope=b, smoothing_seasonal=g)\n",
      "C:\\Users\\User\\AppData\\Local\\Temp\\ipykernel_1544\\2318987598.py:16: FutureWarning: the 'smoothing_slope'' keyword is deprecated, use 'smoothing_trend' instead.\n",
      "  ets_fit = ets_model.fit(smoothing_level=a, smoothing_slope=b, smoothing_seasonal=g)\n",
      "C:\\Users\\User\\AppData\\Local\\Temp\\ipykernel_1544\\2318987598.py:16: FutureWarning: the 'smoothing_slope'' keyword is deprecated, use 'smoothing_trend' instead.\n",
      "  ets_fit = ets_model.fit(smoothing_level=a, smoothing_slope=b, smoothing_seasonal=g)\n",
      "C:\\Users\\User\\anaconda3\\lib\\site-packages\\statsmodels\\tsa\\holtwinters\\model.py:83: RuntimeWarning: overflow encountered in matmul\n",
      "  return err.T @ err\n",
      "C:\\Users\\User\\AppData\\Local\\Temp\\ipykernel_1544\\2318987598.py:16: FutureWarning: the 'smoothing_slope'' keyword is deprecated, use 'smoothing_trend' instead.\n",
      "  ets_fit = ets_model.fit(smoothing_level=a, smoothing_slope=b, smoothing_seasonal=g)\n",
      "C:\\Users\\User\\AppData\\Local\\Temp\\ipykernel_1544\\2318987598.py:16: FutureWarning: the 'smoothing_slope'' keyword is deprecated, use 'smoothing_trend' instead.\n",
      "  ets_fit = ets_model.fit(smoothing_level=a, smoothing_slope=b, smoothing_seasonal=g)\n",
      "C:\\Users\\User\\anaconda3\\lib\\site-packages\\statsmodels\\tsa\\holtwinters\\model.py:83: RuntimeWarning: overflow encountered in matmul\n",
      "  return err.T @ err\n"
     ]
    },
    {
     "name": "stdout",
     "output_type": "stream",
     "text": [
      "\n",
      "MAE = 0.39224347197968945 for alpha 0.33, beta 0.77, gamma 0.11\n",
      "MAE = 0.2746691693195469 for alpha 0.33, beta 0.77, gamma 0.22\n",
      "MAE = 0.24316254556839875 for alpha 0.33, beta 0.77, gamma 0.33\n",
      "MAE = 0.21538064397043077 for alpha 0.33, beta 0.77, gamma 0.44"
     ]
    },
    {
     "name": "stderr",
     "output_type": "stream",
     "text": [
      "C:\\Users\\User\\AppData\\Local\\Temp\\ipykernel_1544\\2318987598.py:16: FutureWarning: the 'smoothing_slope'' keyword is deprecated, use 'smoothing_trend' instead.\n",
      "  ets_fit = ets_model.fit(smoothing_level=a, smoothing_slope=b, smoothing_seasonal=g)\n",
      "C:\\Users\\User\\anaconda3\\lib\\site-packages\\statsmodels\\tsa\\holtwinters\\model.py:83: RuntimeWarning: overflow encountered in matmul\n",
      "  return err.T @ err\n",
      "C:\\Users\\User\\AppData\\Local\\Temp\\ipykernel_1544\\2318987598.py:16: FutureWarning: the 'smoothing_slope'' keyword is deprecated, use 'smoothing_trend' instead.\n",
      "  ets_fit = ets_model.fit(smoothing_level=a, smoothing_slope=b, smoothing_seasonal=g)\n",
      "C:\\Users\\User\\anaconda3\\lib\\site-packages\\statsmodels\\tsa\\holtwinters\\model.py:83: RuntimeWarning: overflow encountered in matmul\n",
      "  return err.T @ err\n",
      "C:\\Users\\User\\AppData\\Local\\Temp\\ipykernel_1544\\2318987598.py:16: FutureWarning: the 'smoothing_slope'' keyword is deprecated, use 'smoothing_trend' instead.\n",
      "  ets_fit = ets_model.fit(smoothing_level=a, smoothing_slope=b, smoothing_seasonal=g)\n",
      "C:\\Users\\User\\AppData\\Local\\Temp\\ipykernel_1544\\2318987598.py:16: FutureWarning: the 'smoothing_slope'' keyword is deprecated, use 'smoothing_trend' instead.\n",
      "  ets_fit = ets_model.fit(smoothing_level=a, smoothing_slope=b, smoothing_seasonal=g)\n",
      "C:\\Users\\User\\AppData\\Local\\Temp\\ipykernel_1544\\2318987598.py:16: FutureWarning: the 'smoothing_slope'' keyword is deprecated, use 'smoothing_trend' instead.\n",
      "  ets_fit = ets_model.fit(smoothing_level=a, smoothing_slope=b, smoothing_seasonal=g)\n",
      "C:\\Users\\User\\AppData\\Local\\Temp\\ipykernel_1544\\2318987598.py:16: FutureWarning: the 'smoothing_slope'' keyword is deprecated, use 'smoothing_trend' instead.\n",
      "  ets_fit = ets_model.fit(smoothing_level=a, smoothing_slope=b, smoothing_seasonal=g)\n",
      "C:\\Users\\User\\AppData\\Local\\Temp\\ipykernel_1544\\2318987598.py:16: FutureWarning: the 'smoothing_slope'' keyword is deprecated, use 'smoothing_trend' instead.\n",
      "  ets_fit = ets_model.fit(smoothing_level=a, smoothing_slope=b, smoothing_seasonal=g)\n",
      "C:\\Users\\User\\AppData\\Local\\Temp\\ipykernel_1544\\2318987598.py:16: FutureWarning: the 'smoothing_slope'' keyword is deprecated, use 'smoothing_trend' instead.\n",
      "  ets_fit = ets_model.fit(smoothing_level=a, smoothing_slope=b, smoothing_seasonal=g)\n"
     ]
    },
    {
     "name": "stdout",
     "output_type": "stream",
     "text": [
      "\n",
      "MAE = 0.1839738704224689 for alpha 0.33, beta 0.77, gamma 0.55\n",
      "MAE = 0.18329948165073331 for alpha 0.33, beta 0.77, gamma 0.66\n",
      "MAE = 0.164075775331313 for alpha 0.33, beta 0.77, gamma 0.77\n",
      "MAE = 0.19576040773599246 for alpha 0.33, beta 0.77, gamma 0.88\n",
      "MAE = 0.9252147631286977 for alpha 0.33, beta 0.77, gamma 0.99\n",
      "MAE = 0.5068799374908766 for alpha 0.33, beta 0.88, gamma 0.0\n",
      "MAE = 0.4275710659701863 for alpha 0.33, beta 0.88, gamma 0.11\n",
      "MAE = 0.32188254518560894 for alpha 0.33, beta 0.88, gamma 0.22\n"
     ]
    },
    {
     "name": "stderr",
     "output_type": "stream",
     "text": [
      "C:\\Users\\User\\AppData\\Local\\Temp\\ipykernel_1544\\2318987598.py:16: FutureWarning: the 'smoothing_slope'' keyword is deprecated, use 'smoothing_trend' instead.\n",
      "  ets_fit = ets_model.fit(smoothing_level=a, smoothing_slope=b, smoothing_seasonal=g)\n",
      "C:\\Users\\User\\anaconda3\\lib\\site-packages\\statsmodels\\tsa\\holtwinters\\model.py:83: RuntimeWarning: overflow encountered in matmul\n",
      "  return err.T @ err\n",
      "C:\\Users\\User\\AppData\\Local\\Temp\\ipykernel_1544\\2318987598.py:16: FutureWarning: the 'smoothing_slope'' keyword is deprecated, use 'smoothing_trend' instead.\n",
      "  ets_fit = ets_model.fit(smoothing_level=a, smoothing_slope=b, smoothing_seasonal=g)\n",
      "C:\\Users\\User\\AppData\\Local\\Temp\\ipykernel_1544\\2318987598.py:16: FutureWarning: the 'smoothing_slope'' keyword is deprecated, use 'smoothing_trend' instead.\n",
      "  ets_fit = ets_model.fit(smoothing_level=a, smoothing_slope=b, smoothing_seasonal=g)\n",
      "C:\\Users\\User\\anaconda3\\lib\\site-packages\\statsmodels\\tsa\\holtwinters\\model.py:83: RuntimeWarning: overflow encountered in matmul\n",
      "  return err.T @ err\n",
      "C:\\Users\\User\\AppData\\Local\\Temp\\ipykernel_1544\\2318987598.py:16: FutureWarning: the 'smoothing_slope'' keyword is deprecated, use 'smoothing_trend' instead.\n",
      "  ets_fit = ets_model.fit(smoothing_level=a, smoothing_slope=b, smoothing_seasonal=g)\n",
      "C:\\Users\\User\\AppData\\Local\\Temp\\ipykernel_1544\\2318987598.py:16: FutureWarning: the 'smoothing_slope'' keyword is deprecated, use 'smoothing_trend' instead.\n",
      "  ets_fit = ets_model.fit(smoothing_level=a, smoothing_slope=b, smoothing_seasonal=g)\n",
      "C:\\Users\\User\\AppData\\Local\\Temp\\ipykernel_1544\\2318987598.py:16: FutureWarning: the 'smoothing_slope'' keyword is deprecated, use 'smoothing_trend' instead.\n",
      "  ets_fit = ets_model.fit(smoothing_level=a, smoothing_slope=b, smoothing_seasonal=g)\n",
      "C:\\Users\\User\\AppData\\Local\\Temp\\ipykernel_1544\\2318987598.py:16: FutureWarning: the 'smoothing_slope'' keyword is deprecated, use 'smoothing_trend' instead.\n",
      "  ets_fit = ets_model.fit(smoothing_level=a, smoothing_slope=b, smoothing_seasonal=g)\n"
     ]
    },
    {
     "name": "stdout",
     "output_type": "stream",
     "text": [
      "MAE = 0.3115604660668273 for alpha 0.33, beta 0.88, gamma 0.33\n",
      "MAE = 0.3121358576982294 for alpha 0.33, beta 0.88, gamma 0.44\n",
      "MAE = 0.2663245550368938 for alpha 0.33, beta 0.88, gamma 0.55\n",
      "MAE = 0.2204279737630261 for alpha 0.33, beta 0.88, gamma 0.66\n",
      "MAE = 0.1922203877984303 for alpha 0.33, beta 0.88, gamma 0.77\n",
      "MAE = 0.1733902408297122 for alpha 0.33, beta 0.88, gamma 0.88\n",
      "MAE = 1.0961972229916699 for alpha 0.33, beta 0.88, gamma 0.99\n",
      "MAE = 0.5747967333507288 for alpha 0.33, beta 0.99, gamma 0.0\n"
     ]
    },
    {
     "name": "stderr",
     "output_type": "stream",
     "text": [
      "C:\\Users\\User\\AppData\\Local\\Temp\\ipykernel_1544\\2318987598.py:16: FutureWarning: the 'smoothing_slope'' keyword is deprecated, use 'smoothing_trend' instead.\n",
      "  ets_fit = ets_model.fit(smoothing_level=a, smoothing_slope=b, smoothing_seasonal=g)\n",
      "C:\\Users\\User\\AppData\\Local\\Temp\\ipykernel_1544\\2318987598.py:16: FutureWarning: the 'smoothing_slope'' keyword is deprecated, use 'smoothing_trend' instead.\n",
      "  ets_fit = ets_model.fit(smoothing_level=a, smoothing_slope=b, smoothing_seasonal=g)\n",
      "C:\\Users\\User\\AppData\\Local\\Temp\\ipykernel_1544\\2318987598.py:16: FutureWarning: the 'smoothing_slope'' keyword is deprecated, use 'smoothing_trend' instead.\n",
      "  ets_fit = ets_model.fit(smoothing_level=a, smoothing_slope=b, smoothing_seasonal=g)\n",
      "C:\\Users\\User\\AppData\\Local\\Temp\\ipykernel_1544\\2318987598.py:16: FutureWarning: the 'smoothing_slope'' keyword is deprecated, use 'smoothing_trend' instead.\n",
      "  ets_fit = ets_model.fit(smoothing_level=a, smoothing_slope=b, smoothing_seasonal=g)\n",
      "C:\\Users\\User\\anaconda3\\lib\\site-packages\\statsmodels\\tsa\\holtwinters\\model.py:83: RuntimeWarning: overflow encountered in matmul\n",
      "  return err.T @ err\n",
      "C:\\Users\\User\\AppData\\Local\\Temp\\ipykernel_1544\\2318987598.py:16: FutureWarning: the 'smoothing_slope'' keyword is deprecated, use 'smoothing_trend' instead.\n",
      "  ets_fit = ets_model.fit(smoothing_level=a, smoothing_slope=b, smoothing_seasonal=g)\n",
      "C:\\Users\\User\\AppData\\Local\\Temp\\ipykernel_1544\\2318987598.py:16: FutureWarning: the 'smoothing_slope'' keyword is deprecated, use 'smoothing_trend' instead.\n",
      "  ets_fit = ets_model.fit(smoothing_level=a, smoothing_slope=b, smoothing_seasonal=g)\n",
      "C:\\Users\\User\\anaconda3\\lib\\site-packages\\statsmodels\\tsa\\holtwinters\\model.py:83: RuntimeWarning: overflow encountered in matmul\n",
      "  return err.T @ err\n"
     ]
    },
    {
     "name": "stdout",
     "output_type": "stream",
     "text": [
      "MAE = 0.4185805868588666 for alpha 0.33, beta 0.99, gamma 0.11\n",
      "MAE = 0.34068157442617686 for alpha 0.33, beta 0.99, gamma 0.22\n",
      "MAE = 0.4419605384072593 for alpha 0.33, beta 0.99, gamma 0.33\n",
      "MAE = 0.4456352670324133 for alpha 0.33, beta 0.99, gamma 0.44\n",
      "MAE = 0.3390336938007265 for alpha 0.33, beta 0.99, gamma 0.55"
     ]
    },
    {
     "name": "stderr",
     "output_type": "stream",
     "text": [
      "C:\\Users\\User\\AppData\\Local\\Temp\\ipykernel_1544\\2318987598.py:16: FutureWarning: the 'smoothing_slope'' keyword is deprecated, use 'smoothing_trend' instead.\n",
      "  ets_fit = ets_model.fit(smoothing_level=a, smoothing_slope=b, smoothing_seasonal=g)\n",
      "C:\\Users\\User\\AppData\\Local\\Temp\\ipykernel_1544\\2318987598.py:16: FutureWarning: the 'smoothing_slope'' keyword is deprecated, use 'smoothing_trend' instead.\n",
      "  ets_fit = ets_model.fit(smoothing_level=a, smoothing_slope=b, smoothing_seasonal=g)\n",
      "C:\\Users\\User\\AppData\\Local\\Temp\\ipykernel_1544\\2318987598.py:16: FutureWarning: the 'smoothing_slope'' keyword is deprecated, use 'smoothing_trend' instead.\n",
      "  ets_fit = ets_model.fit(smoothing_level=a, smoothing_slope=b, smoothing_seasonal=g)\n",
      "C:\\Users\\User\\AppData\\Local\\Temp\\ipykernel_1544\\2318987598.py:16: FutureWarning: the 'smoothing_slope'' keyword is deprecated, use 'smoothing_trend' instead.\n",
      "  ets_fit = ets_model.fit(smoothing_level=a, smoothing_slope=b, smoothing_seasonal=g)\n",
      "C:\\Users\\User\\AppData\\Local\\Temp\\ipykernel_1544\\2318987598.py:16: FutureWarning: the 'smoothing_slope'' keyword is deprecated, use 'smoothing_trend' instead.\n",
      "  ets_fit = ets_model.fit(smoothing_level=a, smoothing_slope=b, smoothing_seasonal=g)\n",
      "C:\\Users\\User\\AppData\\Local\\Temp\\ipykernel_1544\\2318987598.py:16: FutureWarning: the 'smoothing_slope'' keyword is deprecated, use 'smoothing_trend' instead.\n",
      "  ets_fit = ets_model.fit(smoothing_level=a, smoothing_slope=b, smoothing_seasonal=g)\n",
      "C:\\Users\\User\\AppData\\Local\\Temp\\ipykernel_1544\\2318987598.py:16: FutureWarning: the 'smoothing_slope'' keyword is deprecated, use 'smoothing_trend' instead.\n",
      "  ets_fit = ets_model.fit(smoothing_level=a, smoothing_slope=b, smoothing_seasonal=g)\n",
      "C:\\Users\\User\\anaconda3\\lib\\site-packages\\statsmodels\\tsa\\holtwinters\\model.py:83: RuntimeWarning: overflow encountered in matmul\n",
      "  return err.T @ err\n",
      "C:\\Users\\User\\AppData\\Local\\Temp\\ipykernel_1544\\2318987598.py:16: FutureWarning: the 'smoothing_slope'' keyword is deprecated, use 'smoothing_trend' instead.\n",
      "  ets_fit = ets_model.fit(smoothing_level=a, smoothing_slope=b, smoothing_seasonal=g)\n",
      "C:\\Users\\User\\anaconda3\\lib\\site-packages\\statsmodels\\tsa\\holtwinters\\model.py:83: RuntimeWarning: overflow encountered in matmul\n",
      "  return err.T @ err\n",
      "C:\\Users\\User\\AppData\\Local\\Temp\\ipykernel_1544\\2318987598.py:16: FutureWarning: the 'smoothing_slope'' keyword is deprecated, use 'smoothing_trend' instead.\n",
      "  ets_fit = ets_model.fit(smoothing_level=a, smoothing_slope=b, smoothing_seasonal=g)\n"
     ]
    },
    {
     "name": "stdout",
     "output_type": "stream",
     "text": [
      "\n",
      "MAE = 0.33745743216221386 for alpha 0.33, beta 0.99, gamma 0.66\n",
      "MAE = 0.1341853639613922 for alpha 0.33, beta 0.99, gamma 0.77\n",
      "MAE = 0.15337893443518205 for alpha 0.33, beta 0.99, gamma 0.88\n",
      "MAE = 8.132085069292545 for alpha 0.33, beta 0.99, gamma 0.99\n",
      "MAE = 0.1742832083637339 for alpha 0.44, beta 0.0, gamma 0.0\n",
      "MAE = 0.1752279730152694 for alpha 0.44, beta 0.0, gamma 0.11\n",
      "MAE = 0.16316316611845494 for alpha 0.44, beta 0.0, gamma 0.22\n",
      "MAE = 0.16855029888221149 for alpha 0.44, beta 0.0, gamma 0.33\n",
      "MAE = 0.1593606301419872 for alpha 0.44, beta 0.0, gamma 0.44\n",
      "MAE = 0.16638243164158356 for alpha 0.44, beta 0.0, gamma 0.55\n",
      "MAE = 0.16501454898271628 for alpha 0.44, beta 0.0, gamma 0.66\n",
      "MAE = 0.1597004183805721 for alpha 0.44, beta 0.0, gamma 0.77\n",
      "MAE = 0.17445806080605628 for alpha 0.44, beta 0.0, gamma 0.88\n"
     ]
    },
    {
     "name": "stderr",
     "output_type": "stream",
     "text": [
      "C:\\Users\\User\\AppData\\Local\\Temp\\ipykernel_1544\\2318987598.py:16: FutureWarning: the 'smoothing_slope'' keyword is deprecated, use 'smoothing_trend' instead.\n",
      "  ets_fit = ets_model.fit(smoothing_level=a, smoothing_slope=b, smoothing_seasonal=g)\n",
      "C:\\Users\\User\\AppData\\Local\\Temp\\ipykernel_1544\\2318987598.py:16: FutureWarning: the 'smoothing_slope'' keyword is deprecated, use 'smoothing_trend' instead.\n",
      "  ets_fit = ets_model.fit(smoothing_level=a, smoothing_slope=b, smoothing_seasonal=g)\n",
      "C:\\Users\\User\\AppData\\Local\\Temp\\ipykernel_1544\\2318987598.py:16: FutureWarning: the 'smoothing_slope'' keyword is deprecated, use 'smoothing_trend' instead.\n",
      "  ets_fit = ets_model.fit(smoothing_level=a, smoothing_slope=b, smoothing_seasonal=g)\n",
      "C:\\Users\\User\\AppData\\Local\\Temp\\ipykernel_1544\\2318987598.py:16: FutureWarning: the 'smoothing_slope'' keyword is deprecated, use 'smoothing_trend' instead.\n",
      "  ets_fit = ets_model.fit(smoothing_level=a, smoothing_slope=b, smoothing_seasonal=g)\n",
      "C:\\Users\\User\\AppData\\Local\\Temp\\ipykernel_1544\\2318987598.py:16: FutureWarning: the 'smoothing_slope'' keyword is deprecated, use 'smoothing_trend' instead.\n",
      "  ets_fit = ets_model.fit(smoothing_level=a, smoothing_slope=b, smoothing_seasonal=g)\n",
      "C:\\Users\\User\\AppData\\Local\\Temp\\ipykernel_1544\\2318987598.py:16: FutureWarning: the 'smoothing_slope'' keyword is deprecated, use 'smoothing_trend' instead.\n",
      "  ets_fit = ets_model.fit(smoothing_level=a, smoothing_slope=b, smoothing_seasonal=g)\n",
      "C:\\Users\\User\\AppData\\Local\\Temp\\ipykernel_1544\\2318987598.py:16: FutureWarning: the 'smoothing_slope'' keyword is deprecated, use 'smoothing_trend' instead.\n",
      "  ets_fit = ets_model.fit(smoothing_level=a, smoothing_slope=b, smoothing_seasonal=g)\n",
      "C:\\Users\\User\\AppData\\Local\\Temp\\ipykernel_1544\\2318987598.py:16: FutureWarning: the 'smoothing_slope'' keyword is deprecated, use 'smoothing_trend' instead.\n",
      "  ets_fit = ets_model.fit(smoothing_level=a, smoothing_slope=b, smoothing_seasonal=g)\n",
      "C:\\Users\\User\\anaconda3\\lib\\site-packages\\statsmodels\\tsa\\holtwinters\\model.py:83: RuntimeWarning: overflow encountered in matmul\n",
      "  return err.T @ err\n",
      "C:\\Users\\User\\AppData\\Local\\Temp\\ipykernel_1544\\2318987598.py:16: FutureWarning: the 'smoothing_slope'' keyword is deprecated, use 'smoothing_trend' instead.\n",
      "  ets_fit = ets_model.fit(smoothing_level=a, smoothing_slope=b, smoothing_seasonal=g)\n",
      "C:\\Users\\User\\anaconda3\\lib\\site-packages\\statsmodels\\tsa\\holtwinters\\model.py:83: RuntimeWarning: overflow encountered in matmul\n",
      "  return err.T @ err\n",
      "C:\\Users\\User\\AppData\\Local\\Temp\\ipykernel_1544\\2318987598.py:16: FutureWarning: the 'smoothing_slope'' keyword is deprecated, use 'smoothing_trend' instead.\n",
      "  ets_fit = ets_model.fit(smoothing_level=a, smoothing_slope=b, smoothing_seasonal=g)\n",
      "C:\\Users\\User\\anaconda3\\lib\\site-packages\\statsmodels\\tsa\\holtwinters\\model.py:83: RuntimeWarning: overflow encountered in matmul\n",
      "  return err.T @ err\n",
      "C:\\Users\\User\\AppData\\Local\\Temp\\ipykernel_1544\\2318987598.py:16: FutureWarning: the 'smoothing_slope'' keyword is deprecated, use 'smoothing_trend' instead.\n",
      "  ets_fit = ets_model.fit(smoothing_level=a, smoothing_slope=b, smoothing_seasonal=g)\n",
      "C:\\Users\\User\\anaconda3\\lib\\site-packages\\statsmodels\\tsa\\holtwinters\\model.py:83: RuntimeWarning: overflow encountered in matmul\n",
      "  return err.T @ err\n"
     ]
    },
    {
     "name": "stdout",
     "output_type": "stream",
     "text": [
      "MAE = 0.23866281351499094 for alpha 0.44, beta 0.0, gamma 0.99\n",
      "MAE = 0.17715062788401656 for alpha 0.44, beta 0.11, gamma 0.0\n",
      "MAE = 0.16701098816236584 for alpha 0.44, beta 0.11, gamma 0.11\n",
      "MAE = 0.15883641326574233 for alpha 0.44, beta 0.11, gamma 0.22\n",
      "MAE = 0.15196650392600053 for alpha 0.44, beta 0.11, gamma 0.33\n",
      "MAE = 0.1532137847433479 for alpha 0.44, beta 0.11, gamma 0.44\n"
     ]
    },
    {
     "name": "stderr",
     "output_type": "stream",
     "text": [
      "C:\\Users\\User\\AppData\\Local\\Temp\\ipykernel_1544\\2318987598.py:16: FutureWarning: the 'smoothing_slope'' keyword is deprecated, use 'smoothing_trend' instead.\n",
      "  ets_fit = ets_model.fit(smoothing_level=a, smoothing_slope=b, smoothing_seasonal=g)\n",
      "C:\\Users\\User\\anaconda3\\lib\\site-packages\\statsmodels\\tsa\\holtwinters\\model.py:83: RuntimeWarning: overflow encountered in matmul\n",
      "  return err.T @ err\n",
      "C:\\Users\\User\\AppData\\Local\\Temp\\ipykernel_1544\\2318987598.py:16: FutureWarning: the 'smoothing_slope'' keyword is deprecated, use 'smoothing_trend' instead.\n",
      "  ets_fit = ets_model.fit(smoothing_level=a, smoothing_slope=b, smoothing_seasonal=g)\n",
      "C:\\Users\\User\\anaconda3\\lib\\site-packages\\statsmodels\\tsa\\holtwinters\\model.py:83: RuntimeWarning: overflow encountered in matmul\n",
      "  return err.T @ err\n",
      "C:\\Users\\User\\AppData\\Local\\Temp\\ipykernel_1544\\2318987598.py:16: FutureWarning: the 'smoothing_slope'' keyword is deprecated, use 'smoothing_trend' instead.\n",
      "  ets_fit = ets_model.fit(smoothing_level=a, smoothing_slope=b, smoothing_seasonal=g)\n",
      "C:\\Users\\User\\AppData\\Local\\Temp\\ipykernel_1544\\2318987598.py:16: FutureWarning: the 'smoothing_slope'' keyword is deprecated, use 'smoothing_trend' instead.\n",
      "  ets_fit = ets_model.fit(smoothing_level=a, smoothing_slope=b, smoothing_seasonal=g)\n",
      "C:\\Users\\User\\AppData\\Local\\Temp\\ipykernel_1544\\2318987598.py:16: FutureWarning: the 'smoothing_slope'' keyword is deprecated, use 'smoothing_trend' instead.\n",
      "  ets_fit = ets_model.fit(smoothing_level=a, smoothing_slope=b, smoothing_seasonal=g)\n",
      "C:\\Users\\User\\AppData\\Local\\Temp\\ipykernel_1544\\2318987598.py:16: FutureWarning: the 'smoothing_slope'' keyword is deprecated, use 'smoothing_trend' instead.\n",
      "  ets_fit = ets_model.fit(smoothing_level=a, smoothing_slope=b, smoothing_seasonal=g)\n",
      "C:\\Users\\User\\AppData\\Local\\Temp\\ipykernel_1544\\2318987598.py:16: FutureWarning: the 'smoothing_slope'' keyword is deprecated, use 'smoothing_trend' instead.\n",
      "  ets_fit = ets_model.fit(smoothing_level=a, smoothing_slope=b, smoothing_seasonal=g)\n",
      "C:\\Users\\User\\anaconda3\\lib\\site-packages\\statsmodels\\tsa\\holtwinters\\model.py:83: RuntimeWarning: overflow encountered in matmul\n",
      "  return err.T @ err\n",
      "C:\\Users\\User\\AppData\\Local\\Temp\\ipykernel_1544\\2318987598.py:16: FutureWarning: the 'smoothing_slope'' keyword is deprecated, use 'smoothing_trend' instead.\n",
      "  ets_fit = ets_model.fit(smoothing_level=a, smoothing_slope=b, smoothing_seasonal=g)\n",
      "C:\\Users\\User\\anaconda3\\lib\\site-packages\\statsmodels\\tsa\\holtwinters\\model.py:83: RuntimeWarning: overflow encountered in matmul\n",
      "  return err.T @ err\n"
     ]
    },
    {
     "name": "stdout",
     "output_type": "stream",
     "text": [
      "MAE = 0.15900800671700865 for alpha 0.44, beta 0.11, gamma 0.55\n",
      "MAE = 0.15879033448100943 for alpha 0.44, beta 0.11, gamma 0.66\n",
      "MAE = 0.1581160971741056 for alpha 0.44, beta 0.11, gamma 0.77\n",
      "MAE = 0.17557443197445133 for alpha 0.44, beta 0.11, gamma 0.88\n",
      "MAE = 0.2378143185864575 for alpha 0.44, beta 0.11, gamma 0.99\n",
      "MAE = 0.20313585459490194 for alpha 0.44, beta 0.22, gamma 0.0\n",
      "MAE = 0.1913821529177815 for alpha 0.44, beta 0.22, gamma 0.11\n"
     ]
    },
    {
     "name": "stderr",
     "output_type": "stream",
     "text": [
      "C:\\Users\\User\\AppData\\Local\\Temp\\ipykernel_1544\\2318987598.py:16: FutureWarning: the 'smoothing_slope'' keyword is deprecated, use 'smoothing_trend' instead.\n",
      "  ets_fit = ets_model.fit(smoothing_level=a, smoothing_slope=b, smoothing_seasonal=g)\n",
      "C:\\Users\\User\\anaconda3\\lib\\site-packages\\statsmodels\\tsa\\holtwinters\\model.py:83: RuntimeWarning: overflow encountered in matmul\n",
      "  return err.T @ err\n",
      "C:\\Users\\User\\AppData\\Local\\Temp\\ipykernel_1544\\2318987598.py:16: FutureWarning: the 'smoothing_slope'' keyword is deprecated, use 'smoothing_trend' instead.\n",
      "  ets_fit = ets_model.fit(smoothing_level=a, smoothing_slope=b, smoothing_seasonal=g)\n",
      "C:\\Users\\User\\AppData\\Local\\Temp\\ipykernel_1544\\2318987598.py:16: FutureWarning: the 'smoothing_slope'' keyword is deprecated, use 'smoothing_trend' instead.\n",
      "  ets_fit = ets_model.fit(smoothing_level=a, smoothing_slope=b, smoothing_seasonal=g)\n",
      "C:\\Users\\User\\anaconda3\\lib\\site-packages\\statsmodels\\tsa\\holtwinters\\model.py:83: RuntimeWarning: overflow encountered in matmul\n",
      "  return err.T @ err\n",
      "C:\\Users\\User\\AppData\\Local\\Temp\\ipykernel_1544\\2318987598.py:16: FutureWarning: the 'smoothing_slope'' keyword is deprecated, use 'smoothing_trend' instead.\n",
      "  ets_fit = ets_model.fit(smoothing_level=a, smoothing_slope=b, smoothing_seasonal=g)\n",
      "C:\\Users\\User\\AppData\\Local\\Temp\\ipykernel_1544\\2318987598.py:16: FutureWarning: the 'smoothing_slope'' keyword is deprecated, use 'smoothing_trend' instead.\n",
      "  ets_fit = ets_model.fit(smoothing_level=a, smoothing_slope=b, smoothing_seasonal=g)\n",
      "C:\\Users\\User\\anaconda3\\lib\\site-packages\\statsmodels\\tsa\\holtwinters\\model.py:83: RuntimeWarning: overflow encountered in matmul\n",
      "  return err.T @ err\n",
      "C:\\Users\\User\\AppData\\Local\\Temp\\ipykernel_1544\\2318987598.py:16: FutureWarning: the 'smoothing_slope'' keyword is deprecated, use 'smoothing_trend' instead.\n",
      "  ets_fit = ets_model.fit(smoothing_level=a, smoothing_slope=b, smoothing_seasonal=g)\n"
     ]
    },
    {
     "name": "stdout",
     "output_type": "stream",
     "text": [
      "MAE = 0.17585045066635308 for alpha 0.44, beta 0.22, gamma 0.22\n",
      "MAE = 0.15722185092425578 for alpha 0.44, beta 0.22, gamma 0.33\n",
      "MAE = 0.1599162848620537 for alpha 0.44, beta 0.22, gamma 0.44\n",
      "MAE = 0.1672951177790973 for alpha 0.44, beta 0.22, gamma 0.55\n",
      "MAE = 0.16407634111146047 for alpha 0.44, beta 0.22, gamma 0.66\n",
      "MAE = 0.15996497563327702 for alpha 0.44, beta 0.22, gamma 0.77\n",
      "MAE = 0.16620360407841053 for alpha 0.44, beta 0.22, gamma 0.88\n",
      "MAE = 0.23244410880628466 for alpha 0.44, beta 0.22, gamma 0.99\n"
     ]
    },
    {
     "name": "stderr",
     "output_type": "stream",
     "text": [
      "C:\\Users\\User\\AppData\\Local\\Temp\\ipykernel_1544\\2318987598.py:16: FutureWarning: the 'smoothing_slope'' keyword is deprecated, use 'smoothing_trend' instead.\n",
      "  ets_fit = ets_model.fit(smoothing_level=a, smoothing_slope=b, smoothing_seasonal=g)\n",
      "C:\\Users\\User\\AppData\\Local\\Temp\\ipykernel_1544\\2318987598.py:16: FutureWarning: the 'smoothing_slope'' keyword is deprecated, use 'smoothing_trend' instead.\n",
      "  ets_fit = ets_model.fit(smoothing_level=a, smoothing_slope=b, smoothing_seasonal=g)\n",
      "C:\\Users\\User\\anaconda3\\lib\\site-packages\\statsmodels\\tsa\\holtwinters\\model.py:83: RuntimeWarning: overflow encountered in matmul\n",
      "  return err.T @ err\n",
      "C:\\Users\\User\\AppData\\Local\\Temp\\ipykernel_1544\\2318987598.py:16: FutureWarning: the 'smoothing_slope'' keyword is deprecated, use 'smoothing_trend' instead.\n",
      "  ets_fit = ets_model.fit(smoothing_level=a, smoothing_slope=b, smoothing_seasonal=g)\n",
      "C:\\Users\\User\\anaconda3\\lib\\site-packages\\statsmodels\\tsa\\holtwinters\\model.py:83: RuntimeWarning: overflow encountered in matmul\n",
      "  return err.T @ err\n",
      "C:\\Users\\User\\AppData\\Local\\Temp\\ipykernel_1544\\2318987598.py:16: FutureWarning: the 'smoothing_slope'' keyword is deprecated, use 'smoothing_trend' instead.\n",
      "  ets_fit = ets_model.fit(smoothing_level=a, smoothing_slope=b, smoothing_seasonal=g)\n",
      "C:\\Users\\User\\anaconda3\\lib\\site-packages\\statsmodels\\tsa\\holtwinters\\model.py:83: RuntimeWarning: overflow encountered in matmul\n",
      "  return err.T @ err\n",
      "C:\\Users\\User\\AppData\\Local\\Temp\\ipykernel_1544\\2318987598.py:16: FutureWarning: the 'smoothing_slope'' keyword is deprecated, use 'smoothing_trend' instead.\n",
      "  ets_fit = ets_model.fit(smoothing_level=a, smoothing_slope=b, smoothing_seasonal=g)\n",
      "C:\\Users\\User\\anaconda3\\lib\\site-packages\\statsmodels\\tsa\\holtwinters\\model.py:83: RuntimeWarning: overflow encountered in matmul\n",
      "  return err.T @ err\n"
     ]
    },
    {
     "name": "stdout",
     "output_type": "stream",
     "text": [
      "MAE = 0.2551456835849282 for alpha 0.44, beta 0.33, gamma 0.0\n",
      "MAE = 0.23806294612412895 for alpha 0.44, beta 0.33, gamma 0.11\n",
      "MAE = 0.21615466493663318 for alpha 0.44, beta 0.33, gamma 0.22\n",
      "MAE = 0.19740665915635838 for alpha 0.44, beta 0.33, gamma 0.33\n",
      "MAE = 0.16548878701286066 for alpha 0.44, beta 0.33, gamma 0.44\n",
      "MAE = 0.1780425371734552 for alpha 0.44, beta 0.33, gamma 0.55"
     ]
    },
    {
     "name": "stderr",
     "output_type": "stream",
     "text": [
      "C:\\Users\\User\\AppData\\Local\\Temp\\ipykernel_1544\\2318987598.py:16: FutureWarning: the 'smoothing_slope'' keyword is deprecated, use 'smoothing_trend' instead.\n",
      "  ets_fit = ets_model.fit(smoothing_level=a, smoothing_slope=b, smoothing_seasonal=g)\n",
      "C:\\Users\\User\\AppData\\Local\\Temp\\ipykernel_1544\\2318987598.py:16: FutureWarning: the 'smoothing_slope'' keyword is deprecated, use 'smoothing_trend' instead.\n",
      "  ets_fit = ets_model.fit(smoothing_level=a, smoothing_slope=b, smoothing_seasonal=g)\n",
      "C:\\Users\\User\\anaconda3\\lib\\site-packages\\statsmodels\\tsa\\holtwinters\\model.py:83: RuntimeWarning: overflow encountered in matmul\n",
      "  return err.T @ err\n",
      "C:\\Users\\User\\AppData\\Local\\Temp\\ipykernel_1544\\2318987598.py:16: FutureWarning: the 'smoothing_slope'' keyword is deprecated, use 'smoothing_trend' instead.\n",
      "  ets_fit = ets_model.fit(smoothing_level=a, smoothing_slope=b, smoothing_seasonal=g)\n",
      "C:\\Users\\User\\AppData\\Local\\Temp\\ipykernel_1544\\2318987598.py:16: FutureWarning: the 'smoothing_slope'' keyword is deprecated, use 'smoothing_trend' instead.\n",
      "  ets_fit = ets_model.fit(smoothing_level=a, smoothing_slope=b, smoothing_seasonal=g)\n",
      "C:\\Users\\User\\AppData\\Local\\Temp\\ipykernel_1544\\2318987598.py:16: FutureWarning: the 'smoothing_slope'' keyword is deprecated, use 'smoothing_trend' instead.\n",
      "  ets_fit = ets_model.fit(smoothing_level=a, smoothing_slope=b, smoothing_seasonal=g)\n",
      "C:\\Users\\User\\AppData\\Local\\Temp\\ipykernel_1544\\2318987598.py:16: FutureWarning: the 'smoothing_slope'' keyword is deprecated, use 'smoothing_trend' instead.\n",
      "  ets_fit = ets_model.fit(smoothing_level=a, smoothing_slope=b, smoothing_seasonal=g)\n",
      "C:\\Users\\User\\AppData\\Local\\Temp\\ipykernel_1544\\2318987598.py:16: FutureWarning: the 'smoothing_slope'' keyword is deprecated, use 'smoothing_trend' instead.\n",
      "  ets_fit = ets_model.fit(smoothing_level=a, smoothing_slope=b, smoothing_seasonal=g)\n",
      "C:\\Users\\User\\anaconda3\\lib\\site-packages\\statsmodels\\tsa\\holtwinters\\model.py:83: RuntimeWarning: overflow encountered in matmul\n",
      "  return err.T @ err\n",
      "C:\\Users\\User\\AppData\\Local\\Temp\\ipykernel_1544\\2318987598.py:16: FutureWarning: the 'smoothing_slope'' keyword is deprecated, use 'smoothing_trend' instead.\n",
      "  ets_fit = ets_model.fit(smoothing_level=a, smoothing_slope=b, smoothing_seasonal=g)\n"
     ]
    },
    {
     "name": "stdout",
     "output_type": "stream",
     "text": [
      "\n",
      "MAE = 0.17742472137072343 for alpha 0.44, beta 0.33, gamma 0.66\n",
      "MAE = 0.19258278560510297 for alpha 0.44, beta 0.33, gamma 0.77\n",
      "MAE = 0.18262843293340134 for alpha 0.44, beta 0.33, gamma 0.88\n",
      "MAE = 0.22293814286278726 for alpha 0.44, beta 0.33, gamma 0.99\n",
      "MAE = 0.37096296282587904 for alpha 0.44, beta 0.44, gamma 0.0\n",
      "MAE = 0.3324951560259247 for alpha 0.44, beta 0.44, gamma 0.11\n"
     ]
    },
    {
     "name": "stderr",
     "output_type": "stream",
     "text": [
      "C:\\Users\\User\\AppData\\Local\\Temp\\ipykernel_1544\\2318987598.py:16: FutureWarning: the 'smoothing_slope'' keyword is deprecated, use 'smoothing_trend' instead.\n",
      "  ets_fit = ets_model.fit(smoothing_level=a, smoothing_slope=b, smoothing_seasonal=g)\n",
      "C:\\Users\\User\\anaconda3\\lib\\site-packages\\statsmodels\\tsa\\holtwinters\\model.py:83: RuntimeWarning: overflow encountered in matmul\n",
      "  return err.T @ err\n",
      "C:\\Users\\User\\AppData\\Local\\Temp\\ipykernel_1544\\2318987598.py:16: FutureWarning: the 'smoothing_slope'' keyword is deprecated, use 'smoothing_trend' instead.\n",
      "  ets_fit = ets_model.fit(smoothing_level=a, smoothing_slope=b, smoothing_seasonal=g)\n",
      "C:\\Users\\User\\anaconda3\\lib\\site-packages\\statsmodels\\tsa\\holtwinters\\model.py:83: RuntimeWarning: overflow encountered in matmul\n",
      "  return err.T @ err\n",
      "C:\\Users\\User\\AppData\\Local\\Temp\\ipykernel_1544\\2318987598.py:16: FutureWarning: the 'smoothing_slope'' keyword is deprecated, use 'smoothing_trend' instead.\n",
      "  ets_fit = ets_model.fit(smoothing_level=a, smoothing_slope=b, smoothing_seasonal=g)\n",
      "C:\\Users\\User\\AppData\\Local\\Temp\\ipykernel_1544\\2318987598.py:16: FutureWarning: the 'smoothing_slope'' keyword is deprecated, use 'smoothing_trend' instead.\n",
      "  ets_fit = ets_model.fit(smoothing_level=a, smoothing_slope=b, smoothing_seasonal=g)\n",
      "C:\\Users\\User\\anaconda3\\lib\\site-packages\\statsmodels\\tsa\\holtwinters\\model.py:83: RuntimeWarning: overflow encountered in matmul\n",
      "  return err.T @ err\n",
      "C:\\Users\\User\\AppData\\Local\\Temp\\ipykernel_1544\\2318987598.py:16: FutureWarning: the 'smoothing_slope'' keyword is deprecated, use 'smoothing_trend' instead.\n",
      "  ets_fit = ets_model.fit(smoothing_level=a, smoothing_slope=b, smoothing_seasonal=g)\n",
      "C:\\Users\\User\\AppData\\Local\\Temp\\ipykernel_1544\\2318987598.py:16: FutureWarning: the 'smoothing_slope'' keyword is deprecated, use 'smoothing_trend' instead.\n",
      "  ets_fit = ets_model.fit(smoothing_level=a, smoothing_slope=b, smoothing_seasonal=g)\n"
     ]
    },
    {
     "name": "stdout",
     "output_type": "stream",
     "text": [
      "MAE = 0.28573984912531686 for alpha 0.44, beta 0.44, gamma 0.22\n",
      "MAE = 0.23669334430866304 for alpha 0.44, beta 0.44, gamma 0.33\n",
      "MAE = 0.2551916110822546 for alpha 0.44, beta 0.44, gamma 0.44\n",
      "MAE = 0.2468374308656334 for alpha 0.44, beta 0.44, gamma 0.55\n",
      "MAE = 0.24646248472502505 for alpha 0.44, beta 0.44, gamma 0.66\n",
      "MAE = 0.1959930759563426 for alpha 0.44, beta 0.44, gamma 0.77\n",
      "MAE = 0.15060085473666482 for alpha 0.44, beta 0.44, gamma 0.88\n",
      "MAE = 0.5273537419610214 for alpha 0.44, beta 0.44, gamma 0.99\n"
     ]
    },
    {
     "name": "stderr",
     "output_type": "stream",
     "text": [
      "C:\\Users\\User\\AppData\\Local\\Temp\\ipykernel_1544\\2318987598.py:16: FutureWarning: the 'smoothing_slope'' keyword is deprecated, use 'smoothing_trend' instead.\n",
      "  ets_fit = ets_model.fit(smoothing_level=a, smoothing_slope=b, smoothing_seasonal=g)\n",
      "C:\\Users\\User\\AppData\\Local\\Temp\\ipykernel_1544\\2318987598.py:16: FutureWarning: the 'smoothing_slope'' keyword is deprecated, use 'smoothing_trend' instead.\n",
      "  ets_fit = ets_model.fit(smoothing_level=a, smoothing_slope=b, smoothing_seasonal=g)\n",
      "C:\\Users\\User\\AppData\\Local\\Temp\\ipykernel_1544\\2318987598.py:16: FutureWarning: the 'smoothing_slope'' keyword is deprecated, use 'smoothing_trend' instead.\n",
      "  ets_fit = ets_model.fit(smoothing_level=a, smoothing_slope=b, smoothing_seasonal=g)\n",
      "C:\\Users\\User\\AppData\\Local\\Temp\\ipykernel_1544\\2318987598.py:16: FutureWarning: the 'smoothing_slope'' keyword is deprecated, use 'smoothing_trend' instead.\n",
      "  ets_fit = ets_model.fit(smoothing_level=a, smoothing_slope=b, smoothing_seasonal=g)\n",
      "C:\\Users\\User\\anaconda3\\lib\\site-packages\\statsmodels\\tsa\\holtwinters\\model.py:83: RuntimeWarning: overflow encountered in matmul\n",
      "  return err.T @ err\n",
      "C:\\Users\\User\\AppData\\Local\\Temp\\ipykernel_1544\\2318987598.py:16: FutureWarning: the 'smoothing_slope'' keyword is deprecated, use 'smoothing_trend' instead.\n",
      "  ets_fit = ets_model.fit(smoothing_level=a, smoothing_slope=b, smoothing_seasonal=g)\n",
      "C:\\Users\\User\\anaconda3\\lib\\site-packages\\statsmodels\\tsa\\holtwinters\\model.py:83: RuntimeWarning: overflow encountered in matmul\n",
      "  return err.T @ err\n",
      "C:\\Users\\User\\AppData\\Local\\Temp\\ipykernel_1544\\2318987598.py:16: FutureWarning: the 'smoothing_slope'' keyword is deprecated, use 'smoothing_trend' instead.\n",
      "  ets_fit = ets_model.fit(smoothing_level=a, smoothing_slope=b, smoothing_seasonal=g)\n",
      "C:\\Users\\User\\AppData\\Local\\Temp\\ipykernel_1544\\2318987598.py:16: FutureWarning: the 'smoothing_slope'' keyword is deprecated, use 'smoothing_trend' instead.\n",
      "  ets_fit = ets_model.fit(smoothing_level=a, smoothing_slope=b, smoothing_seasonal=g)\n"
     ]
    },
    {
     "name": "stdout",
     "output_type": "stream",
     "text": [
      "MAE = 0.49641719089550396 for alpha 0.44, beta 0.55, gamma 0.0\n",
      "MAE = 0.4498420981788053 for alpha 0.44, beta 0.55, gamma 0.11\n",
      "MAE = 0.4112837689485784 for alpha 0.44, beta 0.55, gamma 0.22\n",
      "MAE = 0.4138305073429745 for alpha 0.44, beta 0.55, gamma 0.33\n",
      "MAE = 0.34531824377439563 for alpha 0.44, beta 0.55, gamma 0.44\n",
      "MAE = 0.3621152368560899 for alpha 0.44, beta 0.55, gamma 0.55\n",
      "MAE = 0.33287838695196936 for alpha 0.44, beta 0.55, gamma 0.66\n"
     ]
    },
    {
     "name": "stderr",
     "output_type": "stream",
     "text": [
      "C:\\Users\\User\\AppData\\Local\\Temp\\ipykernel_1544\\2318987598.py:16: FutureWarning: the 'smoothing_slope'' keyword is deprecated, use 'smoothing_trend' instead.\n",
      "  ets_fit = ets_model.fit(smoothing_level=a, smoothing_slope=b, smoothing_seasonal=g)\n",
      "C:\\Users\\User\\AppData\\Local\\Temp\\ipykernel_1544\\2318987598.py:16: FutureWarning: the 'smoothing_slope'' keyword is deprecated, use 'smoothing_trend' instead.\n",
      "  ets_fit = ets_model.fit(smoothing_level=a, smoothing_slope=b, smoothing_seasonal=g)\n",
      "C:\\Users\\User\\AppData\\Local\\Temp\\ipykernel_1544\\2318987598.py:16: FutureWarning: the 'smoothing_slope'' keyword is deprecated, use 'smoothing_trend' instead.\n",
      "  ets_fit = ets_model.fit(smoothing_level=a, smoothing_slope=b, smoothing_seasonal=g)\n",
      "C:\\Users\\User\\AppData\\Local\\Temp\\ipykernel_1544\\2318987598.py:16: FutureWarning: the 'smoothing_slope'' keyword is deprecated, use 'smoothing_trend' instead.\n",
      "  ets_fit = ets_model.fit(smoothing_level=a, smoothing_slope=b, smoothing_seasonal=g)\n",
      "C:\\Users\\User\\AppData\\Local\\Temp\\ipykernel_1544\\2318987598.py:16: FutureWarning: the 'smoothing_slope'' keyword is deprecated, use 'smoothing_trend' instead.\n",
      "  ets_fit = ets_model.fit(smoothing_level=a, smoothing_slope=b, smoothing_seasonal=g)\n",
      "C:\\Users\\User\\AppData\\Local\\Temp\\ipykernel_1544\\2318987598.py:16: FutureWarning: the 'smoothing_slope'' keyword is deprecated, use 'smoothing_trend' instead.\n",
      "  ets_fit = ets_model.fit(smoothing_level=a, smoothing_slope=b, smoothing_seasonal=g)\n",
      "C:\\Users\\User\\AppData\\Local\\Temp\\ipykernel_1544\\2318987598.py:16: FutureWarning: the 'smoothing_slope'' keyword is deprecated, use 'smoothing_trend' instead.\n",
      "  ets_fit = ets_model.fit(smoothing_level=a, smoothing_slope=b, smoothing_seasonal=g)\n",
      "C:\\Users\\User\\AppData\\Local\\Temp\\ipykernel_1544\\2318987598.py:16: FutureWarning: the 'smoothing_slope'' keyword is deprecated, use 'smoothing_trend' instead.\n",
      "  ets_fit = ets_model.fit(smoothing_level=a, smoothing_slope=b, smoothing_seasonal=g)\n"
     ]
    },
    {
     "name": "stdout",
     "output_type": "stream",
     "text": [
      "MAE = 0.26809110270336256 for alpha 0.44, beta 0.55, gamma 0.77\n",
      "MAE = 0.29911022538293225 for alpha 0.44, beta 0.55, gamma 0.88\n",
      "MAE = 0.9805422704397859 for alpha 0.44, beta 0.55, gamma 0.99\n",
      "MAE = 0.5974286824195113 for alpha 0.44, beta 0.66, gamma 0.0\n",
      "MAE = 0.5559818933221768 for alpha 0.44, beta 0.66, gamma 0.11\n",
      "MAE = 0.5597269376070261 for alpha 0.44, beta 0.66, gamma 0.22\n",
      "MAE = 0.6137507992167294 for alpha 0.44, beta 0.66, gamma 0.33\n"
     ]
    },
    {
     "name": "stderr",
     "output_type": "stream",
     "text": [
      "C:\\Users\\User\\AppData\\Local\\Temp\\ipykernel_1544\\2318987598.py:16: FutureWarning: the 'smoothing_slope'' keyword is deprecated, use 'smoothing_trend' instead.\n",
      "  ets_fit = ets_model.fit(smoothing_level=a, smoothing_slope=b, smoothing_seasonal=g)\n",
      "C:\\Users\\User\\AppData\\Local\\Temp\\ipykernel_1544\\2318987598.py:16: FutureWarning: the 'smoothing_slope'' keyword is deprecated, use 'smoothing_trend' instead.\n",
      "  ets_fit = ets_model.fit(smoothing_level=a, smoothing_slope=b, smoothing_seasonal=g)\n",
      "C:\\Users\\User\\AppData\\Local\\Temp\\ipykernel_1544\\2318987598.py:16: FutureWarning: the 'smoothing_slope'' keyword is deprecated, use 'smoothing_trend' instead.\n",
      "  ets_fit = ets_model.fit(smoothing_level=a, smoothing_slope=b, smoothing_seasonal=g)\n",
      "C:\\Users\\User\\AppData\\Local\\Temp\\ipykernel_1544\\2318987598.py:16: FutureWarning: the 'smoothing_slope'' keyword is deprecated, use 'smoothing_trend' instead.\n",
      "  ets_fit = ets_model.fit(smoothing_level=a, smoothing_slope=b, smoothing_seasonal=g)\n",
      "C:\\Users\\User\\AppData\\Local\\Temp\\ipykernel_1544\\2318987598.py:16: FutureWarning: the 'smoothing_slope'' keyword is deprecated, use 'smoothing_trend' instead.\n",
      "  ets_fit = ets_model.fit(smoothing_level=a, smoothing_slope=b, smoothing_seasonal=g)\n",
      "C:\\Users\\User\\AppData\\Local\\Temp\\ipykernel_1544\\2318987598.py:16: FutureWarning: the 'smoothing_slope'' keyword is deprecated, use 'smoothing_trend' instead.\n",
      "  ets_fit = ets_model.fit(smoothing_level=a, smoothing_slope=b, smoothing_seasonal=g)\n",
      "C:\\Users\\User\\AppData\\Local\\Temp\\ipykernel_1544\\2318987598.py:16: FutureWarning: the 'smoothing_slope'' keyword is deprecated, use 'smoothing_trend' instead.\n",
      "  ets_fit = ets_model.fit(smoothing_level=a, smoothing_slope=b, smoothing_seasonal=g)\n",
      "C:\\Users\\User\\AppData\\Local\\Temp\\ipykernel_1544\\2318987598.py:16: FutureWarning: the 'smoothing_slope'' keyword is deprecated, use 'smoothing_trend' instead.\n",
      "  ets_fit = ets_model.fit(smoothing_level=a, smoothing_slope=b, smoothing_seasonal=g)\n"
     ]
    },
    {
     "name": "stdout",
     "output_type": "stream",
     "text": [
      "MAE = 0.5856894000849312 for alpha 0.44, beta 0.66, gamma 0.44\n",
      "MAE = 0.496953341861996 for alpha 0.44, beta 0.66, gamma 0.55\n",
      "MAE = 0.47791732115070024 for alpha 0.44, beta 0.66, gamma 0.66\n",
      "MAE = 0.2895158082305469 for alpha 0.44, beta 0.66, gamma 0.77\n",
      "MAE = 0.2772678616965813 for alpha 0.44, beta 0.66, gamma 0.88\n",
      "MAE = 0.06851600589884095 for alpha 0.44, beta 0.66, gamma 0.99\n",
      "MAE = 0.6656460990574936 for alpha 0.44, beta 0.77, gamma 0.0\n",
      "MAE = 0.6541069779604642 for alpha 0.44, beta 0.77, gamma 0.11\n"
     ]
    },
    {
     "name": "stderr",
     "output_type": "stream",
     "text": [
      "C:\\Users\\User\\AppData\\Local\\Temp\\ipykernel_1544\\2318987598.py:16: FutureWarning: the 'smoothing_slope'' keyword is deprecated, use 'smoothing_trend' instead.\n",
      "  ets_fit = ets_model.fit(smoothing_level=a, smoothing_slope=b, smoothing_seasonal=g)\n",
      "C:\\Users\\User\\AppData\\Local\\Temp\\ipykernel_1544\\2318987598.py:16: FutureWarning: the 'smoothing_slope'' keyword is deprecated, use 'smoothing_trend' instead.\n",
      "  ets_fit = ets_model.fit(smoothing_level=a, smoothing_slope=b, smoothing_seasonal=g)\n",
      "C:\\Users\\User\\AppData\\Local\\Temp\\ipykernel_1544\\2318987598.py:16: FutureWarning: the 'smoothing_slope'' keyword is deprecated, use 'smoothing_trend' instead.\n",
      "  ets_fit = ets_model.fit(smoothing_level=a, smoothing_slope=b, smoothing_seasonal=g)\n",
      "C:\\Users\\User\\AppData\\Local\\Temp\\ipykernel_1544\\2318987598.py:16: FutureWarning: the 'smoothing_slope'' keyword is deprecated, use 'smoothing_trend' instead.\n",
      "  ets_fit = ets_model.fit(smoothing_level=a, smoothing_slope=b, smoothing_seasonal=g)\n"
     ]
    },
    {
     "name": "stdout",
     "output_type": "stream",
     "text": [
      "MAE = 0.7513348055213104 for alpha 0.44, beta 0.77, gamma 0.22\n",
      "MAE = 0.9670560984943423 for alpha 0.44, beta 0.77, gamma 0.33\n",
      "MAE = 0.6770191970250051 for alpha 0.44, beta 0.77, gamma 0.44\n",
      "MAE = 0.6699697933764694 for alpha 0.44, beta 0.77, gamma 0.55\n",
      "MAE = 0.63216241353531 for alpha 0.44, beta 0.77, gamma 0.66\n",
      "MAE = 0.3459937874558506 for alpha 0.44, beta 0.77, gamma 0.77\n",
      "MAE = 0.08537594479935849 for alpha 0.44, beta 0.77, gamma 0.88\n",
      "MAE = 0.15713631969924968 for alpha 0.44, beta 0.77, gamma 0.99\n"
     ]
    },
    {
     "name": "stderr",
     "output_type": "stream",
     "text": [
      "C:\\Users\\User\\AppData\\Local\\Temp\\ipykernel_1544\\2318987598.py:16: FutureWarning: the 'smoothing_slope'' keyword is deprecated, use 'smoothing_trend' instead.\n",
      "  ets_fit = ets_model.fit(smoothing_level=a, smoothing_slope=b, smoothing_seasonal=g)\n",
      "C:\\Users\\User\\AppData\\Local\\Temp\\ipykernel_1544\\2318987598.py:16: FutureWarning: the 'smoothing_slope'' keyword is deprecated, use 'smoothing_trend' instead.\n",
      "  ets_fit = ets_model.fit(smoothing_level=a, smoothing_slope=b, smoothing_seasonal=g)\n",
      "C:\\Users\\User\\AppData\\Local\\Temp\\ipykernel_1544\\2318987598.py:16: FutureWarning: the 'smoothing_slope'' keyword is deprecated, use 'smoothing_trend' instead.\n",
      "  ets_fit = ets_model.fit(smoothing_level=a, smoothing_slope=b, smoothing_seasonal=g)\n",
      "C:\\Users\\User\\AppData\\Local\\Temp\\ipykernel_1544\\2318987598.py:16: FutureWarning: the 'smoothing_slope'' keyword is deprecated, use 'smoothing_trend' instead.\n",
      "  ets_fit = ets_model.fit(smoothing_level=a, smoothing_slope=b, smoothing_seasonal=g)\n",
      "C:\\Users\\User\\AppData\\Local\\Temp\\ipykernel_1544\\2318987598.py:16: FutureWarning: the 'smoothing_slope'' keyword is deprecated, use 'smoothing_trend' instead.\n",
      "  ets_fit = ets_model.fit(smoothing_level=a, smoothing_slope=b, smoothing_seasonal=g)\n",
      "C:\\Users\\User\\AppData\\Local\\Temp\\ipykernel_1544\\2318987598.py:16: FutureWarning: the 'smoothing_slope'' keyword is deprecated, use 'smoothing_trend' instead.\n",
      "  ets_fit = ets_model.fit(smoothing_level=a, smoothing_slope=b, smoothing_seasonal=g)\n",
      "C:\\Users\\User\\AppData\\Local\\Temp\\ipykernel_1544\\2318987598.py:16: FutureWarning: the 'smoothing_slope'' keyword is deprecated, use 'smoothing_trend' instead.\n",
      "  ets_fit = ets_model.fit(smoothing_level=a, smoothing_slope=b, smoothing_seasonal=g)\n",
      "C:\\Users\\User\\AppData\\Local\\Temp\\ipykernel_1544\\2318987598.py:16: FutureWarning: the 'smoothing_slope'' keyword is deprecated, use 'smoothing_trend' instead.\n",
      "  ets_fit = ets_model.fit(smoothing_level=a, smoothing_slope=b, smoothing_seasonal=g)\n"
     ]
    },
    {
     "name": "stdout",
     "output_type": "stream",
     "text": [
      "MAE = 0.7341003059192186 for alpha 0.44, beta 0.88, gamma 0.0\n",
      "MAE = 0.7829399342043256 for alpha 0.44, beta 0.88, gamma 0.11\n",
      "MAE = 1.0519706598526837 for alpha 0.44, beta 0.88, gamma 0.22\n",
      "MAE = 0.7672091064024147 for alpha 0.44, beta 0.88, gamma 0.33\n",
      "MAE = 0.9755392697245893 for alpha 0.44, beta 0.88, gamma 0.44\n",
      "MAE = 1.0026253377470502 for alpha 0.44, beta 0.88, gamma 0.55\n"
     ]
    },
    {
     "name": "stderr",
     "output_type": "stream",
     "text": [
      "C:\\Users\\User\\AppData\\Local\\Temp\\ipykernel_1544\\2318987598.py:16: FutureWarning: the 'smoothing_slope'' keyword is deprecated, use 'smoothing_trend' instead.\n",
      "  ets_fit = ets_model.fit(smoothing_level=a, smoothing_slope=b, smoothing_seasonal=g)\n",
      "C:\\Users\\User\\anaconda3\\lib\\site-packages\\statsmodels\\tsa\\holtwinters\\model.py:83: RuntimeWarning: overflow encountered in matmul\n",
      "  return err.T @ err\n",
      "C:\\Users\\User\\AppData\\Local\\Temp\\ipykernel_1544\\2318987598.py:16: FutureWarning: the 'smoothing_slope'' keyword is deprecated, use 'smoothing_trend' instead.\n",
      "  ets_fit = ets_model.fit(smoothing_level=a, smoothing_slope=b, smoothing_seasonal=g)\n",
      "C:\\Users\\User\\AppData\\Local\\Temp\\ipykernel_1544\\2318987598.py:16: FutureWarning: the 'smoothing_slope'' keyword is deprecated, use 'smoothing_trend' instead.\n",
      "  ets_fit = ets_model.fit(smoothing_level=a, smoothing_slope=b, smoothing_seasonal=g)\n",
      "C:\\Users\\User\\AppData\\Local\\Temp\\ipykernel_1544\\2318987598.py:16: FutureWarning: the 'smoothing_slope'' keyword is deprecated, use 'smoothing_trend' instead.\n",
      "  ets_fit = ets_model.fit(smoothing_level=a, smoothing_slope=b, smoothing_seasonal=g)\n",
      "C:\\Users\\User\\AppData\\Local\\Temp\\ipykernel_1544\\2318987598.py:16: FutureWarning: the 'smoothing_slope'' keyword is deprecated, use 'smoothing_trend' instead.\n",
      "  ets_fit = ets_model.fit(smoothing_level=a, smoothing_slope=b, smoothing_seasonal=g)\n",
      "C:\\Users\\User\\AppData\\Local\\Temp\\ipykernel_1544\\2318987598.py:16: FutureWarning: the 'smoothing_slope'' keyword is deprecated, use 'smoothing_trend' instead.\n",
      "  ets_fit = ets_model.fit(smoothing_level=a, smoothing_slope=b, smoothing_seasonal=g)\n",
      "C:\\Users\\User\\AppData\\Local\\Temp\\ipykernel_1544\\2318987598.py:16: FutureWarning: the 'smoothing_slope'' keyword is deprecated, use 'smoothing_trend' instead.\n",
      "  ets_fit = ets_model.fit(smoothing_level=a, smoothing_slope=b, smoothing_seasonal=g)\n",
      "C:\\Users\\User\\AppData\\Local\\Temp\\ipykernel_1544\\2318987598.py:16: FutureWarning: the 'smoothing_slope'' keyword is deprecated, use 'smoothing_trend' instead.\n",
      "  ets_fit = ets_model.fit(smoothing_level=a, smoothing_slope=b, smoothing_seasonal=g)\n",
      "C:\\Users\\User\\AppData\\Local\\Temp\\ipykernel_1544\\2318987598.py:16: FutureWarning: the 'smoothing_slope'' keyword is deprecated, use 'smoothing_trend' instead.\n",
      "  ets_fit = ets_model.fit(smoothing_level=a, smoothing_slope=b, smoothing_seasonal=g)\n"
     ]
    },
    {
     "name": "stdout",
     "output_type": "stream",
     "text": [
      "MAE = 0.7404017976289262 for alpha 0.44, beta 0.88, gamma 0.66\n",
      "MAE = 0.2471737098961325 for alpha 0.44, beta 0.88, gamma 0.77\n",
      "MAE = 0.09244216676114318 for alpha 0.44, beta 0.88, gamma 0.88\n",
      "MAE = 0.1538142936089916 for alpha 0.44, beta 0.88, gamma 0.99\n",
      "MAE = 0.8475868077205532 for alpha 0.44, beta 0.99, gamma 0.0\n",
      "MAE = 1.0080349425626445 for alpha 0.44, beta 0.99, gamma 0.11\n",
      "MAE = 1.4213563583230506 for alpha 0.44, beta 0.99, gamma 0.22"
     ]
    },
    {
     "name": "stderr",
     "output_type": "stream",
     "text": [
      "C:\\Users\\User\\anaconda3\\lib\\site-packages\\statsmodels\\tsa\\holtwinters\\model.py:83: RuntimeWarning: overflow encountered in matmul\n",
      "  return err.T @ err\n",
      "C:\\Users\\User\\AppData\\Local\\Temp\\ipykernel_1544\\2318987598.py:16: FutureWarning: the 'smoothing_slope'' keyword is deprecated, use 'smoothing_trend' instead.\n",
      "  ets_fit = ets_model.fit(smoothing_level=a, smoothing_slope=b, smoothing_seasonal=g)\n",
      "C:\\Users\\User\\anaconda3\\lib\\site-packages\\statsmodels\\tsa\\holtwinters\\model.py:83: RuntimeWarning: overflow encountered in matmul\n",
      "  return err.T @ err\n",
      "C:\\Users\\User\\AppData\\Local\\Temp\\ipykernel_1544\\2318987598.py:16: FutureWarning: the 'smoothing_slope'' keyword is deprecated, use 'smoothing_trend' instead.\n",
      "  ets_fit = ets_model.fit(smoothing_level=a, smoothing_slope=b, smoothing_seasonal=g)\n",
      "C:\\Users\\User\\AppData\\Local\\Temp\\ipykernel_1544\\2318987598.py:16: FutureWarning: the 'smoothing_slope'' keyword is deprecated, use 'smoothing_trend' instead.\n",
      "  ets_fit = ets_model.fit(smoothing_level=a, smoothing_slope=b, smoothing_seasonal=g)\n",
      "C:\\Users\\User\\AppData\\Local\\Temp\\ipykernel_1544\\2318987598.py:16: FutureWarning: the 'smoothing_slope'' keyword is deprecated, use 'smoothing_trend' instead.\n",
      "  ets_fit = ets_model.fit(smoothing_level=a, smoothing_slope=b, smoothing_seasonal=g)\n"
     ]
    },
    {
     "name": "stdout",
     "output_type": "stream",
     "text": [
      "\n",
      "MAE = 1.9884780643916897 for alpha 0.44, beta 0.99, gamma 0.33\n",
      "MAE = 1.6051104992936571 for alpha 0.44, beta 0.99, gamma 0.44\n",
      "MAE = 1.2161087125143395 for alpha 0.44, beta 0.99, gamma 0.55\n",
      "MAE = 0.971821373403971 for alpha 0.44, beta 0.99, gamma 0.66\n",
      "MAE = 0.1472524572520952 for alpha 0.44, beta 0.99, gamma 0.77\n",
      "MAE = 0.3298511024689228 for alpha 0.44, beta 0.99, gamma 0.88\n",
      "MAE = 0.32243565799251866 for alpha 0.44, beta 0.99, gamma 0.99\n",
      "MAE = 0.1878645302505673 for alpha 0.55, beta 0.0, gamma 0.0\n",
      "MAE = 0.18807024716755794 for alpha 0.55, beta 0.0, gamma 0.11\n",
      "MAE = 0.18674353760926465 for alpha 0.55, beta 0.0, gamma 0.22\n"
     ]
    },
    {
     "name": "stderr",
     "output_type": "stream",
     "text": [
      "C:\\Users\\User\\AppData\\Local\\Temp\\ipykernel_1544\\2318987598.py:16: FutureWarning: the 'smoothing_slope'' keyword is deprecated, use 'smoothing_trend' instead.\n",
      "  ets_fit = ets_model.fit(smoothing_level=a, smoothing_slope=b, smoothing_seasonal=g)\n",
      "C:\\Users\\User\\AppData\\Local\\Temp\\ipykernel_1544\\2318987598.py:16: FutureWarning: the 'smoothing_slope'' keyword is deprecated, use 'smoothing_trend' instead.\n",
      "  ets_fit = ets_model.fit(smoothing_level=a, smoothing_slope=b, smoothing_seasonal=g)\n",
      "C:\\Users\\User\\AppData\\Local\\Temp\\ipykernel_1544\\2318987598.py:16: FutureWarning: the 'smoothing_slope'' keyword is deprecated, use 'smoothing_trend' instead.\n",
      "  ets_fit = ets_model.fit(smoothing_level=a, smoothing_slope=b, smoothing_seasonal=g)\n",
      "C:\\Users\\User\\AppData\\Local\\Temp\\ipykernel_1544\\2318987598.py:16: FutureWarning: the 'smoothing_slope'' keyword is deprecated, use 'smoothing_trend' instead.\n",
      "  ets_fit = ets_model.fit(smoothing_level=a, smoothing_slope=b, smoothing_seasonal=g)\n",
      "C:\\Users\\User\\AppData\\Local\\Temp\\ipykernel_1544\\2318987598.py:16: FutureWarning: the 'smoothing_slope'' keyword is deprecated, use 'smoothing_trend' instead.\n",
      "  ets_fit = ets_model.fit(smoothing_level=a, smoothing_slope=b, smoothing_seasonal=g)\n",
      "C:\\Users\\User\\AppData\\Local\\Temp\\ipykernel_1544\\2318987598.py:16: FutureWarning: the 'smoothing_slope'' keyword is deprecated, use 'smoothing_trend' instead.\n",
      "  ets_fit = ets_model.fit(smoothing_level=a, smoothing_slope=b, smoothing_seasonal=g)\n",
      "C:\\Users\\User\\anaconda3\\lib\\site-packages\\statsmodels\\tsa\\holtwinters\\model.py:83: RuntimeWarning: overflow encountered in matmul\n",
      "  return err.T @ err\n",
      "C:\\Users\\User\\AppData\\Local\\Temp\\ipykernel_1544\\2318987598.py:16: FutureWarning: the 'smoothing_slope'' keyword is deprecated, use 'smoothing_trend' instead.\n",
      "  ets_fit = ets_model.fit(smoothing_level=a, smoothing_slope=b, smoothing_seasonal=g)\n",
      "C:\\Users\\User\\AppData\\Local\\Temp\\ipykernel_1544\\2318987598.py:16: FutureWarning: the 'smoothing_slope'' keyword is deprecated, use 'smoothing_trend' instead.\n",
      "  ets_fit = ets_model.fit(smoothing_level=a, smoothing_slope=b, smoothing_seasonal=g)\n",
      "C:\\Users\\User\\AppData\\Local\\Temp\\ipykernel_1544\\2318987598.py:16: FutureWarning: the 'smoothing_slope'' keyword is deprecated, use 'smoothing_trend' instead.\n",
      "  ets_fit = ets_model.fit(smoothing_level=a, smoothing_slope=b, smoothing_seasonal=g)\n",
      "C:\\Users\\User\\anaconda3\\lib\\site-packages\\statsmodels\\tsa\\holtwinters\\model.py:83: RuntimeWarning: overflow encountered in matmul\n",
      "  return err.T @ err\n"
     ]
    },
    {
     "name": "stdout",
     "output_type": "stream",
     "text": [
      "MAE = 0.16301420422183063 for alpha 0.55, beta 0.0, gamma 0.33\n",
      "MAE = 0.15845815916526662 for alpha 0.55, beta 0.0, gamma 0.44\n",
      "MAE = 0.18077323073027252 for alpha 0.55, beta 0.0, gamma 0.55\n",
      "MAE = 0.17804649260034153 for alpha 0.55, beta 0.0, gamma 0.66\n",
      "MAE = 0.16689238460700265 for alpha 0.55, beta 0.0, gamma 0.77\n",
      "MAE = 0.1605791572375753 for alpha 0.55, beta 0.0, gamma 0.88\n",
      "MAE = 0.22132566296122755 for alpha 0.55, beta 0.0, gamma 0.99\n",
      "MAE = 0.21465314128981028 for alpha 0.55, beta 0.11, gamma 0.0\n",
      "MAE = 0.21432445541687142 for alpha 0.55, beta 0.11, gamma 0.11\n"
     ]
    },
    {
     "name": "stderr",
     "output_type": "stream",
     "text": [
      "C:\\Users\\User\\AppData\\Local\\Temp\\ipykernel_1544\\2318987598.py:16: FutureWarning: the 'smoothing_slope'' keyword is deprecated, use 'smoothing_trend' instead.\n",
      "  ets_fit = ets_model.fit(smoothing_level=a, smoothing_slope=b, smoothing_seasonal=g)\n",
      "C:\\Users\\User\\anaconda3\\lib\\site-packages\\statsmodels\\tsa\\holtwinters\\model.py:83: RuntimeWarning: overflow encountered in matmul\n",
      "  return err.T @ err\n",
      "C:\\Users\\User\\AppData\\Local\\Temp\\ipykernel_1544\\2318987598.py:16: FutureWarning: the 'smoothing_slope'' keyword is deprecated, use 'smoothing_trend' instead.\n",
      "  ets_fit = ets_model.fit(smoothing_level=a, smoothing_slope=b, smoothing_seasonal=g)\n",
      "C:\\Users\\User\\AppData\\Local\\Temp\\ipykernel_1544\\2318987598.py:16: FutureWarning: the 'smoothing_slope'' keyword is deprecated, use 'smoothing_trend' instead.\n",
      "  ets_fit = ets_model.fit(smoothing_level=a, smoothing_slope=b, smoothing_seasonal=g)\n",
      "C:\\Users\\User\\AppData\\Local\\Temp\\ipykernel_1544\\2318987598.py:16: FutureWarning: the 'smoothing_slope'' keyword is deprecated, use 'smoothing_trend' instead.\n",
      "  ets_fit = ets_model.fit(smoothing_level=a, smoothing_slope=b, smoothing_seasonal=g)\n",
      "C:\\Users\\User\\AppData\\Local\\Temp\\ipykernel_1544\\2318987598.py:16: FutureWarning: the 'smoothing_slope'' keyword is deprecated, use 'smoothing_trend' instead.\n",
      "  ets_fit = ets_model.fit(smoothing_level=a, smoothing_slope=b, smoothing_seasonal=g)\n",
      "C:\\Users\\User\\AppData\\Local\\Temp\\ipykernel_1544\\2318987598.py:16: FutureWarning: the 'smoothing_slope'' keyword is deprecated, use 'smoothing_trend' instead.\n",
      "  ets_fit = ets_model.fit(smoothing_level=a, smoothing_slope=b, smoothing_seasonal=g)\n",
      "C:\\Users\\User\\AppData\\Local\\Temp\\ipykernel_1544\\2318987598.py:16: FutureWarning: the 'smoothing_slope'' keyword is deprecated, use 'smoothing_trend' instead.\n",
      "  ets_fit = ets_model.fit(smoothing_level=a, smoothing_slope=b, smoothing_seasonal=g)\n",
      "C:\\Users\\User\\anaconda3\\lib\\site-packages\\statsmodels\\tsa\\holtwinters\\model.py:83: RuntimeWarning: overflow encountered in matmul\n",
      "  return err.T @ err\n",
      "C:\\Users\\User\\AppData\\Local\\Temp\\ipykernel_1544\\2318987598.py:16: FutureWarning: the 'smoothing_slope'' keyword is deprecated, use 'smoothing_trend' instead.\n",
      "  ets_fit = ets_model.fit(smoothing_level=a, smoothing_slope=b, smoothing_seasonal=g)\n",
      "C:\\Users\\User\\anaconda3\\lib\\site-packages\\statsmodels\\tsa\\holtwinters\\model.py:83: RuntimeWarning: overflow encountered in matmul\n",
      "  return err.T @ err\n",
      "C:\\Users\\User\\AppData\\Local\\Temp\\ipykernel_1544\\2318987598.py:16: FutureWarning: the 'smoothing_slope'' keyword is deprecated, use 'smoothing_trend' instead.\n",
      "  ets_fit = ets_model.fit(smoothing_level=a, smoothing_slope=b, smoothing_seasonal=g)\n",
      "C:\\Users\\User\\anaconda3\\lib\\site-packages\\statsmodels\\tsa\\holtwinters\\model.py:83: RuntimeWarning: overflow encountered in matmul\n",
      "  return err.T @ err\n",
      "C:\\Users\\User\\AppData\\Local\\Temp\\ipykernel_1544\\2318987598.py:16: FutureWarning: the 'smoothing_slope'' keyword is deprecated, use 'smoothing_trend' instead.\n",
      "  ets_fit = ets_model.fit(smoothing_level=a, smoothing_slope=b, smoothing_seasonal=g)\n",
      "C:\\Users\\User\\anaconda3\\lib\\site-packages\\statsmodels\\tsa\\holtwinters\\model.py:83: RuntimeWarning: overflow encountered in matmul\n",
      "  return err.T @ err\n",
      "C:\\Users\\User\\AppData\\Local\\Temp\\ipykernel_1544\\2318987598.py:16: FutureWarning: the 'smoothing_slope'' keyword is deprecated, use 'smoothing_trend' instead.\n",
      "  ets_fit = ets_model.fit(smoothing_level=a, smoothing_slope=b, smoothing_seasonal=g)\n",
      "C:\\Users\\User\\anaconda3\\lib\\site-packages\\statsmodels\\tsa\\holtwinters\\model.py:83: RuntimeWarning: overflow encountered in matmul\n",
      "  return err.T @ err\n",
      "C:\\Users\\User\\AppData\\Local\\Temp\\ipykernel_1544\\2318987598.py:16: FutureWarning: the 'smoothing_slope'' keyword is deprecated, use 'smoothing_trend' instead.\n",
      "  ets_fit = ets_model.fit(smoothing_level=a, smoothing_slope=b, smoothing_seasonal=g)\n",
      "C:\\Users\\User\\AppData\\Local\\Temp\\ipykernel_1544\\2318987598.py:16: FutureWarning: the 'smoothing_slope'' keyword is deprecated, use 'smoothing_trend' instead.\n",
      "  ets_fit = ets_model.fit(smoothing_level=a, smoothing_slope=b, smoothing_seasonal=g)\n",
      "C:\\Users\\User\\AppData\\Local\\Temp\\ipykernel_1544\\2318987598.py:16: FutureWarning: the 'smoothing_slope'' keyword is deprecated, use 'smoothing_trend' instead.\n",
      "  ets_fit = ets_model.fit(smoothing_level=a, smoothing_slope=b, smoothing_seasonal=g)\n",
      "C:\\Users\\User\\AppData\\Local\\Temp\\ipykernel_1544\\2318987598.py:16: FutureWarning: the 'smoothing_slope'' keyword is deprecated, use 'smoothing_trend' instead.\n",
      "  ets_fit = ets_model.fit(smoothing_level=a, smoothing_slope=b, smoothing_seasonal=g)\n",
      "C:\\Users\\User\\AppData\\Local\\Temp\\ipykernel_1544\\2318987598.py:16: FutureWarning: the 'smoothing_slope'' keyword is deprecated, use 'smoothing_trend' instead.\n",
      "  ets_fit = ets_model.fit(smoothing_level=a, smoothing_slope=b, smoothing_seasonal=g)\n",
      "C:\\Users\\User\\AppData\\Local\\Temp\\ipykernel_1544\\2318987598.py:16: FutureWarning: the 'smoothing_slope'' keyword is deprecated, use 'smoothing_trend' instead.\n",
      "  ets_fit = ets_model.fit(smoothing_level=a, smoothing_slope=b, smoothing_seasonal=g)\n"
     ]
    },
    {
     "name": "stdout",
     "output_type": "stream",
     "text": [
      "MAE = 0.21707597483214935 for alpha 0.55, beta 0.11, gamma 0.22\n",
      "MAE = 0.21660927518749215 for alpha 0.55, beta 0.11, gamma 0.33\n",
      "MAE = 0.1831462769095857 for alpha 0.55, beta 0.11, gamma 0.44\n",
      "MAE = 0.20109902927454526 for alpha 0.55, beta 0.11, gamma 0.55\n",
      "MAE = 0.19701462763084288 for alpha 0.55, beta 0.11, gamma 0.66\n",
      "MAE = 0.1972437937351865 for alpha 0.55, beta 0.11, gamma 0.77\n",
      "MAE = 0.18807162269652 for alpha 0.55, beta 0.11, gamma 0.88\n",
      "MAE = 0.18132121385561006 for alpha 0.55, beta 0.11, gamma 0.99\n"
     ]
    },
    {
     "name": "stderr",
     "output_type": "stream",
     "text": [
      "C:\\Users\\User\\AppData\\Local\\Temp\\ipykernel_1544\\2318987598.py:16: FutureWarning: the 'smoothing_slope'' keyword is deprecated, use 'smoothing_trend' instead.\n",
      "  ets_fit = ets_model.fit(smoothing_level=a, smoothing_slope=b, smoothing_seasonal=g)\n",
      "C:\\Users\\User\\anaconda3\\lib\\site-packages\\statsmodels\\tsa\\holtwinters\\model.py:83: RuntimeWarning: overflow encountered in matmul\n",
      "  return err.T @ err\n",
      "C:\\Users\\User\\AppData\\Local\\Temp\\ipykernel_1544\\2318987598.py:16: FutureWarning: the 'smoothing_slope'' keyword is deprecated, use 'smoothing_trend' instead.\n",
      "  ets_fit = ets_model.fit(smoothing_level=a, smoothing_slope=b, smoothing_seasonal=g)\n",
      "C:\\Users\\User\\anaconda3\\lib\\site-packages\\statsmodels\\tsa\\holtwinters\\model.py:83: RuntimeWarning: overflow encountered in matmul\n",
      "  return err.T @ err\n",
      "C:\\Users\\User\\AppData\\Local\\Temp\\ipykernel_1544\\2318987598.py:16: FutureWarning: the 'smoothing_slope'' keyword is deprecated, use 'smoothing_trend' instead.\n",
      "  ets_fit = ets_model.fit(smoothing_level=a, smoothing_slope=b, smoothing_seasonal=g)\n",
      "C:\\Users\\User\\AppData\\Local\\Temp\\ipykernel_1544\\2318987598.py:16: FutureWarning: the 'smoothing_slope'' keyword is deprecated, use 'smoothing_trend' instead.\n",
      "  ets_fit = ets_model.fit(smoothing_level=a, smoothing_slope=b, smoothing_seasonal=g)\n",
      "C:\\Users\\User\\anaconda3\\lib\\site-packages\\statsmodels\\tsa\\holtwinters\\model.py:83: RuntimeWarning: overflow encountered in matmul\n",
      "  return err.T @ err\n"
     ]
    },
    {
     "name": "stdout",
     "output_type": "stream",
     "text": [
      "MAE = 0.28615054385282584 for alpha 0.55, beta 0.22, gamma 0.0\n",
      "MAE = 0.2827386567571962 for alpha 0.55, beta 0.22, gamma 0.11\n",
      "MAE = 0.27372946505718243 for alpha 0.55, beta 0.22, gamma 0.22\n",
      "MAE = 0.24561341751990742 for alpha 0.55, beta 0.22, gamma 0.33\n",
      "MAE = 0.23664541591802765 for alpha 0.55, beta 0.22, gamma 0.44\n",
      "MAE = 0.21366963901923933 for alpha 0.55, beta 0.22, gamma 0.55\n",
      "MAE = 0.2327777310593662 for alpha 0.55, beta 0.22, gamma 0.66\n",
      "MAE = 0.24243120546200866 for alpha 0.55, beta 0.22, gamma 0.77\n"
     ]
    },
    {
     "name": "stderr",
     "output_type": "stream",
     "text": [
      "C:\\Users\\User\\AppData\\Local\\Temp\\ipykernel_1544\\2318987598.py:16: FutureWarning: the 'smoothing_slope'' keyword is deprecated, use 'smoothing_trend' instead.\n",
      "  ets_fit = ets_model.fit(smoothing_level=a, smoothing_slope=b, smoothing_seasonal=g)\n",
      "C:\\Users\\User\\anaconda3\\lib\\site-packages\\statsmodels\\tsa\\holtwinters\\model.py:83: RuntimeWarning: overflow encountered in matmul\n",
      "  return err.T @ err\n",
      "C:\\Users\\User\\AppData\\Local\\Temp\\ipykernel_1544\\2318987598.py:16: FutureWarning: the 'smoothing_slope'' keyword is deprecated, use 'smoothing_trend' instead.\n",
      "  ets_fit = ets_model.fit(smoothing_level=a, smoothing_slope=b, smoothing_seasonal=g)\n",
      "C:\\Users\\User\\AppData\\Local\\Temp\\ipykernel_1544\\2318987598.py:16: FutureWarning: the 'smoothing_slope'' keyword is deprecated, use 'smoothing_trend' instead.\n",
      "  ets_fit = ets_model.fit(smoothing_level=a, smoothing_slope=b, smoothing_seasonal=g)\n",
      "C:\\Users\\User\\AppData\\Local\\Temp\\ipykernel_1544\\2318987598.py:16: FutureWarning: the 'smoothing_slope'' keyword is deprecated, use 'smoothing_trend' instead.\n",
      "  ets_fit = ets_model.fit(smoothing_level=a, smoothing_slope=b, smoothing_seasonal=g)\n",
      "C:\\Users\\User\\AppData\\Local\\Temp\\ipykernel_1544\\2318987598.py:16: FutureWarning: the 'smoothing_slope'' keyword is deprecated, use 'smoothing_trend' instead.\n",
      "  ets_fit = ets_model.fit(smoothing_level=a, smoothing_slope=b, smoothing_seasonal=g)\n",
      "C:\\Users\\User\\AppData\\Local\\Temp\\ipykernel_1544\\2318987598.py:16: FutureWarning: the 'smoothing_slope'' keyword is deprecated, use 'smoothing_trend' instead.\n",
      "  ets_fit = ets_model.fit(smoothing_level=a, smoothing_slope=b, smoothing_seasonal=g)\n",
      "C:\\Users\\User\\anaconda3\\lib\\site-packages\\statsmodels\\tsa\\holtwinters\\model.py:83: RuntimeWarning: overflow encountered in matmul\n",
      "  return err.T @ err\n",
      "C:\\Users\\User\\AppData\\Local\\Temp\\ipykernel_1544\\2318987598.py:16: FutureWarning: the 'smoothing_slope'' keyword is deprecated, use 'smoothing_trend' instead.\n",
      "  ets_fit = ets_model.fit(smoothing_level=a, smoothing_slope=b, smoothing_seasonal=g)\n",
      "C:\\Users\\User\\AppData\\Local\\Temp\\ipykernel_1544\\2318987598.py:16: FutureWarning: the 'smoothing_slope'' keyword is deprecated, use 'smoothing_trend' instead.\n",
      "  ets_fit = ets_model.fit(smoothing_level=a, smoothing_slope=b, smoothing_seasonal=g)\n"
     ]
    },
    {
     "name": "stdout",
     "output_type": "stream",
     "text": [
      "MAE = 0.17816075579489055 for alpha 0.55, beta 0.22, gamma 0.88\n",
      "MAE = 0.29815530453190386 for alpha 0.55, beta 0.22, gamma 0.99\n",
      "MAE = 0.4080847714296494 for alpha 0.55, beta 0.33, gamma 0.0\n",
      "MAE = 0.40684609622388496 for alpha 0.55, beta 0.33, gamma 0.11\n",
      "MAE = 0.4034567544277925 for alpha 0.55, beta 0.33, gamma 0.22\n"
     ]
    },
    {
     "name": "stderr",
     "output_type": "stream",
     "text": [
      "C:\\Users\\User\\anaconda3\\lib\\site-packages\\statsmodels\\tsa\\holtwinters\\model.py:83: RuntimeWarning: overflow encountered in matmul\n",
      "  return err.T @ err\n",
      "C:\\Users\\User\\AppData\\Local\\Temp\\ipykernel_1544\\2318987598.py:16: FutureWarning: the 'smoothing_slope'' keyword is deprecated, use 'smoothing_trend' instead.\n",
      "  ets_fit = ets_model.fit(smoothing_level=a, smoothing_slope=b, smoothing_seasonal=g)\n",
      "C:\\Users\\User\\AppData\\Local\\Temp\\ipykernel_1544\\2318987598.py:16: FutureWarning: the 'smoothing_slope'' keyword is deprecated, use 'smoothing_trend' instead.\n",
      "  ets_fit = ets_model.fit(smoothing_level=a, smoothing_slope=b, smoothing_seasonal=g)\n",
      "C:\\Users\\User\\AppData\\Local\\Temp\\ipykernel_1544\\2318987598.py:16: FutureWarning: the 'smoothing_slope'' keyword is deprecated, use 'smoothing_trend' instead.\n",
      "  ets_fit = ets_model.fit(smoothing_level=a, smoothing_slope=b, smoothing_seasonal=g)\n",
      "C:\\Users\\User\\AppData\\Local\\Temp\\ipykernel_1544\\2318987598.py:16: FutureWarning: the 'smoothing_slope'' keyword is deprecated, use 'smoothing_trend' instead.\n",
      "  ets_fit = ets_model.fit(smoothing_level=a, smoothing_slope=b, smoothing_seasonal=g)\n",
      "C:\\Users\\User\\AppData\\Local\\Temp\\ipykernel_1544\\2318987598.py:16: FutureWarning: the 'smoothing_slope'' keyword is deprecated, use 'smoothing_trend' instead.\n",
      "  ets_fit = ets_model.fit(smoothing_level=a, smoothing_slope=b, smoothing_seasonal=g)\n",
      "C:\\Users\\User\\AppData\\Local\\Temp\\ipykernel_1544\\2318987598.py:16: FutureWarning: the 'smoothing_slope'' keyword is deprecated, use 'smoothing_trend' instead.\n",
      "  ets_fit = ets_model.fit(smoothing_level=a, smoothing_slope=b, smoothing_seasonal=g)\n",
      "C:\\Users\\User\\AppData\\Local\\Temp\\ipykernel_1544\\2318987598.py:16: FutureWarning: the 'smoothing_slope'' keyword is deprecated, use 'smoothing_trend' instead.\n",
      "  ets_fit = ets_model.fit(smoothing_level=a, smoothing_slope=b, smoothing_seasonal=g)\n",
      "C:\\Users\\User\\AppData\\Local\\Temp\\ipykernel_1544\\2318987598.py:16: FutureWarning: the 'smoothing_slope'' keyword is deprecated, use 'smoothing_trend' instead.\n",
      "  ets_fit = ets_model.fit(smoothing_level=a, smoothing_slope=b, smoothing_seasonal=g)\n",
      "C:\\Users\\User\\anaconda3\\lib\\site-packages\\statsmodels\\tsa\\holtwinters\\model.py:83: RuntimeWarning: overflow encountered in matmul\n",
      "  return err.T @ err\n"
     ]
    },
    {
     "name": "stdout",
     "output_type": "stream",
     "text": [
      "MAE = 0.37553049061699917 for alpha 0.55, beta 0.33, gamma 0.33\n",
      "MAE = 0.3254062788948285 for alpha 0.55, beta 0.33, gamma 0.44\n",
      "MAE = 0.3536706243604217 for alpha 0.55, beta 0.33, gamma 0.55\n",
      "MAE = 0.28799346296018674 for alpha 0.55, beta 0.33, gamma 0.66\n",
      "MAE = 0.36200621797001914 for alpha 0.55, beta 0.33, gamma 0.77\n",
      "MAE = 0.32949627755721234 for alpha 0.55, beta 0.33, gamma 0.88\n",
      "MAE = 0.5839706958223637 for alpha 0.55, beta 0.33, gamma 0.99\n",
      "MAE = 0.5541470714389664 for alpha 0.55, beta 0.44, gamma 0.0\n"
     ]
    },
    {
     "name": "stderr",
     "output_type": "stream",
     "text": [
      "C:\\Users\\User\\AppData\\Local\\Temp\\ipykernel_1544\\2318987598.py:16: FutureWarning: the 'smoothing_slope'' keyword is deprecated, use 'smoothing_trend' instead.\n",
      "  ets_fit = ets_model.fit(smoothing_level=a, smoothing_slope=b, smoothing_seasonal=g)\n",
      "C:\\Users\\User\\anaconda3\\lib\\site-packages\\statsmodels\\tsa\\holtwinters\\model.py:83: RuntimeWarning: overflow encountered in matmul\n",
      "  return err.T @ err\n",
      "C:\\Users\\User\\AppData\\Local\\Temp\\ipykernel_1544\\2318987598.py:16: FutureWarning: the 'smoothing_slope'' keyword is deprecated, use 'smoothing_trend' instead.\n",
      "  ets_fit = ets_model.fit(smoothing_level=a, smoothing_slope=b, smoothing_seasonal=g)\n",
      "C:\\Users\\User\\AppData\\Local\\Temp\\ipykernel_1544\\2318987598.py:16: FutureWarning: the 'smoothing_slope'' keyword is deprecated, use 'smoothing_trend' instead.\n",
      "  ets_fit = ets_model.fit(smoothing_level=a, smoothing_slope=b, smoothing_seasonal=g)\n",
      "C:\\Users\\User\\AppData\\Local\\Temp\\ipykernel_1544\\2318987598.py:16: FutureWarning: the 'smoothing_slope'' keyword is deprecated, use 'smoothing_trend' instead.\n",
      "  ets_fit = ets_model.fit(smoothing_level=a, smoothing_slope=b, smoothing_seasonal=g)\n",
      "C:\\Users\\User\\AppData\\Local\\Temp\\ipykernel_1544\\2318987598.py:16: FutureWarning: the 'smoothing_slope'' keyword is deprecated, use 'smoothing_trend' instead.\n",
      "  ets_fit = ets_model.fit(smoothing_level=a, smoothing_slope=b, smoothing_seasonal=g)\n",
      "C:\\Users\\User\\AppData\\Local\\Temp\\ipykernel_1544\\2318987598.py:16: FutureWarning: the 'smoothing_slope'' keyword is deprecated, use 'smoothing_trend' instead.\n",
      "  ets_fit = ets_model.fit(smoothing_level=a, smoothing_slope=b, smoothing_seasonal=g)\n"
     ]
    },
    {
     "name": "stdout",
     "output_type": "stream",
     "text": [
      "MAE = 0.5649901082627533 for alpha 0.55, beta 0.44, gamma 0.11\n",
      "MAE = 0.5874530373566417 for alpha 0.55, beta 0.44, gamma 0.22\n",
      "MAE = 0.5440073352876852 for alpha 0.55, beta 0.44, gamma 0.33\n",
      "MAE = 0.5319957246710999 for alpha 0.55, beta 0.44, gamma 0.44\n",
      "MAE = 0.4840855348363868 for alpha 0.55, beta 0.44, gamma 0.55\n",
      "MAE = 0.5319738782606608 for alpha 0.55, beta 0.44, gamma 0.66\n",
      "MAE = 0.44818934522454085 for alpha 0.55, beta 0.44, gamma 0.77\n",
      "MAE = 0.2564786738153581 for alpha 0.55, beta 0.44, gamma 0.88\n",
      "MAE = 0.610572563198493 for alpha 0.55, beta 0.44, gamma 0.99\n"
     ]
    },
    {
     "name": "stderr",
     "output_type": "stream",
     "text": [
      "C:\\Users\\User\\AppData\\Local\\Temp\\ipykernel_1544\\2318987598.py:16: FutureWarning: the 'smoothing_slope'' keyword is deprecated, use 'smoothing_trend' instead.\n",
      "  ets_fit = ets_model.fit(smoothing_level=a, smoothing_slope=b, smoothing_seasonal=g)\n",
      "C:\\Users\\User\\AppData\\Local\\Temp\\ipykernel_1544\\2318987598.py:16: FutureWarning: the 'smoothing_slope'' keyword is deprecated, use 'smoothing_trend' instead.\n",
      "  ets_fit = ets_model.fit(smoothing_level=a, smoothing_slope=b, smoothing_seasonal=g)\n",
      "C:\\Users\\User\\AppData\\Local\\Temp\\ipykernel_1544\\2318987598.py:16: FutureWarning: the 'smoothing_slope'' keyword is deprecated, use 'smoothing_trend' instead.\n",
      "  ets_fit = ets_model.fit(smoothing_level=a, smoothing_slope=b, smoothing_seasonal=g)\n",
      "C:\\Users\\User\\AppData\\Local\\Temp\\ipykernel_1544\\2318987598.py:16: FutureWarning: the 'smoothing_slope'' keyword is deprecated, use 'smoothing_trend' instead.\n",
      "  ets_fit = ets_model.fit(smoothing_level=a, smoothing_slope=b, smoothing_seasonal=g)\n",
      "C:\\Users\\User\\AppData\\Local\\Temp\\ipykernel_1544\\2318987598.py:16: FutureWarning: the 'smoothing_slope'' keyword is deprecated, use 'smoothing_trend' instead.\n",
      "  ets_fit = ets_model.fit(smoothing_level=a, smoothing_slope=b, smoothing_seasonal=g)\n",
      "C:\\Users\\User\\AppData\\Local\\Temp\\ipykernel_1544\\2318987598.py:16: FutureWarning: the 'smoothing_slope'' keyword is deprecated, use 'smoothing_trend' instead.\n",
      "  ets_fit = ets_model.fit(smoothing_level=a, smoothing_slope=b, smoothing_seasonal=g)\n",
      "C:\\Users\\User\\AppData\\Local\\Temp\\ipykernel_1544\\2318987598.py:16: FutureWarning: the 'smoothing_slope'' keyword is deprecated, use 'smoothing_trend' instead.\n",
      "  ets_fit = ets_model.fit(smoothing_level=a, smoothing_slope=b, smoothing_seasonal=g)\n",
      "C:\\Users\\User\\AppData\\Local\\Temp\\ipykernel_1544\\2318987598.py:16: FutureWarning: the 'smoothing_slope'' keyword is deprecated, use 'smoothing_trend' instead.\n",
      "  ets_fit = ets_model.fit(smoothing_level=a, smoothing_slope=b, smoothing_seasonal=g)\n"
     ]
    },
    {
     "name": "stdout",
     "output_type": "stream",
     "text": [
      "MAE = 0.7195664555923358 for alpha 0.55, beta 0.55, gamma 0.0\n",
      "MAE = 0.7548700056866607 for alpha 0.55, beta 0.55, gamma 0.11\n",
      "MAE = 0.736980154089132 for alpha 0.55, beta 0.55, gamma 0.22\n",
      "MAE = 0.8145436045300535 for alpha 0.55, beta 0.55, gamma 0.33\n",
      "MAE = 0.7161673713582667 for alpha 0.55, beta 0.55, gamma 0.44\n",
      "MAE = 0.6321685264547025 for alpha 0.55, beta 0.55, gamma 0.55\n",
      "MAE = 0.7075930628783227 for alpha 0.55, beta 0.55, gamma 0.66\n",
      "MAE = 0.4812870474607895 for alpha 0.55, beta 0.55, gamma 0.77\n",
      "MAE = 0.2542565436853559 for alpha 0.55, beta 0.55, gamma 0.88\n"
     ]
    },
    {
     "name": "stderr",
     "output_type": "stream",
     "text": [
      "C:\\Users\\User\\AppData\\Local\\Temp\\ipykernel_1544\\2318987598.py:16: FutureWarning: the 'smoothing_slope'' keyword is deprecated, use 'smoothing_trend' instead.\n",
      "  ets_fit = ets_model.fit(smoothing_level=a, smoothing_slope=b, smoothing_seasonal=g)\n",
      "C:\\Users\\User\\AppData\\Local\\Temp\\ipykernel_1544\\2318987598.py:16: FutureWarning: the 'smoothing_slope'' keyword is deprecated, use 'smoothing_trend' instead.\n",
      "  ets_fit = ets_model.fit(smoothing_level=a, smoothing_slope=b, smoothing_seasonal=g)\n",
      "C:\\Users\\User\\AppData\\Local\\Temp\\ipykernel_1544\\2318987598.py:16: FutureWarning: the 'smoothing_slope'' keyword is deprecated, use 'smoothing_trend' instead.\n",
      "  ets_fit = ets_model.fit(smoothing_level=a, smoothing_slope=b, smoothing_seasonal=g)\n",
      "C:\\Users\\User\\AppData\\Local\\Temp\\ipykernel_1544\\2318987598.py:16: FutureWarning: the 'smoothing_slope'' keyword is deprecated, use 'smoothing_trend' instead.\n",
      "  ets_fit = ets_model.fit(smoothing_level=a, smoothing_slope=b, smoothing_seasonal=g)\n",
      "C:\\Users\\User\\AppData\\Local\\Temp\\ipykernel_1544\\2318987598.py:16: FutureWarning: the 'smoothing_slope'' keyword is deprecated, use 'smoothing_trend' instead.\n",
      "  ets_fit = ets_model.fit(smoothing_level=a, smoothing_slope=b, smoothing_seasonal=g)\n",
      "C:\\Users\\User\\AppData\\Local\\Temp\\ipykernel_1544\\2318987598.py:16: FutureWarning: the 'smoothing_slope'' keyword is deprecated, use 'smoothing_trend' instead.\n",
      "  ets_fit = ets_model.fit(smoothing_level=a, smoothing_slope=b, smoothing_seasonal=g)\n",
      "C:\\Users\\User\\anaconda3\\lib\\site-packages\\statsmodels\\tsa\\holtwinters\\model.py:83: RuntimeWarning: overflow encountered in matmul\n",
      "  return err.T @ err\n",
      "C:\\Users\\User\\AppData\\Local\\Temp\\ipykernel_1544\\2318987598.py:16: FutureWarning: the 'smoothing_slope'' keyword is deprecated, use 'smoothing_trend' instead.\n",
      "  ets_fit = ets_model.fit(smoothing_level=a, smoothing_slope=b, smoothing_seasonal=g)\n",
      "C:\\Users\\User\\AppData\\Local\\Temp\\ipykernel_1544\\2318987598.py:16: FutureWarning: the 'smoothing_slope'' keyword is deprecated, use 'smoothing_trend' instead.\n",
      "  ets_fit = ets_model.fit(smoothing_level=a, smoothing_slope=b, smoothing_seasonal=g)\n"
     ]
    },
    {
     "name": "stdout",
     "output_type": "stream",
     "text": [
      "MAE = 0.185833578524186 for alpha 0.55, beta 0.55, gamma 0.99\n",
      "MAE = 0.8990044798001676 for alpha 0.55, beta 0.66, gamma 0.0\n",
      "MAE = 0.9970738943552933 for alpha 0.55, beta 0.66, gamma 0.11\n",
      "MAE = 1.2009081652648355 for alpha 0.55, beta 0.66, gamma 0.22\n",
      "MAE = 0.8587915067256725 for alpha 0.55, beta 0.66, gamma 0.33\n",
      "MAE = 0.9468605620932106 for alpha 0.55, beta 0.66, gamma 0.44\n",
      "MAE = 0.8643863519940224 for alpha 0.55, beta 0.66, gamma 0.55\n",
      "MAE = 0.41423819155154895 for alpha 0.55, beta 0.66, gamma 0.66\n",
      "MAE = 0.3370992220892517 for alpha 0.55, beta 0.66, gamma 0.77\n"
     ]
    },
    {
     "name": "stderr",
     "output_type": "stream",
     "text": [
      "C:\\Users\\User\\AppData\\Local\\Temp\\ipykernel_1544\\2318987598.py:16: FutureWarning: the 'smoothing_slope'' keyword is deprecated, use 'smoothing_trend' instead.\n",
      "  ets_fit = ets_model.fit(smoothing_level=a, smoothing_slope=b, smoothing_seasonal=g)\n",
      "C:\\Users\\User\\AppData\\Local\\Temp\\ipykernel_1544\\2318987598.py:16: FutureWarning: the 'smoothing_slope'' keyword is deprecated, use 'smoothing_trend' instead.\n",
      "  ets_fit = ets_model.fit(smoothing_level=a, smoothing_slope=b, smoothing_seasonal=g)\n",
      "C:\\Users\\User\\AppData\\Local\\Temp\\ipykernel_1544\\2318987598.py:16: FutureWarning: the 'smoothing_slope'' keyword is deprecated, use 'smoothing_trend' instead.\n",
      "  ets_fit = ets_model.fit(smoothing_level=a, smoothing_slope=b, smoothing_seasonal=g)\n",
      "C:\\Users\\User\\AppData\\Local\\Temp\\ipykernel_1544\\2318987598.py:16: FutureWarning: the 'smoothing_slope'' keyword is deprecated, use 'smoothing_trend' instead.\n",
      "  ets_fit = ets_model.fit(smoothing_level=a, smoothing_slope=b, smoothing_seasonal=g)\n",
      "C:\\Users\\User\\AppData\\Local\\Temp\\ipykernel_1544\\2318987598.py:16: FutureWarning: the 'smoothing_slope'' keyword is deprecated, use 'smoothing_trend' instead.\n",
      "  ets_fit = ets_model.fit(smoothing_level=a, smoothing_slope=b, smoothing_seasonal=g)\n",
      "C:\\Users\\User\\AppData\\Local\\Temp\\ipykernel_1544\\2318987598.py:16: FutureWarning: the 'smoothing_slope'' keyword is deprecated, use 'smoothing_trend' instead.\n",
      "  ets_fit = ets_model.fit(smoothing_level=a, smoothing_slope=b, smoothing_seasonal=g)\n",
      "C:\\Users\\User\\AppData\\Local\\Temp\\ipykernel_1544\\2318987598.py:16: FutureWarning: the 'smoothing_slope'' keyword is deprecated, use 'smoothing_trend' instead.\n",
      "  ets_fit = ets_model.fit(smoothing_level=a, smoothing_slope=b, smoothing_seasonal=g)\n",
      "C:\\Users\\User\\AppData\\Local\\Temp\\ipykernel_1544\\2318987598.py:16: FutureWarning: the 'smoothing_slope'' keyword is deprecated, use 'smoothing_trend' instead.\n",
      "  ets_fit = ets_model.fit(smoothing_level=a, smoothing_slope=b, smoothing_seasonal=g)\n",
      "C:\\Users\\User\\AppData\\Local\\Temp\\ipykernel_1544\\2318987598.py:16: FutureWarning: the 'smoothing_slope'' keyword is deprecated, use 'smoothing_trend' instead.\n",
      "  ets_fit = ets_model.fit(smoothing_level=a, smoothing_slope=b, smoothing_seasonal=g)\n"
     ]
    },
    {
     "name": "stdout",
     "output_type": "stream",
     "text": [
      "MAE = 0.28395401369944323 for alpha 0.55, beta 0.66, gamma 0.88\n",
      "MAE = 0.5802558276910886 for alpha 0.55, beta 0.66, gamma 0.99\n",
      "MAE = 1.1241203254109056 for alpha 0.55, beta 0.77, gamma 0.0\n",
      "MAE = 1.3127792894094947 for alpha 0.55, beta 0.77, gamma 0.11\n",
      "MAE = 1.668170568532659 for alpha 0.55, beta 0.77, gamma 0.22\n",
      "MAE = 1.1604995941765424 for alpha 0.55, beta 0.77, gamma 0.33\n"
     ]
    },
    {
     "name": "stderr",
     "output_type": "stream",
     "text": [
      "C:\\Users\\User\\AppData\\Local\\Temp\\ipykernel_1544\\2318987598.py:16: FutureWarning: the 'smoothing_slope'' keyword is deprecated, use 'smoothing_trend' instead.\n",
      "  ets_fit = ets_model.fit(smoothing_level=a, smoothing_slope=b, smoothing_seasonal=g)\n",
      "C:\\Users\\User\\AppData\\Local\\Temp\\ipykernel_1544\\2318987598.py:16: FutureWarning: the 'smoothing_slope'' keyword is deprecated, use 'smoothing_trend' instead.\n",
      "  ets_fit = ets_model.fit(smoothing_level=a, smoothing_slope=b, smoothing_seasonal=g)\n",
      "C:\\Users\\User\\AppData\\Local\\Temp\\ipykernel_1544\\2318987598.py:16: FutureWarning: the 'smoothing_slope'' keyword is deprecated, use 'smoothing_trend' instead.\n",
      "  ets_fit = ets_model.fit(smoothing_level=a, smoothing_slope=b, smoothing_seasonal=g)\n",
      "C:\\Users\\User\\AppData\\Local\\Temp\\ipykernel_1544\\2318987598.py:16: FutureWarning: the 'smoothing_slope'' keyword is deprecated, use 'smoothing_trend' instead.\n",
      "  ets_fit = ets_model.fit(smoothing_level=a, smoothing_slope=b, smoothing_seasonal=g)\n",
      "C:\\Users\\User\\AppData\\Local\\Temp\\ipykernel_1544\\2318987598.py:16: FutureWarning: the 'smoothing_slope'' keyword is deprecated, use 'smoothing_trend' instead.\n",
      "  ets_fit = ets_model.fit(smoothing_level=a, smoothing_slope=b, smoothing_seasonal=g)\n",
      "C:\\Users\\User\\AppData\\Local\\Temp\\ipykernel_1544\\2318987598.py:16: FutureWarning: the 'smoothing_slope'' keyword is deprecated, use 'smoothing_trend' instead.\n",
      "  ets_fit = ets_model.fit(smoothing_level=a, smoothing_slope=b, smoothing_seasonal=g)\n",
      "C:\\Users\\User\\AppData\\Local\\Temp\\ipykernel_1544\\2318987598.py:16: FutureWarning: the 'smoothing_slope'' keyword is deprecated, use 'smoothing_trend' instead.\n",
      "  ets_fit = ets_model.fit(smoothing_level=a, smoothing_slope=b, smoothing_seasonal=g)\n",
      "C:\\Users\\User\\AppData\\Local\\Temp\\ipykernel_1544\\2318987598.py:16: FutureWarning: the 'smoothing_slope'' keyword is deprecated, use 'smoothing_trend' instead.\n",
      "  ets_fit = ets_model.fit(smoothing_level=a, smoothing_slope=b, smoothing_seasonal=g)\n"
     ]
    },
    {
     "name": "stdout",
     "output_type": "stream",
     "text": [
      "MAE = 1.1490134016038531 for alpha 0.55, beta 0.77, gamma 0.44\n",
      "MAE = 0.8903537312057375 for alpha 0.55, beta 0.77, gamma 0.55\n",
      "MAE = 0.194217846601533 for alpha 0.55, beta 0.77, gamma 0.66\n",
      "MAE = 0.29272898951847387 for alpha 0.55, beta 0.77, gamma 0.77\n",
      "MAE = 0.38508652774718444 for alpha 0.55, beta 0.77, gamma 0.88\n",
      "MAE = 0.41135013640289236 for alpha 0.55, beta 0.77, gamma 0.99\n",
      "MAE = 1.4435782752615258 for alpha 0.55, beta 0.88, gamma 0.0\n"
     ]
    },
    {
     "name": "stderr",
     "output_type": "stream",
     "text": [
      "C:\\Users\\User\\AppData\\Local\\Temp\\ipykernel_1544\\2318987598.py:16: FutureWarning: the 'smoothing_slope'' keyword is deprecated, use 'smoothing_trend' instead.\n",
      "  ets_fit = ets_model.fit(smoothing_level=a, smoothing_slope=b, smoothing_seasonal=g)\n",
      "C:\\Users\\User\\anaconda3\\lib\\site-packages\\statsmodels\\tsa\\holtwinters\\model.py:83: RuntimeWarning: overflow encountered in matmul\n",
      "  return err.T @ err\n",
      "C:\\Users\\User\\AppData\\Local\\Temp\\ipykernel_1544\\2318987598.py:16: FutureWarning: the 'smoothing_slope'' keyword is deprecated, use 'smoothing_trend' instead.\n",
      "  ets_fit = ets_model.fit(smoothing_level=a, smoothing_slope=b, smoothing_seasonal=g)\n",
      "C:\\Users\\User\\AppData\\Local\\Temp\\ipykernel_1544\\2318987598.py:16: FutureWarning: the 'smoothing_slope'' keyword is deprecated, use 'smoothing_trend' instead.\n",
      "  ets_fit = ets_model.fit(smoothing_level=a, smoothing_slope=b, smoothing_seasonal=g)\n",
      "C:\\Users\\User\\AppData\\Local\\Temp\\ipykernel_1544\\2318987598.py:16: FutureWarning: the 'smoothing_slope'' keyword is deprecated, use 'smoothing_trend' instead.\n",
      "  ets_fit = ets_model.fit(smoothing_level=a, smoothing_slope=b, smoothing_seasonal=g)\n",
      "C:\\Users\\User\\AppData\\Local\\Temp\\ipykernel_1544\\2318987598.py:16: FutureWarning: the 'smoothing_slope'' keyword is deprecated, use 'smoothing_trend' instead.\n",
      "  ets_fit = ets_model.fit(smoothing_level=a, smoothing_slope=b, smoothing_seasonal=g)\n",
      "C:\\Users\\User\\AppData\\Local\\Temp\\ipykernel_1544\\2318987598.py:16: FutureWarning: the 'smoothing_slope'' keyword is deprecated, use 'smoothing_trend' instead.\n",
      "  ets_fit = ets_model.fit(smoothing_level=a, smoothing_slope=b, smoothing_seasonal=g)\n",
      "C:\\Users\\User\\AppData\\Local\\Temp\\ipykernel_1544\\2318987598.py:16: FutureWarning: the 'smoothing_slope'' keyword is deprecated, use 'smoothing_trend' instead.\n",
      "  ets_fit = ets_model.fit(smoothing_level=a, smoothing_slope=b, smoothing_seasonal=g)\n"
     ]
    },
    {
     "name": "stdout",
     "output_type": "stream",
     "text": [
      "MAE = 1.7380999788730502 for alpha 0.55, beta 0.88, gamma 0.11\n",
      "MAE = 1.7570231143235462 for alpha 0.55, beta 0.88, gamma 0.22\n",
      "MAE = 2.078045168497226 for alpha 0.55, beta 0.88, gamma 0.33\n",
      "MAE = 1.3256261722658325 for alpha 0.55, beta 0.88, gamma 0.44\n",
      "MAE = 0.7146440136757866 for alpha 0.55, beta 0.88, gamma 0.55\n",
      "MAE = 0.21021068406591484 for alpha 0.55, beta 0.88, gamma 0.66\n",
      "MAE = 0.4809345429839517 for alpha 0.55, beta 0.88, gamma 0.77\n",
      "MAE = 0.5556780450018036 for alpha 0.55, beta 0.88, gamma 0.88\n"
     ]
    },
    {
     "name": "stderr",
     "output_type": "stream",
     "text": [
      "C:\\Users\\User\\AppData\\Local\\Temp\\ipykernel_1544\\2318987598.py:16: FutureWarning: the 'smoothing_slope'' keyword is deprecated, use 'smoothing_trend' instead.\n",
      "  ets_fit = ets_model.fit(smoothing_level=a, smoothing_slope=b, smoothing_seasonal=g)\n",
      "C:\\Users\\User\\AppData\\Local\\Temp\\ipykernel_1544\\2318987598.py:16: FutureWarning: the 'smoothing_slope'' keyword is deprecated, use 'smoothing_trend' instead.\n",
      "  ets_fit = ets_model.fit(smoothing_level=a, smoothing_slope=b, smoothing_seasonal=g)\n",
      "C:\\Users\\User\\AppData\\Local\\Temp\\ipykernel_1544\\2318987598.py:16: FutureWarning: the 'smoothing_slope'' keyword is deprecated, use 'smoothing_trend' instead.\n",
      "  ets_fit = ets_model.fit(smoothing_level=a, smoothing_slope=b, smoothing_seasonal=g)\n",
      "C:\\Users\\User\\AppData\\Local\\Temp\\ipykernel_1544\\2318987598.py:16: FutureWarning: the 'smoothing_slope'' keyword is deprecated, use 'smoothing_trend' instead.\n",
      "  ets_fit = ets_model.fit(smoothing_level=a, smoothing_slope=b, smoothing_seasonal=g)\n",
      "C:\\Users\\User\\AppData\\Local\\Temp\\ipykernel_1544\\2318987598.py:16: FutureWarning: the 'smoothing_slope'' keyword is deprecated, use 'smoothing_trend' instead.\n",
      "  ets_fit = ets_model.fit(smoothing_level=a, smoothing_slope=b, smoothing_seasonal=g)\n",
      "C:\\Users\\User\\AppData\\Local\\Temp\\ipykernel_1544\\2318987598.py:16: FutureWarning: the 'smoothing_slope'' keyword is deprecated, use 'smoothing_trend' instead.\n",
      "  ets_fit = ets_model.fit(smoothing_level=a, smoothing_slope=b, smoothing_seasonal=g)\n"
     ]
    },
    {
     "name": "stdout",
     "output_type": "stream",
     "text": [
      "MAE = 0.5404984969878044 for alpha 0.55, beta 0.88, gamma 0.99\n",
      "MAE = 1.8937383774197638 for alpha 0.55, beta 0.99, gamma 0.0\n",
      "MAE = 2.2802023588422604 for alpha 0.55, beta 0.99, gamma 0.11\n",
      "MAE = 2.864919836197482 for alpha 0.55, beta 0.99, gamma 0.22\n",
      "MAE = 1.7715352738932655 for alpha 0.55, beta 0.99, gamma 0.33\n",
      "MAE = 1.902398857132738 for alpha 0.55, beta 0.99, gamma 0.44\n"
     ]
    },
    {
     "name": "stderr",
     "output_type": "stream",
     "text": [
      "C:\\Users\\User\\AppData\\Local\\Temp\\ipykernel_1544\\2318987598.py:16: FutureWarning: the 'smoothing_slope'' keyword is deprecated, use 'smoothing_trend' instead.\n",
      "  ets_fit = ets_model.fit(smoothing_level=a, smoothing_slope=b, smoothing_seasonal=g)\n",
      "C:\\Users\\User\\AppData\\Local\\Temp\\ipykernel_1544\\2318987598.py:16: FutureWarning: the 'smoothing_slope'' keyword is deprecated, use 'smoothing_trend' instead.\n",
      "  ets_fit = ets_model.fit(smoothing_level=a, smoothing_slope=b, smoothing_seasonal=g)\n",
      "C:\\Users\\User\\AppData\\Local\\Temp\\ipykernel_1544\\2318987598.py:16: FutureWarning: the 'smoothing_slope'' keyword is deprecated, use 'smoothing_trend' instead.\n",
      "  ets_fit = ets_model.fit(smoothing_level=a, smoothing_slope=b, smoothing_seasonal=g)\n",
      "C:\\Users\\User\\AppData\\Local\\Temp\\ipykernel_1544\\2318987598.py:16: FutureWarning: the 'smoothing_slope'' keyword is deprecated, use 'smoothing_trend' instead.\n",
      "  ets_fit = ets_model.fit(smoothing_level=a, smoothing_slope=b, smoothing_seasonal=g)\n",
      "C:\\Users\\User\\AppData\\Local\\Temp\\ipykernel_1544\\2318987598.py:16: FutureWarning: the 'smoothing_slope'' keyword is deprecated, use 'smoothing_trend' instead.\n",
      "  ets_fit = ets_model.fit(smoothing_level=a, smoothing_slope=b, smoothing_seasonal=g)\n",
      "C:\\Users\\User\\AppData\\Local\\Temp\\ipykernel_1544\\2318987598.py:16: FutureWarning: the 'smoothing_slope'' keyword is deprecated, use 'smoothing_trend' instead.\n",
      "  ets_fit = ets_model.fit(smoothing_level=a, smoothing_slope=b, smoothing_seasonal=g)\n",
      "C:\\Users\\User\\AppData\\Local\\Temp\\ipykernel_1544\\2318987598.py:16: FutureWarning: the 'smoothing_slope'' keyword is deprecated, use 'smoothing_trend' instead.\n",
      "  ets_fit = ets_model.fit(smoothing_level=a, smoothing_slope=b, smoothing_seasonal=g)\n"
     ]
    },
    {
     "name": "stdout",
     "output_type": "stream",
     "text": [
      "MAE = 1.0380439657769374 for alpha 0.55, beta 0.99, gamma 0.55\n",
      "MAE = 0.29876533079082473 for alpha 0.55, beta 0.99, gamma 0.66\n",
      "MAE = 0.6265239893161018 for alpha 0.55, beta 0.99, gamma 0.77\n",
      "MAE = 0.663901770217408 for alpha 0.55, beta 0.99, gamma 0.88\n",
      "MAE = 0.7414316489810845 for alpha 0.55, beta 0.99, gamma 0.99\n",
      "MAE = 0.20905004264304583 for alpha 0.66, beta 0.0, gamma 0.0\n",
      "MAE = 0.20658644639938553 for alpha 0.66, beta 0.0, gamma 0.11\n",
      "MAE = 0.21618709636662917 for alpha 0.66, beta 0.0, gamma 0.22\n",
      "MAE = 0.20994953274548686 for alpha 0.66, beta 0.0, gamma 0.33\n",
      "MAE = 0.2171185705148121 for alpha 0.66, beta 0.0, gamma 0.44\n"
     ]
    },
    {
     "name": "stderr",
     "output_type": "stream",
     "text": [
      "C:\\Users\\User\\AppData\\Local\\Temp\\ipykernel_1544\\2318987598.py:16: FutureWarning: the 'smoothing_slope'' keyword is deprecated, use 'smoothing_trend' instead.\n",
      "  ets_fit = ets_model.fit(smoothing_level=a, smoothing_slope=b, smoothing_seasonal=g)\n",
      "C:\\Users\\User\\anaconda3\\lib\\site-packages\\statsmodels\\tsa\\holtwinters\\model.py:83: RuntimeWarning: overflow encountered in matmul\n",
      "  return err.T @ err\n",
      "C:\\Users\\User\\AppData\\Local\\Temp\\ipykernel_1544\\2318987598.py:16: FutureWarning: the 'smoothing_slope'' keyword is deprecated, use 'smoothing_trend' instead.\n",
      "  ets_fit = ets_model.fit(smoothing_level=a, smoothing_slope=b, smoothing_seasonal=g)\n",
      "C:\\Users\\User\\AppData\\Local\\Temp\\ipykernel_1544\\2318987598.py:16: FutureWarning: the 'smoothing_slope'' keyword is deprecated, use 'smoothing_trend' instead.\n",
      "  ets_fit = ets_model.fit(smoothing_level=a, smoothing_slope=b, smoothing_seasonal=g)\n",
      "C:\\Users\\User\\anaconda3\\lib\\site-packages\\statsmodels\\tsa\\holtwinters\\model.py:83: RuntimeWarning: overflow encountered in matmul\n",
      "  return err.T @ err\n",
      "C:\\Users\\User\\AppData\\Local\\Temp\\ipykernel_1544\\2318987598.py:16: FutureWarning: the 'smoothing_slope'' keyword is deprecated, use 'smoothing_trend' instead.\n",
      "  ets_fit = ets_model.fit(smoothing_level=a, smoothing_slope=b, smoothing_seasonal=g)\n",
      "C:\\Users\\User\\AppData\\Local\\Temp\\ipykernel_1544\\2318987598.py:16: FutureWarning: the 'smoothing_slope'' keyword is deprecated, use 'smoothing_trend' instead.\n",
      "  ets_fit = ets_model.fit(smoothing_level=a, smoothing_slope=b, smoothing_seasonal=g)\n",
      "C:\\Users\\User\\anaconda3\\lib\\site-packages\\statsmodels\\tsa\\holtwinters\\model.py:83: RuntimeWarning: overflow encountered in matmul\n",
      "  return err.T @ err\n",
      "C:\\Users\\User\\AppData\\Local\\Temp\\ipykernel_1544\\2318987598.py:16: FutureWarning: the 'smoothing_slope'' keyword is deprecated, use 'smoothing_trend' instead.\n",
      "  ets_fit = ets_model.fit(smoothing_level=a, smoothing_slope=b, smoothing_seasonal=g)\n",
      "C:\\Users\\User\\AppData\\Local\\Temp\\ipykernel_1544\\2318987598.py:16: FutureWarning: the 'smoothing_slope'' keyword is deprecated, use 'smoothing_trend' instead.\n",
      "  ets_fit = ets_model.fit(smoothing_level=a, smoothing_slope=b, smoothing_seasonal=g)\n",
      "C:\\Users\\User\\AppData\\Local\\Temp\\ipykernel_1544\\2318987598.py:16: FutureWarning: the 'smoothing_slope'' keyword is deprecated, use 'smoothing_trend' instead.\n",
      "  ets_fit = ets_model.fit(smoothing_level=a, smoothing_slope=b, smoothing_seasonal=g)\n",
      "C:\\Users\\User\\AppData\\Local\\Temp\\ipykernel_1544\\2318987598.py:16: FutureWarning: the 'smoothing_slope'' keyword is deprecated, use 'smoothing_trend' instead.\n",
      "  ets_fit = ets_model.fit(smoothing_level=a, smoothing_slope=b, smoothing_seasonal=g)\n",
      "C:\\Users\\User\\AppData\\Local\\Temp\\ipykernel_1544\\2318987598.py:16: FutureWarning: the 'smoothing_slope'' keyword is deprecated, use 'smoothing_trend' instead.\n",
      "  ets_fit = ets_model.fit(smoothing_level=a, smoothing_slope=b, smoothing_seasonal=g)\n",
      "C:\\Users\\User\\AppData\\Local\\Temp\\ipykernel_1544\\2318987598.py:16: FutureWarning: the 'smoothing_slope'' keyword is deprecated, use 'smoothing_trend' instead.\n",
      "  ets_fit = ets_model.fit(smoothing_level=a, smoothing_slope=b, smoothing_seasonal=g)\n",
      "C:\\Users\\User\\anaconda3\\lib\\site-packages\\statsmodels\\tsa\\holtwinters\\model.py:83: RuntimeWarning: overflow encountered in matmul\n",
      "  return err.T @ err\n"
     ]
    },
    {
     "name": "stdout",
     "output_type": "stream",
     "text": [
      "MAE = 0.20642881981583527 for alpha 0.66, beta 0.0, gamma 0.55\n",
      "MAE = 0.19942889354148996 for alpha 0.66, beta 0.0, gamma 0.66\n",
      "MAE = 0.20008012681321474 for alpha 0.66, beta 0.0, gamma 0.77\n",
      "MAE = 0.17880960147131011 for alpha 0.66, beta 0.0, gamma 0.88\n",
      "MAE = 0.17596378067267512 for alpha 0.66, beta 0.0, gamma 0.99\n",
      "MAE = 0.2721162491961861 for alpha 0.66, beta 0.11, gamma 0.0\n",
      "MAE = 0.2873057011614732 for alpha 0.66, beta 0.11, gamma 0.11\n"
     ]
    },
    {
     "name": "stderr",
     "output_type": "stream",
     "text": [
      "C:\\Users\\User\\AppData\\Local\\Temp\\ipykernel_1544\\2318987598.py:16: FutureWarning: the 'smoothing_slope'' keyword is deprecated, use 'smoothing_trend' instead.\n",
      "  ets_fit = ets_model.fit(smoothing_level=a, smoothing_slope=b, smoothing_seasonal=g)\n",
      "C:\\Users\\User\\anaconda3\\lib\\site-packages\\statsmodels\\tsa\\holtwinters\\model.py:83: RuntimeWarning: overflow encountered in matmul\n",
      "  return err.T @ err\n",
      "C:\\Users\\User\\AppData\\Local\\Temp\\ipykernel_1544\\2318987598.py:16: FutureWarning: the 'smoothing_slope'' keyword is deprecated, use 'smoothing_trend' instead.\n",
      "  ets_fit = ets_model.fit(smoothing_level=a, smoothing_slope=b, smoothing_seasonal=g)\n",
      "C:\\Users\\User\\anaconda3\\lib\\site-packages\\statsmodels\\tsa\\holtwinters\\model.py:83: RuntimeWarning: overflow encountered in matmul\n",
      "  return err.T @ err\n",
      "C:\\Users\\User\\AppData\\Local\\Temp\\ipykernel_1544\\2318987598.py:16: FutureWarning: the 'smoothing_slope'' keyword is deprecated, use 'smoothing_trend' instead.\n",
      "  ets_fit = ets_model.fit(smoothing_level=a, smoothing_slope=b, smoothing_seasonal=g)\n",
      "C:\\Users\\User\\anaconda3\\lib\\site-packages\\statsmodels\\tsa\\holtwinters\\model.py:83: RuntimeWarning: overflow encountered in matmul\n",
      "  return err.T @ err\n",
      "C:\\Users\\User\\AppData\\Local\\Temp\\ipykernel_1544\\2318987598.py:16: FutureWarning: the 'smoothing_slope'' keyword is deprecated, use 'smoothing_trend' instead.\n",
      "  ets_fit = ets_model.fit(smoothing_level=a, smoothing_slope=b, smoothing_seasonal=g)\n",
      "C:\\Users\\User\\anaconda3\\lib\\site-packages\\statsmodels\\tsa\\holtwinters\\model.py:83: RuntimeWarning: overflow encountered in matmul\n",
      "  return err.T @ err\n",
      "C:\\Users\\User\\AppData\\Local\\Temp\\ipykernel_1544\\2318987598.py:16: FutureWarning: the 'smoothing_slope'' keyword is deprecated, use 'smoothing_trend' instead.\n",
      "  ets_fit = ets_model.fit(smoothing_level=a, smoothing_slope=b, smoothing_seasonal=g)\n",
      "C:\\Users\\User\\anaconda3\\lib\\site-packages\\statsmodels\\tsa\\holtwinters\\model.py:83: RuntimeWarning: overflow encountered in matmul\n",
      "  return err.T @ err\n",
      "C:\\Users\\User\\AppData\\Local\\Temp\\ipykernel_1544\\2318987598.py:16: FutureWarning: the 'smoothing_slope'' keyword is deprecated, use 'smoothing_trend' instead.\n",
      "  ets_fit = ets_model.fit(smoothing_level=a, smoothing_slope=b, smoothing_seasonal=g)\n",
      "C:\\Users\\User\\AppData\\Local\\Temp\\ipykernel_1544\\2318987598.py:16: FutureWarning: the 'smoothing_slope'' keyword is deprecated, use 'smoothing_trend' instead.\n",
      "  ets_fit = ets_model.fit(smoothing_level=a, smoothing_slope=b, smoothing_seasonal=g)\n",
      "C:\\Users\\User\\AppData\\Local\\Temp\\ipykernel_1544\\2318987598.py:16: FutureWarning: the 'smoothing_slope'' keyword is deprecated, use 'smoothing_trend' instead.\n",
      "  ets_fit = ets_model.fit(smoothing_level=a, smoothing_slope=b, smoothing_seasonal=g)\n"
     ]
    },
    {
     "name": "stdout",
     "output_type": "stream",
     "text": [
      "MAE = 0.30404225471877694 for alpha 0.66, beta 0.11, gamma 0.22\n",
      "MAE = 0.2834328322436483 for alpha 0.66, beta 0.11, gamma 0.33\n",
      "MAE = 0.26142194198166224 for alpha 0.66, beta 0.11, gamma 0.44\n",
      "MAE = 0.24619482075745625 for alpha 0.66, beta 0.11, gamma 0.55\n",
      "MAE = 0.28858002309954855 for alpha 0.66, beta 0.11, gamma 0.66\n",
      "MAE = 0.2807048119485418 for alpha 0.66, beta 0.11, gamma 0.77\n",
      "MAE = 0.23418117519265205 for alpha 0.66, beta 0.11, gamma 0.88\n",
      "MAE = 0.2927451083782214 for alpha 0.66, beta 0.11, gamma 0.99\n"
     ]
    },
    {
     "name": "stderr",
     "output_type": "stream",
     "text": [
      "C:\\Users\\User\\AppData\\Local\\Temp\\ipykernel_1544\\2318987598.py:16: FutureWarning: the 'smoothing_slope'' keyword is deprecated, use 'smoothing_trend' instead.\n",
      "  ets_fit = ets_model.fit(smoothing_level=a, smoothing_slope=b, smoothing_seasonal=g)\n",
      "C:\\Users\\User\\anaconda3\\lib\\site-packages\\statsmodels\\tsa\\holtwinters\\model.py:83: RuntimeWarning: overflow encountered in matmul\n",
      "  return err.T @ err\n",
      "C:\\Users\\User\\AppData\\Local\\Temp\\ipykernel_1544\\2318987598.py:16: FutureWarning: the 'smoothing_slope'' keyword is deprecated, use 'smoothing_trend' instead.\n",
      "  ets_fit = ets_model.fit(smoothing_level=a, smoothing_slope=b, smoothing_seasonal=g)\n",
      "C:\\Users\\User\\anaconda3\\lib\\site-packages\\statsmodels\\tsa\\holtwinters\\model.py:83: RuntimeWarning: overflow encountered in matmul\n",
      "  return err.T @ err\n",
      "C:\\Users\\User\\AppData\\Local\\Temp\\ipykernel_1544\\2318987598.py:16: FutureWarning: the 'smoothing_slope'' keyword is deprecated, use 'smoothing_trend' instead.\n",
      "  ets_fit = ets_model.fit(smoothing_level=a, smoothing_slope=b, smoothing_seasonal=g)\n",
      "C:\\Users\\User\\anaconda3\\lib\\site-packages\\statsmodels\\tsa\\holtwinters\\model.py:83: RuntimeWarning: overflow encountered in matmul\n",
      "  return err.T @ err\n",
      "C:\\Users\\User\\AppData\\Local\\Temp\\ipykernel_1544\\2318987598.py:16: FutureWarning: the 'smoothing_slope'' keyword is deprecated, use 'smoothing_trend' instead.\n",
      "  ets_fit = ets_model.fit(smoothing_level=a, smoothing_slope=b, smoothing_seasonal=g)\n",
      "C:\\Users\\User\\AppData\\Local\\Temp\\ipykernel_1544\\2318987598.py:16: FutureWarning: the 'smoothing_slope'' keyword is deprecated, use 'smoothing_trend' instead.\n",
      "  ets_fit = ets_model.fit(smoothing_level=a, smoothing_slope=b, smoothing_seasonal=g)\n"
     ]
    },
    {
     "name": "stdout",
     "output_type": "stream",
     "text": [
      "MAE = 0.4023399210411583 for alpha 0.66, beta 0.22, gamma 0.0\n",
      "MAE = 0.42764197161341294 for alpha 0.66, beta 0.22, gamma 0.11\n",
      "MAE = 0.4567804695141611 for alpha 0.66, beta 0.22, gamma 0.22\n",
      "MAE = 0.4259021820099007 for alpha 0.66, beta 0.22, gamma 0.33\n",
      "MAE = 0.38510564094468586 for alpha 0.66, beta 0.22, gamma 0.44\n",
      "MAE = 0.38102166417858263 for alpha 0.66, beta 0.22, gamma 0.55\n",
      "MAE = 0.3495779403530559 for alpha 0.66, beta 0.22, gamma 0.66\n",
      "MAE = 0.2771253880910192 for alpha 0.66, beta 0.22, gamma 0.77\n",
      "MAE = 0.19373202787257862 for alpha 0.66, beta 0.22, gamma 0.88\n"
     ]
    },
    {
     "name": "stderr",
     "output_type": "stream",
     "text": [
      "C:\\Users\\User\\AppData\\Local\\Temp\\ipykernel_1544\\2318987598.py:16: FutureWarning: the 'smoothing_slope'' keyword is deprecated, use 'smoothing_trend' instead.\n",
      "  ets_fit = ets_model.fit(smoothing_level=a, smoothing_slope=b, smoothing_seasonal=g)\n",
      "C:\\Users\\User\\AppData\\Local\\Temp\\ipykernel_1544\\2318987598.py:16: FutureWarning: the 'smoothing_slope'' keyword is deprecated, use 'smoothing_trend' instead.\n",
      "  ets_fit = ets_model.fit(smoothing_level=a, smoothing_slope=b, smoothing_seasonal=g)\n",
      "C:\\Users\\User\\AppData\\Local\\Temp\\ipykernel_1544\\2318987598.py:16: FutureWarning: the 'smoothing_slope'' keyword is deprecated, use 'smoothing_trend' instead.\n",
      "  ets_fit = ets_model.fit(smoothing_level=a, smoothing_slope=b, smoothing_seasonal=g)\n",
      "C:\\Users\\User\\AppData\\Local\\Temp\\ipykernel_1544\\2318987598.py:16: FutureWarning: the 'smoothing_slope'' keyword is deprecated, use 'smoothing_trend' instead.\n",
      "  ets_fit = ets_model.fit(smoothing_level=a, smoothing_slope=b, smoothing_seasonal=g)\n",
      "C:\\Users\\User\\AppData\\Local\\Temp\\ipykernel_1544\\2318987598.py:16: FutureWarning: the 'smoothing_slope'' keyword is deprecated, use 'smoothing_trend' instead.\n",
      "  ets_fit = ets_model.fit(smoothing_level=a, smoothing_slope=b, smoothing_seasonal=g)\n",
      "C:\\Users\\User\\AppData\\Local\\Temp\\ipykernel_1544\\2318987598.py:16: FutureWarning: the 'smoothing_slope'' keyword is deprecated, use 'smoothing_trend' instead.\n",
      "  ets_fit = ets_model.fit(smoothing_level=a, smoothing_slope=b, smoothing_seasonal=g)\n",
      "C:\\Users\\User\\AppData\\Local\\Temp\\ipykernel_1544\\2318987598.py:16: FutureWarning: the 'smoothing_slope'' keyword is deprecated, use 'smoothing_trend' instead.\n",
      "  ets_fit = ets_model.fit(smoothing_level=a, smoothing_slope=b, smoothing_seasonal=g)\n",
      "C:\\Users\\User\\anaconda3\\lib\\site-packages\\statsmodels\\tsa\\holtwinters\\model.py:83: RuntimeWarning: overflow encountered in matmul\n",
      "  return err.T @ err\n",
      "C:\\Users\\User\\AppData\\Local\\Temp\\ipykernel_1544\\2318987598.py:16: FutureWarning: the 'smoothing_slope'' keyword is deprecated, use 'smoothing_trend' instead.\n",
      "  ets_fit = ets_model.fit(smoothing_level=a, smoothing_slope=b, smoothing_seasonal=g)\n",
      "C:\\Users\\User\\anaconda3\\lib\\site-packages\\statsmodels\\tsa\\holtwinters\\model.py:83: RuntimeWarning: overflow encountered in matmul\n",
      "  return err.T @ err\n"
     ]
    },
    {
     "name": "stdout",
     "output_type": "stream",
     "text": [
      "MAE = 0.29467668192874874 for alpha 0.66, beta 0.22, gamma 0.99\n",
      "MAE = 0.571060556936466 for alpha 0.66, beta 0.33, gamma 0.0\n",
      "MAE = 0.6132001924327651 for alpha 0.66, beta 0.33, gamma 0.11\n",
      "MAE = 0.5963140574016178 for alpha 0.66, beta 0.33, gamma 0.22\n"
     ]
    },
    {
     "name": "stderr",
     "output_type": "stream",
     "text": [
      "C:\\Users\\User\\AppData\\Local\\Temp\\ipykernel_1544\\2318987598.py:16: FutureWarning: the 'smoothing_slope'' keyword is deprecated, use 'smoothing_trend' instead.\n",
      "  ets_fit = ets_model.fit(smoothing_level=a, smoothing_slope=b, smoothing_seasonal=g)\n",
      "C:\\Users\\User\\AppData\\Local\\Temp\\ipykernel_1544\\2318987598.py:16: FutureWarning: the 'smoothing_slope'' keyword is deprecated, use 'smoothing_trend' instead.\n",
      "  ets_fit = ets_model.fit(smoothing_level=a, smoothing_slope=b, smoothing_seasonal=g)\n",
      "C:\\Users\\User\\AppData\\Local\\Temp\\ipykernel_1544\\2318987598.py:16: FutureWarning: the 'smoothing_slope'' keyword is deprecated, use 'smoothing_trend' instead.\n",
      "  ets_fit = ets_model.fit(smoothing_level=a, smoothing_slope=b, smoothing_seasonal=g)\n",
      "C:\\Users\\User\\AppData\\Local\\Temp\\ipykernel_1544\\2318987598.py:16: FutureWarning: the 'smoothing_slope'' keyword is deprecated, use 'smoothing_trend' instead.\n",
      "  ets_fit = ets_model.fit(smoothing_level=a, smoothing_slope=b, smoothing_seasonal=g)\n",
      "C:\\Users\\User\\AppData\\Local\\Temp\\ipykernel_1544\\2318987598.py:16: FutureWarning: the 'smoothing_slope'' keyword is deprecated, use 'smoothing_trend' instead.\n",
      "  ets_fit = ets_model.fit(smoothing_level=a, smoothing_slope=b, smoothing_seasonal=g)\n",
      "C:\\Users\\User\\AppData\\Local\\Temp\\ipykernel_1544\\2318987598.py:16: FutureWarning: the 'smoothing_slope'' keyword is deprecated, use 'smoothing_trend' instead.\n",
      "  ets_fit = ets_model.fit(smoothing_level=a, smoothing_slope=b, smoothing_seasonal=g)\n",
      "C:\\Users\\User\\AppData\\Local\\Temp\\ipykernel_1544\\2318987598.py:16: FutureWarning: the 'smoothing_slope'' keyword is deprecated, use 'smoothing_trend' instead.\n",
      "  ets_fit = ets_model.fit(smoothing_level=a, smoothing_slope=b, smoothing_seasonal=g)\n",
      "C:\\Users\\User\\AppData\\Local\\Temp\\ipykernel_1544\\2318987598.py:16: FutureWarning: the 'smoothing_slope'' keyword is deprecated, use 'smoothing_trend' instead.\n",
      "  ets_fit = ets_model.fit(smoothing_level=a, smoothing_slope=b, smoothing_seasonal=g)\n",
      "C:\\Users\\User\\AppData\\Local\\Temp\\ipykernel_1544\\2318987598.py:16: FutureWarning: the 'smoothing_slope'' keyword is deprecated, use 'smoothing_trend' instead.\n",
      "  ets_fit = ets_model.fit(smoothing_level=a, smoothing_slope=b, smoothing_seasonal=g)\n",
      "C:\\Users\\User\\anaconda3\\lib\\site-packages\\statsmodels\\tsa\\holtwinters\\model.py:83: RuntimeWarning: overflow encountered in matmul\n",
      "  return err.T @ err\n"
     ]
    },
    {
     "name": "stdout",
     "output_type": "stream",
     "text": [
      "MAE = 0.50225804461532 for alpha 0.66, beta 0.33, gamma 0.33\n",
      "MAE = 0.5637764691350268 for alpha 0.66, beta 0.33, gamma 0.44\n",
      "MAE = 0.7047713918163586 for alpha 0.66, beta 0.33, gamma 0.55\n",
      "MAE = 0.3935170072904595 for alpha 0.66, beta 0.33, gamma 0.66\n",
      "MAE = 0.1464770432616357 for alpha 0.66, beta 0.33, gamma 0.77\n",
      "MAE = 0.11259245023887593 for alpha 0.66, beta 0.33, gamma 0.88\n",
      "MAE = 0.252293732778409 for alpha 0.66, beta 0.33, gamma 0.99\n",
      "MAE = 0.7880518411830543 for alpha 0.66, beta 0.44, gamma 0.0\n"
     ]
    },
    {
     "name": "stderr",
     "output_type": "stream",
     "text": [
      "C:\\Users\\User\\AppData\\Local\\Temp\\ipykernel_1544\\2318987598.py:16: FutureWarning: the 'smoothing_slope'' keyword is deprecated, use 'smoothing_trend' instead.\n",
      "  ets_fit = ets_model.fit(smoothing_level=a, smoothing_slope=b, smoothing_seasonal=g)\n",
      "C:\\Users\\User\\AppData\\Local\\Temp\\ipykernel_1544\\2318987598.py:16: FutureWarning: the 'smoothing_slope'' keyword is deprecated, use 'smoothing_trend' instead.\n",
      "  ets_fit = ets_model.fit(smoothing_level=a, smoothing_slope=b, smoothing_seasonal=g)\n",
      "C:\\Users\\User\\AppData\\Local\\Temp\\ipykernel_1544\\2318987598.py:16: FutureWarning: the 'smoothing_slope'' keyword is deprecated, use 'smoothing_trend' instead.\n",
      "  ets_fit = ets_model.fit(smoothing_level=a, smoothing_slope=b, smoothing_seasonal=g)\n",
      "C:\\Users\\User\\AppData\\Local\\Temp\\ipykernel_1544\\2318987598.py:16: FutureWarning: the 'smoothing_slope'' keyword is deprecated, use 'smoothing_trend' instead.\n",
      "  ets_fit = ets_model.fit(smoothing_level=a, smoothing_slope=b, smoothing_seasonal=g)\n",
      "C:\\Users\\User\\AppData\\Local\\Temp\\ipykernel_1544\\2318987598.py:16: FutureWarning: the 'smoothing_slope'' keyword is deprecated, use 'smoothing_trend' instead.\n",
      "  ets_fit = ets_model.fit(smoothing_level=a, smoothing_slope=b, smoothing_seasonal=g)\n",
      "C:\\Users\\User\\AppData\\Local\\Temp\\ipykernel_1544\\2318987598.py:16: FutureWarning: the 'smoothing_slope'' keyword is deprecated, use 'smoothing_trend' instead.\n",
      "  ets_fit = ets_model.fit(smoothing_level=a, smoothing_slope=b, smoothing_seasonal=g)\n",
      "C:\\Users\\User\\AppData\\Local\\Temp\\ipykernel_1544\\2318987598.py:16: FutureWarning: the 'smoothing_slope'' keyword is deprecated, use 'smoothing_trend' instead.\n",
      "  ets_fit = ets_model.fit(smoothing_level=a, smoothing_slope=b, smoothing_seasonal=g)\n",
      "C:\\Users\\User\\AppData\\Local\\Temp\\ipykernel_1544\\2318987598.py:16: FutureWarning: the 'smoothing_slope'' keyword is deprecated, use 'smoothing_trend' instead.\n",
      "  ets_fit = ets_model.fit(smoothing_level=a, smoothing_slope=b, smoothing_seasonal=g)\n"
     ]
    },
    {
     "name": "stdout",
     "output_type": "stream",
     "text": [
      "MAE = 0.871843445409076 for alpha 0.66, beta 0.44, gamma 0.11\n",
      "MAE = 0.8897680572571319 for alpha 0.66, beta 0.44, gamma 0.22\n",
      "MAE = 0.964280440655863 for alpha 0.66, beta 0.44, gamma 0.33\n",
      "MAE = 0.7738162900088352 for alpha 0.66, beta 0.44, gamma 0.44\n",
      "MAE = 0.7992218364196431 for alpha 0.66, beta 0.44, gamma 0.55\n",
      "MAE = 0.3405963283782163 for alpha 0.66, beta 0.44, gamma 0.66\n",
      "MAE = 0.2467102631921737 for alpha 0.66, beta 0.44, gamma 0.77\n",
      "MAE = 0.15812483059703827 for alpha 0.66, beta 0.44, gamma 0.88\n",
      "MAE = 1.0694986574031322 for alpha 0.66, beta 0.44, gamma 0.99\n"
     ]
    },
    {
     "name": "stderr",
     "output_type": "stream",
     "text": [
      "C:\\Users\\User\\AppData\\Local\\Temp\\ipykernel_1544\\2318987598.py:16: FutureWarning: the 'smoothing_slope'' keyword is deprecated, use 'smoothing_trend' instead.\n",
      "  ets_fit = ets_model.fit(smoothing_level=a, smoothing_slope=b, smoothing_seasonal=g)\n",
      "C:\\Users\\User\\AppData\\Local\\Temp\\ipykernel_1544\\2318987598.py:16: FutureWarning: the 'smoothing_slope'' keyword is deprecated, use 'smoothing_trend' instead.\n",
      "  ets_fit = ets_model.fit(smoothing_level=a, smoothing_slope=b, smoothing_seasonal=g)\n",
      "C:\\Users\\User\\anaconda3\\lib\\site-packages\\statsmodels\\tsa\\holtwinters\\model.py:83: RuntimeWarning: overflow encountered in matmul\n",
      "  return err.T @ err\n",
      "C:\\Users\\User\\AppData\\Local\\Temp\\ipykernel_1544\\2318987598.py:16: FutureWarning: the 'smoothing_slope'' keyword is deprecated, use 'smoothing_trend' instead.\n",
      "  ets_fit = ets_model.fit(smoothing_level=a, smoothing_slope=b, smoothing_seasonal=g)\n",
      "C:\\Users\\User\\anaconda3\\lib\\site-packages\\statsmodels\\tsa\\holtwinters\\model.py:83: RuntimeWarning: overflow encountered in matmul\n",
      "  return err.T @ err\n",
      "C:\\Users\\User\\AppData\\Local\\Temp\\ipykernel_1544\\2318987598.py:16: FutureWarning: the 'smoothing_slope'' keyword is deprecated, use 'smoothing_trend' instead.\n",
      "  ets_fit = ets_model.fit(smoothing_level=a, smoothing_slope=b, smoothing_seasonal=g)\n",
      "C:\\Users\\User\\AppData\\Local\\Temp\\ipykernel_1544\\2318987598.py:16: FutureWarning: the 'smoothing_slope'' keyword is deprecated, use 'smoothing_trend' instead.\n",
      "  ets_fit = ets_model.fit(smoothing_level=a, smoothing_slope=b, smoothing_seasonal=g)\n",
      "C:\\Users\\User\\AppData\\Local\\Temp\\ipykernel_1544\\2318987598.py:16: FutureWarning: the 'smoothing_slope'' keyword is deprecated, use 'smoothing_trend' instead.\n",
      "  ets_fit = ets_model.fit(smoothing_level=a, smoothing_slope=b, smoothing_seasonal=g)\n",
      "C:\\Users\\User\\AppData\\Local\\Temp\\ipykernel_1544\\2318987598.py:16: FutureWarning: the 'smoothing_slope'' keyword is deprecated, use 'smoothing_trend' instead.\n",
      "  ets_fit = ets_model.fit(smoothing_level=a, smoothing_slope=b, smoothing_seasonal=g)\n",
      "C:\\Users\\User\\AppData\\Local\\Temp\\ipykernel_1544\\2318987598.py:16: FutureWarning: the 'smoothing_slope'' keyword is deprecated, use 'smoothing_trend' instead.\n",
      "  ets_fit = ets_model.fit(smoothing_level=a, smoothing_slope=b, smoothing_seasonal=g)\n"
     ]
    },
    {
     "name": "stdout",
     "output_type": "stream",
     "text": [
      "MAE = 1.043940602523442 for alpha 0.66, beta 0.55, gamma 0.0\n",
      "MAE = 1.1922487671914492 for alpha 0.66, beta 0.55, gamma 0.11\n",
      "MAE = 1.2849311467843447 for alpha 0.66, beta 0.55, gamma 0.22\n",
      "MAE = 1.1253145614783984 for alpha 0.66, beta 0.55, gamma 0.33\n",
      "MAE = 0.9368765528284696 for alpha 0.66, beta 0.55, gamma 0.44\n",
      "MAE = 0.6814280534557309 for alpha 0.66, beta 0.55, gamma 0.55\n",
      "MAE = 0.320643999443211 for alpha 0.66, beta 0.55, gamma 0.66\n",
      "MAE = 0.28926151816981016 for alpha 0.66, beta 0.55, gamma 0.77\n"
     ]
    },
    {
     "name": "stderr",
     "output_type": "stream",
     "text": [
      "C:\\Users\\User\\AppData\\Local\\Temp\\ipykernel_1544\\2318987598.py:16: FutureWarning: the 'smoothing_slope'' keyword is deprecated, use 'smoothing_trend' instead.\n",
      "  ets_fit = ets_model.fit(smoothing_level=a, smoothing_slope=b, smoothing_seasonal=g)\n",
      "C:\\Users\\User\\AppData\\Local\\Temp\\ipykernel_1544\\2318987598.py:16: FutureWarning: the 'smoothing_slope'' keyword is deprecated, use 'smoothing_trend' instead.\n",
      "  ets_fit = ets_model.fit(smoothing_level=a, smoothing_slope=b, smoothing_seasonal=g)\n",
      "C:\\Users\\User\\AppData\\Local\\Temp\\ipykernel_1544\\2318987598.py:16: FutureWarning: the 'smoothing_slope'' keyword is deprecated, use 'smoothing_trend' instead.\n",
      "  ets_fit = ets_model.fit(smoothing_level=a, smoothing_slope=b, smoothing_seasonal=g)\n",
      "C:\\Users\\User\\AppData\\Local\\Temp\\ipykernel_1544\\2318987598.py:16: FutureWarning: the 'smoothing_slope'' keyword is deprecated, use 'smoothing_trend' instead.\n",
      "  ets_fit = ets_model.fit(smoothing_level=a, smoothing_slope=b, smoothing_seasonal=g)\n",
      "C:\\Users\\User\\anaconda3\\lib\\site-packages\\statsmodels\\tsa\\holtwinters\\model.py:83: RuntimeWarning: overflow encountered in matmul\n",
      "  return err.T @ err\n",
      "C:\\Users\\User\\AppData\\Local\\Temp\\ipykernel_1544\\2318987598.py:16: FutureWarning: the 'smoothing_slope'' keyword is deprecated, use 'smoothing_trend' instead.\n",
      "  ets_fit = ets_model.fit(smoothing_level=a, smoothing_slope=b, smoothing_seasonal=g)\n",
      "C:\\Users\\User\\anaconda3\\lib\\site-packages\\statsmodels\\tsa\\holtwinters\\model.py:83: RuntimeWarning: overflow encountered in matmul\n",
      "  return err.T @ err\n",
      "C:\\Users\\User\\AppData\\Local\\Temp\\ipykernel_1544\\2318987598.py:16: FutureWarning: the 'smoothing_slope'' keyword is deprecated, use 'smoothing_trend' instead.\n",
      "  ets_fit = ets_model.fit(smoothing_level=a, smoothing_slope=b, smoothing_seasonal=g)\n"
     ]
    },
    {
     "name": "stdout",
     "output_type": "stream",
     "text": [
      "MAE = 0.43339622937996897 for alpha 0.66, beta 0.55, gamma 0.88\n",
      "MAE = 0.6735240108259841 for alpha 0.66, beta 0.55, gamma 0.99\n",
      "MAE = 1.3645099268185632 for alpha 0.66, beta 0.66, gamma 0.0\n",
      "MAE = 1.5904232702929866 for alpha 0.66, beta 0.66, gamma 0.11\n",
      "MAE = 1.028765382108696 for alpha 0.66, beta 0.66, gamma 0.22\n",
      "MAE = 0.9644360991018206 for alpha 0.66, beta 0.66, gamma 0.33\n"
     ]
    },
    {
     "name": "stderr",
     "output_type": "stream",
     "text": [
      "C:\\Users\\User\\AppData\\Local\\Temp\\ipykernel_1544\\2318987598.py:16: FutureWarning: the 'smoothing_slope'' keyword is deprecated, use 'smoothing_trend' instead.\n",
      "  ets_fit = ets_model.fit(smoothing_level=a, smoothing_slope=b, smoothing_seasonal=g)\n",
      "C:\\Users\\User\\AppData\\Local\\Temp\\ipykernel_1544\\2318987598.py:16: FutureWarning: the 'smoothing_slope'' keyword is deprecated, use 'smoothing_trend' instead.\n",
      "  ets_fit = ets_model.fit(smoothing_level=a, smoothing_slope=b, smoothing_seasonal=g)\n",
      "C:\\Users\\User\\AppData\\Local\\Temp\\ipykernel_1544\\2318987598.py:16: FutureWarning: the 'smoothing_slope'' keyword is deprecated, use 'smoothing_trend' instead.\n",
      "  ets_fit = ets_model.fit(smoothing_level=a, smoothing_slope=b, smoothing_seasonal=g)\n",
      "C:\\Users\\User\\AppData\\Local\\Temp\\ipykernel_1544\\2318987598.py:16: FutureWarning: the 'smoothing_slope'' keyword is deprecated, use 'smoothing_trend' instead.\n",
      "  ets_fit = ets_model.fit(smoothing_level=a, smoothing_slope=b, smoothing_seasonal=g)\n",
      "C:\\Users\\User\\AppData\\Local\\Temp\\ipykernel_1544\\2318987598.py:16: FutureWarning: the 'smoothing_slope'' keyword is deprecated, use 'smoothing_trend' instead.\n",
      "  ets_fit = ets_model.fit(smoothing_level=a, smoothing_slope=b, smoothing_seasonal=g)\n",
      "C:\\Users\\User\\AppData\\Local\\Temp\\ipykernel_1544\\2318987598.py:16: FutureWarning: the 'smoothing_slope'' keyword is deprecated, use 'smoothing_trend' instead.\n",
      "  ets_fit = ets_model.fit(smoothing_level=a, smoothing_slope=b, smoothing_seasonal=g)\n",
      "C:\\Users\\User\\AppData\\Local\\Temp\\ipykernel_1544\\2318987598.py:16: FutureWarning: the 'smoothing_slope'' keyword is deprecated, use 'smoothing_trend' instead.\n",
      "  ets_fit = ets_model.fit(smoothing_level=a, smoothing_slope=b, smoothing_seasonal=g)\n",
      "C:\\Users\\User\\AppData\\Local\\Temp\\ipykernel_1544\\2318987598.py:16: FutureWarning: the 'smoothing_slope'' keyword is deprecated, use 'smoothing_trend' instead.\n",
      "  ets_fit = ets_model.fit(smoothing_level=a, smoothing_slope=b, smoothing_seasonal=g)\n"
     ]
    },
    {
     "name": "stdout",
     "output_type": "stream",
     "text": [
      "MAE = 1.5208110852402286 for alpha 0.66, beta 0.66, gamma 0.44\n",
      "MAE = 0.398170655833459 for alpha 0.66, beta 0.66, gamma 0.55\n",
      "MAE = 0.1768821851041323 for alpha 0.66, beta 0.66, gamma 0.66\n",
      "MAE = 0.47827607084569096 for alpha 0.66, beta 0.66, gamma 0.77\n",
      "MAE = 0.5489876035603752 for alpha 0.66, beta 0.66, gamma 0.88\n",
      "MAE = 0.6152477186629212 for alpha 0.66, beta 0.66, gamma 0.99\n",
      "MAE = 1.779954155509353 for alpha 0.66, beta 0.77, gamma 0.0\n"
     ]
    },
    {
     "name": "stderr",
     "output_type": "stream",
     "text": [
      "C:\\Users\\User\\AppData\\Local\\Temp\\ipykernel_1544\\2318987598.py:16: FutureWarning: the 'smoothing_slope'' keyword is deprecated, use 'smoothing_trend' instead.\n",
      "  ets_fit = ets_model.fit(smoothing_level=a, smoothing_slope=b, smoothing_seasonal=g)\n",
      "C:\\Users\\User\\anaconda3\\lib\\site-packages\\statsmodels\\tsa\\holtwinters\\model.py:83: RuntimeWarning: overflow encountered in matmul\n",
      "  return err.T @ err\n",
      "C:\\Users\\User\\AppData\\Local\\Temp\\ipykernel_1544\\2318987598.py:16: FutureWarning: the 'smoothing_slope'' keyword is deprecated, use 'smoothing_trend' instead.\n",
      "  ets_fit = ets_model.fit(smoothing_level=a, smoothing_slope=b, smoothing_seasonal=g)\n",
      "C:\\Users\\User\\AppData\\Local\\Temp\\ipykernel_1544\\2318987598.py:16: FutureWarning: the 'smoothing_slope'' keyword is deprecated, use 'smoothing_trend' instead.\n",
      "  ets_fit = ets_model.fit(smoothing_level=a, smoothing_slope=b, smoothing_seasonal=g)\n",
      "C:\\Users\\User\\AppData\\Local\\Temp\\ipykernel_1544\\2318987598.py:16: FutureWarning: the 'smoothing_slope'' keyword is deprecated, use 'smoothing_trend' instead.\n",
      "  ets_fit = ets_model.fit(smoothing_level=a, smoothing_slope=b, smoothing_seasonal=g)\n"
     ]
    },
    {
     "name": "stdout",
     "output_type": "stream",
     "text": [
      "MAE = 2.0686298337854025 for alpha 0.66, beta 0.77, gamma 0.11\n",
      "MAE = 1.7217689376907959 for alpha 0.66, beta 0.77, gamma 0.22\n",
      "MAE = 2.558326768567859 for alpha 0.66, beta 0.77, gamma 0.33\n",
      "MAE = 1.9604824569487913 for alpha 0.66, beta 0.77, gamma 0.44\n",
      "MAE = 1.2070787368211016 for alpha 0.66, beta 0.77, gamma 0.55\n",
      "MAE = 0.3421514851234618 for alpha 0.66, beta 0.77, gamma 0.66"
     ]
    },
    {
     "name": "stderr",
     "output_type": "stream",
     "text": [
      "C:\\Users\\User\\AppData\\Local\\Temp\\ipykernel_1544\\2318987598.py:16: FutureWarning: the 'smoothing_slope'' keyword is deprecated, use 'smoothing_trend' instead.\n",
      "  ets_fit = ets_model.fit(smoothing_level=a, smoothing_slope=b, smoothing_seasonal=g)\n",
      "C:\\Users\\User\\AppData\\Local\\Temp\\ipykernel_1544\\2318987598.py:16: FutureWarning: the 'smoothing_slope'' keyword is deprecated, use 'smoothing_trend' instead.\n",
      "  ets_fit = ets_model.fit(smoothing_level=a, smoothing_slope=b, smoothing_seasonal=g)\n",
      "C:\\Users\\User\\AppData\\Local\\Temp\\ipykernel_1544\\2318987598.py:16: FutureWarning: the 'smoothing_slope'' keyword is deprecated, use 'smoothing_trend' instead.\n",
      "  ets_fit = ets_model.fit(smoothing_level=a, smoothing_slope=b, smoothing_seasonal=g)\n",
      "C:\\Users\\User\\AppData\\Local\\Temp\\ipykernel_1544\\2318987598.py:16: FutureWarning: the 'smoothing_slope'' keyword is deprecated, use 'smoothing_trend' instead.\n",
      "  ets_fit = ets_model.fit(smoothing_level=a, smoothing_slope=b, smoothing_seasonal=g)\n",
      "C:\\Users\\User\\AppData\\Local\\Temp\\ipykernel_1544\\2318987598.py:16: FutureWarning: the 'smoothing_slope'' keyword is deprecated, use 'smoothing_trend' instead.\n",
      "  ets_fit = ets_model.fit(smoothing_level=a, smoothing_slope=b, smoothing_seasonal=g)\n",
      "C:\\Users\\User\\anaconda3\\lib\\site-packages\\statsmodels\\tsa\\holtwinters\\model.py:915: ConvergenceWarning: Optimization failed to converge. Check mle_retvals.\n",
      "  warnings.warn(\n",
      "C:\\Users\\User\\AppData\\Local\\Temp\\ipykernel_1544\\2318987598.py:16: FutureWarning: the 'smoothing_slope'' keyword is deprecated, use 'smoothing_trend' instead.\n",
      "  ets_fit = ets_model.fit(smoothing_level=a, smoothing_slope=b, smoothing_seasonal=g)\n"
     ]
    },
    {
     "name": "stdout",
     "output_type": "stream",
     "text": [
      "\n",
      "MAE = 0.5222007792768785 for alpha 0.66, beta 0.77, gamma 0.77\n",
      "MAE = 0.6572194358066584 for alpha 0.66, beta 0.77, gamma 0.88\n",
      "MAE = 46.47565296086822 for alpha 0.66, beta 0.77, gamma 0.99\n",
      "MAE = 2.2982731649579065 for alpha 0.66, beta 0.88, gamma 0.0\n"
     ]
    },
    {
     "name": "stderr",
     "output_type": "stream",
     "text": [
      "C:\\Users\\User\\AppData\\Local\\Temp\\ipykernel_1544\\2318987598.py:16: FutureWarning: the 'smoothing_slope'' keyword is deprecated, use 'smoothing_trend' instead.\n",
      "  ets_fit = ets_model.fit(smoothing_level=a, smoothing_slope=b, smoothing_seasonal=g)\n",
      "C:\\Users\\User\\AppData\\Local\\Temp\\ipykernel_1544\\2318987598.py:16: FutureWarning: the 'smoothing_slope'' keyword is deprecated, use 'smoothing_trend' instead.\n",
      "  ets_fit = ets_model.fit(smoothing_level=a, smoothing_slope=b, smoothing_seasonal=g)\n",
      "C:\\Users\\User\\AppData\\Local\\Temp\\ipykernel_1544\\2318987598.py:16: FutureWarning: the 'smoothing_slope'' keyword is deprecated, use 'smoothing_trend' instead.\n",
      "  ets_fit = ets_model.fit(smoothing_level=a, smoothing_slope=b, smoothing_seasonal=g)\n",
      "C:\\Users\\User\\AppData\\Local\\Temp\\ipykernel_1544\\2318987598.py:16: FutureWarning: the 'smoothing_slope'' keyword is deprecated, use 'smoothing_trend' instead.\n",
      "  ets_fit = ets_model.fit(smoothing_level=a, smoothing_slope=b, smoothing_seasonal=g)\n",
      "C:\\Users\\User\\AppData\\Local\\Temp\\ipykernel_1544\\2318987598.py:16: FutureWarning: the 'smoothing_slope'' keyword is deprecated, use 'smoothing_trend' instead.\n",
      "  ets_fit = ets_model.fit(smoothing_level=a, smoothing_slope=b, smoothing_seasonal=g)\n",
      "C:\\Users\\User\\AppData\\Local\\Temp\\ipykernel_1544\\2318987598.py:16: FutureWarning: the 'smoothing_slope'' keyword is deprecated, use 'smoothing_trend' instead.\n",
      "  ets_fit = ets_model.fit(smoothing_level=a, smoothing_slope=b, smoothing_seasonal=g)\n"
     ]
    },
    {
     "name": "stdout",
     "output_type": "stream",
     "text": [
      "MAE = 2.5893118697448068 for alpha 0.66, beta 0.88, gamma 0.11\n",
      "MAE = 2.750567955483074 for alpha 0.66, beta 0.88, gamma 0.22\n",
      "MAE = 1.6321091744808995 for alpha 0.66, beta 0.88, gamma 0.33\n",
      "MAE = 0.88045302938285 for alpha 0.66, beta 0.88, gamma 0.44\n",
      "MAE = 0.5727137486153961 for alpha 0.66, beta 0.88, gamma 0.55\n",
      "MAE = 0.39053642086628154 for alpha 0.66, beta 0.88, gamma 0.66\n",
      "MAE = 0.7411688921800595 for alpha 0.66, beta 0.88, gamma 0.77\n",
      "MAE = 379.78568087697926 for alpha 0.66, beta 0.88, gamma 0.88\n",
      "MAE = 396.8229025566546 for alpha 0.66, beta 0.88, gamma 0.99\n"
     ]
    },
    {
     "name": "stderr",
     "output_type": "stream",
     "text": [
      "C:\\Users\\User\\AppData\\Local\\Temp\\ipykernel_1544\\2318987598.py:16: FutureWarning: the 'smoothing_slope'' keyword is deprecated, use 'smoothing_trend' instead.\n",
      "  ets_fit = ets_model.fit(smoothing_level=a, smoothing_slope=b, smoothing_seasonal=g)\n",
      "C:\\Users\\User\\AppData\\Local\\Temp\\ipykernel_1544\\2318987598.py:16: FutureWarning: the 'smoothing_slope'' keyword is deprecated, use 'smoothing_trend' instead.\n",
      "  ets_fit = ets_model.fit(smoothing_level=a, smoothing_slope=b, smoothing_seasonal=g)\n",
      "C:\\Users\\User\\anaconda3\\lib\\site-packages\\statsmodels\\tsa\\holtwinters\\model.py:915: ConvergenceWarning: Optimization failed to converge. Check mle_retvals.\n",
      "  warnings.warn(\n",
      "C:\\Users\\User\\AppData\\Local\\Temp\\ipykernel_1544\\2318987598.py:16: FutureWarning: the 'smoothing_slope'' keyword is deprecated, use 'smoothing_trend' instead.\n",
      "  ets_fit = ets_model.fit(smoothing_level=a, smoothing_slope=b, smoothing_seasonal=g)\n",
      "C:\\Users\\User\\anaconda3\\lib\\site-packages\\statsmodels\\tsa\\holtwinters\\model.py:915: ConvergenceWarning: Optimization failed to converge. Check mle_retvals.\n",
      "  warnings.warn(\n",
      "C:\\Users\\User\\AppData\\Local\\Temp\\ipykernel_1544\\2318987598.py:16: FutureWarning: the 'smoothing_slope'' keyword is deprecated, use 'smoothing_trend' instead.\n",
      "  ets_fit = ets_model.fit(smoothing_level=a, smoothing_slope=b, smoothing_seasonal=g)\n",
      "C:\\Users\\User\\AppData\\Local\\Temp\\ipykernel_1544\\2318987598.py:16: FutureWarning: the 'smoothing_slope'' keyword is deprecated, use 'smoothing_trend' instead.\n",
      "  ets_fit = ets_model.fit(smoothing_level=a, smoothing_slope=b, smoothing_seasonal=g)\n",
      "C:\\Users\\User\\AppData\\Local\\Temp\\ipykernel_1544\\2318987598.py:16: FutureWarning: the 'smoothing_slope'' keyword is deprecated, use 'smoothing_trend' instead.\n",
      "  ets_fit = ets_model.fit(smoothing_level=a, smoothing_slope=b, smoothing_seasonal=g)\n",
      "C:\\Users\\User\\AppData\\Local\\Temp\\ipykernel_1544\\2318987598.py:16: FutureWarning: the 'smoothing_slope'' keyword is deprecated, use 'smoothing_trend' instead.\n",
      "  ets_fit = ets_model.fit(smoothing_level=a, smoothing_slope=b, smoothing_seasonal=g)\n",
      "C:\\Users\\User\\AppData\\Local\\Temp\\ipykernel_1544\\2318987598.py:16: FutureWarning: the 'smoothing_slope'' keyword is deprecated, use 'smoothing_trend' instead.\n",
      "  ets_fit = ets_model.fit(smoothing_level=a, smoothing_slope=b, smoothing_seasonal=g)\n"
     ]
    },
    {
     "name": "stdout",
     "output_type": "stream",
     "text": [
      "MAE = 1.961631183725789 for alpha 0.66, beta 0.99, gamma 0.0\n",
      "MAE = 2.069747165563198 for alpha 0.66, beta 0.99, gamma 0.11\n",
      "MAE = 1.7607144340712395 for alpha 0.66, beta 0.99, gamma 0.22\n",
      "MAE = 1.7792555362748705 for alpha 0.66, beta 0.99, gamma 0.33\n",
      "MAE = 1.143107463282403 for alpha 0.66, beta 0.99, gamma 0.44\n",
      "MAE = 0.4068391404521874 for alpha 0.66, beta 0.99, gamma 0.55\n",
      "MAE = 0.543998526362952 for alpha 0.66, beta 0.99, gamma 0.66"
     ]
    },
    {
     "name": "stderr",
     "output_type": "stream",
     "text": [
      "C:\\Users\\User\\AppData\\Local\\Temp\\ipykernel_1544\\2318987598.py:16: FutureWarning: the 'smoothing_slope'' keyword is deprecated, use 'smoothing_trend' instead.\n",
      "  ets_fit = ets_model.fit(smoothing_level=a, smoothing_slope=b, smoothing_seasonal=g)\n",
      "C:\\Users\\User\\AppData\\Local\\Temp\\ipykernel_1544\\2318987598.py:16: FutureWarning: the 'smoothing_slope'' keyword is deprecated, use 'smoothing_trend' instead.\n",
      "  ets_fit = ets_model.fit(smoothing_level=a, smoothing_slope=b, smoothing_seasonal=g)\n",
      "C:\\Users\\User\\AppData\\Local\\Temp\\ipykernel_1544\\2318987598.py:16: FutureWarning: the 'smoothing_slope'' keyword is deprecated, use 'smoothing_trend' instead.\n",
      "  ets_fit = ets_model.fit(smoothing_level=a, smoothing_slope=b, smoothing_seasonal=g)\n",
      "C:\\Users\\User\\anaconda3\\lib\\site-packages\\statsmodels\\tsa\\holtwinters\\model.py:915: ConvergenceWarning: Optimization failed to converge. Check mle_retvals.\n",
      "  warnings.warn(\n",
      "C:\\Users\\User\\AppData\\Local\\Temp\\ipykernel_1544\\2318987598.py:16: FutureWarning: the 'smoothing_slope'' keyword is deprecated, use 'smoothing_trend' instead.\n",
      "  ets_fit = ets_model.fit(smoothing_level=a, smoothing_slope=b, smoothing_seasonal=g)\n",
      "C:\\Users\\User\\anaconda3\\lib\\site-packages\\statsmodels\\tsa\\holtwinters\\model.py:915: ConvergenceWarning: Optimization failed to converge. Check mle_retvals.\n",
      "  warnings.warn(\n",
      "C:\\Users\\User\\AppData\\Local\\Temp\\ipykernel_1544\\2318987598.py:16: FutureWarning: the 'smoothing_slope'' keyword is deprecated, use 'smoothing_trend' instead.\n",
      "  ets_fit = ets_model.fit(smoothing_level=a, smoothing_slope=b, smoothing_seasonal=g)\n",
      "C:\\Users\\User\\anaconda3\\lib\\site-packages\\statsmodels\\tsa\\holtwinters\\model.py:915: ConvergenceWarning: Optimization failed to converge. Check mle_retvals.\n",
      "  warnings.warn(\n",
      "C:\\Users\\User\\AppData\\Local\\Temp\\ipykernel_1544\\2318987598.py:16: FutureWarning: the 'smoothing_slope'' keyword is deprecated, use 'smoothing_trend' instead.\n",
      "  ets_fit = ets_model.fit(smoothing_level=a, smoothing_slope=b, smoothing_seasonal=g)\n",
      "C:\\Users\\User\\AppData\\Local\\Temp\\ipykernel_1544\\2318987598.py:16: FutureWarning: the 'smoothing_slope'' keyword is deprecated, use 'smoothing_trend' instead.\n",
      "  ets_fit = ets_model.fit(smoothing_level=a, smoothing_slope=b, smoothing_seasonal=g)\n",
      "C:\\Users\\User\\anaconda3\\lib\\site-packages\\statsmodels\\tsa\\holtwinters\\model.py:83: RuntimeWarning: overflow encountered in matmul\n",
      "  return err.T @ err\n",
      "C:\\Users\\User\\AppData\\Local\\Temp\\ipykernel_1544\\2318987598.py:16: FutureWarning: the 'smoothing_slope'' keyword is deprecated, use 'smoothing_trend' instead.\n",
      "  ets_fit = ets_model.fit(smoothing_level=a, smoothing_slope=b, smoothing_seasonal=g)\n",
      "C:\\Users\\User\\anaconda3\\lib\\site-packages\\statsmodels\\tsa\\holtwinters\\model.py:83: RuntimeWarning: overflow encountered in matmul\n",
      "  return err.T @ err\n",
      "C:\\Users\\User\\AppData\\Local\\Temp\\ipykernel_1544\\2318987598.py:16: FutureWarning: the 'smoothing_slope'' keyword is deprecated, use 'smoothing_trend' instead.\n",
      "  ets_fit = ets_model.fit(smoothing_level=a, smoothing_slope=b, smoothing_seasonal=g)\n",
      "C:\\Users\\User\\anaconda3\\lib\\site-packages\\statsmodels\\tsa\\holtwinters\\model.py:83: RuntimeWarning: overflow encountered in matmul\n",
      "  return err.T @ err\n",
      "C:\\Users\\User\\AppData\\Local\\Temp\\ipykernel_1544\\2318987598.py:16: FutureWarning: the 'smoothing_slope'' keyword is deprecated, use 'smoothing_trend' instead.\n",
      "  ets_fit = ets_model.fit(smoothing_level=a, smoothing_slope=b, smoothing_seasonal=g)\n",
      "C:\\Users\\User\\anaconda3\\lib\\site-packages\\statsmodels\\tsa\\holtwinters\\model.py:83: RuntimeWarning: overflow encountered in matmul\n",
      "  return err.T @ err\n",
      "C:\\Users\\User\\AppData\\Local\\Temp\\ipykernel_1544\\2318987598.py:16: FutureWarning: the 'smoothing_slope'' keyword is deprecated, use 'smoothing_trend' instead.\n",
      "  ets_fit = ets_model.fit(smoothing_level=a, smoothing_slope=b, smoothing_seasonal=g)\n"
     ]
    },
    {
     "name": "stdout",
     "output_type": "stream",
     "text": [
      "\n",
      "MAE = 587.4417294736978 for alpha 0.66, beta 0.99, gamma 0.77\n",
      "MAE = 5305.860277886416 for alpha 0.66, beta 0.99, gamma 0.88\n",
      "MAE = 9546.001415150464 for alpha 0.66, beta 0.99, gamma 0.99\n",
      "MAE = 0.18398140503795224 for alpha 0.77, beta 0.0, gamma 0.0\n",
      "MAE = 0.21816464684547746 for alpha 0.77, beta 0.0, gamma 0.11\n",
      "MAE = 0.2517295833452558 for alpha 0.77, beta 0.0, gamma 0.22\n",
      "MAE = 0.1638297372132879 for alpha 0.77, beta 0.0, gamma 0.33\n",
      "MAE = 0.23845252861565672 for alpha 0.77, beta 0.0, gamma 0.44\n",
      "MAE = 0.30031256361540054 for alpha 0.77, beta 0.0, gamma 0.55\n",
      "MAE = 0.2939043376413098 for alpha 0.77, beta 0.0, gamma 0.66\n",
      "MAE = 0.2328091210392975 for alpha 0.77, beta 0.0, gamma 0.77"
     ]
    },
    {
     "name": "stderr",
     "output_type": "stream",
     "text": [
      "C:\\Users\\User\\anaconda3\\lib\\site-packages\\statsmodels\\tsa\\holtwinters\\model.py:83: RuntimeWarning: overflow encountered in matmul\n",
      "  return err.T @ err\n",
      "C:\\Users\\User\\AppData\\Local\\Temp\\ipykernel_1544\\2318987598.py:16: FutureWarning: the 'smoothing_slope'' keyword is deprecated, use 'smoothing_trend' instead.\n",
      "  ets_fit = ets_model.fit(smoothing_level=a, smoothing_slope=b, smoothing_seasonal=g)\n",
      "C:\\Users\\User\\anaconda3\\lib\\site-packages\\statsmodels\\tsa\\holtwinters\\model.py:83: RuntimeWarning: overflow encountered in matmul\n",
      "  return err.T @ err\n",
      "C:\\Users\\User\\AppData\\Local\\Temp\\ipykernel_1544\\2318987598.py:16: FutureWarning: the 'smoothing_slope'' keyword is deprecated, use 'smoothing_trend' instead.\n",
      "  ets_fit = ets_model.fit(smoothing_level=a, smoothing_slope=b, smoothing_seasonal=g)\n",
      "C:\\Users\\User\\anaconda3\\lib\\site-packages\\statsmodels\\tsa\\holtwinters\\model.py:83: RuntimeWarning: overflow encountered in matmul\n",
      "  return err.T @ err\n",
      "C:\\Users\\User\\AppData\\Local\\Temp\\ipykernel_1544\\2318987598.py:16: FutureWarning: the 'smoothing_slope'' keyword is deprecated, use 'smoothing_trend' instead.\n",
      "  ets_fit = ets_model.fit(smoothing_level=a, smoothing_slope=b, smoothing_seasonal=g)\n",
      "C:\\Users\\User\\anaconda3\\lib\\site-packages\\statsmodels\\tsa\\holtwinters\\model.py:83: RuntimeWarning: overflow encountered in matmul\n",
      "  return err.T @ err\n",
      "C:\\Users\\User\\AppData\\Local\\Temp\\ipykernel_1544\\2318987598.py:16: FutureWarning: the 'smoothing_slope'' keyword is deprecated, use 'smoothing_trend' instead.\n",
      "  ets_fit = ets_model.fit(smoothing_level=a, smoothing_slope=b, smoothing_seasonal=g)\n",
      "C:\\Users\\User\\AppData\\Local\\Temp\\ipykernel_1544\\2318987598.py:16: FutureWarning: the 'smoothing_slope'' keyword is deprecated, use 'smoothing_trend' instead.\n",
      "  ets_fit = ets_model.fit(smoothing_level=a, smoothing_slope=b, smoothing_seasonal=g)\n",
      "C:\\Users\\User\\anaconda3\\lib\\site-packages\\statsmodels\\tsa\\holtwinters\\model.py:83: RuntimeWarning: overflow encountered in matmul\n",
      "  return err.T @ err\n",
      "C:\\Users\\User\\AppData\\Local\\Temp\\ipykernel_1544\\2318987598.py:16: FutureWarning: the 'smoothing_slope'' keyword is deprecated, use 'smoothing_trend' instead.\n",
      "  ets_fit = ets_model.fit(smoothing_level=a, smoothing_slope=b, smoothing_seasonal=g)\n",
      "C:\\Users\\User\\anaconda3\\lib\\site-packages\\statsmodels\\tsa\\holtwinters\\model.py:83: RuntimeWarning: overflow encountered in matmul\n",
      "  return err.T @ err\n",
      "C:\\Users\\User\\AppData\\Local\\Temp\\ipykernel_1544\\2318987598.py:16: FutureWarning: the 'smoothing_slope'' keyword is deprecated, use 'smoothing_trend' instead.\n",
      "  ets_fit = ets_model.fit(smoothing_level=a, smoothing_slope=b, smoothing_seasonal=g)\n",
      "C:\\Users\\User\\anaconda3\\lib\\site-packages\\statsmodels\\tsa\\holtwinters\\model.py:83: RuntimeWarning: overflow encountered in matmul\n",
      "  return err.T @ err\n",
      "C:\\Users\\User\\AppData\\Local\\Temp\\ipykernel_1544\\2318987598.py:16: FutureWarning: the 'smoothing_slope'' keyword is deprecated, use 'smoothing_trend' instead.\n",
      "  ets_fit = ets_model.fit(smoothing_level=a, smoothing_slope=b, smoothing_seasonal=g)\n"
     ]
    },
    {
     "name": "stdout",
     "output_type": "stream",
     "text": [
      "\n",
      "MAE = 0.5764464623422524 for alpha 0.77, beta 0.0, gamma 0.88\n",
      "MAE = 0.1330499802217399 for alpha 0.77, beta 0.0, gamma 0.99\n",
      "MAE = 0.3518310805721283 for alpha 0.77, beta 0.11, gamma 0.0\n",
      "MAE = 0.39048770532449656 for alpha 0.77, beta 0.11, gamma 0.11\n",
      "MAE = 0.44342002772611705 for alpha 0.77, beta 0.11, gamma 0.22\n"
     ]
    },
    {
     "name": "stderr",
     "output_type": "stream",
     "text": [
      "C:\\Users\\User\\anaconda3\\lib\\site-packages\\statsmodels\\tsa\\holtwinters\\model.py:83: RuntimeWarning: overflow encountered in matmul\n",
      "  return err.T @ err\n",
      "C:\\Users\\User\\AppData\\Local\\Temp\\ipykernel_1544\\2318987598.py:16: FutureWarning: the 'smoothing_slope'' keyword is deprecated, use 'smoothing_trend' instead.\n",
      "  ets_fit = ets_model.fit(smoothing_level=a, smoothing_slope=b, smoothing_seasonal=g)\n",
      "C:\\Users\\User\\AppData\\Local\\Temp\\ipykernel_1544\\2318987598.py:16: FutureWarning: the 'smoothing_slope'' keyword is deprecated, use 'smoothing_trend' instead.\n",
      "  ets_fit = ets_model.fit(smoothing_level=a, smoothing_slope=b, smoothing_seasonal=g)\n",
      "C:\\Users\\User\\AppData\\Local\\Temp\\ipykernel_1544\\2318987598.py:16: FutureWarning: the 'smoothing_slope'' keyword is deprecated, use 'smoothing_trend' instead.\n",
      "  ets_fit = ets_model.fit(smoothing_level=a, smoothing_slope=b, smoothing_seasonal=g)\n",
      "C:\\Users\\User\\AppData\\Local\\Temp\\ipykernel_1544\\2318987598.py:16: FutureWarning: the 'smoothing_slope'' keyword is deprecated, use 'smoothing_trend' instead.\n",
      "  ets_fit = ets_model.fit(smoothing_level=a, smoothing_slope=b, smoothing_seasonal=g)\n",
      "C:\\Users\\User\\AppData\\Local\\Temp\\ipykernel_1544\\2318987598.py:16: FutureWarning: the 'smoothing_slope'' keyword is deprecated, use 'smoothing_trend' instead.\n",
      "  ets_fit = ets_model.fit(smoothing_level=a, smoothing_slope=b, smoothing_seasonal=g)\n",
      "C:\\Users\\User\\anaconda3\\lib\\site-packages\\statsmodels\\tsa\\holtwinters\\model.py:83: RuntimeWarning: overflow encountered in matmul\n",
      "  return err.T @ err\n",
      "C:\\Users\\User\\AppData\\Local\\Temp\\ipykernel_1544\\2318987598.py:16: FutureWarning: the 'smoothing_slope'' keyword is deprecated, use 'smoothing_trend' instead.\n",
      "  ets_fit = ets_model.fit(smoothing_level=a, smoothing_slope=b, smoothing_seasonal=g)\n",
      "C:\\Users\\User\\anaconda3\\lib\\site-packages\\statsmodels\\tsa\\holtwinters\\model.py:83: RuntimeWarning: overflow encountered in matmul\n",
      "  return err.T @ err\n",
      "C:\\Users\\User\\AppData\\Local\\Temp\\ipykernel_1544\\2318987598.py:16: FutureWarning: the 'smoothing_slope'' keyword is deprecated, use 'smoothing_trend' instead.\n",
      "  ets_fit = ets_model.fit(smoothing_level=a, smoothing_slope=b, smoothing_seasonal=g)\n",
      "C:\\Users\\User\\anaconda3\\lib\\site-packages\\statsmodels\\tsa\\holtwinters\\model.py:83: RuntimeWarning: overflow encountered in matmul\n",
      "  return err.T @ err\n"
     ]
    },
    {
     "name": "stdout",
     "output_type": "stream",
     "text": [
      "MAE = 0.3862687841139773 for alpha 0.77, beta 0.11, gamma 0.33\n",
      "MAE = 0.4084329157780205 for alpha 0.77, beta 0.11, gamma 0.44\n",
      "MAE = 0.3127253527604818 for alpha 0.77, beta 0.11, gamma 0.55\n",
      "MAE = 0.4679298004844294 for alpha 0.77, beta 0.11, gamma 0.66\n",
      "MAE = 0.33602734566465214 for alpha 0.77, beta 0.11, gamma 0.77\n",
      "MAE = 0.2805073655863577 for alpha 0.77, beta 0.11, gamma 0.88\n",
      "MAE = 0.3423233757507866 for alpha 0.77, beta 0.11, gamma 0.99\n",
      "MAE = 0.5318913768927768 for alpha 0.77, beta 0.22, gamma 0.0\n"
     ]
    },
    {
     "name": "stderr",
     "output_type": "stream",
     "text": [
      "C:\\Users\\User\\AppData\\Local\\Temp\\ipykernel_1544\\2318987598.py:16: FutureWarning: the 'smoothing_slope'' keyword is deprecated, use 'smoothing_trend' instead.\n",
      "  ets_fit = ets_model.fit(smoothing_level=a, smoothing_slope=b, smoothing_seasonal=g)\n",
      "C:\\Users\\User\\anaconda3\\lib\\site-packages\\statsmodels\\tsa\\holtwinters\\model.py:83: RuntimeWarning: overflow encountered in matmul\n",
      "  return err.T @ err\n",
      "C:\\Users\\User\\AppData\\Local\\Temp\\ipykernel_1544\\2318987598.py:16: FutureWarning: the 'smoothing_slope'' keyword is deprecated, use 'smoothing_trend' instead.\n",
      "  ets_fit = ets_model.fit(smoothing_level=a, smoothing_slope=b, smoothing_seasonal=g)\n",
      "C:\\Users\\User\\AppData\\Local\\Temp\\ipykernel_1544\\2318987598.py:16: FutureWarning: the 'smoothing_slope'' keyword is deprecated, use 'smoothing_trend' instead.\n",
      "  ets_fit = ets_model.fit(smoothing_level=a, smoothing_slope=b, smoothing_seasonal=g)\n",
      "C:\\Users\\User\\AppData\\Local\\Temp\\ipykernel_1544\\2318987598.py:16: FutureWarning: the 'smoothing_slope'' keyword is deprecated, use 'smoothing_trend' instead.\n",
      "  ets_fit = ets_model.fit(smoothing_level=a, smoothing_slope=b, smoothing_seasonal=g)\n",
      "C:\\Users\\User\\AppData\\Local\\Temp\\ipykernel_1544\\2318987598.py:16: FutureWarning: the 'smoothing_slope'' keyword is deprecated, use 'smoothing_trend' instead.\n",
      "  ets_fit = ets_model.fit(smoothing_level=a, smoothing_slope=b, smoothing_seasonal=g)\n",
      "C:\\Users\\User\\AppData\\Local\\Temp\\ipykernel_1544\\2318987598.py:16: FutureWarning: the 'smoothing_slope'' keyword is deprecated, use 'smoothing_trend' instead.\n",
      "  ets_fit = ets_model.fit(smoothing_level=a, smoothing_slope=b, smoothing_seasonal=g)\n"
     ]
    },
    {
     "name": "stdout",
     "output_type": "stream",
     "text": [
      "MAE = 0.5966182829548772 for alpha 0.77, beta 0.22, gamma 0.11\n",
      "MAE = 0.6388976189571367 for alpha 0.77, beta 0.22, gamma 0.22\n",
      "MAE = 0.4603691201524806 for alpha 0.77, beta 0.22, gamma 0.33\n",
      "MAE = 0.6124298514866661 for alpha 0.77, beta 0.22, gamma 0.44\n",
      "MAE = 0.6064245532032988 for alpha 0.77, beta 0.22, gamma 0.55\n",
      "MAE = 0.45374857246864014 for alpha 0.77, beta 0.22, gamma 0.66\n",
      "MAE = 0.26925831778926296 for alpha 0.77, beta 0.22, gamma 0.77\n",
      "MAE = 0.268407264346493 for alpha 0.77, beta 0.22, gamma 0.88\n",
      "MAE = 0.31577477793880876 for alpha 0.77, beta 0.22, gamma 0.99\n"
     ]
    },
    {
     "name": "stderr",
     "output_type": "stream",
     "text": [
      "C:\\Users\\User\\AppData\\Local\\Temp\\ipykernel_1544\\2318987598.py:16: FutureWarning: the 'smoothing_slope'' keyword is deprecated, use 'smoothing_trend' instead.\n",
      "  ets_fit = ets_model.fit(smoothing_level=a, smoothing_slope=b, smoothing_seasonal=g)\n",
      "C:\\Users\\User\\AppData\\Local\\Temp\\ipykernel_1544\\2318987598.py:16: FutureWarning: the 'smoothing_slope'' keyword is deprecated, use 'smoothing_trend' instead.\n",
      "  ets_fit = ets_model.fit(smoothing_level=a, smoothing_slope=b, smoothing_seasonal=g)\n",
      "C:\\Users\\User\\AppData\\Local\\Temp\\ipykernel_1544\\2318987598.py:16: FutureWarning: the 'smoothing_slope'' keyword is deprecated, use 'smoothing_trend' instead.\n",
      "  ets_fit = ets_model.fit(smoothing_level=a, smoothing_slope=b, smoothing_seasonal=g)\n",
      "C:\\Users\\User\\AppData\\Local\\Temp\\ipykernel_1544\\2318987598.py:16: FutureWarning: the 'smoothing_slope'' keyword is deprecated, use 'smoothing_trend' instead.\n",
      "  ets_fit = ets_model.fit(smoothing_level=a, smoothing_slope=b, smoothing_seasonal=g)\n",
      "C:\\Users\\User\\AppData\\Local\\Temp\\ipykernel_1544\\2318987598.py:16: FutureWarning: the 'smoothing_slope'' keyword is deprecated, use 'smoothing_trend' instead.\n",
      "  ets_fit = ets_model.fit(smoothing_level=a, smoothing_slope=b, smoothing_seasonal=g)\n",
      "C:\\Users\\User\\AppData\\Local\\Temp\\ipykernel_1544\\2318987598.py:16: FutureWarning: the 'smoothing_slope'' keyword is deprecated, use 'smoothing_trend' instead.\n",
      "  ets_fit = ets_model.fit(smoothing_level=a, smoothing_slope=b, smoothing_seasonal=g)\n",
      "C:\\Users\\User\\AppData\\Local\\Temp\\ipykernel_1544\\2318987598.py:16: FutureWarning: the 'smoothing_slope'' keyword is deprecated, use 'smoothing_trend' instead.\n",
      "  ets_fit = ets_model.fit(smoothing_level=a, smoothing_slope=b, smoothing_seasonal=g)\n"
     ]
    },
    {
     "name": "stdout",
     "output_type": "stream",
     "text": [
      "MAE = 0.7589414810235264 for alpha 0.77, beta 0.33, gamma 0.0\n",
      "MAE = 0.6386023958123321 for alpha 0.77, beta 0.33, gamma 0.11\n",
      "MAE = 0.9001400550802791 for alpha 0.77, beta 0.33, gamma 0.22\n",
      "MAE = 0.8568109528156045 for alpha 0.77, beta 0.33, gamma 0.33\n",
      "MAE = 0.8262909206403583 for alpha 0.77, beta 0.33, gamma 0.44\n",
      "MAE = 0.7868103264664136 for alpha 0.77, beta 0.33, gamma 0.55\n",
      "MAE = 0.49723783815761063 for alpha 0.77, beta 0.33, gamma 0.66\n",
      "MAE = 0.2026233571148913 for alpha 0.77, beta 0.33, gamma 0.77\n",
      "MAE = 0.2166368108185426 for alpha 0.77, beta 0.33, gamma 0.88\n",
      "MAE = 0.5507320451798743 for alpha 0.77, beta 0.33, gamma 0.99\n"
     ]
    },
    {
     "name": "stderr",
     "output_type": "stream",
     "text": [
      "C:\\Users\\User\\AppData\\Local\\Temp\\ipykernel_1544\\2318987598.py:16: FutureWarning: the 'smoothing_slope'' keyword is deprecated, use 'smoothing_trend' instead.\n",
      "  ets_fit = ets_model.fit(smoothing_level=a, smoothing_slope=b, smoothing_seasonal=g)\n",
      "C:\\Users\\User\\AppData\\Local\\Temp\\ipykernel_1544\\2318987598.py:16: FutureWarning: the 'smoothing_slope'' keyword is deprecated, use 'smoothing_trend' instead.\n",
      "  ets_fit = ets_model.fit(smoothing_level=a, smoothing_slope=b, smoothing_seasonal=g)\n",
      "C:\\Users\\User\\AppData\\Local\\Temp\\ipykernel_1544\\2318987598.py:16: FutureWarning: the 'smoothing_slope'' keyword is deprecated, use 'smoothing_trend' instead.\n",
      "  ets_fit = ets_model.fit(smoothing_level=a, smoothing_slope=b, smoothing_seasonal=g)\n",
      "C:\\Users\\User\\AppData\\Local\\Temp\\ipykernel_1544\\2318987598.py:16: FutureWarning: the 'smoothing_slope'' keyword is deprecated, use 'smoothing_trend' instead.\n",
      "  ets_fit = ets_model.fit(smoothing_level=a, smoothing_slope=b, smoothing_seasonal=g)\n",
      "C:\\Users\\User\\AppData\\Local\\Temp\\ipykernel_1544\\2318987598.py:16: FutureWarning: the 'smoothing_slope'' keyword is deprecated, use 'smoothing_trend' instead.\n",
      "  ets_fit = ets_model.fit(smoothing_level=a, smoothing_slope=b, smoothing_seasonal=g)\n",
      "C:\\Users\\User\\AppData\\Local\\Temp\\ipykernel_1544\\2318987598.py:16: FutureWarning: the 'smoothing_slope'' keyword is deprecated, use 'smoothing_trend' instead.\n",
      "  ets_fit = ets_model.fit(smoothing_level=a, smoothing_slope=b, smoothing_seasonal=g)\n",
      "C:\\Users\\User\\AppData\\Local\\Temp\\ipykernel_1544\\2318987598.py:16: FutureWarning: the 'smoothing_slope'' keyword is deprecated, use 'smoothing_trend' instead.\n",
      "  ets_fit = ets_model.fit(smoothing_level=a, smoothing_slope=b, smoothing_seasonal=g)\n",
      "C:\\Users\\User\\AppData\\Local\\Temp\\ipykernel_1544\\2318987598.py:16: FutureWarning: the 'smoothing_slope'' keyword is deprecated, use 'smoothing_trend' instead.\n",
      "  ets_fit = ets_model.fit(smoothing_level=a, smoothing_slope=b, smoothing_seasonal=g)\n"
     ]
    },
    {
     "name": "stdout",
     "output_type": "stream",
     "text": [
      "MAE = 1.0302213219406386 for alpha 0.77, beta 0.44, gamma 0.0\n",
      "MAE = 1.1946171700097759 for alpha 0.77, beta 0.44, gamma 0.11\n",
      "MAE = 0.8674748310472964 for alpha 0.77, beta 0.44, gamma 0.22\n",
      "MAE = 1.0411420332220007 for alpha 0.77, beta 0.44, gamma 0.33\n",
      "MAE = 0.850560219993469 for alpha 0.77, beta 0.44, gamma 0.44\n",
      "MAE = 0.6602514438146309 for alpha 0.77, beta 0.44, gamma 0.55\n",
      "MAE = 0.23568886268951741 for alpha 0.77, beta 0.44, gamma 0.66\n",
      "MAE = 0.31316013741534826 for alpha 0.77, beta 0.44, gamma 0.77\n",
      "MAE = 0.41865956689429895 for alpha 0.77, beta 0.44, gamma 0.88\n"
     ]
    },
    {
     "name": "stderr",
     "output_type": "stream",
     "text": [
      "C:\\Users\\User\\AppData\\Local\\Temp\\ipykernel_1544\\2318987598.py:16: FutureWarning: the 'smoothing_slope'' keyword is deprecated, use 'smoothing_trend' instead.\n",
      "  ets_fit = ets_model.fit(smoothing_level=a, smoothing_slope=b, smoothing_seasonal=g)\n",
      "C:\\Users\\User\\AppData\\Local\\Temp\\ipykernel_1544\\2318987598.py:16: FutureWarning: the 'smoothing_slope'' keyword is deprecated, use 'smoothing_trend' instead.\n",
      "  ets_fit = ets_model.fit(smoothing_level=a, smoothing_slope=b, smoothing_seasonal=g)\n",
      "C:\\Users\\User\\AppData\\Local\\Temp\\ipykernel_1544\\2318987598.py:16: FutureWarning: the 'smoothing_slope'' keyword is deprecated, use 'smoothing_trend' instead.\n",
      "  ets_fit = ets_model.fit(smoothing_level=a, smoothing_slope=b, smoothing_seasonal=g)\n",
      "C:\\Users\\User\\AppData\\Local\\Temp\\ipykernel_1544\\2318987598.py:16: FutureWarning: the 'smoothing_slope'' keyword is deprecated, use 'smoothing_trend' instead.\n",
      "  ets_fit = ets_model.fit(smoothing_level=a, smoothing_slope=b, smoothing_seasonal=g)\n",
      "C:\\Users\\User\\AppData\\Local\\Temp\\ipykernel_1544\\2318987598.py:16: FutureWarning: the 'smoothing_slope'' keyword is deprecated, use 'smoothing_trend' instead.\n",
      "  ets_fit = ets_model.fit(smoothing_level=a, smoothing_slope=b, smoothing_seasonal=g)\n",
      "C:\\Users\\User\\AppData\\Local\\Temp\\ipykernel_1544\\2318987598.py:16: FutureWarning: the 'smoothing_slope'' keyword is deprecated, use 'smoothing_trend' instead.\n",
      "  ets_fit = ets_model.fit(smoothing_level=a, smoothing_slope=b, smoothing_seasonal=g)\n",
      "C:\\Users\\User\\AppData\\Local\\Temp\\ipykernel_1544\\2318987598.py:16: FutureWarning: the 'smoothing_slope'' keyword is deprecated, use 'smoothing_trend' instead.\n",
      "  ets_fit = ets_model.fit(smoothing_level=a, smoothing_slope=b, smoothing_seasonal=g)\n",
      "C:\\Users\\User\\AppData\\Local\\Temp\\ipykernel_1544\\2318987598.py:16: FutureWarning: the 'smoothing_slope'' keyword is deprecated, use 'smoothing_trend' instead.\n",
      "  ets_fit = ets_model.fit(smoothing_level=a, smoothing_slope=b, smoothing_seasonal=g)\n",
      "C:\\Users\\User\\anaconda3\\lib\\site-packages\\statsmodels\\tsa\\holtwinters\\model.py:915: ConvergenceWarning: Optimization failed to converge. Check mle_retvals.\n",
      "  warnings.warn(\n",
      "C:\\Users\\User\\AppData\\Local\\Temp\\ipykernel_1544\\2318987598.py:16: FutureWarning: the 'smoothing_slope'' keyword is deprecated, use 'smoothing_trend' instead.\n",
      "  ets_fit = ets_model.fit(smoothing_level=a, smoothing_slope=b, smoothing_seasonal=g)\n",
      "C:\\Users\\User\\anaconda3\\lib\\site-packages\\statsmodels\\tsa\\holtwinters\\model.py:83: RuntimeWarning: overflow encountered in matmul\n",
      "  return err.T @ err\n"
     ]
    },
    {
     "name": "stdout",
     "output_type": "stream",
     "text": [
      "MAE = 49.93096090389643 for alpha 0.77, beta 0.44, gamma 0.99\n",
      "MAE = 1.3602614484589612 for alpha 0.77, beta 0.55, gamma 0.0\n",
      "MAE = 1.5848933253047572 for alpha 0.77, beta 0.55, gamma 0.11\n",
      "MAE = 0.9587226923885329 for alpha 0.77, beta 0.55, gamma 0.22\n"
     ]
    },
    {
     "name": "stderr",
     "output_type": "stream",
     "text": [
      "C:\\Users\\User\\AppData\\Local\\Temp\\ipykernel_1544\\2318987598.py:16: FutureWarning: the 'smoothing_slope'' keyword is deprecated, use 'smoothing_trend' instead.\n",
      "  ets_fit = ets_model.fit(smoothing_level=a, smoothing_slope=b, smoothing_seasonal=g)\n",
      "C:\\Users\\User\\anaconda3\\lib\\site-packages\\statsmodels\\tsa\\holtwinters\\model.py:83: RuntimeWarning: overflow encountered in matmul\n",
      "  return err.T @ err\n",
      "C:\\Users\\User\\AppData\\Local\\Temp\\ipykernel_1544\\2318987598.py:16: FutureWarning: the 'smoothing_slope'' keyword is deprecated, use 'smoothing_trend' instead.\n",
      "  ets_fit = ets_model.fit(smoothing_level=a, smoothing_slope=b, smoothing_seasonal=g)\n",
      "C:\\Users\\User\\AppData\\Local\\Temp\\ipykernel_1544\\2318987598.py:16: FutureWarning: the 'smoothing_slope'' keyword is deprecated, use 'smoothing_trend' instead.\n",
      "  ets_fit = ets_model.fit(smoothing_level=a, smoothing_slope=b, smoothing_seasonal=g)\n",
      "C:\\Users\\User\\AppData\\Local\\Temp\\ipykernel_1544\\2318987598.py:16: FutureWarning: the 'smoothing_slope'' keyword is deprecated, use 'smoothing_trend' instead.\n",
      "  ets_fit = ets_model.fit(smoothing_level=a, smoothing_slope=b, smoothing_seasonal=g)\n"
     ]
    },
    {
     "name": "stdout",
     "output_type": "stream",
     "text": [
      "MAE = 1.4469441012373476 for alpha 0.77, beta 0.55, gamma 0.33\n",
      "MAE = 0.6863534599600364 for alpha 0.77, beta 0.55, gamma 0.44\n",
      "MAE = 0.39209817479802833 for alpha 0.77, beta 0.55, gamma 0.55\n",
      "MAE = 0.21123973166446053 for alpha 0.77, beta 0.55, gamma 0.66\n",
      "MAE = 0.5047878727812966 for alpha 0.77, beta 0.55, gamma 0.77\n",
      "MAE = 0.6484844544069078 for alpha 0.77, beta 0.55, gamma 0.88\n",
      "MAE = 575.8130379590697 for alpha 0.77, beta 0.55, gamma 0.99\n",
      "MAE = 1.7572395739315514 for alpha 0.77, beta 0.66, gamma 0.0\n"
     ]
    },
    {
     "name": "stderr",
     "output_type": "stream",
     "text": [
      "C:\\Users\\User\\AppData\\Local\\Temp\\ipykernel_1544\\2318987598.py:16: FutureWarning: the 'smoothing_slope'' keyword is deprecated, use 'smoothing_trend' instead.\n",
      "  ets_fit = ets_model.fit(smoothing_level=a, smoothing_slope=b, smoothing_seasonal=g)\n",
      "C:\\Users\\User\\AppData\\Local\\Temp\\ipykernel_1544\\2318987598.py:16: FutureWarning: the 'smoothing_slope'' keyword is deprecated, use 'smoothing_trend' instead.\n",
      "  ets_fit = ets_model.fit(smoothing_level=a, smoothing_slope=b, smoothing_seasonal=g)\n",
      "C:\\Users\\User\\AppData\\Local\\Temp\\ipykernel_1544\\2318987598.py:16: FutureWarning: the 'smoothing_slope'' keyword is deprecated, use 'smoothing_trend' instead.\n",
      "  ets_fit = ets_model.fit(smoothing_level=a, smoothing_slope=b, smoothing_seasonal=g)\n",
      "C:\\Users\\User\\AppData\\Local\\Temp\\ipykernel_1544\\2318987598.py:16: FutureWarning: the 'smoothing_slope'' keyword is deprecated, use 'smoothing_trend' instead.\n",
      "  ets_fit = ets_model.fit(smoothing_level=a, smoothing_slope=b, smoothing_seasonal=g)\n",
      "C:\\Users\\User\\AppData\\Local\\Temp\\ipykernel_1544\\2318987598.py:16: FutureWarning: the 'smoothing_slope'' keyword is deprecated, use 'smoothing_trend' instead.\n",
      "  ets_fit = ets_model.fit(smoothing_level=a, smoothing_slope=b, smoothing_seasonal=g)\n",
      "C:\\Users\\User\\anaconda3\\lib\\site-packages\\statsmodels\\tsa\\holtwinters\\model.py:915: ConvergenceWarning: Optimization failed to converge. Check mle_retvals.\n",
      "  warnings.warn(\n",
      "C:\\Users\\User\\AppData\\Local\\Temp\\ipykernel_1544\\2318987598.py:16: FutureWarning: the 'smoothing_slope'' keyword is deprecated, use 'smoothing_trend' instead.\n",
      "  ets_fit = ets_model.fit(smoothing_level=a, smoothing_slope=b, smoothing_seasonal=g)\n",
      "C:\\Users\\User\\AppData\\Local\\Temp\\ipykernel_1544\\2318987598.py:16: FutureWarning: the 'smoothing_slope'' keyword is deprecated, use 'smoothing_trend' instead.\n",
      "  ets_fit = ets_model.fit(smoothing_level=a, smoothing_slope=b, smoothing_seasonal=g)\n"
     ]
    },
    {
     "name": "stdout",
     "output_type": "stream",
     "text": [
      "MAE = 2.0147936415836045 for alpha 0.77, beta 0.66, gamma 0.11\n",
      "MAE = 1.9389635702671042 for alpha 0.77, beta 0.66, gamma 0.22\n",
      "MAE = 1.8689936761835575 for alpha 0.77, beta 0.66, gamma 0.33\n",
      "MAE = 0.48902727256129547 for alpha 0.77, beta 0.66, gamma 0.44\n",
      "MAE = 0.6173277793783054 for alpha 0.77, beta 0.66, gamma 0.55\n",
      "MAE = 0.34757658217154636 for alpha 0.77, beta 0.66, gamma 0.66\n"
     ]
    },
    {
     "name": "stderr",
     "output_type": "stream",
     "text": [
      "C:\\Users\\User\\AppData\\Local\\Temp\\ipykernel_1544\\2318987598.py:16: FutureWarning: the 'smoothing_slope'' keyword is deprecated, use 'smoothing_trend' instead.\n",
      "  ets_fit = ets_model.fit(smoothing_level=a, smoothing_slope=b, smoothing_seasonal=g)\n",
      "C:\\Users\\User\\AppData\\Local\\Temp\\ipykernel_1544\\2318987598.py:16: FutureWarning: the 'smoothing_slope'' keyword is deprecated, use 'smoothing_trend' instead.\n",
      "  ets_fit = ets_model.fit(smoothing_level=a, smoothing_slope=b, smoothing_seasonal=g)\n",
      "C:\\Users\\User\\AppData\\Local\\Temp\\ipykernel_1544\\2318987598.py:16: FutureWarning: the 'smoothing_slope'' keyword is deprecated, use 'smoothing_trend' instead.\n",
      "  ets_fit = ets_model.fit(smoothing_level=a, smoothing_slope=b, smoothing_seasonal=g)\n",
      "C:\\Users\\User\\AppData\\Local\\Temp\\ipykernel_1544\\2318987598.py:16: FutureWarning: the 'smoothing_slope'' keyword is deprecated, use 'smoothing_trend' instead.\n",
      "  ets_fit = ets_model.fit(smoothing_level=a, smoothing_slope=b, smoothing_seasonal=g)\n",
      "C:\\Users\\User\\AppData\\Local\\Temp\\ipykernel_1544\\2318987598.py:16: FutureWarning: the 'smoothing_slope'' keyword is deprecated, use 'smoothing_trend' instead.\n",
      "  ets_fit = ets_model.fit(smoothing_level=a, smoothing_slope=b, smoothing_seasonal=g)\n",
      "C:\\Users\\User\\AppData\\Local\\Temp\\ipykernel_1544\\2318987598.py:16: FutureWarning: the 'smoothing_slope'' keyword is deprecated, use 'smoothing_trend' instead.\n",
      "  ets_fit = ets_model.fit(smoothing_level=a, smoothing_slope=b, smoothing_seasonal=g)\n",
      "C:\\Users\\User\\AppData\\Local\\Temp\\ipykernel_1544\\2318987598.py:16: FutureWarning: the 'smoothing_slope'' keyword is deprecated, use 'smoothing_trend' instead.\n",
      "  ets_fit = ets_model.fit(smoothing_level=a, smoothing_slope=b, smoothing_seasonal=g)\n",
      "C:\\Users\\User\\AppData\\Local\\Temp\\ipykernel_1544\\2318987598.py:16: FutureWarning: the 'smoothing_slope'' keyword is deprecated, use 'smoothing_trend' instead.\n",
      "  ets_fit = ets_model.fit(smoothing_level=a, smoothing_slope=b, smoothing_seasonal=g)\n"
     ]
    },
    {
     "name": "stdout",
     "output_type": "stream",
     "text": [
      "MAE = 0.6954712946353805 for alpha 0.77, beta 0.66, gamma 0.77\n",
      "MAE = 0.6311133108858104 for alpha 0.77, beta 0.66, gamma 0.88\n",
      "MAE = 17937.835120042386 for alpha 0.77, beta 0.66, gamma 0.99\n",
      "MAE = 1.1705968599096128 for alpha 0.77, beta 0.77, gamma 0.0\n",
      "MAE = 2.4234717380822453 for alpha 0.77, beta 0.77, gamma 0.11\n",
      "MAE = 1.4528038922116568 for alpha 0.77, beta 0.77, gamma 0.22\n",
      "MAE = 1.077478153043047 for alpha 0.77, beta 0.77, gamma 0.33"
     ]
    },
    {
     "name": "stderr",
     "output_type": "stream",
     "text": [
      "C:\\Users\\User\\anaconda3\\lib\\site-packages\\statsmodels\\tsa\\holtwinters\\model.py:915: ConvergenceWarning: Optimization failed to converge. Check mle_retvals.\n",
      "  warnings.warn(\n",
      "C:\\Users\\User\\AppData\\Local\\Temp\\ipykernel_1544\\2318987598.py:16: FutureWarning: the 'smoothing_slope'' keyword is deprecated, use 'smoothing_trend' instead.\n",
      "  ets_fit = ets_model.fit(smoothing_level=a, smoothing_slope=b, smoothing_seasonal=g)\n",
      "C:\\Users\\User\\AppData\\Local\\Temp\\ipykernel_1544\\2318987598.py:16: FutureWarning: the 'smoothing_slope'' keyword is deprecated, use 'smoothing_trend' instead.\n",
      "  ets_fit = ets_model.fit(smoothing_level=a, smoothing_slope=b, smoothing_seasonal=g)\n",
      "C:\\Users\\User\\AppData\\Local\\Temp\\ipykernel_1544\\2318987598.py:16: FutureWarning: the 'smoothing_slope'' keyword is deprecated, use 'smoothing_trend' instead.\n",
      "  ets_fit = ets_model.fit(smoothing_level=a, smoothing_slope=b, smoothing_seasonal=g)\n",
      "C:\\Users\\User\\AppData\\Local\\Temp\\ipykernel_1544\\2318987598.py:16: FutureWarning: the 'smoothing_slope'' keyword is deprecated, use 'smoothing_trend' instead.\n",
      "  ets_fit = ets_model.fit(smoothing_level=a, smoothing_slope=b, smoothing_seasonal=g)\n",
      "C:\\Users\\User\\AppData\\Local\\Temp\\ipykernel_1544\\2318987598.py:16: FutureWarning: the 'smoothing_slope'' keyword is deprecated, use 'smoothing_trend' instead.\n",
      "  ets_fit = ets_model.fit(smoothing_level=a, smoothing_slope=b, smoothing_seasonal=g)\n"
     ]
    },
    {
     "name": "stdout",
     "output_type": "stream",
     "text": [
      "\n",
      "MAE = 1.4378018882411492 for alpha 0.77, beta 0.77, gamma 0.44\n",
      "MAE = 0.2534942046198418 for alpha 0.77, beta 0.77, gamma 0.55\n",
      "MAE = 0.5746888159691769 for alpha 0.77, beta 0.77, gamma 0.66\n",
      "MAE = 992.2259513690609 for alpha 0.77, beta 0.77, gamma 0.77\n",
      "MAE = 43868.45301307391 for alpha 0.77, beta 0.77, gamma 0.88\n",
      "MAE = 1719883.569892089 for alpha 0.77, beta 0.77, gamma 0.99\n",
      "MAE = 1.3479405721113873 for alpha 0.77, beta 0.88, gamma 0.0\n",
      "MAE = 1.5395217006886606 for alpha 0.77, beta 0.88, gamma 0.11"
     ]
    },
    {
     "name": "stderr",
     "output_type": "stream",
     "text": [
      "C:\\Users\\User\\AppData\\Local\\Temp\\ipykernel_1544\\2318987598.py:16: FutureWarning: the 'smoothing_slope'' keyword is deprecated, use 'smoothing_trend' instead.\n",
      "  ets_fit = ets_model.fit(smoothing_level=a, smoothing_slope=b, smoothing_seasonal=g)\n",
      "C:\\Users\\User\\AppData\\Local\\Temp\\ipykernel_1544\\2318987598.py:16: FutureWarning: the 'smoothing_slope'' keyword is deprecated, use 'smoothing_trend' instead.\n",
      "  ets_fit = ets_model.fit(smoothing_level=a, smoothing_slope=b, smoothing_seasonal=g)\n",
      "C:\\Users\\User\\AppData\\Local\\Temp\\ipykernel_1544\\2318987598.py:16: FutureWarning: the 'smoothing_slope'' keyword is deprecated, use 'smoothing_trend' instead.\n",
      "  ets_fit = ets_model.fit(smoothing_level=a, smoothing_slope=b, smoothing_seasonal=g)\n",
      "C:\\Users\\User\\anaconda3\\lib\\site-packages\\statsmodels\\tsa\\holtwinters\\model.py:915: ConvergenceWarning: Optimization failed to converge. Check mle_retvals.\n",
      "  warnings.warn(\n",
      "C:\\Users\\User\\AppData\\Local\\Temp\\ipykernel_1544\\2318987598.py:16: FutureWarning: the 'smoothing_slope'' keyword is deprecated, use 'smoothing_trend' instead.\n",
      "  ets_fit = ets_model.fit(smoothing_level=a, smoothing_slope=b, smoothing_seasonal=g)\n",
      "C:\\Users\\User\\anaconda3\\lib\\site-packages\\statsmodels\\tsa\\holtwinters\\model.py:915: ConvergenceWarning: Optimization failed to converge. Check mle_retvals.\n",
      "  warnings.warn(\n",
      "C:\\Users\\User\\AppData\\Local\\Temp\\ipykernel_1544\\2318987598.py:16: FutureWarning: the 'smoothing_slope'' keyword is deprecated, use 'smoothing_trend' instead.\n",
      "  ets_fit = ets_model.fit(smoothing_level=a, smoothing_slope=b, smoothing_seasonal=g)\n",
      "C:\\Users\\User\\anaconda3\\lib\\site-packages\\statsmodels\\tsa\\holtwinters\\model.py:915: ConvergenceWarning: Optimization failed to converge. Check mle_retvals.\n",
      "  warnings.warn(\n",
      "C:\\Users\\User\\AppData\\Local\\Temp\\ipykernel_1544\\2318987598.py:16: FutureWarning: the 'smoothing_slope'' keyword is deprecated, use 'smoothing_trend' instead.\n",
      "  ets_fit = ets_model.fit(smoothing_level=a, smoothing_slope=b, smoothing_seasonal=g)\n",
      "C:\\Users\\User\\AppData\\Local\\Temp\\ipykernel_1544\\2318987598.py:16: FutureWarning: the 'smoothing_slope'' keyword is deprecated, use 'smoothing_trend' instead.\n",
      "  ets_fit = ets_model.fit(smoothing_level=a, smoothing_slope=b, smoothing_seasonal=g)\n",
      "C:\\Users\\User\\AppData\\Local\\Temp\\ipykernel_1544\\2318987598.py:16: FutureWarning: the 'smoothing_slope'' keyword is deprecated, use 'smoothing_trend' instead.\n",
      "  ets_fit = ets_model.fit(smoothing_level=a, smoothing_slope=b, smoothing_seasonal=g)\n"
     ]
    },
    {
     "name": "stdout",
     "output_type": "stream",
     "text": [
      "\n",
      "MAE = 1.3566257055005355 for alpha 0.77, beta 0.88, gamma 0.22\n",
      "MAE = 1.135071345961608 for alpha 0.77, beta 0.88, gamma 0.33\n",
      "MAE = 2.8115463789877837 for alpha 0.77, beta 0.88, gamma 0.44\n",
      "MAE = 0.49090217284735194 for alpha 0.77, beta 0.88, gamma 0.55\n",
      "MAE = 0.6064008596481244 for alpha 0.77, beta 0.88, gamma 0.66\n",
      "MAE = 9566.14081290096 for alpha 0.77, beta 0.88, gamma 0.77\n",
      "MAE = 1697624.885770946 for alpha 0.77, beta 0.88, gamma 0.88\n"
     ]
    },
    {
     "name": "stderr",
     "output_type": "stream",
     "text": [
      "C:\\Users\\User\\AppData\\Local\\Temp\\ipykernel_1544\\2318987598.py:16: FutureWarning: the 'smoothing_slope'' keyword is deprecated, use 'smoothing_trend' instead.\n",
      "  ets_fit = ets_model.fit(smoothing_level=a, smoothing_slope=b, smoothing_seasonal=g)\n",
      "C:\\Users\\User\\AppData\\Local\\Temp\\ipykernel_1544\\2318987598.py:16: FutureWarning: the 'smoothing_slope'' keyword is deprecated, use 'smoothing_trend' instead.\n",
      "  ets_fit = ets_model.fit(smoothing_level=a, smoothing_slope=b, smoothing_seasonal=g)\n",
      "C:\\Users\\User\\AppData\\Local\\Temp\\ipykernel_1544\\2318987598.py:16: FutureWarning: the 'smoothing_slope'' keyword is deprecated, use 'smoothing_trend' instead.\n",
      "  ets_fit = ets_model.fit(smoothing_level=a, smoothing_slope=b, smoothing_seasonal=g)\n",
      "C:\\Users\\User\\AppData\\Local\\Temp\\ipykernel_1544\\2318987598.py:16: FutureWarning: the 'smoothing_slope'' keyword is deprecated, use 'smoothing_trend' instead.\n",
      "  ets_fit = ets_model.fit(smoothing_level=a, smoothing_slope=b, smoothing_seasonal=g)\n",
      "C:\\Users\\User\\AppData\\Local\\Temp\\ipykernel_1544\\2318987598.py:16: FutureWarning: the 'smoothing_slope'' keyword is deprecated, use 'smoothing_trend' instead.\n",
      "  ets_fit = ets_model.fit(smoothing_level=a, smoothing_slope=b, smoothing_seasonal=g)\n",
      "C:\\Users\\User\\anaconda3\\lib\\site-packages\\statsmodels\\tsa\\holtwinters\\model.py:915: ConvergenceWarning: Optimization failed to converge. Check mle_retvals.\n",
      "  warnings.warn(\n",
      "C:\\Users\\User\\AppData\\Local\\Temp\\ipykernel_1544\\2318987598.py:16: FutureWarning: the 'smoothing_slope'' keyword is deprecated, use 'smoothing_trend' instead.\n",
      "  ets_fit = ets_model.fit(smoothing_level=a, smoothing_slope=b, smoothing_seasonal=g)\n",
      "C:\\Users\\User\\anaconda3\\lib\\site-packages\\statsmodels\\tsa\\holtwinters\\model.py:915: ConvergenceWarning: Optimization failed to converge. Check mle_retvals.\n",
      "  warnings.warn(\n",
      "C:\\Users\\User\\AppData\\Local\\Temp\\ipykernel_1544\\2318987598.py:16: FutureWarning: the 'smoothing_slope'' keyword is deprecated, use 'smoothing_trend' instead.\n",
      "  ets_fit = ets_model.fit(smoothing_level=a, smoothing_slope=b, smoothing_seasonal=g)\n",
      "C:\\Users\\User\\anaconda3\\lib\\site-packages\\statsmodels\\tsa\\holtwinters\\model.py:915: ConvergenceWarning: Optimization failed to converge. Check mle_retvals.\n",
      "  warnings.warn(\n",
      "C:\\Users\\User\\AppData\\Local\\Temp\\ipykernel_1544\\2318987598.py:16: FutureWarning: the 'smoothing_slope'' keyword is deprecated, use 'smoothing_trend' instead.\n",
      "  ets_fit = ets_model.fit(smoothing_level=a, smoothing_slope=b, smoothing_seasonal=g)\n"
     ]
    },
    {
     "name": "stdout",
     "output_type": "stream",
     "text": [
      "MAE = 480136961.12110853 for alpha 0.77, beta 0.88, gamma 0.99\n",
      "MAE = 2.2860604742178374 for alpha 0.77, beta 0.99, gamma 0.0\n",
      "MAE = 1.1761801727319137 for alpha 0.77, beta 0.99, gamma 0.11\n",
      "MAE = 0.8137246549147884 for alpha 0.77, beta 0.99, gamma 0.22\n",
      "MAE = 0.7690924736867042 for alpha 0.77, beta 0.99, gamma 0.33\n",
      "MAE = 1.5820424163076519 for alpha 0.77, beta 0.99, gamma 0.44"
     ]
    },
    {
     "name": "stderr",
     "output_type": "stream",
     "text": [
      "C:\\Users\\User\\AppData\\Local\\Temp\\ipykernel_1544\\2318987598.py:16: FutureWarning: the 'smoothing_slope'' keyword is deprecated, use 'smoothing_trend' instead.\n",
      "  ets_fit = ets_model.fit(smoothing_level=a, smoothing_slope=b, smoothing_seasonal=g)\n",
      "C:\\Users\\User\\AppData\\Local\\Temp\\ipykernel_1544\\2318987598.py:16: FutureWarning: the 'smoothing_slope'' keyword is deprecated, use 'smoothing_trend' instead.\n",
      "  ets_fit = ets_model.fit(smoothing_level=a, smoothing_slope=b, smoothing_seasonal=g)\n",
      "C:\\Users\\User\\AppData\\Local\\Temp\\ipykernel_1544\\2318987598.py:16: FutureWarning: the 'smoothing_slope'' keyword is deprecated, use 'smoothing_trend' instead.\n",
      "  ets_fit = ets_model.fit(smoothing_level=a, smoothing_slope=b, smoothing_seasonal=g)\n",
      "C:\\Users\\User\\AppData\\Local\\Temp\\ipykernel_1544\\2318987598.py:16: FutureWarning: the 'smoothing_slope'' keyword is deprecated, use 'smoothing_trend' instead.\n",
      "  ets_fit = ets_model.fit(smoothing_level=a, smoothing_slope=b, smoothing_seasonal=g)\n",
      "C:\\Users\\User\\AppData\\Local\\Temp\\ipykernel_1544\\2318987598.py:16: FutureWarning: the 'smoothing_slope'' keyword is deprecated, use 'smoothing_trend' instead.\n",
      "  ets_fit = ets_model.fit(smoothing_level=a, smoothing_slope=b, smoothing_seasonal=g)\n",
      "C:\\Users\\User\\AppData\\Local\\Temp\\ipykernel_1544\\2318987598.py:16: FutureWarning: the 'smoothing_slope'' keyword is deprecated, use 'smoothing_trend' instead.\n",
      "  ets_fit = ets_model.fit(smoothing_level=a, smoothing_slope=b, smoothing_seasonal=g)\n",
      "C:\\Users\\User\\anaconda3\\lib\\site-packages\\statsmodels\\tsa\\holtwinters\\model.py:915: ConvergenceWarning: Optimization failed to converge. Check mle_retvals.\n",
      "  warnings.warn(\n",
      "C:\\Users\\User\\AppData\\Local\\Temp\\ipykernel_1544\\2318987598.py:16: FutureWarning: the 'smoothing_slope'' keyword is deprecated, use 'smoothing_trend' instead.\n",
      "  ets_fit = ets_model.fit(smoothing_level=a, smoothing_slope=b, smoothing_seasonal=g)\n",
      "C:\\Users\\User\\anaconda3\\lib\\site-packages\\statsmodels\\tsa\\holtwinters\\model.py:915: ConvergenceWarning: Optimization failed to converge. Check mle_retvals.\n",
      "  warnings.warn(\n",
      "C:\\Users\\User\\AppData\\Local\\Temp\\ipykernel_1544\\2318987598.py:16: FutureWarning: the 'smoothing_slope'' keyword is deprecated, use 'smoothing_trend' instead.\n",
      "  ets_fit = ets_model.fit(smoothing_level=a, smoothing_slope=b, smoothing_seasonal=g)\n",
      "C:\\Users\\User\\anaconda3\\lib\\site-packages\\statsmodels\\tsa\\holtwinters\\model.py:915: ConvergenceWarning: Optimization failed to converge. Check mle_retvals.\n",
      "  warnings.warn(\n",
      "C:\\Users\\User\\AppData\\Local\\Temp\\ipykernel_1544\\2318987598.py:16: FutureWarning: the 'smoothing_slope'' keyword is deprecated, use 'smoothing_trend' instead.\n",
      "  ets_fit = ets_model.fit(smoothing_level=a, smoothing_slope=b, smoothing_seasonal=g)\n",
      "C:\\Users\\User\\anaconda3\\lib\\site-packages\\statsmodels\\tsa\\holtwinters\\model.py:915: ConvergenceWarning: Optimization failed to converge. Check mle_retvals.\n",
      "  warnings.warn(\n",
      "C:\\Users\\User\\AppData\\Local\\Temp\\ipykernel_1544\\2318987598.py:16: FutureWarning: the 'smoothing_slope'' keyword is deprecated, use 'smoothing_trend' instead.\n",
      "  ets_fit = ets_model.fit(smoothing_level=a, smoothing_slope=b, smoothing_seasonal=g)\n"
     ]
    },
    {
     "name": "stdout",
     "output_type": "stream",
     "text": [
      "\n",
      "MAE = 31.30290095623795 for alpha 0.77, beta 0.99, gamma 0.55\n",
      "MAE = 816.8652872727574 for alpha 0.77, beta 0.99, gamma 0.66\n",
      "MAE = 89859.6046876204 for alpha 0.77, beta 0.99, gamma 0.77\n",
      "MAE = 67294434.15143023 for alpha 0.77, beta 0.99, gamma 0.88\n",
      "MAE = 335816159404.7348 for alpha 0.77, beta 0.99, gamma 0.99\n",
      "MAE = 0.19608492134712674 for alpha 0.88, beta 0.0, gamma 0.0\n",
      "MAE = 0.23107653710501522 for alpha 0.88, beta 0.0, gamma 0.11\n",
      "MAE = 0.2616129142056722 for alpha 0.88, beta 0.0, gamma 0.22\n",
      "MAE = 0.24328761559190384 for alpha 0.88, beta 0.0, gamma 0.33\n",
      "MAE = 0.2550644219318892 for alpha 0.88, beta 0.0, gamma 0.44\n",
      "MAE = 0.3199634568210029 for alpha 0.88, beta 0.0, gamma 0.55"
     ]
    },
    {
     "name": "stderr",
     "output_type": "stream",
     "text": [
      "C:\\Users\\User\\AppData\\Local\\Temp\\ipykernel_1544\\2318987598.py:16: FutureWarning: the 'smoothing_slope'' keyword is deprecated, use 'smoothing_trend' instead.\n",
      "  ets_fit = ets_model.fit(smoothing_level=a, smoothing_slope=b, smoothing_seasonal=g)\n",
      "C:\\Users\\User\\AppData\\Local\\Temp\\ipykernel_1544\\2318987598.py:16: FutureWarning: the 'smoothing_slope'' keyword is deprecated, use 'smoothing_trend' instead.\n",
      "  ets_fit = ets_model.fit(smoothing_level=a, smoothing_slope=b, smoothing_seasonal=g)\n",
      "C:\\Users\\User\\AppData\\Local\\Temp\\ipykernel_1544\\2318987598.py:16: FutureWarning: the 'smoothing_slope'' keyword is deprecated, use 'smoothing_trend' instead.\n",
      "  ets_fit = ets_model.fit(smoothing_level=a, smoothing_slope=b, smoothing_seasonal=g)\n",
      "C:\\Users\\User\\AppData\\Local\\Temp\\ipykernel_1544\\2318987598.py:16: FutureWarning: the 'smoothing_slope'' keyword is deprecated, use 'smoothing_trend' instead.\n",
      "  ets_fit = ets_model.fit(smoothing_level=a, smoothing_slope=b, smoothing_seasonal=g)\n",
      "C:\\Users\\User\\AppData\\Local\\Temp\\ipykernel_1544\\2318987598.py:16: FutureWarning: the 'smoothing_slope'' keyword is deprecated, use 'smoothing_trend' instead.\n",
      "  ets_fit = ets_model.fit(smoothing_level=a, smoothing_slope=b, smoothing_seasonal=g)\n",
      "C:\\Users\\User\\AppData\\Local\\Temp\\ipykernel_1544\\2318987598.py:16: FutureWarning: the 'smoothing_slope'' keyword is deprecated, use 'smoothing_trend' instead.\n",
      "  ets_fit = ets_model.fit(smoothing_level=a, smoothing_slope=b, smoothing_seasonal=g)\n",
      "C:\\Users\\User\\anaconda3\\lib\\site-packages\\statsmodels\\tsa\\holtwinters\\model.py:83: RuntimeWarning: overflow encountered in matmul\n",
      "  return err.T @ err\n",
      "C:\\Users\\User\\AppData\\Local\\Temp\\ipykernel_1544\\2318987598.py:16: FutureWarning: the 'smoothing_slope'' keyword is deprecated, use 'smoothing_trend' instead.\n",
      "  ets_fit = ets_model.fit(smoothing_level=a, smoothing_slope=b, smoothing_seasonal=g)\n",
      "C:\\Users\\User\\anaconda3\\lib\\site-packages\\statsmodels\\tsa\\holtwinters\\model.py:83: RuntimeWarning: overflow encountered in matmul\n",
      "  return err.T @ err\n",
      "C:\\Users\\User\\AppData\\Local\\Temp\\ipykernel_1544\\2318987598.py:16: FutureWarning: the 'smoothing_slope'' keyword is deprecated, use 'smoothing_trend' instead.\n",
      "  ets_fit = ets_model.fit(smoothing_level=a, smoothing_slope=b, smoothing_seasonal=g)\n",
      "C:\\Users\\User\\anaconda3\\lib\\site-packages\\statsmodels\\tsa\\holtwinters\\model.py:83: RuntimeWarning: overflow encountered in matmul\n",
      "  return err.T @ err\n",
      "C:\\Users\\User\\AppData\\Local\\Temp\\ipykernel_1544\\2318987598.py:16: FutureWarning: the 'smoothing_slope'' keyword is deprecated, use 'smoothing_trend' instead.\n",
      "  ets_fit = ets_model.fit(smoothing_level=a, smoothing_slope=b, smoothing_seasonal=g)\n",
      "C:\\Users\\User\\AppData\\Local\\Temp\\ipykernel_1544\\2318987598.py:16: FutureWarning: the 'smoothing_slope'' keyword is deprecated, use 'smoothing_trend' instead.\n",
      "  ets_fit = ets_model.fit(smoothing_level=a, smoothing_slope=b, smoothing_seasonal=g)\n",
      "C:\\Users\\User\\AppData\\Local\\Temp\\ipykernel_1544\\2318987598.py:16: FutureWarning: the 'smoothing_slope'' keyword is deprecated, use 'smoothing_trend' instead.\n",
      "  ets_fit = ets_model.fit(smoothing_level=a, smoothing_slope=b, smoothing_seasonal=g)\n"
     ]
    },
    {
     "name": "stdout",
     "output_type": "stream",
     "text": [
      "\n",
      "MAE = 0.41137824677453233 for alpha 0.88, beta 0.0, gamma 0.66\n",
      "MAE = 0.5690559696009694 for alpha 0.88, beta 0.0, gamma 0.77\n",
      "MAE = 0.5484424612776881 for alpha 0.88, beta 0.0, gamma 0.88\n",
      "MAE = 0.4482639074897763 for alpha 0.88, beta 0.0, gamma 0.99\n",
      "MAE = 0.43773614444049747 for alpha 0.88, beta 0.11, gamma 0.0\n",
      "MAE = 0.45801799971361 for alpha 0.88, beta 0.11, gamma 0.11\n",
      "MAE = 0.5422444400346301 for alpha 0.88, beta 0.11, gamma 0.22\n"
     ]
    },
    {
     "name": "stderr",
     "output_type": "stream",
     "text": [
      "C:\\Users\\User\\AppData\\Local\\Temp\\ipykernel_1544\\2318987598.py:16: FutureWarning: the 'smoothing_slope'' keyword is deprecated, use 'smoothing_trend' instead.\n",
      "  ets_fit = ets_model.fit(smoothing_level=a, smoothing_slope=b, smoothing_seasonal=g)\n",
      "C:\\Users\\User\\AppData\\Local\\Temp\\ipykernel_1544\\2318987598.py:16: FutureWarning: the 'smoothing_slope'' keyword is deprecated, use 'smoothing_trend' instead.\n",
      "  ets_fit = ets_model.fit(smoothing_level=a, smoothing_slope=b, smoothing_seasonal=g)\n",
      "C:\\Users\\User\\anaconda3\\lib\\site-packages\\statsmodels\\tsa\\holtwinters\\model.py:83: RuntimeWarning: overflow encountered in matmul\n",
      "  return err.T @ err\n",
      "C:\\Users\\User\\AppData\\Local\\Temp\\ipykernel_1544\\2318987598.py:16: FutureWarning: the 'smoothing_slope'' keyword is deprecated, use 'smoothing_trend' instead.\n",
      "  ets_fit = ets_model.fit(smoothing_level=a, smoothing_slope=b, smoothing_seasonal=g)\n",
      "C:\\Users\\User\\AppData\\Local\\Temp\\ipykernel_1544\\2318987598.py:16: FutureWarning: the 'smoothing_slope'' keyword is deprecated, use 'smoothing_trend' instead.\n",
      "  ets_fit = ets_model.fit(smoothing_level=a, smoothing_slope=b, smoothing_seasonal=g)\n",
      "C:\\Users\\User\\AppData\\Local\\Temp\\ipykernel_1544\\2318987598.py:16: FutureWarning: the 'smoothing_slope'' keyword is deprecated, use 'smoothing_trend' instead.\n",
      "  ets_fit = ets_model.fit(smoothing_level=a, smoothing_slope=b, smoothing_seasonal=g)\n",
      "C:\\Users\\User\\AppData\\Local\\Temp\\ipykernel_1544\\2318987598.py:16: FutureWarning: the 'smoothing_slope'' keyword is deprecated, use 'smoothing_trend' instead.\n",
      "  ets_fit = ets_model.fit(smoothing_level=a, smoothing_slope=b, smoothing_seasonal=g)\n"
     ]
    },
    {
     "name": "stdout",
     "output_type": "stream",
     "text": [
      "MAE = 0.536825198912206 for alpha 0.88, beta 0.11, gamma 0.33\n",
      "MAE = 0.5876266134979701 for alpha 0.88, beta 0.11, gamma 0.44\n",
      "MAE = 0.6762993242709573 for alpha 0.88, beta 0.11, gamma 0.55\n",
      "MAE = 0.5129386455596331 for alpha 0.88, beta 0.11, gamma 0.66\n",
      "MAE = 0.49866772281383015 for alpha 0.88, beta 0.11, gamma 0.77\n",
      "MAE = 0.6136051557508994 for alpha 0.88, beta 0.11, gamma 0.88\n",
      "MAE = 1.1884694688868007 for alpha 0.88, beta 0.11, gamma 0.99\n",
      "MAE = 0.6714038945151944 for alpha 0.88, beta 0.22, gamma 0.0\n",
      "MAE = 0.796096714681322 for alpha 0.88, beta 0.22, gamma 0.11\n"
     ]
    },
    {
     "name": "stderr",
     "output_type": "stream",
     "text": [
      "C:\\Users\\User\\AppData\\Local\\Temp\\ipykernel_1544\\2318987598.py:16: FutureWarning: the 'smoothing_slope'' keyword is deprecated, use 'smoothing_trend' instead.\n",
      "  ets_fit = ets_model.fit(smoothing_level=a, smoothing_slope=b, smoothing_seasonal=g)\n",
      "C:\\Users\\User\\AppData\\Local\\Temp\\ipykernel_1544\\2318987598.py:16: FutureWarning: the 'smoothing_slope'' keyword is deprecated, use 'smoothing_trend' instead.\n",
      "  ets_fit = ets_model.fit(smoothing_level=a, smoothing_slope=b, smoothing_seasonal=g)\n",
      "C:\\Users\\User\\anaconda3\\lib\\site-packages\\statsmodels\\tsa\\holtwinters\\model.py:83: RuntimeWarning: overflow encountered in matmul\n",
      "  return err.T @ err\n",
      "C:\\Users\\User\\AppData\\Local\\Temp\\ipykernel_1544\\2318987598.py:16: FutureWarning: the 'smoothing_slope'' keyword is deprecated, use 'smoothing_trend' instead.\n",
      "  ets_fit = ets_model.fit(smoothing_level=a, smoothing_slope=b, smoothing_seasonal=g)\n",
      "C:\\Users\\User\\anaconda3\\lib\\site-packages\\statsmodels\\tsa\\holtwinters\\model.py:83: RuntimeWarning: overflow encountered in matmul\n",
      "  return err.T @ err\n",
      "C:\\Users\\User\\AppData\\Local\\Temp\\ipykernel_1544\\2318987598.py:16: FutureWarning: the 'smoothing_slope'' keyword is deprecated, use 'smoothing_trend' instead.\n",
      "  ets_fit = ets_model.fit(smoothing_level=a, smoothing_slope=b, smoothing_seasonal=g)\n",
      "C:\\Users\\User\\AppData\\Local\\Temp\\ipykernel_1544\\2318987598.py:16: FutureWarning: the 'smoothing_slope'' keyword is deprecated, use 'smoothing_trend' instead.\n",
      "  ets_fit = ets_model.fit(smoothing_level=a, smoothing_slope=b, smoothing_seasonal=g)\n",
      "C:\\Users\\User\\AppData\\Local\\Temp\\ipykernel_1544\\2318987598.py:16: FutureWarning: the 'smoothing_slope'' keyword is deprecated, use 'smoothing_trend' instead.\n",
      "  ets_fit = ets_model.fit(smoothing_level=a, smoothing_slope=b, smoothing_seasonal=g)\n",
      "C:\\Users\\User\\AppData\\Local\\Temp\\ipykernel_1544\\2318987598.py:16: FutureWarning: the 'smoothing_slope'' keyword is deprecated, use 'smoothing_trend' instead.\n",
      "  ets_fit = ets_model.fit(smoothing_level=a, smoothing_slope=b, smoothing_seasonal=g)\n"
     ]
    },
    {
     "name": "stdout",
     "output_type": "stream",
     "text": [
      "MAE = 0.7282170466607423 for alpha 0.88, beta 0.22, gamma 0.22\n",
      "MAE = 0.7627638549488444 for alpha 0.88, beta 0.22, gamma 0.33\n",
      "MAE = 0.8149855825718646 for alpha 0.88, beta 0.22, gamma 0.44\n",
      "MAE = 0.9729200637940583 for alpha 0.88, beta 0.22, gamma 0.55\n",
      "MAE = 0.7692100289333087 for alpha 0.88, beta 0.22, gamma 0.66\n",
      "MAE = 0.39905642263836744 for alpha 0.88, beta 0.22, gamma 0.77\n",
      "MAE = 0.2369948361734807 for alpha 0.88, beta 0.22, gamma 0.88\n",
      "MAE = 0.32877572225542906 for alpha 0.88, beta 0.22, gamma 0.99\n",
      "MAE = 0.7379445291934097 for alpha 0.88, beta 0.33, gamma 0.0\n"
     ]
    },
    {
     "name": "stderr",
     "output_type": "stream",
     "text": [
      "C:\\Users\\User\\AppData\\Local\\Temp\\ipykernel_1544\\2318987598.py:16: FutureWarning: the 'smoothing_slope'' keyword is deprecated, use 'smoothing_trend' instead.\n",
      "  ets_fit = ets_model.fit(smoothing_level=a, smoothing_slope=b, smoothing_seasonal=g)\n",
      "C:\\Users\\User\\AppData\\Local\\Temp\\ipykernel_1544\\2318987598.py:16: FutureWarning: the 'smoothing_slope'' keyword is deprecated, use 'smoothing_trend' instead.\n",
      "  ets_fit = ets_model.fit(smoothing_level=a, smoothing_slope=b, smoothing_seasonal=g)\n",
      "C:\\Users\\User\\AppData\\Local\\Temp\\ipykernel_1544\\2318987598.py:16: FutureWarning: the 'smoothing_slope'' keyword is deprecated, use 'smoothing_trend' instead.\n",
      "  ets_fit = ets_model.fit(smoothing_level=a, smoothing_slope=b, smoothing_seasonal=g)\n",
      "C:\\Users\\User\\AppData\\Local\\Temp\\ipykernel_1544\\2318987598.py:16: FutureWarning: the 'smoothing_slope'' keyword is deprecated, use 'smoothing_trend' instead.\n",
      "  ets_fit = ets_model.fit(smoothing_level=a, smoothing_slope=b, smoothing_seasonal=g)\n",
      "C:\\Users\\User\\AppData\\Local\\Temp\\ipykernel_1544\\2318987598.py:16: FutureWarning: the 'smoothing_slope'' keyword is deprecated, use 'smoothing_trend' instead.\n",
      "  ets_fit = ets_model.fit(smoothing_level=a, smoothing_slope=b, smoothing_seasonal=g)\n",
      "C:\\Users\\User\\AppData\\Local\\Temp\\ipykernel_1544\\2318987598.py:16: FutureWarning: the 'smoothing_slope'' keyword is deprecated, use 'smoothing_trend' instead.\n",
      "  ets_fit = ets_model.fit(smoothing_level=a, smoothing_slope=b, smoothing_seasonal=g)\n",
      "C:\\Users\\User\\AppData\\Local\\Temp\\ipykernel_1544\\2318987598.py:16: FutureWarning: the 'smoothing_slope'' keyword is deprecated, use 'smoothing_trend' instead.\n",
      "  ets_fit = ets_model.fit(smoothing_level=a, smoothing_slope=b, smoothing_seasonal=g)\n",
      "C:\\Users\\User\\AppData\\Local\\Temp\\ipykernel_1544\\2318987598.py:16: FutureWarning: the 'smoothing_slope'' keyword is deprecated, use 'smoothing_trend' instead.\n",
      "  ets_fit = ets_model.fit(smoothing_level=a, smoothing_slope=b, smoothing_seasonal=g)\n"
     ]
    },
    {
     "name": "stdout",
     "output_type": "stream",
     "text": [
      "MAE = 0.8021754294668776 for alpha 0.88, beta 0.33, gamma 0.11\n",
      "MAE = 0.8974443464078745 for alpha 0.88, beta 0.33, gamma 0.22\n",
      "MAE = 1.0709830938302687 for alpha 0.88, beta 0.33, gamma 0.33\n",
      "MAE = 0.7690712550605431 for alpha 0.88, beta 0.33, gamma 0.44\n",
      "MAE = 0.7915038936631826 for alpha 0.88, beta 0.33, gamma 0.55\n",
      "MAE = 0.25535631802856085 for alpha 0.88, beta 0.33, gamma 0.66\n",
      "MAE = 0.22030259564538227 for alpha 0.88, beta 0.33, gamma 0.77\n",
      "MAE = 0.25970698512958595 for alpha 0.88, beta 0.33, gamma 0.88\n",
      "MAE = 280.2350991818007 for alpha 0.88, beta 0.33, gamma 0.99\n"
     ]
    },
    {
     "name": "stderr",
     "output_type": "stream",
     "text": [
      "C:\\Users\\User\\AppData\\Local\\Temp\\ipykernel_1544\\2318987598.py:16: FutureWarning: the 'smoothing_slope'' keyword is deprecated, use 'smoothing_trend' instead.\n",
      "  ets_fit = ets_model.fit(smoothing_level=a, smoothing_slope=b, smoothing_seasonal=g)\n",
      "C:\\Users\\User\\AppData\\Local\\Temp\\ipykernel_1544\\2318987598.py:16: FutureWarning: the 'smoothing_slope'' keyword is deprecated, use 'smoothing_trend' instead.\n",
      "  ets_fit = ets_model.fit(smoothing_level=a, smoothing_slope=b, smoothing_seasonal=g)\n",
      "C:\\Users\\User\\AppData\\Local\\Temp\\ipykernel_1544\\2318987598.py:16: FutureWarning: the 'smoothing_slope'' keyword is deprecated, use 'smoothing_trend' instead.\n",
      "  ets_fit = ets_model.fit(smoothing_level=a, smoothing_slope=b, smoothing_seasonal=g)\n",
      "C:\\Users\\User\\AppData\\Local\\Temp\\ipykernel_1544\\2318987598.py:16: FutureWarning: the 'smoothing_slope'' keyword is deprecated, use 'smoothing_trend' instead.\n",
      "  ets_fit = ets_model.fit(smoothing_level=a, smoothing_slope=b, smoothing_seasonal=g)\n",
      "C:\\Users\\User\\AppData\\Local\\Temp\\ipykernel_1544\\2318987598.py:16: FutureWarning: the 'smoothing_slope'' keyword is deprecated, use 'smoothing_trend' instead.\n",
      "  ets_fit = ets_model.fit(smoothing_level=a, smoothing_slope=b, smoothing_seasonal=g)\n",
      "C:\\Users\\User\\AppData\\Local\\Temp\\ipykernel_1544\\2318987598.py:16: FutureWarning: the 'smoothing_slope'' keyword is deprecated, use 'smoothing_trend' instead.\n",
      "  ets_fit = ets_model.fit(smoothing_level=a, smoothing_slope=b, smoothing_seasonal=g)\n",
      "C:\\Users\\User\\AppData\\Local\\Temp\\ipykernel_1544\\2318987598.py:16: FutureWarning: the 'smoothing_slope'' keyword is deprecated, use 'smoothing_trend' instead.\n",
      "  ets_fit = ets_model.fit(smoothing_level=a, smoothing_slope=b, smoothing_seasonal=g)\n",
      "C:\\Users\\User\\anaconda3\\lib\\site-packages\\statsmodels\\tsa\\holtwinters\\model.py:915: ConvergenceWarning: Optimization failed to converge. Check mle_retvals.\n",
      "  warnings.warn(\n",
      "C:\\Users\\User\\AppData\\Local\\Temp\\ipykernel_1544\\2318987598.py:16: FutureWarning: the 'smoothing_slope'' keyword is deprecated, use 'smoothing_trend' instead.\n",
      "  ets_fit = ets_model.fit(smoothing_level=a, smoothing_slope=b, smoothing_seasonal=g)\n",
      "C:\\Users\\User\\AppData\\Local\\Temp\\ipykernel_1544\\2318987598.py:16: FutureWarning: the 'smoothing_slope'' keyword is deprecated, use 'smoothing_trend' instead.\n",
      "  ets_fit = ets_model.fit(smoothing_level=a, smoothing_slope=b, smoothing_seasonal=g)\n"
     ]
    },
    {
     "name": "stdout",
     "output_type": "stream",
     "text": [
      "MAE = 1.2030905855088037 for alpha 0.88, beta 0.44, gamma 0.0\n",
      "MAE = 1.435920114419912 for alpha 0.88, beta 0.44, gamma 0.11\n",
      "MAE = 0.9003736165619407 for alpha 0.88, beta 0.44, gamma 0.22\n",
      "MAE = 1.1768603139581566 for alpha 0.88, beta 0.44, gamma 0.33\n",
      "MAE = 1.0491821792498426 for alpha 0.88, beta 0.44, gamma 0.44\n",
      "MAE = 0.39941395907770655 for alpha 0.88, beta 0.44, gamma 0.55\n",
      "MAE = 0.2862512010151176 for alpha 0.88, beta 0.44, gamma 0.66\n",
      "MAE = 0.4710115683209681 for alpha 0.88, beta 0.44, gamma 0.77\n"
     ]
    },
    {
     "name": "stderr",
     "output_type": "stream",
     "text": [
      "C:\\Users\\User\\AppData\\Local\\Temp\\ipykernel_1544\\2318987598.py:16: FutureWarning: the 'smoothing_slope'' keyword is deprecated, use 'smoothing_trend' instead.\n",
      "  ets_fit = ets_model.fit(smoothing_level=a, smoothing_slope=b, smoothing_seasonal=g)\n",
      "C:\\Users\\User\\AppData\\Local\\Temp\\ipykernel_1544\\2318987598.py:16: FutureWarning: the 'smoothing_slope'' keyword is deprecated, use 'smoothing_trend' instead.\n",
      "  ets_fit = ets_model.fit(smoothing_level=a, smoothing_slope=b, smoothing_seasonal=g)\n",
      "C:\\Users\\User\\AppData\\Local\\Temp\\ipykernel_1544\\2318987598.py:16: FutureWarning: the 'smoothing_slope'' keyword is deprecated, use 'smoothing_trend' instead.\n",
      "  ets_fit = ets_model.fit(smoothing_level=a, smoothing_slope=b, smoothing_seasonal=g)\n",
      "C:\\Users\\User\\AppData\\Local\\Temp\\ipykernel_1544\\2318987598.py:16: FutureWarning: the 'smoothing_slope'' keyword is deprecated, use 'smoothing_trend' instead.\n",
      "  ets_fit = ets_model.fit(smoothing_level=a, smoothing_slope=b, smoothing_seasonal=g)\n",
      "C:\\Users\\User\\AppData\\Local\\Temp\\ipykernel_1544\\2318987598.py:16: FutureWarning: the 'smoothing_slope'' keyword is deprecated, use 'smoothing_trend' instead.\n",
      "  ets_fit = ets_model.fit(smoothing_level=a, smoothing_slope=b, smoothing_seasonal=g)\n",
      "C:\\Users\\User\\AppData\\Local\\Temp\\ipykernel_1544\\2318987598.py:16: FutureWarning: the 'smoothing_slope'' keyword is deprecated, use 'smoothing_trend' instead.\n",
      "  ets_fit = ets_model.fit(smoothing_level=a, smoothing_slope=b, smoothing_seasonal=g)\n",
      "C:\\Users\\User\\AppData\\Local\\Temp\\ipykernel_1544\\2318987598.py:16: FutureWarning: the 'smoothing_slope'' keyword is deprecated, use 'smoothing_trend' instead.\n",
      "  ets_fit = ets_model.fit(smoothing_level=a, smoothing_slope=b, smoothing_seasonal=g)\n",
      "C:\\Users\\User\\anaconda3\\lib\\site-packages\\statsmodels\\tsa\\holtwinters\\model.py:915: ConvergenceWarning: Optimization failed to converge. Check mle_retvals.\n",
      "  warnings.warn(\n",
      "C:\\Users\\User\\AppData\\Local\\Temp\\ipykernel_1544\\2318987598.py:16: FutureWarning: the 'smoothing_slope'' keyword is deprecated, use 'smoothing_trend' instead.\n",
      "  ets_fit = ets_model.fit(smoothing_level=a, smoothing_slope=b, smoothing_seasonal=g)\n"
     ]
    },
    {
     "name": "stdout",
     "output_type": "stream",
     "text": [
      "MAE = 378.6727391869484 for alpha 0.88, beta 0.44, gamma 0.88\n",
      "MAE = 15419.995571218613 for alpha 0.88, beta 0.44, gamma 0.99\n",
      "MAE = 1.2157667657170512 for alpha 0.88, beta 0.55, gamma 0.0\n",
      "MAE = 1.40475922944672 for alpha 0.88, beta 0.55, gamma 0.11\n",
      "MAE = 0.9965573519544592 for alpha 0.88, beta 0.55, gamma 0.22\n",
      "MAE = 0.8412075637355659 for alpha 0.88, beta 0.55, gamma 0.33\n"
     ]
    },
    {
     "name": "stderr",
     "output_type": "stream",
     "text": [
      "C:\\Users\\User\\anaconda3\\lib\\site-packages\\statsmodels\\tsa\\holtwinters\\model.py:915: ConvergenceWarning: Optimization failed to converge. Check mle_retvals.\n",
      "  warnings.warn(\n",
      "C:\\Users\\User\\AppData\\Local\\Temp\\ipykernel_1544\\2318987598.py:16: FutureWarning: the 'smoothing_slope'' keyword is deprecated, use 'smoothing_trend' instead.\n",
      "  ets_fit = ets_model.fit(smoothing_level=a, smoothing_slope=b, smoothing_seasonal=g)\n",
      "C:\\Users\\User\\AppData\\Local\\Temp\\ipykernel_1544\\2318987598.py:16: FutureWarning: the 'smoothing_slope'' keyword is deprecated, use 'smoothing_trend' instead.\n",
      "  ets_fit = ets_model.fit(smoothing_level=a, smoothing_slope=b, smoothing_seasonal=g)\n",
      "C:\\Users\\User\\AppData\\Local\\Temp\\ipykernel_1544\\2318987598.py:16: FutureWarning: the 'smoothing_slope'' keyword is deprecated, use 'smoothing_trend' instead.\n",
      "  ets_fit = ets_model.fit(smoothing_level=a, smoothing_slope=b, smoothing_seasonal=g)\n",
      "C:\\Users\\User\\AppData\\Local\\Temp\\ipykernel_1544\\2318987598.py:16: FutureWarning: the 'smoothing_slope'' keyword is deprecated, use 'smoothing_trend' instead.\n",
      "  ets_fit = ets_model.fit(smoothing_level=a, smoothing_slope=b, smoothing_seasonal=g)\n",
      "C:\\Users\\User\\AppData\\Local\\Temp\\ipykernel_1544\\2318987598.py:16: FutureWarning: the 'smoothing_slope'' keyword is deprecated, use 'smoothing_trend' instead.\n",
      "  ets_fit = ets_model.fit(smoothing_level=a, smoothing_slope=b, smoothing_seasonal=g)\n"
     ]
    },
    {
     "name": "stdout",
     "output_type": "stream",
     "text": [
      "MAE = 1.266837157590375 for alpha 0.88, beta 0.55, gamma 0.44\n",
      "MAE = 0.23619222154892297 for alpha 0.88, beta 0.55, gamma 0.55\n",
      "MAE = 0.48407270840190847 for alpha 0.88, beta 0.55, gamma 0.66\n",
      "MAE = 0.4849601496390998 for alpha 0.88, beta 0.55, gamma 0.77\n",
      "MAE = 7741.188379077886 for alpha 0.88, beta 0.55, gamma 0.88\n",
      "MAE = 2031674.5117864208 for alpha 0.88, beta 0.55, gamma 0.99\n",
      "MAE = 1.363009590060807 for alpha 0.88, beta 0.66, gamma 0.0\n"
     ]
    },
    {
     "name": "stderr",
     "output_type": "stream",
     "text": [
      "C:\\Users\\User\\AppData\\Local\\Temp\\ipykernel_1544\\2318987598.py:16: FutureWarning: the 'smoothing_slope'' keyword is deprecated, use 'smoothing_trend' instead.\n",
      "  ets_fit = ets_model.fit(smoothing_level=a, smoothing_slope=b, smoothing_seasonal=g)\n",
      "C:\\Users\\User\\AppData\\Local\\Temp\\ipykernel_1544\\2318987598.py:16: FutureWarning: the 'smoothing_slope'' keyword is deprecated, use 'smoothing_trend' instead.\n",
      "  ets_fit = ets_model.fit(smoothing_level=a, smoothing_slope=b, smoothing_seasonal=g)\n",
      "C:\\Users\\User\\AppData\\Local\\Temp\\ipykernel_1544\\2318987598.py:16: FutureWarning: the 'smoothing_slope'' keyword is deprecated, use 'smoothing_trend' instead.\n",
      "  ets_fit = ets_model.fit(smoothing_level=a, smoothing_slope=b, smoothing_seasonal=g)\n",
      "C:\\Users\\User\\AppData\\Local\\Temp\\ipykernel_1544\\2318987598.py:16: FutureWarning: the 'smoothing_slope'' keyword is deprecated, use 'smoothing_trend' instead.\n",
      "  ets_fit = ets_model.fit(smoothing_level=a, smoothing_slope=b, smoothing_seasonal=g)\n",
      "C:\\Users\\User\\anaconda3\\lib\\site-packages\\statsmodels\\tsa\\holtwinters\\model.py:915: ConvergenceWarning: Optimization failed to converge. Check mle_retvals.\n",
      "  warnings.warn(\n",
      "C:\\Users\\User\\AppData\\Local\\Temp\\ipykernel_1544\\2318987598.py:16: FutureWarning: the 'smoothing_slope'' keyword is deprecated, use 'smoothing_trend' instead.\n",
      "  ets_fit = ets_model.fit(smoothing_level=a, smoothing_slope=b, smoothing_seasonal=g)\n",
      "C:\\Users\\User\\anaconda3\\lib\\site-packages\\statsmodels\\tsa\\holtwinters\\model.py:915: ConvergenceWarning: Optimization failed to converge. Check mle_retvals.\n",
      "  warnings.warn(\n",
      "C:\\Users\\User\\AppData\\Local\\Temp\\ipykernel_1544\\2318987598.py:16: FutureWarning: the 'smoothing_slope'' keyword is deprecated, use 'smoothing_trend' instead.\n",
      "  ets_fit = ets_model.fit(smoothing_level=a, smoothing_slope=b, smoothing_seasonal=g)\n",
      "C:\\Users\\User\\AppData\\Local\\Temp\\ipykernel_1544\\2318987598.py:16: FutureWarning: the 'smoothing_slope'' keyword is deprecated, use 'smoothing_trend' instead.\n",
      "  ets_fit = ets_model.fit(smoothing_level=a, smoothing_slope=b, smoothing_seasonal=g)\n"
     ]
    },
    {
     "name": "stdout",
     "output_type": "stream",
     "text": [
      "MAE = 1.9914598186045982 for alpha 0.88, beta 0.66, gamma 0.11\n",
      "MAE = 0.7204441901431474 for alpha 0.88, beta 0.66, gamma 0.22\n",
      "MAE = 0.7523826358950655 for alpha 0.88, beta 0.66, gamma 0.33\n",
      "MAE = 0.9465471494689032 for alpha 0.88, beta 0.66, gamma 0.44\n",
      "MAE = 0.4096934794452632 for alpha 0.88, beta 0.66, gamma 0.55\n",
      "MAE = 57.16799312664633 for alpha 0.88, beta 0.66, gamma 0.66\n",
      "MAE = 1118.8040708051765 for alpha 0.88, beta 0.66, gamma 0.77\n",
      "MAE = 191216.6442079187 for alpha 0.88, beta 0.66, gamma 0.88\n",
      "MAE = 435504439.14943105 for alpha 0.88, beta 0.66, gamma 0.99\n"
     ]
    },
    {
     "name": "stderr",
     "output_type": "stream",
     "text": [
      "C:\\Users\\User\\AppData\\Local\\Temp\\ipykernel_1544\\2318987598.py:16: FutureWarning: the 'smoothing_slope'' keyword is deprecated, use 'smoothing_trend' instead.\n",
      "  ets_fit = ets_model.fit(smoothing_level=a, smoothing_slope=b, smoothing_seasonal=g)\n",
      "C:\\Users\\User\\AppData\\Local\\Temp\\ipykernel_1544\\2318987598.py:16: FutureWarning: the 'smoothing_slope'' keyword is deprecated, use 'smoothing_trend' instead.\n",
      "  ets_fit = ets_model.fit(smoothing_level=a, smoothing_slope=b, smoothing_seasonal=g)\n",
      "C:\\Users\\User\\AppData\\Local\\Temp\\ipykernel_1544\\2318987598.py:16: FutureWarning: the 'smoothing_slope'' keyword is deprecated, use 'smoothing_trend' instead.\n",
      "  ets_fit = ets_model.fit(smoothing_level=a, smoothing_slope=b, smoothing_seasonal=g)\n",
      "C:\\Users\\User\\AppData\\Local\\Temp\\ipykernel_1544\\2318987598.py:16: FutureWarning: the 'smoothing_slope'' keyword is deprecated, use 'smoothing_trend' instead.\n",
      "  ets_fit = ets_model.fit(smoothing_level=a, smoothing_slope=b, smoothing_seasonal=g)\n",
      "C:\\Users\\User\\AppData\\Local\\Temp\\ipykernel_1544\\2318987598.py:16: FutureWarning: the 'smoothing_slope'' keyword is deprecated, use 'smoothing_trend' instead.\n",
      "  ets_fit = ets_model.fit(smoothing_level=a, smoothing_slope=b, smoothing_seasonal=g)\n",
      "C:\\Users\\User\\anaconda3\\lib\\site-packages\\statsmodels\\tsa\\holtwinters\\model.py:915: ConvergenceWarning: Optimization failed to converge. Check mle_retvals.\n",
      "  warnings.warn(\n",
      "C:\\Users\\User\\AppData\\Local\\Temp\\ipykernel_1544\\2318987598.py:16: FutureWarning: the 'smoothing_slope'' keyword is deprecated, use 'smoothing_trend' instead.\n",
      "  ets_fit = ets_model.fit(smoothing_level=a, smoothing_slope=b, smoothing_seasonal=g)\n",
      "C:\\Users\\User\\anaconda3\\lib\\site-packages\\statsmodels\\tsa\\holtwinters\\model.py:915: ConvergenceWarning: Optimization failed to converge. Check mle_retvals.\n",
      "  warnings.warn(\n",
      "C:\\Users\\User\\AppData\\Local\\Temp\\ipykernel_1544\\2318987598.py:16: FutureWarning: the 'smoothing_slope'' keyword is deprecated, use 'smoothing_trend' instead.\n",
      "  ets_fit = ets_model.fit(smoothing_level=a, smoothing_slope=b, smoothing_seasonal=g)\n",
      "C:\\Users\\User\\anaconda3\\lib\\site-packages\\statsmodels\\tsa\\holtwinters\\model.py:915: ConvergenceWarning: Optimization failed to converge. Check mle_retvals.\n",
      "  warnings.warn(\n",
      "C:\\Users\\User\\AppData\\Local\\Temp\\ipykernel_1544\\2318987598.py:16: FutureWarning: the 'smoothing_slope'' keyword is deprecated, use 'smoothing_trend' instead.\n",
      "  ets_fit = ets_model.fit(smoothing_level=a, smoothing_slope=b, smoothing_seasonal=g)\n",
      "C:\\Users\\User\\anaconda3\\lib\\site-packages\\statsmodels\\tsa\\holtwinters\\model.py:915: ConvergenceWarning: Optimization failed to converge. Check mle_retvals.\n",
      "  warnings.warn(\n",
      "C:\\Users\\User\\AppData\\Local\\Temp\\ipykernel_1544\\2318987598.py:16: FutureWarning: the 'smoothing_slope'' keyword is deprecated, use 'smoothing_trend' instead.\n",
      "  ets_fit = ets_model.fit(smoothing_level=a, smoothing_slope=b, smoothing_seasonal=g)\n"
     ]
    },
    {
     "name": "stdout",
     "output_type": "stream",
     "text": [
      "MAE = 1.469870778379641 for alpha 0.88, beta 0.77, gamma 0.0\n",
      "MAE = 1.2973464858160986 for alpha 0.88, beta 0.77, gamma 0.11\n",
      "MAE = 0.9290361551895869 for alpha 0.88, beta 0.77, gamma 0.22\n",
      "MAE = 0.506288297863375 for alpha 0.88, beta 0.77, gamma 0.33\n",
      "MAE = 1.3496974154406705 for alpha 0.88, beta 0.77, gamma 0.44\n",
      "MAE = 17.73349197301003 for alpha 0.88, beta 0.77, gamma 0.55\n",
      "MAE = 132.87417184373763 for alpha 0.88, beta 0.77, gamma 0.66\n",
      "MAE = 5615.497213103627 for alpha 0.88, beta 0.77, gamma 0.77\n",
      "MAE = 3334978.5314797834 for alpha 0.88, beta 0.77, gamma 0.88\n",
      "MAE = 103071962208.60889 for alpha 0.88, beta 0.77, gamma 0.99\n"
     ]
    },
    {
     "name": "stderr",
     "output_type": "stream",
     "text": [
      "C:\\Users\\User\\AppData\\Local\\Temp\\ipykernel_1544\\2318987598.py:16: FutureWarning: the 'smoothing_slope'' keyword is deprecated, use 'smoothing_trend' instead.\n",
      "  ets_fit = ets_model.fit(smoothing_level=a, smoothing_slope=b, smoothing_seasonal=g)\n",
      "C:\\Users\\User\\AppData\\Local\\Temp\\ipykernel_1544\\2318987598.py:16: FutureWarning: the 'smoothing_slope'' keyword is deprecated, use 'smoothing_trend' instead.\n",
      "  ets_fit = ets_model.fit(smoothing_level=a, smoothing_slope=b, smoothing_seasonal=g)\n",
      "C:\\Users\\User\\AppData\\Local\\Temp\\ipykernel_1544\\2318987598.py:16: FutureWarning: the 'smoothing_slope'' keyword is deprecated, use 'smoothing_trend' instead.\n",
      "  ets_fit = ets_model.fit(smoothing_level=a, smoothing_slope=b, smoothing_seasonal=g)\n",
      "C:\\Users\\User\\AppData\\Local\\Temp\\ipykernel_1544\\2318987598.py:16: FutureWarning: the 'smoothing_slope'' keyword is deprecated, use 'smoothing_trend' instead.\n",
      "  ets_fit = ets_model.fit(smoothing_level=a, smoothing_slope=b, smoothing_seasonal=g)\n",
      "C:\\Users\\User\\AppData\\Local\\Temp\\ipykernel_1544\\2318987598.py:16: FutureWarning: the 'smoothing_slope'' keyword is deprecated, use 'smoothing_trend' instead.\n",
      "  ets_fit = ets_model.fit(smoothing_level=a, smoothing_slope=b, smoothing_seasonal=g)\n",
      "C:\\Users\\User\\anaconda3\\lib\\site-packages\\statsmodels\\tsa\\holtwinters\\model.py:915: ConvergenceWarning: Optimization failed to converge. Check mle_retvals.\n",
      "  warnings.warn(\n",
      "C:\\Users\\User\\AppData\\Local\\Temp\\ipykernel_1544\\2318987598.py:16: FutureWarning: the 'smoothing_slope'' keyword is deprecated, use 'smoothing_trend' instead.\n",
      "  ets_fit = ets_model.fit(smoothing_level=a, smoothing_slope=b, smoothing_seasonal=g)\n",
      "C:\\Users\\User\\anaconda3\\lib\\site-packages\\statsmodels\\tsa\\holtwinters\\model.py:915: ConvergenceWarning: Optimization failed to converge. Check mle_retvals.\n",
      "  warnings.warn(\n",
      "C:\\Users\\User\\AppData\\Local\\Temp\\ipykernel_1544\\2318987598.py:16: FutureWarning: the 'smoothing_slope'' keyword is deprecated, use 'smoothing_trend' instead.\n",
      "  ets_fit = ets_model.fit(smoothing_level=a, smoothing_slope=b, smoothing_seasonal=g)\n",
      "C:\\Users\\User\\anaconda3\\lib\\site-packages\\statsmodels\\tsa\\holtwinters\\model.py:915: ConvergenceWarning: Optimization failed to converge. Check mle_retvals.\n",
      "  warnings.warn(\n",
      "C:\\Users\\User\\AppData\\Local\\Temp\\ipykernel_1544\\2318987598.py:16: FutureWarning: the 'smoothing_slope'' keyword is deprecated, use 'smoothing_trend' instead.\n",
      "  ets_fit = ets_model.fit(smoothing_level=a, smoothing_slope=b, smoothing_seasonal=g)\n",
      "C:\\Users\\User\\anaconda3\\lib\\site-packages\\statsmodels\\tsa\\holtwinters\\model.py:915: ConvergenceWarning: Optimization failed to converge. Check mle_retvals.\n",
      "  warnings.warn(\n",
      "C:\\Users\\User\\AppData\\Local\\Temp\\ipykernel_1544\\2318987598.py:16: FutureWarning: the 'smoothing_slope'' keyword is deprecated, use 'smoothing_trend' instead.\n",
      "  ets_fit = ets_model.fit(smoothing_level=a, smoothing_slope=b, smoothing_seasonal=g)\n",
      "C:\\Users\\User\\anaconda3\\lib\\site-packages\\statsmodels\\tsa\\holtwinters\\model.py:915: ConvergenceWarning: Optimization failed to converge. Check mle_retvals.\n",
      "  warnings.warn(\n",
      "C:\\Users\\User\\AppData\\Local\\Temp\\ipykernel_1544\\2318987598.py:16: FutureWarning: the 'smoothing_slope'' keyword is deprecated, use 'smoothing_trend' instead.\n",
      "  ets_fit = ets_model.fit(smoothing_level=a, smoothing_slope=b, smoothing_seasonal=g)\n"
     ]
    },
    {
     "name": "stdout",
     "output_type": "stream",
     "text": [
      "MAE = 1.8530886982262487 for alpha 0.88, beta 0.88, gamma 0.0\n",
      "MAE = 1.0512362463180773 for alpha 0.88, beta 0.88, gamma 0.11\n",
      "MAE = 1.384503924471112 for alpha 0.88, beta 0.88, gamma 0.22\n",
      "MAE = 0.6084518353800545 for alpha 0.88, beta 0.88, gamma 0.33\n",
      "MAE = 5.7614795719488 for alpha 0.88, beta 0.88, gamma 0.44\n",
      "MAE = 21.941727252147203 for alpha 0.88, beta 0.88, gamma 0.55\n",
      "MAE = 222.05545485091122 for alpha 0.88, beta 0.88, gamma 0.66\n",
      "MAE = 15274.15953997604 for alpha 0.88, beta 0.88, gamma 0.77\n",
      "MAE = 22999488.709664907 for alpha 0.88, beta 0.88, gamma 0.88\n",
      "MAE = 15360803577398.883 for alpha 0.88, beta 0.88, gamma 0.99\n"
     ]
    },
    {
     "name": "stderr",
     "output_type": "stream",
     "text": [
      "C:\\Users\\User\\AppData\\Local\\Temp\\ipykernel_1544\\2318987598.py:16: FutureWarning: the 'smoothing_slope'' keyword is deprecated, use 'smoothing_trend' instead.\n",
      "  ets_fit = ets_model.fit(smoothing_level=a, smoothing_slope=b, smoothing_seasonal=g)\n",
      "C:\\Users\\User\\AppData\\Local\\Temp\\ipykernel_1544\\2318987598.py:16: FutureWarning: the 'smoothing_slope'' keyword is deprecated, use 'smoothing_trend' instead.\n",
      "  ets_fit = ets_model.fit(smoothing_level=a, smoothing_slope=b, smoothing_seasonal=g)\n",
      "C:\\Users\\User\\AppData\\Local\\Temp\\ipykernel_1544\\2318987598.py:16: FutureWarning: the 'smoothing_slope'' keyword is deprecated, use 'smoothing_trend' instead.\n",
      "  ets_fit = ets_model.fit(smoothing_level=a, smoothing_slope=b, smoothing_seasonal=g)\n",
      "C:\\Users\\User\\AppData\\Local\\Temp\\ipykernel_1544\\2318987598.py:16: FutureWarning: the 'smoothing_slope'' keyword is deprecated, use 'smoothing_trend' instead.\n",
      "  ets_fit = ets_model.fit(smoothing_level=a, smoothing_slope=b, smoothing_seasonal=g)\n",
      "C:\\Users\\User\\anaconda3\\lib\\site-packages\\statsmodels\\tsa\\holtwinters\\model.py:915: ConvergenceWarning: Optimization failed to converge. Check mle_retvals.\n",
      "  warnings.warn(\n",
      "C:\\Users\\User\\AppData\\Local\\Temp\\ipykernel_1544\\2318987598.py:16: FutureWarning: the 'smoothing_slope'' keyword is deprecated, use 'smoothing_trend' instead.\n",
      "  ets_fit = ets_model.fit(smoothing_level=a, smoothing_slope=b, smoothing_seasonal=g)\n",
      "C:\\Users\\User\\anaconda3\\lib\\site-packages\\statsmodels\\tsa\\holtwinters\\model.py:915: ConvergenceWarning: Optimization failed to converge. Check mle_retvals.\n",
      "  warnings.warn(\n",
      "C:\\Users\\User\\AppData\\Local\\Temp\\ipykernel_1544\\2318987598.py:16: FutureWarning: the 'smoothing_slope'' keyword is deprecated, use 'smoothing_trend' instead.\n",
      "  ets_fit = ets_model.fit(smoothing_level=a, smoothing_slope=b, smoothing_seasonal=g)\n",
      "C:\\Users\\User\\anaconda3\\lib\\site-packages\\statsmodels\\tsa\\holtwinters\\model.py:915: ConvergenceWarning: Optimization failed to converge. Check mle_retvals.\n",
      "  warnings.warn(\n",
      "C:\\Users\\User\\AppData\\Local\\Temp\\ipykernel_1544\\2318987598.py:16: FutureWarning: the 'smoothing_slope'' keyword is deprecated, use 'smoothing_trend' instead.\n",
      "  ets_fit = ets_model.fit(smoothing_level=a, smoothing_slope=b, smoothing_seasonal=g)\n",
      "C:\\Users\\User\\anaconda3\\lib\\site-packages\\statsmodels\\tsa\\holtwinters\\model.py:915: ConvergenceWarning: Optimization failed to converge. Check mle_retvals.\n",
      "  warnings.warn(\n",
      "C:\\Users\\User\\AppData\\Local\\Temp\\ipykernel_1544\\2318987598.py:16: FutureWarning: the 'smoothing_slope'' keyword is deprecated, use 'smoothing_trend' instead.\n",
      "  ets_fit = ets_model.fit(smoothing_level=a, smoothing_slope=b, smoothing_seasonal=g)\n",
      "C:\\Users\\User\\anaconda3\\lib\\site-packages\\statsmodels\\tsa\\holtwinters\\model.py:915: ConvergenceWarning: Optimization failed to converge. Check mle_retvals.\n",
      "  warnings.warn(\n",
      "C:\\Users\\User\\AppData\\Local\\Temp\\ipykernel_1544\\2318987598.py:16: FutureWarning: the 'smoothing_slope'' keyword is deprecated, use 'smoothing_trend' instead.\n",
      "  ets_fit = ets_model.fit(smoothing_level=a, smoothing_slope=b, smoothing_seasonal=g)\n",
      "C:\\Users\\User\\anaconda3\\lib\\site-packages\\statsmodels\\tsa\\holtwinters\\model.py:915: ConvergenceWarning: Optimization failed to converge. Check mle_retvals.\n",
      "  warnings.warn(\n",
      "C:\\Users\\User\\AppData\\Local\\Temp\\ipykernel_1544\\2318987598.py:16: FutureWarning: the 'smoothing_slope'' keyword is deprecated, use 'smoothing_trend' instead.\n",
      "  ets_fit = ets_model.fit(smoothing_level=a, smoothing_slope=b, smoothing_seasonal=g)\n"
     ]
    },
    {
     "name": "stdout",
     "output_type": "stream",
     "text": [
      "MAE = 1.4983740573048523 for alpha 0.88, beta 0.99, gamma 0.0\n",
      "MAE = 0.46084889517516187 for alpha 0.88, beta 0.99, gamma 0.11\n",
      "MAE = 1.655252998449703 for alpha 0.88, beta 0.99, gamma 0.22\n",
      "MAE = 1.885369421294265 for alpha 0.88, beta 0.99, gamma 0.33\n",
      "MAE = 4.562294455927474 for alpha 0.88, beta 0.99, gamma 0.44\n",
      "MAE = 18.862726056965972 for alpha 0.88, beta 0.99, gamma 0.55\n",
      "MAE = 199.41173416478026 for alpha 0.88, beta 0.99, gamma 0.66\n",
      "MAE = 14707.732637901545 for alpha 0.88, beta 0.99, gamma 0.77\n",
      "MAE = 35435726.14001118 for alpha 0.88, beta 0.99, gamma 0.88\n",
      "MAE = 492006544168057.44 for alpha 0.88, beta 0.99, gamma 0.99\n",
      "MAE = 0.1855758223184364 for alpha 0.99, beta 0.0, gamma 0.0\n"
     ]
    },
    {
     "name": "stderr",
     "output_type": "stream",
     "text": [
      "C:\\Users\\User\\AppData\\Local\\Temp\\ipykernel_1544\\2318987598.py:16: FutureWarning: the 'smoothing_slope'' keyword is deprecated, use 'smoothing_trend' instead.\n",
      "  ets_fit = ets_model.fit(smoothing_level=a, smoothing_slope=b, smoothing_seasonal=g)\n",
      "C:\\Users\\User\\AppData\\Local\\Temp\\ipykernel_1544\\2318987598.py:16: FutureWarning: the 'smoothing_slope'' keyword is deprecated, use 'smoothing_trend' instead.\n",
      "  ets_fit = ets_model.fit(smoothing_level=a, smoothing_slope=b, smoothing_seasonal=g)\n",
      "C:\\Users\\User\\AppData\\Local\\Temp\\ipykernel_1544\\2318987598.py:16: FutureWarning: the 'smoothing_slope'' keyword is deprecated, use 'smoothing_trend' instead.\n",
      "  ets_fit = ets_model.fit(smoothing_level=a, smoothing_slope=b, smoothing_seasonal=g)\n",
      "C:\\Users\\User\\AppData\\Local\\Temp\\ipykernel_1544\\2318987598.py:16: FutureWarning: the 'smoothing_slope'' keyword is deprecated, use 'smoothing_trend' instead.\n",
      "  ets_fit = ets_model.fit(smoothing_level=a, smoothing_slope=b, smoothing_seasonal=g)\n",
      "C:\\Users\\User\\anaconda3\\lib\\site-packages\\statsmodels\\tsa\\holtwinters\\model.py:915: ConvergenceWarning: Optimization failed to converge. Check mle_retvals.\n",
      "  warnings.warn(\n",
      "C:\\Users\\User\\AppData\\Local\\Temp\\ipykernel_1544\\2318987598.py:16: FutureWarning: the 'smoothing_slope'' keyword is deprecated, use 'smoothing_trend' instead.\n",
      "  ets_fit = ets_model.fit(smoothing_level=a, smoothing_slope=b, smoothing_seasonal=g)\n",
      "C:\\Users\\User\\anaconda3\\lib\\site-packages\\statsmodels\\tsa\\holtwinters\\model.py:915: ConvergenceWarning: Optimization failed to converge. Check mle_retvals.\n",
      "  warnings.warn(\n",
      "C:\\Users\\User\\AppData\\Local\\Temp\\ipykernel_1544\\2318987598.py:16: FutureWarning: the 'smoothing_slope'' keyword is deprecated, use 'smoothing_trend' instead.\n",
      "  ets_fit = ets_model.fit(smoothing_level=a, smoothing_slope=b, smoothing_seasonal=g)\n",
      "C:\\Users\\User\\anaconda3\\lib\\site-packages\\statsmodels\\tsa\\holtwinters\\model.py:915: ConvergenceWarning: Optimization failed to converge. Check mle_retvals.\n",
      "  warnings.warn(\n",
      "C:\\Users\\User\\AppData\\Local\\Temp\\ipykernel_1544\\2318987598.py:16: FutureWarning: the 'smoothing_slope'' keyword is deprecated, use 'smoothing_trend' instead.\n",
      "  ets_fit = ets_model.fit(smoothing_level=a, smoothing_slope=b, smoothing_seasonal=g)\n",
      "C:\\Users\\User\\anaconda3\\lib\\site-packages\\statsmodels\\tsa\\holtwinters\\model.py:915: ConvergenceWarning: Optimization failed to converge. Check mle_retvals.\n",
      "  warnings.warn(\n",
      "C:\\Users\\User\\AppData\\Local\\Temp\\ipykernel_1544\\2318987598.py:16: FutureWarning: the 'smoothing_slope'' keyword is deprecated, use 'smoothing_trend' instead.\n",
      "  ets_fit = ets_model.fit(smoothing_level=a, smoothing_slope=b, smoothing_seasonal=g)\n",
      "C:\\Users\\User\\anaconda3\\lib\\site-packages\\statsmodels\\tsa\\holtwinters\\model.py:915: ConvergenceWarning: Optimization failed to converge. Check mle_retvals.\n",
      "  warnings.warn(\n",
      "C:\\Users\\User\\AppData\\Local\\Temp\\ipykernel_1544\\2318987598.py:16: FutureWarning: the 'smoothing_slope'' keyword is deprecated, use 'smoothing_trend' instead.\n",
      "  ets_fit = ets_model.fit(smoothing_level=a, smoothing_slope=b, smoothing_seasonal=g)\n",
      "C:\\Users\\User\\anaconda3\\lib\\site-packages\\statsmodels\\tsa\\holtwinters\\model.py:915: ConvergenceWarning: Optimization failed to converge. Check mle_retvals.\n",
      "  warnings.warn(\n",
      "C:\\Users\\User\\AppData\\Local\\Temp\\ipykernel_1544\\2318987598.py:16: FutureWarning: the 'smoothing_slope'' keyword is deprecated, use 'smoothing_trend' instead.\n",
      "  ets_fit = ets_model.fit(smoothing_level=a, smoothing_slope=b, smoothing_seasonal=g)\n",
      "C:\\Users\\User\\AppData\\Local\\Temp\\ipykernel_1544\\2318987598.py:16: FutureWarning: the 'smoothing_slope'' keyword is deprecated, use 'smoothing_trend' instead.\n",
      "  ets_fit = ets_model.fit(smoothing_level=a, smoothing_slope=b, smoothing_seasonal=g)\n"
     ]
    },
    {
     "name": "stdout",
     "output_type": "stream",
     "text": [
      "MAE = 0.2438610412461698 for alpha 0.99, beta 0.0, gamma 0.11\n",
      "MAE = 0.2799971956958204 for alpha 0.99, beta 0.0, gamma 0.22\n",
      "MAE = 0.3017431891345517 for alpha 0.99, beta 0.0, gamma 0.33\n",
      "MAE = 0.3562041801583322 for alpha 0.99, beta 0.0, gamma 0.44\n",
      "MAE = 0.5205002103176918 for alpha 0.99, beta 0.0, gamma 0.55\n",
      "MAE = 0.7578945296212112 for alpha 0.99, beta 0.0, gamma 0.66\n",
      "MAE = 0.9601178684732671 for alpha 0.99, beta 0.0, gamma 0.77\n",
      "MAE = 0.8748986092853412 for alpha 0.99, beta 0.0, gamma 0.88\n",
      "MAE = 1.1063251104149037 for alpha 0.99, beta 0.0, gamma 0.99\n",
      "MAE = 0.5362839870360004 for alpha 0.99, beta 0.11, gamma 0.0\n"
     ]
    },
    {
     "name": "stderr",
     "output_type": "stream",
     "text": [
      "C:\\Users\\User\\AppData\\Local\\Temp\\ipykernel_1544\\2318987598.py:16: FutureWarning: the 'smoothing_slope'' keyword is deprecated, use 'smoothing_trend' instead.\n",
      "  ets_fit = ets_model.fit(smoothing_level=a, smoothing_slope=b, smoothing_seasonal=g)\n",
      "C:\\Users\\User\\AppData\\Local\\Temp\\ipykernel_1544\\2318987598.py:16: FutureWarning: the 'smoothing_slope'' keyword is deprecated, use 'smoothing_trend' instead.\n",
      "  ets_fit = ets_model.fit(smoothing_level=a, smoothing_slope=b, smoothing_seasonal=g)\n",
      "C:\\Users\\User\\AppData\\Local\\Temp\\ipykernel_1544\\2318987598.py:16: FutureWarning: the 'smoothing_slope'' keyword is deprecated, use 'smoothing_trend' instead.\n",
      "  ets_fit = ets_model.fit(smoothing_level=a, smoothing_slope=b, smoothing_seasonal=g)\n",
      "C:\\Users\\User\\AppData\\Local\\Temp\\ipykernel_1544\\2318987598.py:16: FutureWarning: the 'smoothing_slope'' keyword is deprecated, use 'smoothing_trend' instead.\n",
      "  ets_fit = ets_model.fit(smoothing_level=a, smoothing_slope=b, smoothing_seasonal=g)\n",
      "C:\\Users\\User\\AppData\\Local\\Temp\\ipykernel_1544\\2318987598.py:16: FutureWarning: the 'smoothing_slope'' keyword is deprecated, use 'smoothing_trend' instead.\n",
      "  ets_fit = ets_model.fit(smoothing_level=a, smoothing_slope=b, smoothing_seasonal=g)\n",
      "C:\\Users\\User\\anaconda3\\lib\\site-packages\\statsmodels\\tsa\\holtwinters\\model.py:83: RuntimeWarning: overflow encountered in matmul\n",
      "  return err.T @ err\n",
      "C:\\Users\\User\\AppData\\Local\\Temp\\ipykernel_1544\\2318987598.py:16: FutureWarning: the 'smoothing_slope'' keyword is deprecated, use 'smoothing_trend' instead.\n",
      "  ets_fit = ets_model.fit(smoothing_level=a, smoothing_slope=b, smoothing_seasonal=g)\n",
      "C:\\Users\\User\\anaconda3\\lib\\site-packages\\statsmodels\\tsa\\holtwinters\\model.py:83: RuntimeWarning: overflow encountered in matmul\n",
      "  return err.T @ err\n",
      "C:\\Users\\User\\AppData\\Local\\Temp\\ipykernel_1544\\2318987598.py:16: FutureWarning: the 'smoothing_slope'' keyword is deprecated, use 'smoothing_trend' instead.\n",
      "  ets_fit = ets_model.fit(smoothing_level=a, smoothing_slope=b, smoothing_seasonal=g)\n",
      "C:\\Users\\User\\AppData\\Local\\Temp\\ipykernel_1544\\2318987598.py:16: FutureWarning: the 'smoothing_slope'' keyword is deprecated, use 'smoothing_trend' instead.\n",
      "  ets_fit = ets_model.fit(smoothing_level=a, smoothing_slope=b, smoothing_seasonal=g)\n",
      "C:\\Users\\User\\AppData\\Local\\Temp\\ipykernel_1544\\2318987598.py:16: FutureWarning: the 'smoothing_slope'' keyword is deprecated, use 'smoothing_trend' instead.\n",
      "  ets_fit = ets_model.fit(smoothing_level=a, smoothing_slope=b, smoothing_seasonal=g)\n",
      "C:\\Users\\User\\anaconda3\\lib\\site-packages\\statsmodels\\tsa\\holtwinters\\model.py:83: RuntimeWarning: overflow encountered in matmul\n",
      "  return err.T @ err\n",
      "C:\\Users\\User\\AppData\\Local\\Temp\\ipykernel_1544\\2318987598.py:16: FutureWarning: the 'smoothing_slope'' keyword is deprecated, use 'smoothing_trend' instead.\n",
      "  ets_fit = ets_model.fit(smoothing_level=a, smoothing_slope=b, smoothing_seasonal=g)\n",
      "C:\\Users\\User\\anaconda3\\lib\\site-packages\\statsmodels\\tsa\\holtwinters\\model.py:83: RuntimeWarning: overflow encountered in matmul\n",
      "  return err.T @ err\n"
     ]
    },
    {
     "name": "stdout",
     "output_type": "stream",
     "text": [
      "MAE = 0.6635877232140762 for alpha 0.99, beta 0.11, gamma 0.11\n",
      "MAE = 0.683928612190094 for alpha 0.99, beta 0.11, gamma 0.22\n",
      "MAE = 0.7617222683859944 for alpha 0.99, beta 0.11, gamma 0.33\n",
      "MAE = 0.8018898509373157 for alpha 0.99, beta 0.11, gamma 0.44\n",
      "MAE = 1.0879952018002481 for alpha 0.99, beta 0.11, gamma 0.55\n",
      "MAE = 0.7861512043663348 for alpha 0.99, beta 0.11, gamma 0.66\n",
      "MAE = 0.9277306862705822 for alpha 0.99, beta 0.11, gamma 0.77\n",
      "MAE = 0.9564634567800564 for alpha 0.99, beta 0.11, gamma 0.88\n",
      "MAE = 18.29935251772491 for alpha 0.99, beta 0.11, gamma 0.99\n"
     ]
    },
    {
     "name": "stderr",
     "output_type": "stream",
     "text": [
      "C:\\Users\\User\\AppData\\Local\\Temp\\ipykernel_1544\\2318987598.py:16: FutureWarning: the 'smoothing_slope'' keyword is deprecated, use 'smoothing_trend' instead.\n",
      "  ets_fit = ets_model.fit(smoothing_level=a, smoothing_slope=b, smoothing_seasonal=g)\n",
      "C:\\Users\\User\\AppData\\Local\\Temp\\ipykernel_1544\\2318987598.py:16: FutureWarning: the 'smoothing_slope'' keyword is deprecated, use 'smoothing_trend' instead.\n",
      "  ets_fit = ets_model.fit(smoothing_level=a, smoothing_slope=b, smoothing_seasonal=g)\n",
      "C:\\Users\\User\\AppData\\Local\\Temp\\ipykernel_1544\\2318987598.py:16: FutureWarning: the 'smoothing_slope'' keyword is deprecated, use 'smoothing_trend' instead.\n",
      "  ets_fit = ets_model.fit(smoothing_level=a, smoothing_slope=b, smoothing_seasonal=g)\n",
      "C:\\Users\\User\\AppData\\Local\\Temp\\ipykernel_1544\\2318987598.py:16: FutureWarning: the 'smoothing_slope'' keyword is deprecated, use 'smoothing_trend' instead.\n",
      "  ets_fit = ets_model.fit(smoothing_level=a, smoothing_slope=b, smoothing_seasonal=g)\n",
      "C:\\Users\\User\\AppData\\Local\\Temp\\ipykernel_1544\\2318987598.py:16: FutureWarning: the 'smoothing_slope'' keyword is deprecated, use 'smoothing_trend' instead.\n",
      "  ets_fit = ets_model.fit(smoothing_level=a, smoothing_slope=b, smoothing_seasonal=g)\n",
      "C:\\Users\\User\\AppData\\Local\\Temp\\ipykernel_1544\\2318987598.py:16: FutureWarning: the 'smoothing_slope'' keyword is deprecated, use 'smoothing_trend' instead.\n",
      "  ets_fit = ets_model.fit(smoothing_level=a, smoothing_slope=b, smoothing_seasonal=g)\n",
      "C:\\Users\\User\\AppData\\Local\\Temp\\ipykernel_1544\\2318987598.py:16: FutureWarning: the 'smoothing_slope'' keyword is deprecated, use 'smoothing_trend' instead.\n",
      "  ets_fit = ets_model.fit(smoothing_level=a, smoothing_slope=b, smoothing_seasonal=g)\n",
      "C:\\Users\\User\\AppData\\Local\\Temp\\ipykernel_1544\\2318987598.py:16: FutureWarning: the 'smoothing_slope'' keyword is deprecated, use 'smoothing_trend' instead.\n",
      "  ets_fit = ets_model.fit(smoothing_level=a, smoothing_slope=b, smoothing_seasonal=g)\n",
      "C:\\Users\\User\\anaconda3\\lib\\site-packages\\statsmodels\\tsa\\holtwinters\\model.py:915: ConvergenceWarning: Optimization failed to converge. Check mle_retvals.\n",
      "  warnings.warn(\n",
      "C:\\Users\\User\\AppData\\Local\\Temp\\ipykernel_1544\\2318987598.py:16: FutureWarning: the 'smoothing_slope'' keyword is deprecated, use 'smoothing_trend' instead.\n",
      "  ets_fit = ets_model.fit(smoothing_level=a, smoothing_slope=b, smoothing_seasonal=g)\n"
     ]
    },
    {
     "name": "stdout",
     "output_type": "stream",
     "text": [
      "MAE = 0.7932688060128691 for alpha 0.99, beta 0.22, gamma 0.0\n",
      "MAE = 0.8091226198922997 for alpha 0.99, beta 0.22, gamma 0.11\n",
      "MAE = 0.9613445931746991 for alpha 0.99, beta 0.22, gamma 0.22\n",
      "MAE = 0.9672007701219352 for alpha 0.99, beta 0.22, gamma 0.33\n",
      "MAE = 1.0633127876764499 for alpha 0.99, beta 0.22, gamma 0.44\n",
      "MAE = 1.1057995507167198 for alpha 0.99, beta 0.22, gamma 0.55\n",
      "MAE = 0.9245353194369789 for alpha 0.99, beta 0.22, gamma 0.66\n",
      "MAE = 0.7269525518421052 for alpha 0.99, beta 0.22, gamma 0.77\n",
      "MAE = 24.36783123256507 for alpha 0.99, beta 0.22, gamma 0.88\n",
      "MAE = 219.8008798988194 for alpha 0.99, beta 0.22, gamma 0.99\n"
     ]
    },
    {
     "name": "stderr",
     "output_type": "stream",
     "text": [
      "C:\\Users\\User\\AppData\\Local\\Temp\\ipykernel_1544\\2318987598.py:16: FutureWarning: the 'smoothing_slope'' keyword is deprecated, use 'smoothing_trend' instead.\n",
      "  ets_fit = ets_model.fit(smoothing_level=a, smoothing_slope=b, smoothing_seasonal=g)\n",
      "C:\\Users\\User\\AppData\\Local\\Temp\\ipykernel_1544\\2318987598.py:16: FutureWarning: the 'smoothing_slope'' keyword is deprecated, use 'smoothing_trend' instead.\n",
      "  ets_fit = ets_model.fit(smoothing_level=a, smoothing_slope=b, smoothing_seasonal=g)\n",
      "C:\\Users\\User\\AppData\\Local\\Temp\\ipykernel_1544\\2318987598.py:16: FutureWarning: the 'smoothing_slope'' keyword is deprecated, use 'smoothing_trend' instead.\n",
      "  ets_fit = ets_model.fit(smoothing_level=a, smoothing_slope=b, smoothing_seasonal=g)\n",
      "C:\\Users\\User\\AppData\\Local\\Temp\\ipykernel_1544\\2318987598.py:16: FutureWarning: the 'smoothing_slope'' keyword is deprecated, use 'smoothing_trend' instead.\n",
      "  ets_fit = ets_model.fit(smoothing_level=a, smoothing_slope=b, smoothing_seasonal=g)\n",
      "C:\\Users\\User\\AppData\\Local\\Temp\\ipykernel_1544\\2318987598.py:16: FutureWarning: the 'smoothing_slope'' keyword is deprecated, use 'smoothing_trend' instead.\n",
      "  ets_fit = ets_model.fit(smoothing_level=a, smoothing_slope=b, smoothing_seasonal=g)\n",
      "C:\\Users\\User\\AppData\\Local\\Temp\\ipykernel_1544\\2318987598.py:16: FutureWarning: the 'smoothing_slope'' keyword is deprecated, use 'smoothing_trend' instead.\n",
      "  ets_fit = ets_model.fit(smoothing_level=a, smoothing_slope=b, smoothing_seasonal=g)\n",
      "C:\\Users\\User\\AppData\\Local\\Temp\\ipykernel_1544\\2318987598.py:16: FutureWarning: the 'smoothing_slope'' keyword is deprecated, use 'smoothing_trend' instead.\n",
      "  ets_fit = ets_model.fit(smoothing_level=a, smoothing_slope=b, smoothing_seasonal=g)\n",
      "C:\\Users\\User\\AppData\\Local\\Temp\\ipykernel_1544\\2318987598.py:16: FutureWarning: the 'smoothing_slope'' keyword is deprecated, use 'smoothing_trend' instead.\n",
      "  ets_fit = ets_model.fit(smoothing_level=a, smoothing_slope=b, smoothing_seasonal=g)\n",
      "C:\\Users\\User\\anaconda3\\lib\\site-packages\\statsmodels\\tsa\\holtwinters\\model.py:915: ConvergenceWarning: Optimization failed to converge. Check mle_retvals.\n",
      "  warnings.warn(\n",
      "C:\\Users\\User\\AppData\\Local\\Temp\\ipykernel_1544\\2318987598.py:16: FutureWarning: the 'smoothing_slope'' keyword is deprecated, use 'smoothing_trend' instead.\n",
      "  ets_fit = ets_model.fit(smoothing_level=a, smoothing_slope=b, smoothing_seasonal=g)\n",
      "C:\\Users\\User\\anaconda3\\lib\\site-packages\\statsmodels\\tsa\\holtwinters\\model.py:915: ConvergenceWarning: Optimization failed to converge. Check mle_retvals.\n",
      "  warnings.warn(\n",
      "C:\\Users\\User\\AppData\\Local\\Temp\\ipykernel_1544\\2318987598.py:16: FutureWarning: the 'smoothing_slope'' keyword is deprecated, use 'smoothing_trend' instead.\n",
      "  ets_fit = ets_model.fit(smoothing_level=a, smoothing_slope=b, smoothing_seasonal=g)\n",
      "C:\\Users\\User\\anaconda3\\lib\\site-packages\\statsmodels\\tsa\\holtwinters\\model.py:83: RuntimeWarning: overflow encountered in matmul\n",
      "  return err.T @ err\n",
      "C:\\Users\\User\\AppData\\Local\\Temp\\ipykernel_1544\\2318987598.py:16: FutureWarning: the 'smoothing_slope'' keyword is deprecated, use 'smoothing_trend' instead.\n",
      "  ets_fit = ets_model.fit(smoothing_level=a, smoothing_slope=b, smoothing_seasonal=g)\n",
      "C:\\Users\\User\\AppData\\Local\\Temp\\ipykernel_1544\\2318987598.py:16: FutureWarning: the 'smoothing_slope'' keyword is deprecated, use 'smoothing_trend' instead.\n",
      "  ets_fit = ets_model.fit(smoothing_level=a, smoothing_slope=b, smoothing_seasonal=g)\n",
      "C:\\Users\\User\\AppData\\Local\\Temp\\ipykernel_1544\\2318987598.py:16: FutureWarning: the 'smoothing_slope'' keyword is deprecated, use 'smoothing_trend' instead.\n",
      "  ets_fit = ets_model.fit(smoothing_level=a, smoothing_slope=b, smoothing_seasonal=g)\n",
      "C:\\Users\\User\\AppData\\Local\\Temp\\ipykernel_1544\\2318987598.py:16: FutureWarning: the 'smoothing_slope'' keyword is deprecated, use 'smoothing_trend' instead.\n",
      "  ets_fit = ets_model.fit(smoothing_level=a, smoothing_slope=b, smoothing_seasonal=g)\n",
      "C:\\Users\\User\\AppData\\Local\\Temp\\ipykernel_1544\\2318987598.py:16: FutureWarning: the 'smoothing_slope'' keyword is deprecated, use 'smoothing_trend' instead.\n",
      "  ets_fit = ets_model.fit(smoothing_level=a, smoothing_slope=b, smoothing_seasonal=g)\n",
      "C:\\Users\\User\\AppData\\Local\\Temp\\ipykernel_1544\\2318987598.py:16: FutureWarning: the 'smoothing_slope'' keyword is deprecated, use 'smoothing_trend' instead.\n",
      "  ets_fit = ets_model.fit(smoothing_level=a, smoothing_slope=b, smoothing_seasonal=g)\n",
      "C:\\Users\\User\\AppData\\Local\\Temp\\ipykernel_1544\\2318987598.py:16: FutureWarning: the 'smoothing_slope'' keyword is deprecated, use 'smoothing_trend' instead.\n",
      "  ets_fit = ets_model.fit(smoothing_level=a, smoothing_slope=b, smoothing_seasonal=g)\n",
      "C:\\Users\\User\\anaconda3\\lib\\site-packages\\statsmodels\\tsa\\holtwinters\\model.py:915: ConvergenceWarning: Optimization failed to converge. Check mle_retvals.\n",
      "  warnings.warn(\n",
      "C:\\Users\\User\\AppData\\Local\\Temp\\ipykernel_1544\\2318987598.py:16: FutureWarning: the 'smoothing_slope'' keyword is deprecated, use 'smoothing_trend' instead.\n",
      "  ets_fit = ets_model.fit(smoothing_level=a, smoothing_slope=b, smoothing_seasonal=g)\n",
      "C:\\Users\\User\\anaconda3\\lib\\site-packages\\statsmodels\\tsa\\holtwinters\\model.py:915: ConvergenceWarning: Optimization failed to converge. Check mle_retvals.\n",
      "  warnings.warn(\n",
      "C:\\Users\\User\\AppData\\Local\\Temp\\ipykernel_1544\\2318987598.py:16: FutureWarning: the 'smoothing_slope'' keyword is deprecated, use 'smoothing_trend' instead.\n",
      "  ets_fit = ets_model.fit(smoothing_level=a, smoothing_slope=b, smoothing_seasonal=g)\n",
      "C:\\Users\\User\\anaconda3\\lib\\site-packages\\statsmodels\\tsa\\holtwinters\\model.py:915: ConvergenceWarning: Optimization failed to converge. Check mle_retvals.\n",
      "  warnings.warn(\n",
      "C:\\Users\\User\\AppData\\Local\\Temp\\ipykernel_1544\\2318987598.py:16: FutureWarning: the 'smoothing_slope'' keyword is deprecated, use 'smoothing_trend' instead.\n",
      "  ets_fit = ets_model.fit(smoothing_level=a, smoothing_slope=b, smoothing_seasonal=g)\n"
     ]
    },
    {
     "name": "stdout",
     "output_type": "stream",
     "text": [
      "MAE = 1.0255972151307358 for alpha 0.99, beta 0.33, gamma 0.0\n",
      "MAE = 0.9700713685754488 for alpha 0.99, beta 0.33, gamma 0.11\n",
      "MAE = 0.9596408397460156 for alpha 0.99, beta 0.33, gamma 0.22\n",
      "MAE = 1.279113286109454 for alpha 0.99, beta 0.33, gamma 0.33\n",
      "MAE = 0.7987866031225761 for alpha 0.99, beta 0.33, gamma 0.44\n",
      "MAE = 0.6437502025378038 for alpha 0.99, beta 0.33, gamma 0.55\n",
      "MAE = 7.582329504311822 for alpha 0.99, beta 0.33, gamma 0.66\n",
      "MAE = 21.434564995904264 for alpha 0.99, beta 0.33, gamma 0.77\n",
      "MAE = 153.68962027247548 for alpha 0.99, beta 0.33, gamma 0.88\n",
      "MAE = 9055.663846481555 for alpha 0.99, beta 0.33, gamma 0.99\n",
      "MAE = 1.248825766860067 for alpha 0.99, beta 0.44, gamma 0.0\n",
      "MAE = 1.605995693279538 for alpha 0.99, beta 0.44, gamma 0.11\n",
      "MAE = 1.3687413242028565 for alpha 0.99, beta 0.44, gamma 0.22\n",
      "MAE = 1.2638394582585282 for alpha 0.99, beta 0.44, gamma 0.33\n",
      "MAE = 0.7491952160743756 for alpha 0.99, beta 0.44, gamma 0.44\n",
      "MAE = 0.3136510210849801 for alpha 0.99, beta 0.44, gamma 0.55\n"
     ]
    },
    {
     "name": "stderr",
     "output_type": "stream",
     "text": [
      "C:\\Users\\User\\AppData\\Local\\Temp\\ipykernel_1544\\2318987598.py:16: FutureWarning: the 'smoothing_slope'' keyword is deprecated, use 'smoothing_trend' instead.\n",
      "  ets_fit = ets_model.fit(smoothing_level=a, smoothing_slope=b, smoothing_seasonal=g)\n",
      "C:\\Users\\User\\AppData\\Local\\Temp\\ipykernel_1544\\2318987598.py:16: FutureWarning: the 'smoothing_slope'' keyword is deprecated, use 'smoothing_trend' instead.\n",
      "  ets_fit = ets_model.fit(smoothing_level=a, smoothing_slope=b, smoothing_seasonal=g)\n",
      "C:\\Users\\User\\AppData\\Local\\Temp\\ipykernel_1544\\2318987598.py:16: FutureWarning: the 'smoothing_slope'' keyword is deprecated, use 'smoothing_trend' instead.\n",
      "  ets_fit = ets_model.fit(smoothing_level=a, smoothing_slope=b, smoothing_seasonal=g)\n",
      "C:\\Users\\User\\AppData\\Local\\Temp\\ipykernel_1544\\2318987598.py:16: FutureWarning: the 'smoothing_slope'' keyword is deprecated, use 'smoothing_trend' instead.\n",
      "  ets_fit = ets_model.fit(smoothing_level=a, smoothing_slope=b, smoothing_seasonal=g)\n",
      "C:\\Users\\User\\AppData\\Local\\Temp\\ipykernel_1544\\2318987598.py:16: FutureWarning: the 'smoothing_slope'' keyword is deprecated, use 'smoothing_trend' instead.\n",
      "  ets_fit = ets_model.fit(smoothing_level=a, smoothing_slope=b, smoothing_seasonal=g)\n",
      "C:\\Users\\User\\AppData\\Local\\Temp\\ipykernel_1544\\2318987598.py:16: FutureWarning: the 'smoothing_slope'' keyword is deprecated, use 'smoothing_trend' instead.\n",
      "  ets_fit = ets_model.fit(smoothing_level=a, smoothing_slope=b, smoothing_seasonal=g)\n",
      "C:\\Users\\User\\anaconda3\\lib\\site-packages\\statsmodels\\tsa\\holtwinters\\model.py:915: ConvergenceWarning: Optimization failed to converge. Check mle_retvals.\n",
      "  warnings.warn(\n"
     ]
    },
    {
     "name": "stdout",
     "output_type": "stream",
     "text": [
      "MAE = 14.784897176650679 for alpha 0.99, beta 0.44, gamma 0.66\n",
      "MAE = 66.033001285136 for alpha 0.99, beta 0.44, gamma 0.77\n",
      "MAE = 1229.5078804486513 for alpha 0.99, beta 0.44, gamma 0.88\n",
      "MAE = 603236.9673310727 for alpha 0.99, beta 0.44, gamma 0.99\n",
      "MAE = 0.6538665200125672 for alpha 0.99, beta 0.55, gamma 0.0\n",
      "MAE = 0.9486450091769628 for alpha 0.99, beta 0.55, gamma 0.11\n",
      "MAE = 0.9775580882032157 for alpha 0.99, beta 0.55, gamma 0.22\n",
      "MAE = 1.604220902938689 for alpha 0.99, beta 0.55, gamma 0.33\n",
      "MAE = 0.6530691582749998 for alpha 0.99, beta 0.55, gamma 0.44\n",
      "MAE = 8.431007000911173 for alpha 0.99, beta 0.55, gamma 0.55\n",
      "MAE = 26.876134778815697 for alpha 0.99, beta 0.55, gamma 0.66\n"
     ]
    },
    {
     "name": "stderr",
     "output_type": "stream",
     "text": [
      "C:\\Users\\User\\AppData\\Local\\Temp\\ipykernel_1544\\2318987598.py:16: FutureWarning: the 'smoothing_slope'' keyword is deprecated, use 'smoothing_trend' instead.\n",
      "  ets_fit = ets_model.fit(smoothing_level=a, smoothing_slope=b, smoothing_seasonal=g)\n",
      "C:\\Users\\User\\anaconda3\\lib\\site-packages\\statsmodels\\tsa\\holtwinters\\model.py:915: ConvergenceWarning: Optimization failed to converge. Check mle_retvals.\n",
      "  warnings.warn(\n",
      "C:\\Users\\User\\AppData\\Local\\Temp\\ipykernel_1544\\2318987598.py:16: FutureWarning: the 'smoothing_slope'' keyword is deprecated, use 'smoothing_trend' instead.\n",
      "  ets_fit = ets_model.fit(smoothing_level=a, smoothing_slope=b, smoothing_seasonal=g)\n",
      "C:\\Users\\User\\anaconda3\\lib\\site-packages\\statsmodels\\tsa\\holtwinters\\model.py:915: ConvergenceWarning: Optimization failed to converge. Check mle_retvals.\n",
      "  warnings.warn(\n",
      "C:\\Users\\User\\AppData\\Local\\Temp\\ipykernel_1544\\2318987598.py:16: FutureWarning: the 'smoothing_slope'' keyword is deprecated, use 'smoothing_trend' instead.\n",
      "  ets_fit = ets_model.fit(smoothing_level=a, smoothing_slope=b, smoothing_seasonal=g)\n",
      "C:\\Users\\User\\anaconda3\\lib\\site-packages\\statsmodels\\tsa\\holtwinters\\model.py:915: ConvergenceWarning: Optimization failed to converge. Check mle_retvals.\n",
      "  warnings.warn(\n",
      "C:\\Users\\User\\AppData\\Local\\Temp\\ipykernel_1544\\2318987598.py:16: FutureWarning: the 'smoothing_slope'' keyword is deprecated, use 'smoothing_trend' instead.\n",
      "  ets_fit = ets_model.fit(smoothing_level=a, smoothing_slope=b, smoothing_seasonal=g)\n",
      "C:\\Users\\User\\AppData\\Local\\Temp\\ipykernel_1544\\2318987598.py:16: FutureWarning: the 'smoothing_slope'' keyword is deprecated, use 'smoothing_trend' instead.\n",
      "  ets_fit = ets_model.fit(smoothing_level=a, smoothing_slope=b, smoothing_seasonal=g)\n",
      "C:\\Users\\User\\AppData\\Local\\Temp\\ipykernel_1544\\2318987598.py:16: FutureWarning: the 'smoothing_slope'' keyword is deprecated, use 'smoothing_trend' instead.\n",
      "  ets_fit = ets_model.fit(smoothing_level=a, smoothing_slope=b, smoothing_seasonal=g)\n",
      "C:\\Users\\User\\AppData\\Local\\Temp\\ipykernel_1544\\2318987598.py:16: FutureWarning: the 'smoothing_slope'' keyword is deprecated, use 'smoothing_trend' instead.\n",
      "  ets_fit = ets_model.fit(smoothing_level=a, smoothing_slope=b, smoothing_seasonal=g)\n",
      "C:\\Users\\User\\AppData\\Local\\Temp\\ipykernel_1544\\2318987598.py:16: FutureWarning: the 'smoothing_slope'' keyword is deprecated, use 'smoothing_trend' instead.\n",
      "  ets_fit = ets_model.fit(smoothing_level=a, smoothing_slope=b, smoothing_seasonal=g)\n",
      "C:\\Users\\User\\AppData\\Local\\Temp\\ipykernel_1544\\2318987598.py:16: FutureWarning: the 'smoothing_slope'' keyword is deprecated, use 'smoothing_trend' instead.\n",
      "  ets_fit = ets_model.fit(smoothing_level=a, smoothing_slope=b, smoothing_seasonal=g)\n",
      "C:\\Users\\User\\anaconda3\\lib\\site-packages\\statsmodels\\tsa\\holtwinters\\model.py:915: ConvergenceWarning: Optimization failed to converge. Check mle_retvals.\n",
      "  warnings.warn(\n",
      "C:\\Users\\User\\AppData\\Local\\Temp\\ipykernel_1544\\2318987598.py:16: FutureWarning: the 'smoothing_slope'' keyword is deprecated, use 'smoothing_trend' instead.\n",
      "  ets_fit = ets_model.fit(smoothing_level=a, smoothing_slope=b, smoothing_seasonal=g)\n",
      "C:\\Users\\User\\anaconda3\\lib\\site-packages\\statsmodels\\tsa\\holtwinters\\model.py:915: ConvergenceWarning: Optimization failed to converge. Check mle_retvals.\n",
      "  warnings.warn(\n",
      "C:\\Users\\User\\AppData\\Local\\Temp\\ipykernel_1544\\2318987598.py:16: FutureWarning: the 'smoothing_slope'' keyword is deprecated, use 'smoothing_trend' instead.\n",
      "  ets_fit = ets_model.fit(smoothing_level=a, smoothing_slope=b, smoothing_seasonal=g)\n",
      "C:\\Users\\User\\anaconda3\\lib\\site-packages\\statsmodels\\tsa\\holtwinters\\model.py:915: ConvergenceWarning: Optimization failed to converge. Check mle_retvals.\n",
      "  warnings.warn(\n",
      "C:\\Users\\User\\AppData\\Local\\Temp\\ipykernel_1544\\2318987598.py:16: FutureWarning: the 'smoothing_slope'' keyword is deprecated, use 'smoothing_trend' instead.\n",
      "  ets_fit = ets_model.fit(smoothing_level=a, smoothing_slope=b, smoothing_seasonal=g)\n",
      "C:\\Users\\User\\anaconda3\\lib\\site-packages\\statsmodels\\tsa\\holtwinters\\model.py:915: ConvergenceWarning: Optimization failed to converge. Check mle_retvals.\n",
      "  warnings.warn(\n",
      "C:\\Users\\User\\AppData\\Local\\Temp\\ipykernel_1544\\2318987598.py:16: FutureWarning: the 'smoothing_slope'' keyword is deprecated, use 'smoothing_trend' instead.\n",
      "  ets_fit = ets_model.fit(smoothing_level=a, smoothing_slope=b, smoothing_seasonal=g)\n",
      "C:\\Users\\User\\anaconda3\\lib\\site-packages\\statsmodels\\tsa\\holtwinters\\model.py:915: ConvergenceWarning: Optimization failed to converge. Check mle_retvals.\n",
      "  warnings.warn(\n",
      "C:\\Users\\User\\AppData\\Local\\Temp\\ipykernel_1544\\2318987598.py:16: FutureWarning: the 'smoothing_slope'' keyword is deprecated, use 'smoothing_trend' instead.\n",
      "  ets_fit = ets_model.fit(smoothing_level=a, smoothing_slope=b, smoothing_seasonal=g)\n",
      "C:\\Users\\User\\AppData\\Local\\Temp\\ipykernel_1544\\2318987598.py:16: FutureWarning: the 'smoothing_slope'' keyword is deprecated, use 'smoothing_trend' instead.\n",
      "  ets_fit = ets_model.fit(smoothing_level=a, smoothing_slope=b, smoothing_seasonal=g)\n",
      "C:\\Users\\User\\AppData\\Local\\Temp\\ipykernel_1544\\2318987598.py:16: FutureWarning: the 'smoothing_slope'' keyword is deprecated, use 'smoothing_trend' instead.\n",
      "  ets_fit = ets_model.fit(smoothing_level=a, smoothing_slope=b, smoothing_seasonal=g)\n",
      "C:\\Users\\User\\AppData\\Local\\Temp\\ipykernel_1544\\2318987598.py:16: FutureWarning: the 'smoothing_slope'' keyword is deprecated, use 'smoothing_trend' instead.\n",
      "  ets_fit = ets_model.fit(smoothing_level=a, smoothing_slope=b, smoothing_seasonal=g)\n"
     ]
    },
    {
     "name": "stdout",
     "output_type": "stream",
     "text": [
      "MAE = 177.47058208494954 for alpha 0.99, beta 0.55, gamma 0.77\n",
      "MAE = 6648.589997372885 for alpha 0.99, beta 0.55, gamma 0.88\n",
      "MAE = 8.446318867824099e+18 for alpha 0.99, beta 0.55, gamma 0.99\n",
      "MAE = 1.568687747148039 for alpha 0.99, beta 0.66, gamma 0.0\n",
      "MAE = 1.190174169712457 for alpha 0.99, beta 0.66, gamma 0.11\n",
      "MAE = 2.3840221349039408 for alpha 0.99, beta 0.66, gamma 0.22\n",
      "MAE = 1.9990186444990075 for alpha 0.99, beta 0.66, gamma 0.33\n",
      "MAE = 3.734457824863019 for alpha 0.99, beta 0.66, gamma 0.44\n",
      "MAE = 10.101606842077684 for alpha 0.99, beta 0.66, gamma 0.55\n",
      "MAE = 41.17471193266575 for alpha 0.99, beta 0.66, gamma 0.66\n",
      "MAE = 338.3203289913485 for alpha 0.99, beta 0.66, gamma 0.77\n",
      "MAE = 14959.820108800524 for alpha 0.99, beta 0.66, gamma 0.88\n",
      "MAE = 222519188.12627408 for alpha 0.99, beta 0.66, gamma 0.99\n",
      "MAE = 1.5611135244987742 for alpha 0.99, beta 0.77, gamma 0.0\n",
      "MAE = 0.5946121348904696 for alpha 0.99, beta 0.77, gamma 0.11\n",
      "MAE = 1.2098307922977252 for alpha 0.99, beta 0.77, gamma 0.22\n"
     ]
    },
    {
     "name": "stderr",
     "output_type": "stream",
     "text": [
      "C:\\Users\\User\\AppData\\Local\\Temp\\ipykernel_1544\\2318987598.py:16: FutureWarning: the 'smoothing_slope'' keyword is deprecated, use 'smoothing_trend' instead.\n",
      "  ets_fit = ets_model.fit(smoothing_level=a, smoothing_slope=b, smoothing_seasonal=g)\n",
      "C:\\Users\\User\\anaconda3\\lib\\site-packages\\statsmodels\\tsa\\holtwinters\\model.py:915: ConvergenceWarning: Optimization failed to converge. Check mle_retvals.\n",
      "  warnings.warn(\n",
      "C:\\Users\\User\\AppData\\Local\\Temp\\ipykernel_1544\\2318987598.py:16: FutureWarning: the 'smoothing_slope'' keyword is deprecated, use 'smoothing_trend' instead.\n",
      "  ets_fit = ets_model.fit(smoothing_level=a, smoothing_slope=b, smoothing_seasonal=g)\n",
      "C:\\Users\\User\\anaconda3\\lib\\site-packages\\statsmodels\\tsa\\holtwinters\\model.py:915: ConvergenceWarning: Optimization failed to converge. Check mle_retvals.\n",
      "  warnings.warn(\n",
      "C:\\Users\\User\\AppData\\Local\\Temp\\ipykernel_1544\\2318987598.py:16: FutureWarning: the 'smoothing_slope'' keyword is deprecated, use 'smoothing_trend' instead.\n",
      "  ets_fit = ets_model.fit(smoothing_level=a, smoothing_slope=b, smoothing_seasonal=g)\n",
      "C:\\Users\\User\\anaconda3\\lib\\site-packages\\statsmodels\\tsa\\holtwinters\\model.py:915: ConvergenceWarning: Optimization failed to converge. Check mle_retvals.\n",
      "  warnings.warn(\n",
      "C:\\Users\\User\\AppData\\Local\\Temp\\ipykernel_1544\\2318987598.py:16: FutureWarning: the 'smoothing_slope'' keyword is deprecated, use 'smoothing_trend' instead.\n",
      "  ets_fit = ets_model.fit(smoothing_level=a, smoothing_slope=b, smoothing_seasonal=g)\n",
      "C:\\Users\\User\\anaconda3\\lib\\site-packages\\statsmodels\\tsa\\holtwinters\\model.py:915: ConvergenceWarning: Optimization failed to converge. Check mle_retvals.\n",
      "  warnings.warn(\n",
      "C:\\Users\\User\\AppData\\Local\\Temp\\ipykernel_1544\\2318987598.py:16: FutureWarning: the 'smoothing_slope'' keyword is deprecated, use 'smoothing_trend' instead.\n",
      "  ets_fit = ets_model.fit(smoothing_level=a, smoothing_slope=b, smoothing_seasonal=g)\n",
      "C:\\Users\\User\\anaconda3\\lib\\site-packages\\statsmodels\\tsa\\holtwinters\\model.py:915: ConvergenceWarning: Optimization failed to converge. Check mle_retvals.\n",
      "  warnings.warn(\n",
      "C:\\Users\\User\\AppData\\Local\\Temp\\ipykernel_1544\\2318987598.py:16: FutureWarning: the 'smoothing_slope'' keyword is deprecated, use 'smoothing_trend' instead.\n",
      "  ets_fit = ets_model.fit(smoothing_level=a, smoothing_slope=b, smoothing_seasonal=g)\n",
      "C:\\Users\\User\\anaconda3\\lib\\site-packages\\statsmodels\\tsa\\holtwinters\\model.py:915: ConvergenceWarning: Optimization failed to converge. Check mle_retvals.\n",
      "  warnings.warn(\n",
      "C:\\Users\\User\\AppData\\Local\\Temp\\ipykernel_1544\\2318987598.py:16: FutureWarning: the 'smoothing_slope'' keyword is deprecated, use 'smoothing_trend' instead.\n",
      "  ets_fit = ets_model.fit(smoothing_level=a, smoothing_slope=b, smoothing_seasonal=g)\n",
      "C:\\Users\\User\\AppData\\Local\\Temp\\ipykernel_1544\\2318987598.py:16: FutureWarning: the 'smoothing_slope'' keyword is deprecated, use 'smoothing_trend' instead.\n",
      "  ets_fit = ets_model.fit(smoothing_level=a, smoothing_slope=b, smoothing_seasonal=g)\n",
      "C:\\Users\\User\\AppData\\Local\\Temp\\ipykernel_1544\\2318987598.py:16: FutureWarning: the 'smoothing_slope'' keyword is deprecated, use 'smoothing_trend' instead.\n",
      "  ets_fit = ets_model.fit(smoothing_level=a, smoothing_slope=b, smoothing_seasonal=g)\n",
      "C:\\Users\\User\\AppData\\Local\\Temp\\ipykernel_1544\\2318987598.py:16: FutureWarning: the 'smoothing_slope'' keyword is deprecated, use 'smoothing_trend' instead.\n",
      "  ets_fit = ets_model.fit(smoothing_level=a, smoothing_slope=b, smoothing_seasonal=g)\n"
     ]
    },
    {
     "name": "stdout",
     "output_type": "stream",
     "text": [
      "MAE = 1.4058231657923743 for alpha 0.99, beta 0.77, gamma 0.33\n",
      "MAE = 0.17558759858348952 for alpha 0.99, beta 0.77, gamma 0.44\n",
      "MAE = 9.18118031720541 for alpha 0.99, beta 0.77, gamma 0.55\n",
      "MAE = 49.836920092731624 for alpha 0.99, beta 0.77, gamma 0.66\n",
      "MAE = 507.48376891601794 for alpha 0.99, beta 0.77, gamma 0.77\n",
      "MAE = 16059.523404198439 for alpha 0.99, beta 0.77, gamma 0.88\n",
      "MAE = 314747744.4215089 for alpha 0.99, beta 0.77, gamma 0.99\n",
      "MAE = 1.393552727372236 for alpha 0.99, beta 0.88, gamma 0.0\n",
      "MAE = 0.3657039249000607 for alpha 0.99, beta 0.88, gamma 0.11\n"
     ]
    },
    {
     "name": "stderr",
     "output_type": "stream",
     "text": [
      "C:\\Users\\User\\AppData\\Local\\Temp\\ipykernel_1544\\2318987598.py:16: FutureWarning: the 'smoothing_slope'' keyword is deprecated, use 'smoothing_trend' instead.\n",
      "  ets_fit = ets_model.fit(smoothing_level=a, smoothing_slope=b, smoothing_seasonal=g)\n",
      "C:\\Users\\User\\AppData\\Local\\Temp\\ipykernel_1544\\2318987598.py:16: FutureWarning: the 'smoothing_slope'' keyword is deprecated, use 'smoothing_trend' instead.\n",
      "  ets_fit = ets_model.fit(smoothing_level=a, smoothing_slope=b, smoothing_seasonal=g)\n",
      "C:\\Users\\User\\anaconda3\\lib\\site-packages\\statsmodels\\tsa\\holtwinters\\model.py:915: ConvergenceWarning: Optimization failed to converge. Check mle_retvals.\n",
      "  warnings.warn(\n",
      "C:\\Users\\User\\AppData\\Local\\Temp\\ipykernel_1544\\2318987598.py:16: FutureWarning: the 'smoothing_slope'' keyword is deprecated, use 'smoothing_trend' instead.\n",
      "  ets_fit = ets_model.fit(smoothing_level=a, smoothing_slope=b, smoothing_seasonal=g)\n",
      "C:\\Users\\User\\anaconda3\\lib\\site-packages\\statsmodels\\tsa\\holtwinters\\model.py:915: ConvergenceWarning: Optimization failed to converge. Check mle_retvals.\n",
      "  warnings.warn(\n",
      "C:\\Users\\User\\AppData\\Local\\Temp\\ipykernel_1544\\2318987598.py:16: FutureWarning: the 'smoothing_slope'' keyword is deprecated, use 'smoothing_trend' instead.\n",
      "  ets_fit = ets_model.fit(smoothing_level=a, smoothing_slope=b, smoothing_seasonal=g)\n",
      "C:\\Users\\User\\anaconda3\\lib\\site-packages\\statsmodels\\tsa\\holtwinters\\model.py:915: ConvergenceWarning: Optimization failed to converge. Check mle_retvals.\n",
      "  warnings.warn(\n",
      "C:\\Users\\User\\AppData\\Local\\Temp\\ipykernel_1544\\2318987598.py:16: FutureWarning: the 'smoothing_slope'' keyword is deprecated, use 'smoothing_trend' instead.\n",
      "  ets_fit = ets_model.fit(smoothing_level=a, smoothing_slope=b, smoothing_seasonal=g)\n",
      "C:\\Users\\User\\anaconda3\\lib\\site-packages\\statsmodels\\tsa\\holtwinters\\model.py:915: ConvergenceWarning: Optimization failed to converge. Check mle_retvals.\n",
      "  warnings.warn(\n",
      "C:\\Users\\User\\AppData\\Local\\Temp\\ipykernel_1544\\2318987598.py:16: FutureWarning: the 'smoothing_slope'' keyword is deprecated, use 'smoothing_trend' instead.\n",
      "  ets_fit = ets_model.fit(smoothing_level=a, smoothing_slope=b, smoothing_seasonal=g)\n",
      "C:\\Users\\User\\anaconda3\\lib\\site-packages\\statsmodels\\tsa\\holtwinters\\model.py:915: ConvergenceWarning: Optimization failed to converge. Check mle_retvals.\n",
      "  warnings.warn(\n",
      "C:\\Users\\User\\AppData\\Local\\Temp\\ipykernel_1544\\2318987598.py:16: FutureWarning: the 'smoothing_slope'' keyword is deprecated, use 'smoothing_trend' instead.\n",
      "  ets_fit = ets_model.fit(smoothing_level=a, smoothing_slope=b, smoothing_seasonal=g)\n",
      "C:\\Users\\User\\AppData\\Local\\Temp\\ipykernel_1544\\2318987598.py:16: FutureWarning: the 'smoothing_slope'' keyword is deprecated, use 'smoothing_trend' instead.\n",
      "  ets_fit = ets_model.fit(smoothing_level=a, smoothing_slope=b, smoothing_seasonal=g)\n",
      "C:\\Users\\User\\AppData\\Local\\Temp\\ipykernel_1544\\2318987598.py:16: FutureWarning: the 'smoothing_slope'' keyword is deprecated, use 'smoothing_trend' instead.\n",
      "  ets_fit = ets_model.fit(smoothing_level=a, smoothing_slope=b, smoothing_seasonal=g)\n"
     ]
    },
    {
     "name": "stdout",
     "output_type": "stream",
     "text": [
      "MAE = 0.9889720456908239 for alpha 0.99, beta 0.88, gamma 0.22\n",
      "MAE = 0.7699483955145419 for alpha 0.99, beta 0.88, gamma 0.33\n",
      "MAE = 0.3697004252251875 for alpha 0.99, beta 0.88, gamma 0.44\n",
      "MAE = 4.661548758298816 for alpha 0.99, beta 0.88, gamma 0.55\n",
      "MAE = 37.890955303013236 for alpha 0.99, beta 0.88, gamma 0.66\n",
      "MAE = 798.4036124182757 for alpha 0.99, beta 0.88, gamma 0.77\n",
      "MAE = 27717.013967051014 for alpha 0.99, beta 0.88, gamma 0.88\n",
      "MAE = 71131851.97167754 for alpha 0.99, beta 0.88, gamma 0.99\n",
      "MAE = 0.6856990755230354 for alpha 0.99, beta 0.99, gamma 0.0\n",
      "MAE = 0.2830688474633971 for alpha 0.99, beta 0.99, gamma 0.11\n",
      "MAE = 0.6664177201060184 for alpha 0.99, beta 0.99, gamma 0.22\n"
     ]
    },
    {
     "name": "stderr",
     "output_type": "stream",
     "text": [
      "C:\\Users\\User\\AppData\\Local\\Temp\\ipykernel_1544\\2318987598.py:16: FutureWarning: the 'smoothing_slope'' keyword is deprecated, use 'smoothing_trend' instead.\n",
      "  ets_fit = ets_model.fit(smoothing_level=a, smoothing_slope=b, smoothing_seasonal=g)\n",
      "C:\\Users\\User\\AppData\\Local\\Temp\\ipykernel_1544\\2318987598.py:16: FutureWarning: the 'smoothing_slope'' keyword is deprecated, use 'smoothing_trend' instead.\n",
      "  ets_fit = ets_model.fit(smoothing_level=a, smoothing_slope=b, smoothing_seasonal=g)\n",
      "C:\\Users\\User\\AppData\\Local\\Temp\\ipykernel_1544\\2318987598.py:16: FutureWarning: the 'smoothing_slope'' keyword is deprecated, use 'smoothing_trend' instead.\n",
      "  ets_fit = ets_model.fit(smoothing_level=a, smoothing_slope=b, smoothing_seasonal=g)\n",
      "C:\\Users\\User\\anaconda3\\lib\\site-packages\\statsmodels\\tsa\\holtwinters\\model.py:915: ConvergenceWarning: Optimization failed to converge. Check mle_retvals.\n",
      "  warnings.warn(\n",
      "C:\\Users\\User\\AppData\\Local\\Temp\\ipykernel_1544\\2318987598.py:16: FutureWarning: the 'smoothing_slope'' keyword is deprecated, use 'smoothing_trend' instead.\n",
      "  ets_fit = ets_model.fit(smoothing_level=a, smoothing_slope=b, smoothing_seasonal=g)\n",
      "C:\\Users\\User\\anaconda3\\lib\\site-packages\\statsmodels\\tsa\\holtwinters\\model.py:915: ConvergenceWarning: Optimization failed to converge. Check mle_retvals.\n",
      "  warnings.warn(\n",
      "C:\\Users\\User\\AppData\\Local\\Temp\\ipykernel_1544\\2318987598.py:16: FutureWarning: the 'smoothing_slope'' keyword is deprecated, use 'smoothing_trend' instead.\n",
      "  ets_fit = ets_model.fit(smoothing_level=a, smoothing_slope=b, smoothing_seasonal=g)\n",
      "C:\\Users\\User\\anaconda3\\lib\\site-packages\\statsmodels\\tsa\\holtwinters\\model.py:915: ConvergenceWarning: Optimization failed to converge. Check mle_retvals.\n",
      "  warnings.warn(\n",
      "C:\\Users\\User\\AppData\\Local\\Temp\\ipykernel_1544\\2318987598.py:16: FutureWarning: the 'smoothing_slope'' keyword is deprecated, use 'smoothing_trend' instead.\n",
      "  ets_fit = ets_model.fit(smoothing_level=a, smoothing_slope=b, smoothing_seasonal=g)\n",
      "C:\\Users\\User\\anaconda3\\lib\\site-packages\\statsmodels\\tsa\\holtwinters\\model.py:915: ConvergenceWarning: Optimization failed to converge. Check mle_retvals.\n",
      "  warnings.warn(\n",
      "C:\\Users\\User\\AppData\\Local\\Temp\\ipykernel_1544\\2318987598.py:16: FutureWarning: the 'smoothing_slope'' keyword is deprecated, use 'smoothing_trend' instead.\n",
      "  ets_fit = ets_model.fit(smoothing_level=a, smoothing_slope=b, smoothing_seasonal=g)\n",
      "C:\\Users\\User\\anaconda3\\lib\\site-packages\\statsmodels\\tsa\\holtwinters\\model.py:915: ConvergenceWarning: Optimization failed to converge. Check mle_retvals.\n",
      "  warnings.warn(\n",
      "C:\\Users\\User\\AppData\\Local\\Temp\\ipykernel_1544\\2318987598.py:16: FutureWarning: the 'smoothing_slope'' keyword is deprecated, use 'smoothing_trend' instead.\n",
      "  ets_fit = ets_model.fit(smoothing_level=a, smoothing_slope=b, smoothing_seasonal=g)\n",
      "C:\\Users\\User\\AppData\\Local\\Temp\\ipykernel_1544\\2318987598.py:16: FutureWarning: the 'smoothing_slope'' keyword is deprecated, use 'smoothing_trend' instead.\n",
      "  ets_fit = ets_model.fit(smoothing_level=a, smoothing_slope=b, smoothing_seasonal=g)\n",
      "C:\\Users\\User\\AppData\\Local\\Temp\\ipykernel_1544\\2318987598.py:16: FutureWarning: the 'smoothing_slope'' keyword is deprecated, use 'smoothing_trend' instead.\n",
      "  ets_fit = ets_model.fit(smoothing_level=a, smoothing_slope=b, smoothing_seasonal=g)\n",
      "C:\\Users\\User\\AppData\\Local\\Temp\\ipykernel_1544\\2318987598.py:16: FutureWarning: the 'smoothing_slope'' keyword is deprecated, use 'smoothing_trend' instead.\n",
      "  ets_fit = ets_model.fit(smoothing_level=a, smoothing_slope=b, smoothing_seasonal=g)\n"
     ]
    },
    {
     "name": "stdout",
     "output_type": "stream",
     "text": [
      "MAE = 0.4291489548042177 for alpha 0.99, beta 0.99, gamma 0.33\n",
      "MAE = 0.6010171441905554 for alpha 0.99, beta 0.99, gamma 0.44\n",
      "MAE = 0.8359323170353085 for alpha 0.99, beta 0.99, gamma 0.55\n",
      "MAE = 2.189701154140869 for alpha 0.99, beta 0.99, gamma 0.66\n",
      "MAE = 58.198231155916545 for alpha 0.99, beta 0.99, gamma 0.77\n",
      "MAE = 12875.408088023372 for alpha 0.99, beta 0.99, gamma 0.88\n",
      "MAE = 38526519.91144133 for alpha 0.99, beta 0.99, gamma 0.99\n"
     ]
    },
    {
     "name": "stderr",
     "output_type": "stream",
     "text": [
      "C:\\Users\\User\\anaconda3\\lib\\site-packages\\statsmodels\\tsa\\holtwinters\\model.py:915: ConvergenceWarning: Optimization failed to converge. Check mle_retvals.\n",
      "  warnings.warn(\n",
      "C:\\Users\\User\\AppData\\Local\\Temp\\ipykernel_1544\\2318987598.py:16: FutureWarning: the 'smoothing_slope'' keyword is deprecated, use 'smoothing_trend' instead.\n",
      "  ets_fit = ets_model.fit(smoothing_level=a, smoothing_slope=b, smoothing_seasonal=g)\n",
      "C:\\Users\\User\\anaconda3\\lib\\site-packages\\statsmodels\\tsa\\holtwinters\\model.py:915: ConvergenceWarning: Optimization failed to converge. Check mle_retvals.\n",
      "  warnings.warn(\n",
      "C:\\Users\\User\\AppData\\Local\\Temp\\ipykernel_1544\\2318987598.py:16: FutureWarning: the 'smoothing_slope'' keyword is deprecated, use 'smoothing_trend' instead.\n",
      "  ets_fit = ets_model.fit(smoothing_level=a, smoothing_slope=b, smoothing_seasonal=g)\n",
      "C:\\Users\\User\\anaconda3\\lib\\site-packages\\statsmodels\\tsa\\holtwinters\\model.py:915: ConvergenceWarning: Optimization failed to converge. Check mle_retvals.\n",
      "  warnings.warn(\n",
      "C:\\Users\\User\\AppData\\Local\\Temp\\ipykernel_1544\\2318987598.py:16: FutureWarning: the 'smoothing_slope'' keyword is deprecated, use 'smoothing_trend' instead.\n",
      "  ets_fit = ets_model.fit(smoothing_level=a, smoothing_slope=b, smoothing_seasonal=g)\n",
      "C:\\Users\\User\\anaconda3\\lib\\site-packages\\statsmodels\\tsa\\holtwinters\\model.py:915: ConvergenceWarning: Optimization failed to converge. Check mle_retvals.\n",
      "  warnings.warn(\n",
      "C:\\Users\\User\\AppData\\Local\\Temp\\ipykernel_1544\\2318987598.py:16: FutureWarning: the 'smoothing_slope'' keyword is deprecated, use 'smoothing_trend' instead.\n",
      "  ets_fit = ets_model.fit(smoothing_level=a, smoothing_slope=b, smoothing_seasonal=g)\n",
      "C:\\Users\\User\\anaconda3\\lib\\site-packages\\statsmodels\\tsa\\holtwinters\\model.py:915: ConvergenceWarning: Optimization failed to converge. Check mle_retvals.\n",
      "  warnings.warn(\n",
      "C:\\Users\\User\\AppData\\Local\\Temp\\ipykernel_1544\\2318987598.py:16: FutureWarning: the 'smoothing_slope'' keyword is deprecated, use 'smoothing_trend' instead.\n",
      "  ets_fit = ets_model.fit(smoothing_level=a, smoothing_slope=b, smoothing_seasonal=g)\n",
      "C:\\Users\\User\\anaconda3\\lib\\site-packages\\statsmodels\\tsa\\holtwinters\\model.py:915: ConvergenceWarning: Optimization failed to converge. Check mle_retvals.\n",
      "  warnings.warn(\n",
      "C:\\Users\\User\\AppData\\Local\\Temp\\ipykernel_1544\\2318987598.py:16: FutureWarning: the 'smoothing_slope'' keyword is deprecated, use 'smoothing_trend' instead.\n",
      "  ets_fit = ets_model.fit(smoothing_level=a, smoothing_slope=b, smoothing_seasonal=g)\n",
      "C:\\Users\\User\\anaconda3\\lib\\site-packages\\statsmodels\\tsa\\holtwinters\\model.py:915: ConvergenceWarning: Optimization failed to converge. Check mle_retvals.\n",
      "  warnings.warn(\n"
     ]
    }
   ],
   "source": [
    "alpha=np.linspace(0,.99,10)\n",
    "beta=np.linspace(0,.99,10)\n",
    "gamma=np.linspace(0,.99,10)\n",
    "\n",
    "# alpha=[0.01, .4, .3, .23]\n",
    "\n",
    "min_mae=9876543456789\n",
    "al1=0\n",
    "bet1=0\n",
    "gam1=0\n",
    "\n",
    "for a in alpha:\n",
    "    for b in beta:\n",
    "        for g in gamma:\n",
    "            ets_model = ExponentialSmoothing(train, trend='mul', seasonal='mul', seasonal_periods=12)\n",
    "            ets_fit = ets_model.fit(smoothing_level=a, smoothing_slope=b, smoothing_seasonal=g)\n",
    "            \n",
    "            pred_y = ets_fit.forecast(6)\n",
    "            \n",
    "            mae = np.mean(abs(test-pred_y)/test)\n",
    "            print(f'MAE = {mae} for alpha {a}, beta {b}, gamma {g}')\n",
    "            \n",
    "            if min_mae > mae:\n",
    "                min_mae = mae\n",
    "                al1 = a\n",
    "                bet1 = b\n",
    "                gam1 = g\n",
    "                \n",
    "mypara={'Alpha' : al1, 'Beta' : bet1, 'Gamma' : gam1}"
   ]
  },
  {
   "cell_type": "code",
   "execution_count": 40,
   "id": "56d4a79a",
   "metadata": {},
   "outputs": [
    {
     "data": {
      "text/plain": [
       "0.06851600589884095"
      ]
     },
     "execution_count": 40,
     "metadata": {},
     "output_type": "execute_result"
    }
   ],
   "source": [
    "min_mae"
   ]
  },
  {
   "cell_type": "code",
   "execution_count": 41,
   "id": "56563abb",
   "metadata": {},
   "outputs": [
    {
     "data": {
      "text/plain": [
       "{'Alpha': 0.44, 'Beta': 0.66, 'Gamma': 0.99}"
      ]
     },
     "execution_count": 41,
     "metadata": {},
     "output_type": "execute_result"
    }
   ],
   "source": [
    "mypara"
   ]
  },
  {
   "cell_type": "code",
   "execution_count": 42,
   "id": "90904f23",
   "metadata": {},
   "outputs": [
    {
     "name": "stderr",
     "output_type": "stream",
     "text": [
      "C:\\Users\\User\\AppData\\Local\\Temp\\ipykernel_1544\\2196991084.py:8: FutureWarning: the 'smoothing_slope'' keyword is deprecated, use 'smoothing_trend' instead.\n",
      "  ets_fit = ets_model.fit(smoothing_level=alpha, smoothing_slope=beta, smoothing_seasonal=gamma)\n"
     ]
    }
   ],
   "source": [
    "from statsmodels.tsa.holtwinters import ExponentialSmoothing\n",
    "alpha=0.44\n",
    "beta=0.66\n",
    "gamma=0.99\n",
    "\n",
    "ets_model = ExponentialSmoothing(train, trend='mul', seasonal='mul', seasonal_periods=12)\n",
    "\n",
    "ets_fit = ets_model.fit(smoothing_level=alpha, smoothing_slope=beta, smoothing_seasonal=gamma)"
   ]
  },
  {
   "cell_type": "code",
   "execution_count": 43,
   "id": "d38d9615",
   "metadata": {},
   "outputs": [
    {
     "data": {
      "text/plain": [
       "2017-07-01     619.876384\n",
       "2017-08-01     889.100562\n",
       "2017-09-01    1499.268771\n",
       "2017-10-01     858.555428\n",
       "2017-11-01    1260.287412\n",
       "2017-12-01    1255.967033\n",
       "2018-01-01     187.211273\n",
       "2018-02-01     270.484872\n",
       "2018-03-01     286.095668\n",
       "2018-04-01     275.737611\n",
       "2018-05-01     502.428571\n",
       "2018-06-01     541.642246\n",
       "Freq: MS, dtype: float64"
      ]
     },
     "execution_count": 43,
     "metadata": {},
     "output_type": "execute_result"
    }
   ],
   "source": [
    "ets_fit.forecast(12)"
   ]
  },
  {
   "cell_type": "code",
   "execution_count": 44,
   "id": "85762e79",
   "metadata": {},
   "outputs": [
    {
     "data": {
      "text/plain": [
       "<AxesSubplot:>"
      ]
     },
     "execution_count": 44,
     "metadata": {},
     "output_type": "execute_result"
    },
    {
     "data": {
      "image/png": "[encoded data removed]",
      "text/plain": [
       "<Figure size 432x288 with 1 Axes>"
      ]
     },
     "metadata": {
      "needs_background": "light"
     },
     "output_type": "display_data"
    }
   ],
   "source": [
    "ets_fit.forecast(12).plot()"
   ]
  },
  {
   "cell_type": "code",
   "execution_count": 45,
   "id": "1b1aea1a",
   "metadata": {},
   "outputs": [
    {
     "data": {
      "text/plain": [
       "<AxesSubplot:xlabel='order_date'>"
      ]
     },
     "execution_count": 45,
     "metadata": {},
     "output_type": "execute_result"
    },
    {
     "data": {
      "image/png": "[encoded data removed]",
      "text/plain": [
       "<Figure size 432x288 with 1 Axes>"
      ]
     },
     "metadata": {
      "needs_background": "light"
     },
     "output_type": "display_data"
    }
   ],
   "source": [
    "train.plot()"
   ]
  },
  {
   "cell_type": "code",
   "execution_count": 46,
   "id": "48173a60",
   "metadata": {},
   "outputs": [
    {
     "data": {
      "text/plain": [
       "<AxesSubplot:xlabel='order_date'>"
      ]
     },
     "execution_count": 46,
     "metadata": {},
     "output_type": "execute_result"
    },
    {
     "data": {
      "image/png": "[encoded data removed]",
      "text/plain": [
       "<Figure size 432x288 with 1 Axes>"
      ]
     },
     "metadata": {
      "needs_background": "light"
     },
     "output_type": "display_data"
    }
   ],
   "source": [
    "test.plot()"
   ]
  },
  {
   "cell_type": "markdown",
   "id": "72b679cc",
   "metadata": {},
   "source": [
    "### ARIMA"
   ]
  },
  {
   "cell_type": "code",
   "execution_count": 47,
   "id": "041933aa",
   "metadata": {},
   "outputs": [],
   "source": [
    "from statsmodels.tsa.stattools import adfuller"
   ]
  },
  {
   "cell_type": "code",
   "execution_count": 48,
   "id": "9470b643",
   "metadata": {},
   "outputs": [],
   "source": [
    "# Null - Series is not stationary\n",
    "# Alternate - Series is stationary\n",
    "# Decision : if p > 0.05, Series is non stationary \n",
    "#            if p <= 0.05 Series is stationary"
   ]
  },
  {
   "cell_type": "code",
   "execution_count": 49,
   "id": "c012bf65",
   "metadata": {},
   "outputs": [
    {
     "data": {
      "text/plain": [
       "(-5.191070187339276,\n",
       " 9.168756655665362e-06,\n",
       " 10,\n",
       " 37,\n",
       " {'1%': -3.6209175221605827,\n",
       "  '5%': -2.9435394610388332,\n",
       "  '10%': -2.6104002410518627},\n",
       " 521.9616303121272)"
      ]
     },
     "execution_count": 49,
     "metadata": {},
     "output_type": "execute_result"
    }
   ],
   "source": [
    "adfuller(Yt_data2)"
   ]
  },
  {
   "cell_type": "code",
   "execution_count": 51,
   "id": "608122ec",
   "metadata": {},
   "outputs": [
    {
     "name": "stdout",
     "output_type": "stream",
     "text": [
      "Results of Dickey_fuller Test:\n",
      "test statistic          -5.191070\n",
      "p-value                  0.000009\n",
      "#lags used              10.000000\n",
      "number of obs           37.000000\n",
      "critical value (1%)     -3.620918\n",
      "critical value (5%)     -2.943539\n",
      "critical value (10%)    -2.610400\n",
      "dtype: float64\n"
     ]
    }
   ],
   "source": [
    "# from statsmodels.tsa.stattools import adfuller\n",
    "# print(\"Results of Dickey_fuller Test:\")\n",
    "# dftest= adfuller(Yt_data2)\n",
    "# dfoutput= pd.Series(dftest[0:4], index=[\"test statistic\", \"p-value\", \"#lags used\", \"number of obs\"])\n",
    "# for key, value in dftest[4].items():\n",
    "#     dfoutput[\"critical value (%s)\"%key] = value\n",
    "# print(dfoutput)"
   ]
  },
  {
   "cell_type": "code",
   "execution_count": 55,
   "id": "ea5e6867",
   "metadata": {},
   "outputs": [
    {
     "name": "stdout",
     "output_type": "stream",
     "text": [
      "Result of Dicky-Fuller Test:\n"
     ]
    }
   ],
   "source": [
    "print('Result of Dicky-Fuller Test:')\n",
    "z"
   ]
  },
  {
   "cell_type": "code",
   "execution_count": 56,
   "id": "ec217f88",
   "metadata": {},
   "outputs": [],
   "source": [
    "# if p >=0.05, we would have transformed the data again "
   ]
  },
  {
   "cell_type": "code",
   "execution_count": 57,
   "id": "a24b01b1",
   "metadata": {},
   "outputs": [
    {
     "data": {
      "text/plain": [
       "(-6.3345736498655185,\n",
       " 2.8514614959304978e-08,\n",
       " 9,\n",
       " 36,\n",
       " {'1%': -3.626651907578875,\n",
       "  '5%': -2.9459512825788754,\n",
       "  '10%': -2.6116707716049383},\n",
       " 26.515836058908903)"
      ]
     },
     "execution_count": 57,
     "metadata": {},
     "output_type": "execute_result"
    }
   ],
   "source": [
    "adfuller(np.log(Yt_data2).diff(2).dropna())"
   ]
  },
  {
   "cell_type": "code",
   "execution_count": 58,
   "id": "725c6212",
   "metadata": {},
   "outputs": [],
   "source": [
    "# as my Series is stationary with any diff as my d would be 0"
   ]
  },
  {
   "cell_type": "code",
   "execution_count": 59,
   "id": "bf045d76",
   "metadata": {
    "scrolled": true
   },
   "outputs": [
    {
     "data": {
      "image/png": "[encoded data removed]",
      "text/plain": [
       "<Figure size 864x288 with 2 Axes>"
      ]
     },
     "metadata": {
      "needs_background": "light"
     },
     "output_type": "display_data"
    }
   ],
   "source": [
    "import statsmodels.tsa.api as smt\n",
    "\n",
    "fig, axes = plt.subplots(1,2, sharey = False, sharex=False)\n",
    "fig.set_figwidth(12)\n",
    "fig.set_figheight(4)\n",
    "smt.graphics.plot_acf(Yt_data2, lags=10, ax=axes[0], alpha=0.2)\n",
    "smt.graphics.plot_pacf(Yt_data2, lags=10, ax=axes[1], alpha=0.5, method='ols')\n",
    "plt.tight_layout()"
   ]
  },
  {
   "cell_type": "code",
   "execution_count": 60,
   "id": "f6709179",
   "metadata": {},
   "outputs": [],
   "source": [
    "# p=3, q=3, d=0\n",
    "# P=p, Q=q, D=0, period = 12"
   ]
  },
  {
   "cell_type": "code",
   "execution_count": 61,
   "id": "63184398",
   "metadata": {},
   "outputs": [
    {
     "name": "stderr",
     "output_type": "stream",
     "text": [
      "C:\\Users\\User\\anaconda3\\lib\\site-packages\\statsmodels\\base\\model.py:604: ConvergenceWarning: Maximum Likelihood optimization failed to converge. Check mle_retvals\n",
      "  warnings.warn(\"Maximum Likelihood optimization failed to \"\n"
     ]
    }
   ],
   "source": [
    "import statsmodels.api as sm\n",
    "# here in function order = (p,d,q)\n",
    "# seasonal_order = (P,D,Q, period) \n",
    "\n",
    "model = sm.tsa.statespace.SARIMAX(train, order = (3,0,1), seasonal_order=(1,0,1,12),\n",
    "                                enforce_stationary = False,\n",
    "                                enforce_invertibility = False).fit()"
   ]
  },
  {
   "cell_type": "code",
   "execution_count": 62,
   "id": "1d6c2358",
   "metadata": {},
   "outputs": [
    {
     "name": "stdout",
     "output_type": "stream",
     "text": [
      "                                     SARIMAX Results                                      \n",
      "==========================================================================================\n",
      "Dep. Variable:                              Sales   No. Observations:                   42\n",
      "Model:             SARIMAX(3, 0, 1)x(1, 0, 1, 12)   Log Likelihood                -290.338\n",
      "Date:                            Sat, 24 Dec 2022   AIC                            594.676\n",
      "Time:                                    00:02:35   BIC                            606.840\n",
      "Sample:                                01-01-2014   HQIC                           599.135\n",
      "                                     - 06-01-2017                                         \n",
      "Covariance Type:                              opg                                         \n",
      "==============================================================================\n",
      "                 coef    std err          z      P>|z|      [0.025      0.975]\n",
      "------------------------------------------------------------------------------\n",
      "ar.L1          1.1597      0.198      5.849      0.000       0.771       1.548\n",
      "ar.L2         -0.1463      0.272     -0.538      0.591      -0.680       0.387\n",
      "ar.L3         -0.0137      0.240     -0.057      0.954      -0.484       0.457\n",
      "ma.L1         -1.0086      0.142     -7.084      0.000      -1.288      -0.730\n",
      "ar.S.L12       0.9717      0.080     12.174      0.000       0.815       1.128\n",
      "ma.S.L12      -0.6851      0.452     -1.516      0.130      -1.571       0.201\n",
      "sigma2      3.612e+04   1.38e-05   2.61e+09      0.000    3.61e+04    3.61e+04\n",
      "===================================================================================\n",
      "Ljung-Box (L1) (Q):                   0.00   Jarque-Bera (JB):                 0.37\n",
      "Prob(Q):                              0.99   Prob(JB):                         0.83\n",
      "Heteroskedasticity (H):               0.63   Skew:                             0.20\n",
      "Prob(H) (two-sided):                  0.40   Kurtosis:                         2.79\n",
      "===================================================================================\n",
      "\n",
      "Warnings:\n",
      "[1] Covariance matrix calculated using the outer product of gradients (complex-step).\n",
      "[2] Covariance matrix is singular or near-singular, with condition number 4.05e+25. Standard errors may be unstable.\n"
     ]
    }
   ],
   "source": [
    "print(model.summary())"
   ]
  },
  {
   "cell_type": "code",
   "execution_count": 63,
   "id": "c1068a6f",
   "metadata": {},
   "outputs": [
    {
     "data": {
      "text/plain": [
       "2017-07-01     742.003586\n",
       "2017-08-01     646.251202\n",
       "2017-09-01    1117.354705\n",
       "2017-10-01     682.195625\n",
       "2017-11-01    1133.471283\n",
       "2017-12-01    1241.527212\n",
       "Freq: MS, Name: predicted_mean, dtype: float64"
      ]
     },
     "execution_count": 63,
     "metadata": {},
     "output_type": "execute_result"
    }
   ],
   "source": [
    "forecastarima=model.forecast(6)\n",
    "forecastarima"
   ]
  },
  {
   "cell_type": "code",
   "execution_count": 64,
   "id": "3cda696c",
   "metadata": {},
   "outputs": [
    {
     "data": {
      "text/plain": [
       "order_date\n",
       "2017-06-01     826.460291\n",
       "2017-07-01     562.524857\n",
       "2017-08-01     857.881889\n",
       "2017-09-01    1209.508583\n",
       "2017-10-01     875.362728\n",
       "2017-11-01    1277.817759\n",
       "2017-12-01    1256.298672\n",
       "Freq: MS, Name: Sales, dtype: float64"
      ]
     },
     "execution_count": 64,
     "metadata": {},
     "output_type": "execute_result"
    }
   ],
   "source": [
    "test"
   ]
  },
  {
   "cell_type": "code",
   "execution_count": 65,
   "id": "b80951a8",
   "metadata": {},
   "outputs": [
    {
     "name": "stdout",
     "output_type": "stream",
     "text": [
      "MAE 0.1645553766730274\n"
     ]
    }
   ],
   "source": [
    "print('MAE', np.mean(abs(test-forecastarima)/test))"
   ]
  },
  {
   "cell_type": "code",
   "execution_count": 66,
   "id": "62b212da",
   "metadata": {},
   "outputs": [],
   "source": [
    "import itertools"
   ]
  },
  {
   "cell_type": "code",
   "execution_count": 67,
   "id": "faff699a",
   "metadata": {
    "scrolled": true
   },
   "outputs": [
    {
     "name": "stdout",
     "output_type": "stream",
     "text": [
      "Complete for 1/288 MAE=1.0, pdq=(0, 0, 0), seasonal_pdq=(0, 0, 0, 12)\n"
     ]
    },
    {
     "name": "stderr",
     "output_type": "stream",
     "text": [
      "C:\\Users\\User\\anaconda3\\lib\\site-packages\\statsmodels\\base\\model.py:604: ConvergenceWarning: Maximum Likelihood optimization failed to converge. Check mle_retvals\n",
      "  warnings.warn(\"Maximum Likelihood optimization failed to \"\n",
      "C:\\Users\\User\\anaconda3\\lib\\site-packages\\statsmodels\\tsa\\statespace\\sarimax.py:866: UserWarning: Too few observations to estimate starting parameters for seasonal ARMA. All parameters except for variances will be set to zeros.\n",
      "  warn('Too few observations to estimate starting parameters%s.'\n"
     ]
    },
    {
     "name": "stdout",
     "output_type": "stream",
     "text": [
      "Complete for 2/288 MAE=0.9999999999999966, pdq=(0, 0, 0), seasonal_pdq=(0, 0, 1, 12)\n",
      "Complete for 3/288 MAE=0.3854718928299839, pdq=(0, 0, 0), seasonal_pdq=(0, 0, 2, 12)\n",
      "Complete for 4/288 MAE=0.16776890082509155, pdq=(0, 0, 0), seasonal_pdq=(1, 0, 0, 12)\n",
      "Complete for 5/288 MAE=0.15442725690105977, pdq=(0, 0, 0), seasonal_pdq=(1, 0, 1, 12)\n"
     ]
    },
    {
     "name": "stderr",
     "output_type": "stream",
     "text": [
      "C:\\Users\\User\\anaconda3\\lib\\site-packages\\statsmodels\\tsa\\statespace\\sarimax.py:866: UserWarning: Too few observations to estimate starting parameters for seasonal ARMA. All parameters except for variances will be set to zeros.\n",
      "  warn('Too few observations to estimate starting parameters%s.'\n",
      "C:\\Users\\User\\anaconda3\\lib\\site-packages\\statsmodels\\base\\model.py:604: ConvergenceWarning: Maximum Likelihood optimization failed to converge. Check mle_retvals\n",
      "  warnings.warn(\"Maximum Likelihood optimization failed to \"\n"
     ]
    },
    {
     "name": "stdout",
     "output_type": "stream",
     "text": [
      "Complete for 6/288 MAE=0.1692437941046474, pdq=(0, 0, 0), seasonal_pdq=(1, 0, 2, 12)\n",
      "Complete for 7/288 MAE=0.1421793348948034, pdq=(0, 0, 0), seasonal_pdq=(2, 0, 0, 12)\n",
      "Complete for 8/288 MAE=0.15829190683061148, pdq=(0, 0, 0), seasonal_pdq=(2, 0, 1, 12)\n"
     ]
    },
    {
     "name": "stderr",
     "output_type": "stream",
     "text": [
      "C:\\Users\\User\\anaconda3\\lib\\site-packages\\statsmodels\\tsa\\statespace\\sarimax.py:866: UserWarning: Too few observations to estimate starting parameters for seasonal ARMA. All parameters except for variances will be set to zeros.\n",
      "  warn('Too few observations to estimate starting parameters%s.'\n"
     ]
    },
    {
     "name": "stdout",
     "output_type": "stream",
     "text": [
      "Complete for 9/288 MAE=0.16282383705158776, pdq=(0, 0, 0), seasonal_pdq=(2, 0, 2, 12)\n",
      "Complete for 10/288 MAE=0.8952122088250075, pdq=(0, 0, 1), seasonal_pdq=(0, 0, 0, 12)\n"
     ]
    },
    {
     "name": "stderr",
     "output_type": "stream",
     "text": [
      "C:\\Users\\User\\anaconda3\\lib\\site-packages\\statsmodels\\base\\model.py:604: ConvergenceWarning: Maximum Likelihood optimization failed to converge. Check mle_retvals\n",
      "  warnings.warn(\"Maximum Likelihood optimization failed to \"\n",
      "C:\\Users\\User\\anaconda3\\lib\\site-packages\\statsmodels\\tsa\\statespace\\sarimax.py:866: UserWarning: Too few observations to estimate starting parameters for seasonal ARMA. All parameters except for variances will be set to zeros.\n",
      "  warn('Too few observations to estimate starting parameters%s.'\n"
     ]
    },
    {
     "name": "stdout",
     "output_type": "stream",
     "text": [
      "Complete for 11/288 MAE=1.0655210173703482, pdq=(0, 0, 1), seasonal_pdq=(0, 0, 1, 12)\n",
      "Complete for 12/288 MAE=0.41522380839858924, pdq=(0, 0, 1), seasonal_pdq=(0, 0, 2, 12)\n",
      "Complete for 13/288 MAE=0.16952031235344545, pdq=(0, 0, 1), seasonal_pdq=(1, 0, 0, 12)\n"
     ]
    },
    {
     "name": "stderr",
     "output_type": "stream",
     "text": [
      "C:\\Users\\User\\anaconda3\\lib\\site-packages\\statsmodels\\base\\model.py:604: ConvergenceWarning: Maximum Likelihood optimization failed to converge. Check mle_retvals\n",
      "  warnings.warn(\"Maximum Likelihood optimization failed to \"\n",
      "C:\\Users\\User\\anaconda3\\lib\\site-packages\\statsmodels\\tsa\\statespace\\sarimax.py:866: UserWarning: Too few observations to estimate starting parameters for seasonal ARMA. All parameters except for variances will be set to zeros.\n",
      "  warn('Too few observations to estimate starting parameters%s.'\n"
     ]
    },
    {
     "name": "stdout",
     "output_type": "stream",
     "text": [
      "Complete for 14/288 MAE=0.17498089628688787, pdq=(0, 0, 1), seasonal_pdq=(1, 0, 1, 12)\n"
     ]
    },
    {
     "name": "stderr",
     "output_type": "stream",
     "text": [
      "C:\\Users\\User\\anaconda3\\lib\\site-packages\\statsmodels\\base\\model.py:604: ConvergenceWarning: Maximum Likelihood optimization failed to converge. Check mle_retvals\n",
      "  warnings.warn(\"Maximum Likelihood optimization failed to \"\n"
     ]
    },
    {
     "name": "stdout",
     "output_type": "stream",
     "text": [
      "Complete for 15/288 MAE=0.1862320407086132, pdq=(0, 0, 1), seasonal_pdq=(1, 0, 2, 12)\n",
      "Complete for 16/288 MAE=0.15348592210326287, pdq=(0, 0, 1), seasonal_pdq=(2, 0, 0, 12)\n",
      "Complete for 17/288 MAE=0.1610912287308076, pdq=(0, 0, 1), seasonal_pdq=(2, 0, 1, 12)\n"
     ]
    },
    {
     "name": "stderr",
     "output_type": "stream",
     "text": [
      "C:\\Users\\User\\anaconda3\\lib\\site-packages\\statsmodels\\tsa\\statespace\\sarimax.py:866: UserWarning: Too few observations to estimate starting parameters for seasonal ARMA. All parameters except for variances will be set to zeros.\n",
      "  warn('Too few observations to estimate starting parameters%s.'\n",
      "C:\\Users\\User\\anaconda3\\lib\\site-packages\\statsmodels\\base\\model.py:604: ConvergenceWarning: Maximum Likelihood optimization failed to converge. Check mle_retvals\n",
      "  warnings.warn(\"Maximum Likelihood optimization failed to \"\n"
     ]
    },
    {
     "name": "stdout",
     "output_type": "stream",
     "text": [
      "Complete for 18/288 MAE=0.1738148094180194, pdq=(0, 0, 1), seasonal_pdq=(2, 0, 2, 12)\n",
      "Complete for 19/288 MAE=0.8364179380324656, pdq=(0, 0, 2), seasonal_pdq=(0, 0, 0, 12)\n"
     ]
    },
    {
     "name": "stderr",
     "output_type": "stream",
     "text": [
      "C:\\Users\\User\\anaconda3\\lib\\site-packages\\statsmodels\\base\\model.py:604: ConvergenceWarning: Maximum Likelihood optimization failed to converge. Check mle_retvals\n",
      "  warnings.warn(\"Maximum Likelihood optimization failed to \"\n",
      "C:\\Users\\User\\anaconda3\\lib\\site-packages\\statsmodels\\tsa\\statespace\\sarimax.py:866: UserWarning: Too few observations to estimate starting parameters for seasonal ARMA. All parameters except for variances will be set to zeros.\n",
      "  warn('Too few observations to estimate starting parameters%s.'\n"
     ]
    },
    {
     "name": "stdout",
     "output_type": "stream",
     "text": [
      "Complete for 20/288 MAE=0.9880505515230201, pdq=(0, 0, 2), seasonal_pdq=(0, 0, 1, 12)\n",
      "Complete for 21/288 MAE=0.42437598730452236, pdq=(0, 0, 2), seasonal_pdq=(0, 0, 2, 12)\n",
      "Complete for 22/288 MAE=0.17358436640458338, pdq=(0, 0, 2), seasonal_pdq=(1, 0, 0, 12)\n",
      "Complete for 23/288 MAE=0.1644283735132359, pdq=(0, 0, 2), seasonal_pdq=(1, 0, 1, 12)\n"
     ]
    },
    {
     "name": "stderr",
     "output_type": "stream",
     "text": [
      "C:\\Users\\User\\anaconda3\\lib\\site-packages\\statsmodels\\tsa\\statespace\\sarimax.py:866: UserWarning: Too few observations to estimate starting parameters for seasonal ARMA. All parameters except for variances will be set to zeros.\n",
      "  warn('Too few observations to estimate starting parameters%s.'\n",
      "C:\\Users\\User\\anaconda3\\lib\\site-packages\\statsmodels\\base\\model.py:604: ConvergenceWarning: Maximum Likelihood optimization failed to converge. Check mle_retvals\n",
      "  warnings.warn(\"Maximum Likelihood optimization failed to \"\n"
     ]
    },
    {
     "name": "stdout",
     "output_type": "stream",
     "text": [
      "Complete for 24/288 MAE=0.19685962346959432, pdq=(0, 0, 2), seasonal_pdq=(1, 0, 2, 12)\n",
      "Complete for 25/288 MAE=0.15353318388778806, pdq=(0, 0, 2), seasonal_pdq=(2, 0, 0, 12)\n"
     ]
    },
    {
     "name": "stderr",
     "output_type": "stream",
     "text": [
      "C:\\Users\\User\\anaconda3\\lib\\site-packages\\statsmodels\\base\\model.py:604: ConvergenceWarning: Maximum Likelihood optimization failed to converge. Check mle_retvals\n",
      "  warnings.warn(\"Maximum Likelihood optimization failed to \"\n",
      "C:\\Users\\User\\anaconda3\\lib\\site-packages\\statsmodels\\tsa\\statespace\\sarimax.py:866: UserWarning: Too few observations to estimate starting parameters for seasonal ARMA. All parameters except for variances will be set to zeros.\n",
      "  warn('Too few observations to estimate starting parameters%s.'\n"
     ]
    },
    {
     "name": "stdout",
     "output_type": "stream",
     "text": [
      "Complete for 26/288 MAE=0.15867768805553334, pdq=(0, 0, 2), seasonal_pdq=(2, 0, 1, 12)\n"
     ]
    },
    {
     "name": "stderr",
     "output_type": "stream",
     "text": [
      "C:\\Users\\User\\anaconda3\\lib\\site-packages\\statsmodels\\base\\model.py:604: ConvergenceWarning: Maximum Likelihood optimization failed to converge. Check mle_retvals\n",
      "  warnings.warn(\"Maximum Likelihood optimization failed to \"\n"
     ]
    },
    {
     "name": "stdout",
     "output_type": "stream",
     "text": [
      "Complete for 27/288 MAE=0.20529728717150952, pdq=(0, 0, 2), seasonal_pdq=(2, 0, 2, 12)\n",
      "Complete for 28/288 MAE=0.7767220899475739, pdq=(0, 0, 3), seasonal_pdq=(0, 0, 0, 12)\n"
     ]
    },
    {
     "name": "stderr",
     "output_type": "stream",
     "text": [
      "C:\\Users\\User\\anaconda3\\lib\\site-packages\\statsmodels\\base\\model.py:604: ConvergenceWarning: Maximum Likelihood optimization failed to converge. Check mle_retvals\n",
      "  warnings.warn(\"Maximum Likelihood optimization failed to \"\n",
      "C:\\Users\\User\\anaconda3\\lib\\site-packages\\statsmodels\\tsa\\statespace\\sarimax.py:866: UserWarning: Too few observations to estimate starting parameters for seasonal ARMA. All parameters except for variances will be set to zeros.\n",
      "  warn('Too few observations to estimate starting parameters%s.'\n"
     ]
    },
    {
     "name": "stdout",
     "output_type": "stream",
     "text": [
      "Complete for 29/288 MAE=0.9232023803275268, pdq=(0, 0, 3), seasonal_pdq=(0, 0, 1, 12)\n",
      "Complete for 30/288 MAE=0.40219566825362424, pdq=(0, 0, 3), seasonal_pdq=(0, 0, 2, 12)\n",
      "Complete for 31/288 MAE=0.1651655143018159, pdq=(0, 0, 3), seasonal_pdq=(1, 0, 0, 12)\n",
      "Complete for 32/288 MAE=0.1864485151651316, pdq=(0, 0, 3), seasonal_pdq=(1, 0, 1, 12)\n"
     ]
    },
    {
     "name": "stderr",
     "output_type": "stream",
     "text": [
      "C:\\Users\\User\\anaconda3\\lib\\site-packages\\statsmodels\\tsa\\statespace\\sarimax.py:866: UserWarning: Too few observations to estimate starting parameters for seasonal ARMA. All parameters except for variances will be set to zeros.\n",
      "  warn('Too few observations to estimate starting parameters%s.'\n",
      "C:\\Users\\User\\anaconda3\\lib\\site-packages\\statsmodels\\base\\model.py:604: ConvergenceWarning: Maximum Likelihood optimization failed to converge. Check mle_retvals\n",
      "  warnings.warn(\"Maximum Likelihood optimization failed to \"\n"
     ]
    },
    {
     "name": "stdout",
     "output_type": "stream",
     "text": [
      "Complete for 33/288 MAE=0.19671837737607648, pdq=(0, 0, 3), seasonal_pdq=(1, 0, 2, 12)\n",
      "Complete for 34/288 MAE=0.16943300246332627, pdq=(0, 0, 3), seasonal_pdq=(2, 0, 0, 12)\n",
      "Complete for 35/288 MAE=0.1262869008271851, pdq=(0, 0, 3), seasonal_pdq=(2, 0, 1, 12)\n"
     ]
    },
    {
     "name": "stderr",
     "output_type": "stream",
     "text": [
      "C:\\Users\\User\\anaconda3\\lib\\site-packages\\statsmodels\\tsa\\statespace\\sarimax.py:866: UserWarning: Too few observations to estimate starting parameters for seasonal ARMA. All parameters except for variances will be set to zeros.\n",
      "  warn('Too few observations to estimate starting parameters%s.'\n",
      "C:\\Users\\User\\anaconda3\\lib\\site-packages\\statsmodels\\base\\model.py:604: ConvergenceWarning: Maximum Likelihood optimization failed to converge. Check mle_retvals\n",
      "  warnings.warn(\"Maximum Likelihood optimization failed to \"\n"
     ]
    },
    {
     "name": "stdout",
     "output_type": "stream",
     "text": [
      "Complete for 36/288 MAE=0.18097091214719582, pdq=(0, 0, 3), seasonal_pdq=(2, 0, 2, 12)\n",
      "Complete for 37/288 MAE=0.26229323976029423, pdq=(0, 1, 0), seasonal_pdq=(0, 0, 0, 12)\n"
     ]
    },
    {
     "name": "stderr",
     "output_type": "stream",
     "text": [
      "C:\\Users\\User\\anaconda3\\lib\\site-packages\\statsmodels\\base\\model.py:604: ConvergenceWarning: Maximum Likelihood optimization failed to converge. Check mle_retvals\n",
      "  warnings.warn(\"Maximum Likelihood optimization failed to \"\n",
      "C:\\Users\\User\\anaconda3\\lib\\site-packages\\statsmodels\\tsa\\statespace\\sarimax.py:866: UserWarning: Too few observations to estimate starting parameters for seasonal ARMA. All parameters except for variances will be set to zeros.\n",
      "  warn('Too few observations to estimate starting parameters%s.'\n"
     ]
    },
    {
     "name": "stdout",
     "output_type": "stream",
     "text": [
      "Complete for 38/288 MAE=0.26229323976029745, pdq=(0, 1, 0), seasonal_pdq=(0, 0, 1, 12)\n",
      "Complete for 39/288 MAE=0.17184313987959202, pdq=(0, 1, 0), seasonal_pdq=(0, 0, 2, 12)\n",
      "Complete for 40/288 MAE=0.16204210151019643, pdq=(0, 1, 0), seasonal_pdq=(1, 0, 0, 12)\n"
     ]
    },
    {
     "name": "stderr",
     "output_type": "stream",
     "text": [
      "C:\\Users\\User\\anaconda3\\lib\\site-packages\\statsmodels\\base\\model.py:604: ConvergenceWarning: Maximum Likelihood optimization failed to converge. Check mle_retvals\n",
      "  warnings.warn(\"Maximum Likelihood optimization failed to \"\n",
      "C:\\Users\\User\\anaconda3\\lib\\site-packages\\statsmodels\\tsa\\statespace\\sarimax.py:866: UserWarning: Too few observations to estimate starting parameters for seasonal ARMA. All parameters except for variances will be set to zeros.\n",
      "  warn('Too few observations to estimate starting parameters%s.'\n"
     ]
    },
    {
     "name": "stdout",
     "output_type": "stream",
     "text": [
      "Complete for 41/288 MAE=0.7597631743753501, pdq=(0, 1, 0), seasonal_pdq=(1, 0, 1, 12)\n",
      "Complete for 42/288 MAE=0.23548282426637215, pdq=(0, 1, 0), seasonal_pdq=(1, 0, 2, 12)\n",
      "Complete for 43/288 MAE=0.143042505570168, pdq=(0, 1, 0), seasonal_pdq=(2, 0, 0, 12)\n"
     ]
    },
    {
     "name": "stderr",
     "output_type": "stream",
     "text": [
      "C:\\Users\\User\\anaconda3\\lib\\site-packages\\statsmodels\\base\\model.py:604: ConvergenceWarning: Maximum Likelihood optimization failed to converge. Check mle_retvals\n",
      "  warnings.warn(\"Maximum Likelihood optimization failed to \"\n",
      "C:\\Users\\User\\anaconda3\\lib\\site-packages\\statsmodels\\tsa\\statespace\\sarimax.py:866: UserWarning: Too few observations to estimate starting parameters for seasonal ARMA. All parameters except for variances will be set to zeros.\n",
      "  warn('Too few observations to estimate starting parameters%s.'\n"
     ]
    },
    {
     "name": "stdout",
     "output_type": "stream",
     "text": [
      "Complete for 44/288 MAE=0.31363885091683946, pdq=(0, 1, 0), seasonal_pdq=(2, 0, 1, 12)\n"
     ]
    },
    {
     "name": "stderr",
     "output_type": "stream",
     "text": [
      "C:\\Users\\User\\anaconda3\\lib\\site-packages\\statsmodels\\base\\model.py:604: ConvergenceWarning: Maximum Likelihood optimization failed to converge. Check mle_retvals\n",
      "  warnings.warn(\"Maximum Likelihood optimization failed to \"\n",
      "C:\\Users\\User\\anaconda3\\lib\\site-packages\\statsmodels\\base\\model.py:604: ConvergenceWarning: Maximum Likelihood optimization failed to converge. Check mle_retvals\n",
      "  warnings.warn(\"Maximum Likelihood optimization failed to \"\n",
      "C:\\Users\\User\\anaconda3\\lib\\site-packages\\statsmodels\\tsa\\statespace\\sarimax.py:866: UserWarning: Too few observations to estimate starting parameters for seasonal ARMA. All parameters except for variances will be set to zeros.\n",
      "  warn('Too few observations to estimate starting parameters%s.'\n"
     ]
    },
    {
     "name": "stdout",
     "output_type": "stream",
     "text": [
      "Complete for 45/288 MAE=0.1576915483046828, pdq=(0, 1, 0), seasonal_pdq=(2, 0, 2, 12)\n",
      "Complete for 46/288 MAE=0.2956287243168784, pdq=(0, 1, 1), seasonal_pdq=(0, 0, 0, 12)\n",
      "Complete for 47/288 MAE=109.69820217021017, pdq=(0, 1, 1), seasonal_pdq=(0, 0, 1, 12)\n",
      "Complete for 48/288 MAE=0.16672577038668143, pdq=(0, 1, 1), seasonal_pdq=(0, 0, 2, 12)\n",
      "Complete for 49/288 MAE=0.16784040589607455, pdq=(0, 1, 1), seasonal_pdq=(1, 0, 0, 12)\n"
     ]
    },
    {
     "name": "stderr",
     "output_type": "stream",
     "text": [
      "C:\\Users\\User\\anaconda3\\lib\\site-packages\\statsmodels\\base\\model.py:604: ConvergenceWarning: Maximum Likelihood optimization failed to converge. Check mle_retvals\n",
      "  warnings.warn(\"Maximum Likelihood optimization failed to \"\n",
      "C:\\Users\\User\\anaconda3\\lib\\site-packages\\statsmodels\\tsa\\statespace\\sarimax.py:866: UserWarning: Too few observations to estimate starting parameters for seasonal ARMA. All parameters except for variances will be set to zeros.\n",
      "  warn('Too few observations to estimate starting parameters%s.'\n"
     ]
    },
    {
     "name": "stdout",
     "output_type": "stream",
     "text": [
      "Complete for 50/288 MAE=2976095.6099840216, pdq=(0, 1, 1), seasonal_pdq=(1, 0, 1, 12)\n",
      "Complete for 51/288 MAE=0.17978355302971427, pdq=(0, 1, 1), seasonal_pdq=(1, 0, 2, 12)\n",
      "Complete for 52/288 MAE=0.15514908142819017, pdq=(0, 1, 1), seasonal_pdq=(2, 0, 0, 12)\n",
      "Complete for 53/288 MAE=0.3232885273497102, pdq=(0, 1, 1), seasonal_pdq=(2, 0, 1, 12)\n"
     ]
    },
    {
     "name": "stderr",
     "output_type": "stream",
     "text": [
      "C:\\Users\\User\\anaconda3\\lib\\site-packages\\statsmodels\\tsa\\statespace\\sarimax.py:866: UserWarning: Too few observations to estimate starting parameters for seasonal ARMA. All parameters except for variances will be set to zeros.\n",
      "  warn('Too few observations to estimate starting parameters%s.'\n",
      "C:\\Users\\User\\anaconda3\\lib\\site-packages\\statsmodels\\base\\model.py:604: ConvergenceWarning: Maximum Likelihood optimization failed to converge. Check mle_retvals\n",
      "  warnings.warn(\"Maximum Likelihood optimization failed to \"\n"
     ]
    },
    {
     "name": "stdout",
     "output_type": "stream",
     "text": [
      "Complete for 54/288 MAE=0.1627421138014182, pdq=(0, 1, 1), seasonal_pdq=(2, 0, 2, 12)\n",
      "Complete for 55/288 MAE=0.2944486958236613, pdq=(0, 1, 2), seasonal_pdq=(0, 0, 0, 12)\n"
     ]
    },
    {
     "name": "stderr",
     "output_type": "stream",
     "text": [
      "C:\\Users\\User\\anaconda3\\lib\\site-packages\\statsmodels\\base\\model.py:604: ConvergenceWarning: Maximum Likelihood optimization failed to converge. Check mle_retvals\n",
      "  warnings.warn(\"Maximum Likelihood optimization failed to \"\n",
      "C:\\Users\\User\\anaconda3\\lib\\site-packages\\statsmodels\\tsa\\statespace\\sarimax.py:866: UserWarning: Too few observations to estimate starting parameters for seasonal ARMA. All parameters except for variances will be set to zeros.\n",
      "  warn('Too few observations to estimate starting parameters%s.'\n"
     ]
    },
    {
     "name": "stdout",
     "output_type": "stream",
     "text": [
      "Complete for 56/288 MAE=5187019970.598052, pdq=(0, 1, 2), seasonal_pdq=(0, 0, 1, 12)\n",
      "Complete for 57/288 MAE=0.1693695976800048, pdq=(0, 1, 2), seasonal_pdq=(0, 0, 2, 12)\n",
      "Complete for 58/288 MAE=0.1654235403654171, pdq=(0, 1, 2), seasonal_pdq=(1, 0, 0, 12)\n"
     ]
    },
    {
     "name": "stderr",
     "output_type": "stream",
     "text": [
      "C:\\Users\\User\\anaconda3\\lib\\site-packages\\statsmodels\\base\\model.py:604: ConvergenceWarning: Maximum Likelihood optimization failed to converge. Check mle_retvals\n",
      "  warnings.warn(\"Maximum Likelihood optimization failed to \"\n",
      "C:\\Users\\User\\anaconda3\\lib\\site-packages\\statsmodels\\tsa\\statespace\\sarimax.py:866: UserWarning: Too few observations to estimate starting parameters for seasonal ARMA. All parameters except for variances will be set to zeros.\n",
      "  warn('Too few observations to estimate starting parameters%s.'\n"
     ]
    },
    {
     "name": "stdout",
     "output_type": "stream",
     "text": [
      "Complete for 59/288 MAE=9883380107428064.0, pdq=(0, 1, 2), seasonal_pdq=(1, 0, 1, 12)\n",
      "Complete for 60/288 MAE=0.1868537496834187, pdq=(0, 1, 2), seasonal_pdq=(1, 0, 2, 12)\n",
      "Complete for 61/288 MAE=0.1732288988044579, pdq=(0, 1, 2), seasonal_pdq=(2, 0, 0, 12)\n"
     ]
    },
    {
     "name": "stderr",
     "output_type": "stream",
     "text": [
      "C:\\Users\\User\\anaconda3\\lib\\site-packages\\statsmodels\\base\\model.py:604: ConvergenceWarning: Maximum Likelihood optimization failed to converge. Check mle_retvals\n",
      "  warnings.warn(\"Maximum Likelihood optimization failed to \"\n",
      "C:\\Users\\User\\anaconda3\\lib\\site-packages\\statsmodels\\tsa\\statespace\\sarimax.py:866: UserWarning: Too few observations to estimate starting parameters for seasonal ARMA. All parameters except for variances will be set to zeros.\n",
      "  warn('Too few observations to estimate starting parameters%s.'\n"
     ]
    },
    {
     "name": "stdout",
     "output_type": "stream",
     "text": [
      "Complete for 62/288 MAE=0.3123566476058682, pdq=(0, 1, 2), seasonal_pdq=(2, 0, 1, 12)\n",
      "Complete for 63/288 MAE=0.174501323281279, pdq=(0, 1, 2), seasonal_pdq=(2, 0, 2, 12)\n",
      "Complete for 64/288 MAE=0.2958095695557339, pdq=(0, 1, 3), seasonal_pdq=(0, 0, 0, 12)\n"
     ]
    },
    {
     "name": "stderr",
     "output_type": "stream",
     "text": [
      "C:\\Users\\User\\anaconda3\\lib\\site-packages\\statsmodels\\base\\model.py:604: ConvergenceWarning: Maximum Likelihood optimization failed to converge. Check mle_retvals\n",
      "  warnings.warn(\"Maximum Likelihood optimization failed to \"\n",
      "C:\\Users\\User\\anaconda3\\lib\\site-packages\\statsmodels\\tsa\\statespace\\sarimax.py:866: UserWarning: Too few observations to estimate starting parameters for seasonal ARMA. All parameters except for variances will be set to zeros.\n",
      "  warn('Too few observations to estimate starting parameters%s.'\n"
     ]
    },
    {
     "name": "stdout",
     "output_type": "stream",
     "text": [
      "Complete for 65/288 MAE=993863.2711064887, pdq=(0, 1, 3), seasonal_pdq=(0, 0, 1, 12)\n",
      "Complete for 66/288 MAE=0.157192694829588, pdq=(0, 1, 3), seasonal_pdq=(0, 0, 2, 12)\n",
      "Complete for 67/288 MAE=0.1620495610584887, pdq=(0, 1, 3), seasonal_pdq=(1, 0, 0, 12)\n"
     ]
    },
    {
     "name": "stderr",
     "output_type": "stream",
     "text": [
      "C:\\Users\\User\\anaconda3\\lib\\site-packages\\statsmodels\\base\\model.py:604: ConvergenceWarning: Maximum Likelihood optimization failed to converge. Check mle_retvals\n",
      "  warnings.warn(\"Maximum Likelihood optimization failed to \"\n",
      "C:\\Users\\User\\anaconda3\\lib\\site-packages\\statsmodels\\tsa\\statespace\\sarimax.py:866: UserWarning: Too few observations to estimate starting parameters for seasonal ARMA. All parameters except for variances will be set to zeros.\n",
      "  warn('Too few observations to estimate starting parameters%s.'\n"
     ]
    },
    {
     "name": "stdout",
     "output_type": "stream",
     "text": [
      "Complete for 68/288 MAE=8601533103.388962, pdq=(0, 1, 3), seasonal_pdq=(1, 0, 1, 12)\n",
      "Complete for 69/288 MAE=0.22255399379084237, pdq=(0, 1, 3), seasonal_pdq=(1, 0, 2, 12)\n",
      "Complete for 70/288 MAE=0.1733740716263434, pdq=(0, 1, 3), seasonal_pdq=(2, 0, 0, 12)\n",
      "Complete for 71/288 MAE=0.3003522152804598, pdq=(0, 1, 3), seasonal_pdq=(2, 0, 1, 12)\n"
     ]
    },
    {
     "name": "stderr",
     "output_type": "stream",
     "text": [
      "C:\\Users\\User\\anaconda3\\lib\\site-packages\\statsmodels\\tsa\\statespace\\sarimax.py:866: UserWarning: Too few observations to estimate starting parameters for seasonal ARMA. All parameters except for variances will be set to zeros.\n",
      "  warn('Too few observations to estimate starting parameters%s.'\n",
      "C:\\Users\\User\\anaconda3\\lib\\site-packages\\statsmodels\\base\\model.py:604: ConvergenceWarning: Maximum Likelihood optimization failed to converge. Check mle_retvals\n",
      "  warnings.warn(\"Maximum Likelihood optimization failed to \"\n"
     ]
    },
    {
     "name": "stdout",
     "output_type": "stream",
     "text": [
      "Complete for 72/288 MAE=0.20536191045090293, pdq=(0, 1, 3), seasonal_pdq=(2, 0, 2, 12)\n",
      "Complete for 73/288 MAE=0.4525668132989166, pdq=(1, 0, 0), seasonal_pdq=(0, 0, 0, 12)\n"
     ]
    },
    {
     "name": "stderr",
     "output_type": "stream",
     "text": [
      "C:\\Users\\User\\anaconda3\\lib\\site-packages\\statsmodels\\base\\model.py:604: ConvergenceWarning: Maximum Likelihood optimization failed to converge. Check mle_retvals\n",
      "  warnings.warn(\"Maximum Likelihood optimization failed to \"\n",
      "C:\\Users\\User\\anaconda3\\lib\\site-packages\\statsmodels\\tsa\\statespace\\sarimax.py:866: UserWarning: Too few observations to estimate starting parameters for seasonal ARMA. All parameters except for variances will be set to zeros.\n",
      "  warn('Too few observations to estimate starting parameters%s.'\n"
     ]
    },
    {
     "name": "stdout",
     "output_type": "stream",
     "text": [
      "Complete for 74/288 MAE=0.9225143413629859, pdq=(1, 0, 0), seasonal_pdq=(0, 0, 1, 12)\n",
      "Complete for 75/288 MAE=0.24198942386982925, pdq=(1, 0, 0), seasonal_pdq=(0, 0, 2, 12)\n",
      "Complete for 76/288 MAE=0.1727213604079518, pdq=(1, 0, 0), seasonal_pdq=(1, 0, 0, 12)\n",
      "Complete for 77/288 MAE=0.1600908743026592, pdq=(1, 0, 0), seasonal_pdq=(1, 0, 1, 12)\n"
     ]
    },
    {
     "name": "stderr",
     "output_type": "stream",
     "text": [
      "C:\\Users\\User\\anaconda3\\lib\\site-packages\\statsmodels\\tsa\\statespace\\sarimax.py:866: UserWarning: Too few observations to estimate starting parameters for seasonal ARMA. All parameters except for variances will be set to zeros.\n",
      "  warn('Too few observations to estimate starting parameters%s.'\n",
      "C:\\Users\\User\\anaconda3\\lib\\site-packages\\statsmodels\\base\\model.py:604: ConvergenceWarning: Maximum Likelihood optimization failed to converge. Check mle_retvals\n",
      "  warnings.warn(\"Maximum Likelihood optimization failed to \"\n"
     ]
    },
    {
     "name": "stdout",
     "output_type": "stream",
     "text": [
      "Complete for 78/288 MAE=0.17745442006509124, pdq=(1, 0, 0), seasonal_pdq=(1, 0, 2, 12)\n",
      "Complete for 79/288 MAE=0.1481454745452352, pdq=(1, 0, 0), seasonal_pdq=(2, 0, 0, 12)\n",
      "Complete for 80/288 MAE=0.1652502105059949, pdq=(1, 0, 0), seasonal_pdq=(2, 0, 1, 12)\n"
     ]
    },
    {
     "name": "stderr",
     "output_type": "stream",
     "text": [
      "C:\\Users\\User\\anaconda3\\lib\\site-packages\\statsmodels\\tsa\\statespace\\sarimax.py:866: UserWarning: Too few observations to estimate starting parameters for seasonal ARMA. All parameters except for variances will be set to zeros.\n",
      "  warn('Too few observations to estimate starting parameters%s.'\n",
      "C:\\Users\\User\\anaconda3\\lib\\site-packages\\statsmodels\\base\\model.py:604: ConvergenceWarning: Maximum Likelihood optimization failed to converge. Check mle_retvals\n",
      "  warnings.warn(\"Maximum Likelihood optimization failed to \"\n",
      "C:\\Users\\User\\anaconda3\\lib\\site-packages\\statsmodels\\base\\model.py:604: ConvergenceWarning: Maximum Likelihood optimization failed to converge. Check mle_retvals\n",
      "  warnings.warn(\"Maximum Likelihood optimization failed to \"\n"
     ]
    },
    {
     "name": "stdout",
     "output_type": "stream",
     "text": [
      "Complete for 81/288 MAE=0.16261016789377922, pdq=(1, 0, 0), seasonal_pdq=(2, 0, 2, 12)\n",
      "Complete for 82/288 MAE=0.2840616380748084, pdq=(1, 0, 1), seasonal_pdq=(0, 0, 0, 12)\n",
      "Complete for 83/288 MAE=1.147476101910318, pdq=(1, 0, 1), seasonal_pdq=(0, 0, 1, 12)\n"
     ]
    },
    {
     "name": "stderr",
     "output_type": "stream",
     "text": [
      "C:\\Users\\User\\anaconda3\\lib\\site-packages\\statsmodels\\tsa\\statespace\\sarimax.py:866: UserWarning: Too few observations to estimate starting parameters for seasonal ARMA. All parameters except for variances will be set to zeros.\n",
      "  warn('Too few observations to estimate starting parameters%s.'\n"
     ]
    },
    {
     "name": "stdout",
     "output_type": "stream",
     "text": [
      "Complete for 84/288 MAE=0.1778796797817198, pdq=(1, 0, 1), seasonal_pdq=(0, 0, 2, 12)\n",
      "Complete for 85/288 MAE=0.1729696230003048, pdq=(1, 0, 1), seasonal_pdq=(1, 0, 0, 12)\n",
      "Complete for 86/288 MAE=0.1588445791957596, pdq=(1, 0, 1), seasonal_pdq=(1, 0, 1, 12)\n"
     ]
    },
    {
     "name": "stderr",
     "output_type": "stream",
     "text": [
      "C:\\Users\\User\\anaconda3\\lib\\site-packages\\statsmodels\\tsa\\statespace\\sarimax.py:866: UserWarning: Too few observations to estimate starting parameters for seasonal ARMA. All parameters except for variances will be set to zeros.\n",
      "  warn('Too few observations to estimate starting parameters%s.'\n",
      "C:\\Users\\User\\anaconda3\\lib\\site-packages\\statsmodels\\base\\model.py:604: ConvergenceWarning: Maximum Likelihood optimization failed to converge. Check mle_retvals\n",
      "  warnings.warn(\"Maximum Likelihood optimization failed to \"\n"
     ]
    },
    {
     "name": "stdout",
     "output_type": "stream",
     "text": [
      "Complete for 87/288 MAE=0.19298032513269447, pdq=(1, 0, 1), seasonal_pdq=(1, 0, 2, 12)\n",
      "Complete for 88/288 MAE=0.14725627451163084, pdq=(1, 0, 1), seasonal_pdq=(2, 0, 0, 12)\n",
      "Complete for 89/288 MAE=0.17565479705476927, pdq=(1, 0, 1), seasonal_pdq=(2, 0, 1, 12)\n"
     ]
    },
    {
     "name": "stderr",
     "output_type": "stream",
     "text": [
      "C:\\Users\\User\\anaconda3\\lib\\site-packages\\statsmodels\\tsa\\statespace\\sarimax.py:866: UserWarning: Too few observations to estimate starting parameters for seasonal ARMA. All parameters except for variances will be set to zeros.\n",
      "  warn('Too few observations to estimate starting parameters%s.'\n",
      "C:\\Users\\User\\anaconda3\\lib\\site-packages\\statsmodels\\base\\model.py:604: ConvergenceWarning: Maximum Likelihood optimization failed to converge. Check mle_retvals\n",
      "  warnings.warn(\"Maximum Likelihood optimization failed to \"\n"
     ]
    },
    {
     "name": "stdout",
     "output_type": "stream",
     "text": [
      "Complete for 90/288 MAE=0.17242496503086122, pdq=(1, 0, 1), seasonal_pdq=(2, 0, 2, 12)\n",
      "Complete for 91/288 MAE=0.300931501252999, pdq=(1, 0, 2), seasonal_pdq=(0, 0, 0, 12)\n"
     ]
    },
    {
     "name": "stderr",
     "output_type": "stream",
     "text": [
      "C:\\Users\\User\\anaconda3\\lib\\site-packages\\statsmodels\\base\\model.py:604: ConvergenceWarning: Maximum Likelihood optimization failed to converge. Check mle_retvals\n",
      "  warnings.warn(\"Maximum Likelihood optimization failed to \"\n",
      "C:\\Users\\User\\anaconda3\\lib\\site-packages\\statsmodels\\tsa\\statespace\\sarimax.py:866: UserWarning: Too few observations to estimate starting parameters for seasonal ARMA. All parameters except for variances will be set to zeros.\n",
      "  warn('Too few observations to estimate starting parameters%s.'\n"
     ]
    },
    {
     "name": "stdout",
     "output_type": "stream",
     "text": [
      "Complete for 92/288 MAE=2094877.624341882, pdq=(1, 0, 2), seasonal_pdq=(0, 0, 1, 12)\n"
     ]
    },
    {
     "name": "stderr",
     "output_type": "stream",
     "text": [
      "C:\\Users\\User\\anaconda3\\lib\\site-packages\\statsmodels\\base\\model.py:604: ConvergenceWarning: Maximum Likelihood optimization failed to converge. Check mle_retvals\n",
      "  warnings.warn(\"Maximum Likelihood optimization failed to \"\n"
     ]
    },
    {
     "name": "stdout",
     "output_type": "stream",
     "text": [
      "Complete for 93/288 MAE=0.20754635924751327, pdq=(1, 0, 2), seasonal_pdq=(0, 0, 2, 12)\n",
      "Complete for 94/288 MAE=0.17370820466767853, pdq=(1, 0, 2), seasonal_pdq=(1, 0, 0, 12)\n",
      "Complete for 95/288 MAE=0.15774157988673346, pdq=(1, 0, 2), seasonal_pdq=(1, 0, 1, 12)\n"
     ]
    },
    {
     "name": "stderr",
     "output_type": "stream",
     "text": [
      "C:\\Users\\User\\anaconda3\\lib\\site-packages\\statsmodels\\tsa\\statespace\\sarimax.py:866: UserWarning: Too few observations to estimate starting parameters for seasonal ARMA. All parameters except for variances will be set to zeros.\n",
      "  warn('Too few observations to estimate starting parameters%s.'\n",
      "C:\\Users\\User\\anaconda3\\lib\\site-packages\\statsmodels\\base\\model.py:604: ConvergenceWarning: Maximum Likelihood optimization failed to converge. Check mle_retvals\n",
      "  warnings.warn(\"Maximum Likelihood optimization failed to \"\n"
     ]
    },
    {
     "name": "stdout",
     "output_type": "stream",
     "text": [
      "Complete for 96/288 MAE=0.21568329940273281, pdq=(1, 0, 2), seasonal_pdq=(1, 0, 2, 12)\n",
      "Complete for 97/288 MAE=0.17358746534383815, pdq=(1, 0, 2), seasonal_pdq=(2, 0, 0, 12)\n",
      "Complete for 98/288 MAE=0.1681522550490078, pdq=(1, 0, 2), seasonal_pdq=(2, 0, 1, 12)\n"
     ]
    },
    {
     "name": "stderr",
     "output_type": "stream",
     "text": [
      "C:\\Users\\User\\anaconda3\\lib\\site-packages\\statsmodels\\tsa\\statespace\\sarimax.py:866: UserWarning: Too few observations to estimate starting parameters for seasonal ARMA. All parameters except for variances will be set to zeros.\n",
      "  warn('Too few observations to estimate starting parameters%s.'\n",
      "C:\\Users\\User\\anaconda3\\lib\\site-packages\\statsmodels\\base\\model.py:604: ConvergenceWarning: Maximum Likelihood optimization failed to converge. Check mle_retvals\n",
      "  warnings.warn(\"Maximum Likelihood optimization failed to \"\n"
     ]
    },
    {
     "name": "stdout",
     "output_type": "stream",
     "text": [
      "Complete for 99/288 MAE=0.2049804331172782, pdq=(1, 0, 2), seasonal_pdq=(2, 0, 2, 12)\n",
      "Complete for 100/288 MAE=0.2978914393023434, pdq=(1, 0, 3), seasonal_pdq=(0, 0, 0, 12)\n"
     ]
    },
    {
     "name": "stderr",
     "output_type": "stream",
     "text": [
      "C:\\Users\\User\\anaconda3\\lib\\site-packages\\statsmodels\\base\\model.py:604: ConvergenceWarning: Maximum Likelihood optimization failed to converge. Check mle_retvals\n",
      "  warnings.warn(\"Maximum Likelihood optimization failed to \"\n",
      "C:\\Users\\User\\anaconda3\\lib\\site-packages\\statsmodels\\tsa\\statespace\\sarimax.py:866: UserWarning: Too few observations to estimate starting parameters for seasonal ARMA. All parameters except for variances will be set to zeros.\n",
      "  warn('Too few observations to estimate starting parameters%s.'\n"
     ]
    },
    {
     "name": "stdout",
     "output_type": "stream",
     "text": [
      "Complete for 101/288 MAE=39.309734539167955, pdq=(1, 0, 3), seasonal_pdq=(0, 0, 1, 12)\n"
     ]
    },
    {
     "name": "stderr",
     "output_type": "stream",
     "text": [
      "C:\\Users\\User\\anaconda3\\lib\\site-packages\\statsmodels\\base\\model.py:604: ConvergenceWarning: Maximum Likelihood optimization failed to converge. Check mle_retvals\n",
      "  warnings.warn(\"Maximum Likelihood optimization failed to \"\n"
     ]
    },
    {
     "name": "stdout",
     "output_type": "stream",
     "text": [
      "Complete for 102/288 MAE=0.23008792941324363, pdq=(1, 0, 3), seasonal_pdq=(0, 0, 2, 12)\n"
     ]
    },
    {
     "name": "stderr",
     "output_type": "stream",
     "text": [
      "C:\\Users\\User\\anaconda3\\lib\\site-packages\\statsmodels\\base\\model.py:604: ConvergenceWarning: Maximum Likelihood optimization failed to converge. Check mle_retvals\n",
      "  warnings.warn(\"Maximum Likelihood optimization failed to \"\n"
     ]
    },
    {
     "name": "stdout",
     "output_type": "stream",
     "text": [
      "Complete for 103/288 MAE=0.18020020611193024, pdq=(1, 0, 3), seasonal_pdq=(1, 0, 0, 12)\n"
     ]
    },
    {
     "name": "stderr",
     "output_type": "stream",
     "text": [
      "C:\\Users\\User\\anaconda3\\lib\\site-packages\\statsmodels\\base\\model.py:604: ConvergenceWarning: Maximum Likelihood optimization failed to converge. Check mle_retvals\n",
      "  warnings.warn(\"Maximum Likelihood optimization failed to \"\n",
      "C:\\Users\\User\\anaconda3\\lib\\site-packages\\statsmodels\\tsa\\statespace\\sarimax.py:866: UserWarning: Too few observations to estimate starting parameters for seasonal ARMA. All parameters except for variances will be set to zeros.\n",
      "  warn('Too few observations to estimate starting parameters%s.'\n"
     ]
    },
    {
     "name": "stdout",
     "output_type": "stream",
     "text": [
      "Complete for 104/288 MAE=0.17397184704989663, pdq=(1, 0, 3), seasonal_pdq=(1, 0, 1, 12)\n"
     ]
    },
    {
     "name": "stderr",
     "output_type": "stream",
     "text": [
      "C:\\Users\\User\\anaconda3\\lib\\site-packages\\statsmodels\\base\\model.py:604: ConvergenceWarning: Maximum Likelihood optimization failed to converge. Check mle_retvals\n",
      "  warnings.warn(\"Maximum Likelihood optimization failed to \"\n"
     ]
    },
    {
     "name": "stdout",
     "output_type": "stream",
     "text": [
      "Complete for 105/288 MAE=0.21285675428808304, pdq=(1, 0, 3), seasonal_pdq=(1, 0, 2, 12)\n"
     ]
    },
    {
     "name": "stderr",
     "output_type": "stream",
     "text": [
      "C:\\Users\\User\\anaconda3\\lib\\site-packages\\statsmodels\\base\\model.py:604: ConvergenceWarning: Maximum Likelihood optimization failed to converge. Check mle_retvals\n",
      "  warnings.warn(\"Maximum Likelihood optimization failed to \"\n"
     ]
    },
    {
     "name": "stdout",
     "output_type": "stream",
     "text": [
      "Complete for 106/288 MAE=0.18521185263735185, pdq=(1, 0, 3), seasonal_pdq=(2, 0, 0, 12)\n"
     ]
    },
    {
     "name": "stderr",
     "output_type": "stream",
     "text": [
      "C:\\Users\\User\\anaconda3\\lib\\site-packages\\statsmodels\\base\\model.py:604: ConvergenceWarning: Maximum Likelihood optimization failed to converge. Check mle_retvals\n",
      "  warnings.warn(\"Maximum Likelihood optimization failed to \"\n",
      "C:\\Users\\User\\anaconda3\\lib\\site-packages\\statsmodels\\tsa\\statespace\\sarimax.py:866: UserWarning: Too few observations to estimate starting parameters for seasonal ARMA. All parameters except for variances will be set to zeros.\n",
      "  warn('Too few observations to estimate starting parameters%s.'\n"
     ]
    },
    {
     "name": "stdout",
     "output_type": "stream",
     "text": [
      "Complete for 107/288 MAE=0.14679332295346534, pdq=(1, 0, 3), seasonal_pdq=(2, 0, 1, 12)\n"
     ]
    },
    {
     "name": "stderr",
     "output_type": "stream",
     "text": [
      "C:\\Users\\User\\anaconda3\\lib\\site-packages\\statsmodels\\base\\model.py:604: ConvergenceWarning: Maximum Likelihood optimization failed to converge. Check mle_retvals\n",
      "  warnings.warn(\"Maximum Likelihood optimization failed to \"\n"
     ]
    },
    {
     "name": "stdout",
     "output_type": "stream",
     "text": [
      "Complete for 108/288 MAE=0.21787530475243425, pdq=(1, 0, 3), seasonal_pdq=(2, 0, 2, 12)\n",
      "Complete for 109/288 MAE=0.2769296158839647, pdq=(1, 1, 0), seasonal_pdq=(0, 0, 0, 12)\n"
     ]
    },
    {
     "name": "stderr",
     "output_type": "stream",
     "text": [
      "C:\\Users\\User\\anaconda3\\lib\\site-packages\\statsmodels\\base\\model.py:604: ConvergenceWarning: Maximum Likelihood optimization failed to converge. Check mle_retvals\n",
      "  warnings.warn(\"Maximum Likelihood optimization failed to \"\n",
      "C:\\Users\\User\\anaconda3\\lib\\site-packages\\statsmodels\\tsa\\statespace\\sarimax.py:866: UserWarning: Too few observations to estimate starting parameters for seasonal ARMA. All parameters except for variances will be set to zeros.\n",
      "  warn('Too few observations to estimate starting parameters%s.'\n"
     ]
    },
    {
     "name": "stdout",
     "output_type": "stream",
     "text": [
      "Complete for 110/288 MAE=5582714.193486822, pdq=(1, 1, 0), seasonal_pdq=(0, 0, 1, 12)\n",
      "Complete for 111/288 MAE=0.17497219072303052, pdq=(1, 1, 0), seasonal_pdq=(0, 0, 2, 12)\n",
      "Complete for 112/288 MAE=0.16809050230532482, pdq=(1, 1, 0), seasonal_pdq=(1, 0, 0, 12)\n"
     ]
    },
    {
     "name": "stderr",
     "output_type": "stream",
     "text": [
      "C:\\Users\\User\\anaconda3\\lib\\site-packages\\statsmodels\\base\\model.py:604: ConvergenceWarning: Maximum Likelihood optimization failed to converge. Check mle_retvals\n",
      "  warnings.warn(\"Maximum Likelihood optimization failed to \"\n",
      "C:\\Users\\User\\anaconda3\\lib\\site-packages\\statsmodels\\tsa\\statespace\\sarimax.py:866: UserWarning: Too few observations to estimate starting parameters for seasonal ARMA. All parameters except for variances will be set to zeros.\n",
      "  warn('Too few observations to estimate starting parameters%s.'\n"
     ]
    },
    {
     "name": "stdout",
     "output_type": "stream",
     "text": [
      "Complete for 113/288 MAE=309580421.12640756, pdq=(1, 1, 0), seasonal_pdq=(1, 0, 1, 12)\n",
      "Complete for 114/288 MAE=0.20812093862836792, pdq=(1, 1, 0), seasonal_pdq=(1, 0, 2, 12)\n",
      "Complete for 115/288 MAE=0.1404172615629117, pdq=(1, 1, 0), seasonal_pdq=(2, 0, 0, 12)\n",
      "Complete for 116/288 MAE=0.3147946435429614, pdq=(1, 1, 0), seasonal_pdq=(2, 0, 1, 12)\n"
     ]
    },
    {
     "name": "stderr",
     "output_type": "stream",
     "text": [
      "C:\\Users\\User\\anaconda3\\lib\\site-packages\\statsmodels\\tsa\\statespace\\sarimax.py:866: UserWarning: Too few observations to estimate starting parameters for seasonal ARMA. All parameters except for variances will be set to zeros.\n",
      "  warn('Too few observations to estimate starting parameters%s.'\n",
      "C:\\Users\\User\\anaconda3\\lib\\site-packages\\statsmodels\\base\\model.py:604: ConvergenceWarning: Maximum Likelihood optimization failed to converge. Check mle_retvals\n",
      "  warnings.warn(\"Maximum Likelihood optimization failed to \"\n"
     ]
    },
    {
     "name": "stdout",
     "output_type": "stream",
     "text": [
      "Complete for 117/288 MAE=0.18805988398481152, pdq=(1, 1, 0), seasonal_pdq=(2, 0, 2, 12)\n",
      "Complete for 118/288 MAE=0.2977651724407024, pdq=(1, 1, 1), seasonal_pdq=(0, 0, 0, 12)\n"
     ]
    },
    {
     "name": "stderr",
     "output_type": "stream",
     "text": [
      "C:\\Users\\User\\anaconda3\\lib\\site-packages\\statsmodels\\base\\model.py:604: ConvergenceWarning: Maximum Likelihood optimization failed to converge. Check mle_retvals\n",
      "  warnings.warn(\"Maximum Likelihood optimization failed to \"\n",
      "C:\\Users\\User\\anaconda3\\lib\\site-packages\\statsmodels\\tsa\\statespace\\sarimax.py:866: UserWarning: Too few observations to estimate starting parameters for seasonal ARMA. All parameters except for variances will be set to zeros.\n",
      "  warn('Too few observations to estimate starting parameters%s.'\n"
     ]
    },
    {
     "name": "stdout",
     "output_type": "stream",
     "text": [
      "Complete for 119/288 MAE=1041401348.6293926, pdq=(1, 1, 1), seasonal_pdq=(0, 0, 1, 12)\n",
      "Complete for 120/288 MAE=0.16767418976715456, pdq=(1, 1, 1), seasonal_pdq=(0, 0, 2, 12)\n",
      "Complete for 121/288 MAE=0.1762382933136849, pdq=(1, 1, 1), seasonal_pdq=(1, 0, 0, 12)\n",
      "Complete for 122/288 MAE=336337811.1363808, pdq=(1, 1, 1), seasonal_pdq=(1, 0, 1, 12)\n"
     ]
    },
    {
     "name": "stderr",
     "output_type": "stream",
     "text": [
      "C:\\Users\\User\\anaconda3\\lib\\site-packages\\statsmodels\\tsa\\statespace\\sarimax.py:866: UserWarning: Too few observations to estimate starting parameters for seasonal ARMA. All parameters except for variances will be set to zeros.\n",
      "  warn('Too few observations to estimate starting parameters%s.'\n"
     ]
    },
    {
     "name": "stdout",
     "output_type": "stream",
     "text": [
      "Complete for 123/288 MAE=0.17730823747918345, pdq=(1, 1, 1), seasonal_pdq=(1, 0, 2, 12)\n",
      "Complete for 124/288 MAE=0.15332217763890835, pdq=(1, 1, 1), seasonal_pdq=(2, 0, 0, 12)\n"
     ]
    },
    {
     "name": "stderr",
     "output_type": "stream",
     "text": [
      "C:\\Users\\User\\anaconda3\\lib\\site-packages\\statsmodels\\base\\model.py:604: ConvergenceWarning: Maximum Likelihood optimization failed to converge. Check mle_retvals\n",
      "  warnings.warn(\"Maximum Likelihood optimization failed to \"\n",
      "C:\\Users\\User\\anaconda3\\lib\\site-packages\\statsmodels\\tsa\\statespace\\sarimax.py:866: UserWarning: Too few observations to estimate starting parameters for seasonal ARMA. All parameters except for variances will be set to zeros.\n",
      "  warn('Too few observations to estimate starting parameters%s.'\n"
     ]
    },
    {
     "name": "stdout",
     "output_type": "stream",
     "text": [
      "Complete for 125/288 MAE=0.3236971225512994, pdq=(1, 1, 1), seasonal_pdq=(2, 0, 1, 12)\n"
     ]
    },
    {
     "name": "stderr",
     "output_type": "stream",
     "text": [
      "C:\\Users\\User\\anaconda3\\lib\\site-packages\\statsmodels\\base\\model.py:604: ConvergenceWarning: Maximum Likelihood optimization failed to converge. Check mle_retvals\n",
      "  warnings.warn(\"Maximum Likelihood optimization failed to \"\n"
     ]
    },
    {
     "name": "stdout",
     "output_type": "stream",
     "text": [
      "Complete for 126/288 MAE=0.16208981764860783, pdq=(1, 1, 1), seasonal_pdq=(2, 0, 2, 12)\n",
      "Complete for 127/288 MAE=0.295307831931288, pdq=(1, 1, 2), seasonal_pdq=(0, 0, 0, 12)\n",
      "Complete for 128/288 MAE=13587393476.458696, pdq=(1, 1, 2), seasonal_pdq=(0, 0, 1, 12)\n"
     ]
    },
    {
     "name": "stderr",
     "output_type": "stream",
     "text": [
      "C:\\Users\\User\\anaconda3\\lib\\site-packages\\statsmodels\\tsa\\statespace\\sarimax.py:866: UserWarning: Too few observations to estimate starting parameters for seasonal ARMA. All parameters except for variances will be set to zeros.\n",
      "  warn('Too few observations to estimate starting parameters%s.'\n"
     ]
    },
    {
     "name": "stdout",
     "output_type": "stream",
     "text": [
      "Complete for 129/288 MAE=0.150500817768389, pdq=(1, 1, 2), seasonal_pdq=(0, 0, 2, 12)\n",
      "Complete for 130/288 MAE=0.17603898524454997, pdq=(1, 1, 2), seasonal_pdq=(1, 0, 0, 12)\n"
     ]
    },
    {
     "name": "stderr",
     "output_type": "stream",
     "text": [
      "C:\\Users\\User\\anaconda3\\lib\\site-packages\\statsmodels\\base\\model.py:604: ConvergenceWarning: Maximum Likelihood optimization failed to converge. Check mle_retvals\n",
      "  warnings.warn(\"Maximum Likelihood optimization failed to \"\n",
      "C:\\Users\\User\\anaconda3\\lib\\site-packages\\statsmodels\\tsa\\statespace\\sarimax.py:866: UserWarning: Too few observations to estimate starting parameters for seasonal ARMA. All parameters except for variances will be set to zeros.\n",
      "  warn('Too few observations to estimate starting parameters%s.'\n"
     ]
    },
    {
     "name": "stdout",
     "output_type": "stream",
     "text": [
      "Complete for 131/288 MAE=6.166209798365824e+21, pdq=(1, 1, 2), seasonal_pdq=(1, 0, 1, 12)\n",
      "Complete for 132/288 MAE=0.25455553491318345, pdq=(1, 1, 2), seasonal_pdq=(1, 0, 2, 12)\n",
      "Complete for 133/288 MAE=0.16030523035204366, pdq=(1, 1, 2), seasonal_pdq=(2, 0, 0, 12)\n"
     ]
    },
    {
     "name": "stderr",
     "output_type": "stream",
     "text": [
      "C:\\Users\\User\\anaconda3\\lib\\site-packages\\statsmodels\\base\\model.py:604: ConvergenceWarning: Maximum Likelihood optimization failed to converge. Check mle_retvals\n",
      "  warnings.warn(\"Maximum Likelihood optimization failed to \"\n",
      "C:\\Users\\User\\anaconda3\\lib\\site-packages\\statsmodels\\tsa\\statespace\\sarimax.py:866: UserWarning: Too few observations to estimate starting parameters for seasonal ARMA. All parameters except for variances will be set to zeros.\n",
      "  warn('Too few observations to estimate starting parameters%s.'\n"
     ]
    },
    {
     "name": "stdout",
     "output_type": "stream",
     "text": [
      "Complete for 134/288 MAE=0.3175434766375264, pdq=(1, 1, 2), seasonal_pdq=(2, 0, 1, 12)\n"
     ]
    },
    {
     "name": "stderr",
     "output_type": "stream",
     "text": [
      "C:\\Users\\User\\anaconda3\\lib\\site-packages\\statsmodels\\base\\model.py:604: ConvergenceWarning: Maximum Likelihood optimization failed to converge. Check mle_retvals\n",
      "  warnings.warn(\"Maximum Likelihood optimization failed to \"\n"
     ]
    },
    {
     "name": "stdout",
     "output_type": "stream",
     "text": [
      "Complete for 135/288 MAE=0.21311693266751786, pdq=(1, 1, 2), seasonal_pdq=(2, 0, 2, 12)\n",
      "Complete for 136/288 MAE=0.29522995994821155, pdq=(1, 1, 3), seasonal_pdq=(0, 0, 0, 12)\n"
     ]
    },
    {
     "name": "stderr",
     "output_type": "stream",
     "text": [
      "C:\\Users\\User\\anaconda3\\lib\\site-packages\\statsmodels\\base\\model.py:604: ConvergenceWarning: Maximum Likelihood optimization failed to converge. Check mle_retvals\n",
      "  warnings.warn(\"Maximum Likelihood optimization failed to \"\n",
      "C:\\Users\\User\\anaconda3\\lib\\site-packages\\statsmodels\\tsa\\statespace\\sarimax.py:866: UserWarning: Too few observations to estimate starting parameters for seasonal ARMA. All parameters except for variances will be set to zeros.\n",
      "  warn('Too few observations to estimate starting parameters%s.'\n"
     ]
    },
    {
     "name": "stdout",
     "output_type": "stream",
     "text": [
      "Complete for 137/288 MAE=3.266780841621752e+34, pdq=(1, 1, 3), seasonal_pdq=(0, 0, 1, 12)\n",
      "Complete for 138/288 MAE=0.1491063769150716, pdq=(1, 1, 3), seasonal_pdq=(0, 0, 2, 12)\n",
      "Complete for 139/288 MAE=0.1696583244887155, pdq=(1, 1, 3), seasonal_pdq=(1, 0, 0, 12)\n",
      "Complete for 140/288 MAE=71661362.38473165, pdq=(1, 1, 3), seasonal_pdq=(1, 0, 1, 12)\n"
     ]
    },
    {
     "name": "stderr",
     "output_type": "stream",
     "text": [
      "C:\\Users\\User\\anaconda3\\lib\\site-packages\\statsmodels\\tsa\\statespace\\sarimax.py:866: UserWarning: Too few observations to estimate starting parameters for seasonal ARMA. All parameters except for variances will be set to zeros.\n",
      "  warn('Too few observations to estimate starting parameters%s.'\n",
      "C:\\Users\\User\\anaconda3\\lib\\site-packages\\statsmodels\\base\\model.py:604: ConvergenceWarning: Maximum Likelihood optimization failed to converge. Check mle_retvals\n",
      "  warnings.warn(\"Maximum Likelihood optimization failed to \"\n"
     ]
    },
    {
     "name": "stdout",
     "output_type": "stream",
     "text": [
      "Complete for 141/288 MAE=0.22641537172175621, pdq=(1, 1, 3), seasonal_pdq=(1, 0, 2, 12)\n",
      "Complete for 142/288 MAE=0.11268455067936385, pdq=(1, 1, 3), seasonal_pdq=(2, 0, 0, 12)\n"
     ]
    },
    {
     "name": "stderr",
     "output_type": "stream",
     "text": [
      "C:\\Users\\User\\anaconda3\\lib\\site-packages\\statsmodels\\base\\model.py:604: ConvergenceWarning: Maximum Likelihood optimization failed to converge. Check mle_retvals\n",
      "  warnings.warn(\"Maximum Likelihood optimization failed to \"\n",
      "C:\\Users\\User\\anaconda3\\lib\\site-packages\\statsmodels\\tsa\\statespace\\sarimax.py:866: UserWarning: Too few observations to estimate starting parameters for seasonal ARMA. All parameters except for variances will be set to zeros.\n",
      "  warn('Too few observations to estimate starting parameters%s.'\n"
     ]
    },
    {
     "name": "stdout",
     "output_type": "stream",
     "text": [
      "Complete for 143/288 MAE=0.30388651492836855, pdq=(1, 1, 3), seasonal_pdq=(2, 0, 1, 12)\n"
     ]
    },
    {
     "name": "stderr",
     "output_type": "stream",
     "text": [
      "C:\\Users\\User\\anaconda3\\lib\\site-packages\\statsmodels\\base\\model.py:604: ConvergenceWarning: Maximum Likelihood optimization failed to converge. Check mle_retvals\n",
      "  warnings.warn(\"Maximum Likelihood optimization failed to \"\n"
     ]
    },
    {
     "name": "stdout",
     "output_type": "stream",
     "text": [
      "Complete for 144/288 MAE=0.20524463187819197, pdq=(1, 1, 3), seasonal_pdq=(2, 0, 2, 12)\n",
      "Complete for 145/288 MAE=0.36068408160607013, pdq=(2, 0, 0), seasonal_pdq=(0, 0, 0, 12)\n"
     ]
    },
    {
     "name": "stderr",
     "output_type": "stream",
     "text": [
      "C:\\Users\\User\\anaconda3\\lib\\site-packages\\statsmodels\\base\\model.py:604: ConvergenceWarning: Maximum Likelihood optimization failed to converge. Check mle_retvals\n",
      "  warnings.warn(\"Maximum Likelihood optimization failed to \"\n",
      "C:\\Users\\User\\anaconda3\\lib\\site-packages\\statsmodels\\tsa\\statespace\\sarimax.py:866: UserWarning: Too few observations to estimate starting parameters for seasonal ARMA. All parameters except for variances will be set to zeros.\n",
      "  warn('Too few observations to estimate starting parameters%s.'\n"
     ]
    },
    {
     "name": "stdout",
     "output_type": "stream",
     "text": [
      "Complete for 146/288 MAE=241525.06977302898, pdq=(2, 0, 0), seasonal_pdq=(0, 0, 1, 12)\n",
      "Complete for 147/288 MAE=0.21225361370728646, pdq=(2, 0, 0), seasonal_pdq=(0, 0, 2, 12)\n",
      "Complete for 148/288 MAE=0.17373380121611556, pdq=(2, 0, 0), seasonal_pdq=(1, 0, 0, 12)\n",
      "Complete for 149/288 MAE=0.15907221508129463, pdq=(2, 0, 0), seasonal_pdq=(1, 0, 1, 12)\n"
     ]
    },
    {
     "name": "stderr",
     "output_type": "stream",
     "text": [
      "C:\\Users\\User\\anaconda3\\lib\\site-packages\\statsmodels\\tsa\\statespace\\sarimax.py:866: UserWarning: Too few observations to estimate starting parameters for seasonal ARMA. All parameters except for variances will be set to zeros.\n",
      "  warn('Too few observations to estimate starting parameters%s.'\n",
      "C:\\Users\\User\\anaconda3\\lib\\site-packages\\statsmodels\\base\\model.py:604: ConvergenceWarning: Maximum Likelihood optimization failed to converge. Check mle_retvals\n",
      "  warnings.warn(\"Maximum Likelihood optimization failed to \"\n"
     ]
    },
    {
     "name": "stdout",
     "output_type": "stream",
     "text": [
      "Complete for 150/288 MAE=0.1932756377556637, pdq=(2, 0, 0), seasonal_pdq=(1, 0, 2, 12)\n",
      "Complete for 151/288 MAE=0.14616418945376755, pdq=(2, 0, 0), seasonal_pdq=(2, 0, 0, 12)\n",
      "Complete for 152/288 MAE=0.1697930481886155, pdq=(2, 0, 0), seasonal_pdq=(2, 0, 1, 12)\n"
     ]
    },
    {
     "name": "stderr",
     "output_type": "stream",
     "text": [
      "C:\\Users\\User\\anaconda3\\lib\\site-packages\\statsmodels\\tsa\\statespace\\sarimax.py:866: UserWarning: Too few observations to estimate starting parameters for seasonal ARMA. All parameters except for variances will be set to zeros.\n",
      "  warn('Too few observations to estimate starting parameters%s.'\n",
      "C:\\Users\\User\\anaconda3\\lib\\site-packages\\statsmodels\\base\\model.py:604: ConvergenceWarning: Maximum Likelihood optimization failed to converge. Check mle_retvals\n",
      "  warnings.warn(\"Maximum Likelihood optimization failed to \"\n"
     ]
    },
    {
     "name": "stdout",
     "output_type": "stream",
     "text": [
      "Complete for 153/288 MAE=0.17243107695952822, pdq=(2, 0, 0), seasonal_pdq=(2, 0, 2, 12)\n",
      "Complete for 154/288 MAE=0.2899507800765078, pdq=(2, 0, 1), seasonal_pdq=(0, 0, 0, 12)\n"
     ]
    },
    {
     "name": "stderr",
     "output_type": "stream",
     "text": [
      "C:\\Users\\User\\anaconda3\\lib\\site-packages\\statsmodels\\base\\model.py:604: ConvergenceWarning: Maximum Likelihood optimization failed to converge. Check mle_retvals\n",
      "  warnings.warn(\"Maximum Likelihood optimization failed to \"\n",
      "C:\\Users\\User\\anaconda3\\lib\\site-packages\\statsmodels\\tsa\\statespace\\sarimax.py:866: UserWarning: Too few observations to estimate starting parameters for seasonal ARMA. All parameters except for variances will be set to zeros.\n",
      "  warn('Too few observations to estimate starting parameters%s.'\n"
     ]
    },
    {
     "name": "stdout",
     "output_type": "stream",
     "text": [
      "Complete for 155/288 MAE=9948159.876554463, pdq=(2, 0, 1), seasonal_pdq=(0, 0, 1, 12)\n"
     ]
    },
    {
     "name": "stderr",
     "output_type": "stream",
     "text": [
      "C:\\Users\\User\\anaconda3\\lib\\site-packages\\statsmodels\\base\\model.py:604: ConvergenceWarning: Maximum Likelihood optimization failed to converge. Check mle_retvals\n",
      "  warnings.warn(\"Maximum Likelihood optimization failed to \"\n"
     ]
    },
    {
     "name": "stdout",
     "output_type": "stream",
     "text": [
      "Complete for 156/288 MAE=0.18936554580607098, pdq=(2, 0, 1), seasonal_pdq=(0, 0, 2, 12)\n",
      "Complete for 157/288 MAE=0.1763671751022106, pdq=(2, 0, 1), seasonal_pdq=(1, 0, 0, 12)\n",
      "Complete for 158/288 MAE=0.16605301563672156, pdq=(2, 0, 1), seasonal_pdq=(1, 0, 1, 12)\n"
     ]
    },
    {
     "name": "stderr",
     "output_type": "stream",
     "text": [
      "C:\\Users\\User\\anaconda3\\lib\\site-packages\\statsmodels\\tsa\\statespace\\sarimax.py:866: UserWarning: Too few observations to estimate starting parameters for seasonal ARMA. All parameters except for variances will be set to zeros.\n",
      "  warn('Too few observations to estimate starting parameters%s.'\n",
      "C:\\Users\\User\\anaconda3\\lib\\site-packages\\statsmodels\\base\\model.py:604: ConvergenceWarning: Maximum Likelihood optimization failed to converge. Check mle_retvals\n",
      "  warnings.warn(\"Maximum Likelihood optimization failed to \"\n"
     ]
    },
    {
     "name": "stdout",
     "output_type": "stream",
     "text": [
      "Complete for 159/288 MAE=0.18259482115104567, pdq=(2, 0, 1), seasonal_pdq=(1, 0, 2, 12)\n",
      "Complete for 160/288 MAE=0.1729619127324954, pdq=(2, 0, 1), seasonal_pdq=(2, 0, 0, 12)\n"
     ]
    },
    {
     "name": "stderr",
     "output_type": "stream",
     "text": [
      "C:\\Users\\User\\anaconda3\\lib\\site-packages\\statsmodels\\base\\model.py:604: ConvergenceWarning: Maximum Likelihood optimization failed to converge. Check mle_retvals\n",
      "  warnings.warn(\"Maximum Likelihood optimization failed to \"\n",
      "C:\\Users\\User\\anaconda3\\lib\\site-packages\\statsmodels\\tsa\\statespace\\sarimax.py:866: UserWarning: Too few observations to estimate starting parameters for seasonal ARMA. All parameters except for variances will be set to zeros.\n",
      "  warn('Too few observations to estimate starting parameters%s.'\n"
     ]
    },
    {
     "name": "stdout",
     "output_type": "stream",
     "text": [
      "Complete for 161/288 MAE=0.17127503650281883, pdq=(2, 0, 1), seasonal_pdq=(2, 0, 1, 12)\n"
     ]
    },
    {
     "name": "stderr",
     "output_type": "stream",
     "text": [
      "C:\\Users\\User\\anaconda3\\lib\\site-packages\\statsmodels\\base\\model.py:604: ConvergenceWarning: Maximum Likelihood optimization failed to converge. Check mle_retvals\n",
      "  warnings.warn(\"Maximum Likelihood optimization failed to \"\n"
     ]
    },
    {
     "name": "stdout",
     "output_type": "stream",
     "text": [
      "Complete for 162/288 MAE=0.17383588228726995, pdq=(2, 0, 1), seasonal_pdq=(2, 0, 2, 12)\n",
      "Complete for 163/288 MAE=0.2968558697937294, pdq=(2, 0, 2), seasonal_pdq=(0, 0, 0, 12)\n"
     ]
    },
    {
     "name": "stderr",
     "output_type": "stream",
     "text": [
      "C:\\Users\\User\\anaconda3\\lib\\site-packages\\statsmodels\\base\\model.py:604: ConvergenceWarning: Maximum Likelihood optimization failed to converge. Check mle_retvals\n",
      "  warnings.warn(\"Maximum Likelihood optimization failed to \"\n",
      "C:\\Users\\User\\anaconda3\\lib\\site-packages\\statsmodels\\tsa\\statespace\\sarimax.py:866: UserWarning: Too few observations to estimate starting parameters for seasonal ARMA. All parameters except for variances will be set to zeros.\n",
      "  warn('Too few observations to estimate starting parameters%s.'\n"
     ]
    },
    {
     "name": "stdout",
     "output_type": "stream",
     "text": [
      "Complete for 164/288 MAE=3.925809610784547e+24, pdq=(2, 0, 2), seasonal_pdq=(0, 0, 1, 12)\n",
      "Complete for 165/288 MAE=0.17895142937647524, pdq=(2, 0, 2), seasonal_pdq=(0, 0, 2, 12)\n",
      "Complete for 166/288 MAE=0.16003565397302116, pdq=(2, 0, 2), seasonal_pdq=(1, 0, 0, 12)\n"
     ]
    },
    {
     "name": "stderr",
     "output_type": "stream",
     "text": [
      "C:\\Users\\User\\anaconda3\\lib\\site-packages\\statsmodels\\base\\model.py:604: ConvergenceWarning: Maximum Likelihood optimization failed to converge. Check mle_retvals\n",
      "  warnings.warn(\"Maximum Likelihood optimization failed to \"\n",
      "C:\\Users\\User\\anaconda3\\lib\\site-packages\\statsmodels\\tsa\\statespace\\sarimax.py:866: UserWarning: Too few observations to estimate starting parameters for seasonal ARMA. All parameters except for variances will be set to zeros.\n",
      "  warn('Too few observations to estimate starting parameters%s.'\n"
     ]
    },
    {
     "name": "stdout",
     "output_type": "stream",
     "text": [
      "Complete for 167/288 MAE=0.1564048638273993, pdq=(2, 0, 2), seasonal_pdq=(1, 0, 1, 12)\n"
     ]
    },
    {
     "name": "stderr",
     "output_type": "stream",
     "text": [
      "C:\\Users\\User\\anaconda3\\lib\\site-packages\\statsmodels\\base\\model.py:604: ConvergenceWarning: Maximum Likelihood optimization failed to converge. Check mle_retvals\n",
      "  warnings.warn(\"Maximum Likelihood optimization failed to \"\n"
     ]
    },
    {
     "name": "stdout",
     "output_type": "stream",
     "text": [
      "Complete for 168/288 MAE=0.26580463287077816, pdq=(2, 0, 2), seasonal_pdq=(1, 0, 2, 12)\n"
     ]
    },
    {
     "name": "stderr",
     "output_type": "stream",
     "text": [
      "C:\\Users\\User\\anaconda3\\lib\\site-packages\\statsmodels\\base\\model.py:604: ConvergenceWarning: Maximum Likelihood optimization failed to converge. Check mle_retvals\n",
      "  warnings.warn(\"Maximum Likelihood optimization failed to \"\n"
     ]
    },
    {
     "name": "stdout",
     "output_type": "stream",
     "text": [
      "Complete for 169/288 MAE=0.1819363261136494, pdq=(2, 0, 2), seasonal_pdq=(2, 0, 0, 12)\n"
     ]
    },
    {
     "name": "stderr",
     "output_type": "stream",
     "text": [
      "C:\\Users\\User\\anaconda3\\lib\\site-packages\\statsmodels\\base\\model.py:604: ConvergenceWarning: Maximum Likelihood optimization failed to converge. Check mle_retvals\n",
      "  warnings.warn(\"Maximum Likelihood optimization failed to \"\n",
      "C:\\Users\\User\\anaconda3\\lib\\site-packages\\statsmodels\\tsa\\statespace\\sarimax.py:866: UserWarning: Too few observations to estimate starting parameters for seasonal ARMA. All parameters except for variances will be set to zeros.\n",
      "  warn('Too few observations to estimate starting parameters%s.'\n"
     ]
    },
    {
     "name": "stdout",
     "output_type": "stream",
     "text": [
      "Complete for 170/288 MAE=0.19537947946847936, pdq=(2, 0, 2), seasonal_pdq=(2, 0, 1, 12)\n"
     ]
    },
    {
     "name": "stderr",
     "output_type": "stream",
     "text": [
      "C:\\Users\\User\\anaconda3\\lib\\site-packages\\statsmodels\\base\\model.py:604: ConvergenceWarning: Maximum Likelihood optimization failed to converge. Check mle_retvals\n",
      "  warnings.warn(\"Maximum Likelihood optimization failed to \"\n"
     ]
    },
    {
     "name": "stdout",
     "output_type": "stream",
     "text": [
      "Complete for 171/288 MAE=0.29607253290889285, pdq=(2, 0, 2), seasonal_pdq=(2, 0, 2, 12)\n",
      "Complete for 172/288 MAE=0.29775368098242816, pdq=(2, 0, 3), seasonal_pdq=(0, 0, 0, 12)\n"
     ]
    },
    {
     "name": "stderr",
     "output_type": "stream",
     "text": [
      "C:\\Users\\User\\anaconda3\\lib\\site-packages\\statsmodels\\base\\model.py:604: ConvergenceWarning: Maximum Likelihood optimization failed to converge. Check mle_retvals\n",
      "  warnings.warn(\"Maximum Likelihood optimization failed to \"\n",
      "C:\\Users\\User\\anaconda3\\lib\\site-packages\\statsmodels\\tsa\\statespace\\sarimax.py:866: UserWarning: Too few observations to estimate starting parameters for seasonal ARMA. All parameters except for variances will be set to zeros.\n",
      "  warn('Too few observations to estimate starting parameters%s.'\n"
     ]
    },
    {
     "name": "stdout",
     "output_type": "stream",
     "text": [
      "Complete for 173/288 MAE=162775128.7981451, pdq=(2, 0, 3), seasonal_pdq=(0, 0, 1, 12)\n"
     ]
    },
    {
     "name": "stderr",
     "output_type": "stream",
     "text": [
      "C:\\Users\\User\\anaconda3\\lib\\site-packages\\statsmodels\\base\\model.py:604: ConvergenceWarning: Maximum Likelihood optimization failed to converge. Check mle_retvals\n",
      "  warnings.warn(\"Maximum Likelihood optimization failed to \"\n"
     ]
    },
    {
     "name": "stdout",
     "output_type": "stream",
     "text": [
      "Complete for 174/288 MAE=0.32075488370641464, pdq=(2, 0, 3), seasonal_pdq=(0, 0, 2, 12)\n"
     ]
    },
    {
     "name": "stderr",
     "output_type": "stream",
     "text": [
      "C:\\Users\\User\\anaconda3\\lib\\site-packages\\statsmodels\\base\\model.py:604: ConvergenceWarning: Maximum Likelihood optimization failed to converge. Check mle_retvals\n",
      "  warnings.warn(\"Maximum Likelihood optimization failed to \"\n"
     ]
    },
    {
     "name": "stdout",
     "output_type": "stream",
     "text": [
      "Complete for 175/288 MAE=0.1926731502493375, pdq=(2, 0, 3), seasonal_pdq=(1, 0, 0, 12)\n"
     ]
    },
    {
     "name": "stderr",
     "output_type": "stream",
     "text": [
      "C:\\Users\\User\\anaconda3\\lib\\site-packages\\statsmodels\\base\\model.py:604: ConvergenceWarning: Maximum Likelihood optimization failed to converge. Check mle_retvals\n",
      "  warnings.warn(\"Maximum Likelihood optimization failed to \"\n",
      "C:\\Users\\User\\anaconda3\\lib\\site-packages\\statsmodels\\tsa\\statespace\\sarimax.py:866: UserWarning: Too few observations to estimate starting parameters for seasonal ARMA. All parameters except for variances will be set to zeros.\n",
      "  warn('Too few observations to estimate starting parameters%s.'\n"
     ]
    },
    {
     "name": "stdout",
     "output_type": "stream",
     "text": [
      "Complete for 176/288 MAE=0.15563102996351122, pdq=(2, 0, 3), seasonal_pdq=(1, 0, 1, 12)\n"
     ]
    },
    {
     "name": "stderr",
     "output_type": "stream",
     "text": [
      "C:\\Users\\User\\anaconda3\\lib\\site-packages\\statsmodels\\base\\model.py:604: ConvergenceWarning: Maximum Likelihood optimization failed to converge. Check mle_retvals\n",
      "  warnings.warn(\"Maximum Likelihood optimization failed to \"\n"
     ]
    },
    {
     "name": "stdout",
     "output_type": "stream",
     "text": [
      "Complete for 177/288 MAE=0.18958306557657412, pdq=(2, 0, 3), seasonal_pdq=(1, 0, 2, 12)\n"
     ]
    },
    {
     "name": "stderr",
     "output_type": "stream",
     "text": [
      "C:\\Users\\User\\anaconda3\\lib\\site-packages\\statsmodels\\base\\model.py:604: ConvergenceWarning: Maximum Likelihood optimization failed to converge. Check mle_retvals\n",
      "  warnings.warn(\"Maximum Likelihood optimization failed to \"\n"
     ]
    },
    {
     "name": "stdout",
     "output_type": "stream",
     "text": [
      "Complete for 178/288 MAE=0.18096344870190947, pdq=(2, 0, 3), seasonal_pdq=(2, 0, 0, 12)\n"
     ]
    },
    {
     "name": "stderr",
     "output_type": "stream",
     "text": [
      "C:\\Users\\User\\anaconda3\\lib\\site-packages\\statsmodels\\base\\model.py:604: ConvergenceWarning: Maximum Likelihood optimization failed to converge. Check mle_retvals\n",
      "  warnings.warn(\"Maximum Likelihood optimization failed to \"\n",
      "C:\\Users\\User\\anaconda3\\lib\\site-packages\\statsmodels\\tsa\\statespace\\sarimax.py:866: UserWarning: Too few observations to estimate starting parameters for seasonal ARMA. All parameters except for variances will be set to zeros.\n",
      "  warn('Too few observations to estimate starting parameters%s.'\n"
     ]
    },
    {
     "name": "stdout",
     "output_type": "stream",
     "text": [
      "Complete for 179/288 MAE=0.17795445455677894, pdq=(2, 0, 3), seasonal_pdq=(2, 0, 1, 12)\n"
     ]
    },
    {
     "name": "stderr",
     "output_type": "stream",
     "text": [
      "C:\\Users\\User\\anaconda3\\lib\\site-packages\\statsmodels\\base\\model.py:604: ConvergenceWarning: Maximum Likelihood optimization failed to converge. Check mle_retvals\n",
      "  warnings.warn(\"Maximum Likelihood optimization failed to \"\n"
     ]
    },
    {
     "name": "stdout",
     "output_type": "stream",
     "text": [
      "Complete for 180/288 MAE=0.1836405672429062, pdq=(2, 0, 3), seasonal_pdq=(2, 0, 2, 12)\n",
      "Complete for 181/288 MAE=0.3033083539933383, pdq=(2, 1, 0), seasonal_pdq=(0, 0, 0, 12)\n"
     ]
    },
    {
     "name": "stderr",
     "output_type": "stream",
     "text": [
      "C:\\Users\\User\\anaconda3\\lib\\site-packages\\statsmodels\\base\\model.py:604: ConvergenceWarning: Maximum Likelihood optimization failed to converge. Check mle_retvals\n",
      "  warnings.warn(\"Maximum Likelihood optimization failed to \"\n",
      "C:\\Users\\User\\anaconda3\\lib\\site-packages\\statsmodels\\tsa\\statespace\\sarimax.py:866: UserWarning: Too few observations to estimate starting parameters for seasonal ARMA. All parameters except for variances will be set to zeros.\n",
      "  warn('Too few observations to estimate starting parameters%s.'\n"
     ]
    },
    {
     "name": "stdout",
     "output_type": "stream",
     "text": [
      "Complete for 182/288 MAE=16352551.115847759, pdq=(2, 1, 0), seasonal_pdq=(0, 0, 1, 12)\n",
      "Complete for 183/288 MAE=0.18013813093972064, pdq=(2, 1, 0), seasonal_pdq=(0, 0, 2, 12)\n",
      "Complete for 184/288 MAE=0.17137809133110515, pdq=(2, 1, 0), seasonal_pdq=(1, 0, 0, 12)\n",
      "Complete for 185/288 MAE=20047182.288399734, pdq=(2, 1, 0), seasonal_pdq=(1, 0, 1, 12)\n"
     ]
    },
    {
     "name": "stderr",
     "output_type": "stream",
     "text": [
      "C:\\Users\\User\\anaconda3\\lib\\site-packages\\statsmodels\\tsa\\statespace\\sarimax.py:866: UserWarning: Too few observations to estimate starting parameters for seasonal ARMA. All parameters except for variances will be set to zeros.\n",
      "  warn('Too few observations to estimate starting parameters%s.'\n"
     ]
    },
    {
     "name": "stdout",
     "output_type": "stream",
     "text": [
      "Complete for 186/288 MAE=0.19971385131595024, pdq=(2, 1, 0), seasonal_pdq=(1, 0, 2, 12)\n",
      "Complete for 187/288 MAE=0.1420002310640968, pdq=(2, 1, 0), seasonal_pdq=(2, 0, 0, 12)\n",
      "Complete for 188/288 MAE=0.32186185245794896, pdq=(2, 1, 0), seasonal_pdq=(2, 0, 1, 12)\n"
     ]
    },
    {
     "name": "stderr",
     "output_type": "stream",
     "text": [
      "C:\\Users\\User\\anaconda3\\lib\\site-packages\\statsmodels\\tsa\\statespace\\sarimax.py:866: UserWarning: Too few observations to estimate starting parameters for seasonal ARMA. All parameters except for variances will be set to zeros.\n",
      "  warn('Too few observations to estimate starting parameters%s.'\n"
     ]
    },
    {
     "name": "stdout",
     "output_type": "stream",
     "text": [
      "Complete for 189/288 MAE=0.1850445443723917, pdq=(2, 1, 0), seasonal_pdq=(2, 0, 2, 12)\n",
      "Complete for 190/288 MAE=0.30068405289952377, pdq=(2, 1, 1), seasonal_pdq=(0, 0, 0, 12)\n"
     ]
    },
    {
     "name": "stderr",
     "output_type": "stream",
     "text": [
      "C:\\Users\\User\\anaconda3\\lib\\site-packages\\statsmodels\\base\\model.py:604: ConvergenceWarning: Maximum Likelihood optimization failed to converge. Check mle_retvals\n",
      "  warnings.warn(\"Maximum Likelihood optimization failed to \"\n",
      "C:\\Users\\User\\anaconda3\\lib\\site-packages\\statsmodels\\tsa\\statespace\\sarimax.py:866: UserWarning: Too few observations to estimate starting parameters for seasonal ARMA. All parameters except for variances will be set to zeros.\n",
      "  warn('Too few observations to estimate starting parameters%s.'\n"
     ]
    },
    {
     "name": "stdout",
     "output_type": "stream",
     "text": [
      "Complete for 191/288 MAE=66579005781023.664, pdq=(2, 1, 1), seasonal_pdq=(0, 0, 1, 12)\n",
      "Complete for 192/288 MAE=0.19024113424978276, pdq=(2, 1, 1), seasonal_pdq=(0, 0, 2, 12)\n",
      "Complete for 193/288 MAE=0.17264653197586785, pdq=(2, 1, 1), seasonal_pdq=(1, 0, 0, 12)\n",
      "Complete for 194/288 MAE=6.002147255734008e+29, pdq=(2, 1, 1), seasonal_pdq=(1, 0, 1, 12)\n"
     ]
    },
    {
     "name": "stderr",
     "output_type": "stream",
     "text": [
      "C:\\Users\\User\\anaconda3\\lib\\site-packages\\statsmodels\\base\\model.py:604: ConvergenceWarning: Maximum Likelihood optimization failed to converge. Check mle_retvals\n",
      "  warnings.warn(\"Maximum Likelihood optimization failed to \"\n",
      "C:\\Users\\User\\anaconda3\\lib\\site-packages\\statsmodels\\tsa\\statespace\\sarimax.py:866: UserWarning: Too few observations to estimate starting parameters for seasonal ARMA. All parameters except for variances will be set to zeros.\n",
      "  warn('Too few observations to estimate starting parameters%s.'\n",
      "C:\\Users\\User\\anaconda3\\lib\\site-packages\\statsmodels\\base\\model.py:604: ConvergenceWarning: Maximum Likelihood optimization failed to converge. Check mle_retvals\n",
      "  warnings.warn(\"Maximum Likelihood optimization failed to \"\n"
     ]
    },
    {
     "name": "stdout",
     "output_type": "stream",
     "text": [
      "Complete for 195/288 MAE=0.18437804574258754, pdq=(2, 1, 1), seasonal_pdq=(1, 0, 2, 12)\n",
      "Complete for 196/288 MAE=0.140636672528923, pdq=(2, 1, 1), seasonal_pdq=(2, 0, 0, 12)\n"
     ]
    },
    {
     "name": "stderr",
     "output_type": "stream",
     "text": [
      "C:\\Users\\User\\anaconda3\\lib\\site-packages\\statsmodels\\base\\model.py:604: ConvergenceWarning: Maximum Likelihood optimization failed to converge. Check mle_retvals\n",
      "  warnings.warn(\"Maximum Likelihood optimization failed to \"\n",
      "C:\\Users\\User\\anaconda3\\lib\\site-packages\\statsmodels\\tsa\\statespace\\sarimax.py:866: UserWarning: Too few observations to estimate starting parameters for seasonal ARMA. All parameters except for variances will be set to zeros.\n",
      "  warn('Too few observations to estimate starting parameters%s.'\n"
     ]
    },
    {
     "name": "stdout",
     "output_type": "stream",
     "text": [
      "Complete for 197/288 MAE=0.32131175790340855, pdq=(2, 1, 1), seasonal_pdq=(2, 0, 1, 12)\n",
      "Complete for 198/288 MAE=0.18336927847077125, pdq=(2, 1, 1), seasonal_pdq=(2, 0, 2, 12)\n",
      "Complete for 199/288 MAE=0.29524941033930646, pdq=(2, 1, 2), seasonal_pdq=(0, 0, 0, 12)\n"
     ]
    },
    {
     "name": "stderr",
     "output_type": "stream",
     "text": [
      "C:\\Users\\User\\anaconda3\\lib\\site-packages\\statsmodels\\base\\model.py:604: ConvergenceWarning: Maximum Likelihood optimization failed to converge. Check mle_retvals\n",
      "  warnings.warn(\"Maximum Likelihood optimization failed to \"\n",
      "C:\\Users\\User\\anaconda3\\lib\\site-packages\\statsmodels\\tsa\\statespace\\sarimax.py:866: UserWarning: Too few observations to estimate starting parameters for seasonal ARMA. All parameters except for variances will be set to zeros.\n",
      "  warn('Too few observations to estimate starting parameters%s.'\n"
     ]
    },
    {
     "name": "stdout",
     "output_type": "stream",
     "text": [
      "Complete for 200/288 MAE=1275497137179.9763, pdq=(2, 1, 2), seasonal_pdq=(0, 0, 1, 12)\n",
      "Complete for 201/288 MAE=0.1472456337093169, pdq=(2, 1, 2), seasonal_pdq=(0, 0, 2, 12)\n",
      "Complete for 202/288 MAE=0.17951608668917254, pdq=(2, 1, 2), seasonal_pdq=(1, 0, 0, 12)\n",
      "Complete for 203/288 MAE=72862453388879.25, pdq=(2, 1, 2), seasonal_pdq=(1, 0, 1, 12)\n"
     ]
    },
    {
     "name": "stderr",
     "output_type": "stream",
     "text": [
      "C:\\Users\\User\\anaconda3\\lib\\site-packages\\statsmodels\\base\\model.py:604: ConvergenceWarning: Maximum Likelihood optimization failed to converge. Check mle_retvals\n",
      "  warnings.warn(\"Maximum Likelihood optimization failed to \"\n",
      "C:\\Users\\User\\anaconda3\\lib\\site-packages\\statsmodels\\tsa\\statespace\\sarimax.py:866: UserWarning: Too few observations to estimate starting parameters for seasonal ARMA. All parameters except for variances will be set to zeros.\n",
      "  warn('Too few observations to estimate starting parameters%s.'\n",
      "C:\\Users\\User\\anaconda3\\lib\\site-packages\\statsmodels\\base\\model.py:604: ConvergenceWarning: Maximum Likelihood optimization failed to converge. Check mle_retvals\n",
      "  warnings.warn(\"Maximum Likelihood optimization failed to \"\n"
     ]
    },
    {
     "name": "stdout",
     "output_type": "stream",
     "text": [
      "Complete for 204/288 MAE=0.18793703995783428, pdq=(2, 1, 2), seasonal_pdq=(1, 0, 2, 12)\n"
     ]
    },
    {
     "name": "stderr",
     "output_type": "stream",
     "text": [
      "C:\\Users\\User\\anaconda3\\lib\\site-packages\\statsmodels\\base\\model.py:604: ConvergenceWarning: Maximum Likelihood optimization failed to converge. Check mle_retvals\n",
      "  warnings.warn(\"Maximum Likelihood optimization failed to \"\n"
     ]
    },
    {
     "name": "stdout",
     "output_type": "stream",
     "text": [
      "Complete for 205/288 MAE=0.2082226983704866, pdq=(2, 1, 2), seasonal_pdq=(2, 0, 0, 12)\n",
      "Complete for 206/288 MAE=0.3254212801334618, pdq=(2, 1, 2), seasonal_pdq=(2, 0, 1, 12)\n"
     ]
    },
    {
     "name": "stderr",
     "output_type": "stream",
     "text": [
      "C:\\Users\\User\\anaconda3\\lib\\site-packages\\statsmodels\\tsa\\statespace\\sarimax.py:866: UserWarning: Too few observations to estimate starting parameters for seasonal ARMA. All parameters except for variances will be set to zeros.\n",
      "  warn('Too few observations to estimate starting parameters%s.'\n",
      "C:\\Users\\User\\anaconda3\\lib\\site-packages\\statsmodels\\base\\model.py:604: ConvergenceWarning: Maximum Likelihood optimization failed to converge. Check mle_retvals\n",
      "  warnings.warn(\"Maximum Likelihood optimization failed to \"\n"
     ]
    },
    {
     "name": "stdout",
     "output_type": "stream",
     "text": [
      "Complete for 207/288 MAE=0.2909209990559176, pdq=(2, 1, 2), seasonal_pdq=(2, 0, 2, 12)\n",
      "Complete for 208/288 MAE=0.29540316858555027, pdq=(2, 1, 3), seasonal_pdq=(0, 0, 0, 12)\n"
     ]
    },
    {
     "name": "stderr",
     "output_type": "stream",
     "text": [
      "C:\\Users\\User\\anaconda3\\lib\\site-packages\\statsmodels\\base\\model.py:604: ConvergenceWarning: Maximum Likelihood optimization failed to converge. Check mle_retvals\n",
      "  warnings.warn(\"Maximum Likelihood optimization failed to \"\n",
      "C:\\Users\\User\\anaconda3\\lib\\site-packages\\statsmodels\\tsa\\statespace\\sarimax.py:866: UserWarning: Too few observations to estimate starting parameters for seasonal ARMA. All parameters except for variances will be set to zeros.\n",
      "  warn('Too few observations to estimate starting parameters%s.'\n"
     ]
    },
    {
     "name": "stdout",
     "output_type": "stream",
     "text": [
      "Complete for 209/288 MAE=1.3816369872776874e+52, pdq=(2, 1, 3), seasonal_pdq=(0, 0, 1, 12)\n",
      "Complete for 210/288 MAE=0.16832885470865874, pdq=(2, 1, 3), seasonal_pdq=(0, 0, 2, 12)\n",
      "Complete for 211/288 MAE=0.14539673595291017, pdq=(2, 1, 3), seasonal_pdq=(1, 0, 0, 12)\n",
      "Complete for 212/288 MAE=3261556751.817449, pdq=(2, 1, 3), seasonal_pdq=(1, 0, 1, 12)\n"
     ]
    },
    {
     "name": "stderr",
     "output_type": "stream",
     "text": [
      "C:\\Users\\User\\anaconda3\\lib\\site-packages\\statsmodels\\tsa\\statespace\\sarimax.py:866: UserWarning: Too few observations to estimate starting parameters for seasonal ARMA. All parameters except for variances will be set to zeros.\n",
      "  warn('Too few observations to estimate starting parameters%s.'\n",
      "C:\\Users\\User\\anaconda3\\lib\\site-packages\\statsmodels\\base\\model.py:604: ConvergenceWarning: Maximum Likelihood optimization failed to converge. Check mle_retvals\n",
      "  warnings.warn(\"Maximum Likelihood optimization failed to \"\n"
     ]
    },
    {
     "name": "stdout",
     "output_type": "stream",
     "text": [
      "Complete for 213/288 MAE=0.23911100321618414, pdq=(2, 1, 3), seasonal_pdq=(1, 0, 2, 12)\n"
     ]
    },
    {
     "name": "stderr",
     "output_type": "stream",
     "text": [
      "C:\\Users\\User\\anaconda3\\lib\\site-packages\\statsmodels\\base\\model.py:604: ConvergenceWarning: Maximum Likelihood optimization failed to converge. Check mle_retvals\n",
      "  warnings.warn(\"Maximum Likelihood optimization failed to \"\n"
     ]
    },
    {
     "name": "stdout",
     "output_type": "stream",
     "text": [
      "Complete for 214/288 MAE=0.12601324983607082, pdq=(2, 1, 3), seasonal_pdq=(2, 0, 0, 12)\n"
     ]
    },
    {
     "name": "stderr",
     "output_type": "stream",
     "text": [
      "C:\\Users\\User\\anaconda3\\lib\\site-packages\\statsmodels\\base\\model.py:604: ConvergenceWarning: Maximum Likelihood optimization failed to converge. Check mle_retvals\n",
      "  warnings.warn(\"Maximum Likelihood optimization failed to \"\n",
      "C:\\Users\\User\\anaconda3\\lib\\site-packages\\statsmodels\\tsa\\statespace\\sarimax.py:866: UserWarning: Too few observations to estimate starting parameters for seasonal ARMA. All parameters except for variances will be set to zeros.\n",
      "  warn('Too few observations to estimate starting parameters%s.'\n"
     ]
    },
    {
     "name": "stdout",
     "output_type": "stream",
     "text": [
      "Complete for 215/288 MAE=0.30588839077423313, pdq=(2, 1, 3), seasonal_pdq=(2, 0, 1, 12)\n"
     ]
    },
    {
     "name": "stderr",
     "output_type": "stream",
     "text": [
      "C:\\Users\\User\\anaconda3\\lib\\site-packages\\statsmodels\\base\\model.py:604: ConvergenceWarning: Maximum Likelihood optimization failed to converge. Check mle_retvals\n",
      "  warnings.warn(\"Maximum Likelihood optimization failed to \"\n"
     ]
    },
    {
     "name": "stdout",
     "output_type": "stream",
     "text": [
      "Complete for 216/288 MAE=0.2142703471251641, pdq=(2, 1, 3), seasonal_pdq=(2, 0, 2, 12)\n",
      "Complete for 217/288 MAE=0.3486006775139055, pdq=(3, 0, 0), seasonal_pdq=(0, 0, 0, 12)\n",
      "Complete for 218/288 MAE=7242011.049389724, pdq=(3, 0, 0), seasonal_pdq=(0, 0, 1, 12)\n"
     ]
    },
    {
     "name": "stderr",
     "output_type": "stream",
     "text": [
      "C:\\Users\\User\\anaconda3\\lib\\site-packages\\statsmodels\\tsa\\statespace\\sarimax.py:866: UserWarning: Too few observations to estimate starting parameters for seasonal ARMA. All parameters except for variances will be set to zeros.\n",
      "  warn('Too few observations to estimate starting parameters%s.'\n"
     ]
    },
    {
     "name": "stdout",
     "output_type": "stream",
     "text": [
      "Complete for 219/288 MAE=0.20566128250822735, pdq=(3, 0, 0), seasonal_pdq=(0, 0, 2, 12)\n",
      "Complete for 220/288 MAE=0.1772620955538544, pdq=(3, 0, 0), seasonal_pdq=(1, 0, 0, 12)\n",
      "Complete for 221/288 MAE=0.15431633181845578, pdq=(3, 0, 0), seasonal_pdq=(1, 0, 1, 12)\n"
     ]
    },
    {
     "name": "stderr",
     "output_type": "stream",
     "text": [
      "C:\\Users\\User\\anaconda3\\lib\\site-packages\\statsmodels\\tsa\\statespace\\sarimax.py:866: UserWarning: Too few observations to estimate starting parameters for seasonal ARMA. All parameters except for variances will be set to zeros.\n",
      "  warn('Too few observations to estimate starting parameters%s.'\n"
     ]
    },
    {
     "name": "stdout",
     "output_type": "stream",
     "text": [
      "Complete for 222/288 MAE=0.2046842130958263, pdq=(3, 0, 0), seasonal_pdq=(1, 0, 2, 12)\n",
      "Complete for 223/288 MAE=0.1764559286318226, pdq=(3, 0, 0), seasonal_pdq=(2, 0, 0, 12)\n",
      "Complete for 224/288 MAE=0.20568425126915632, pdq=(3, 0, 0), seasonal_pdq=(2, 0, 1, 12)\n"
     ]
    },
    {
     "name": "stderr",
     "output_type": "stream",
     "text": [
      "C:\\Users\\User\\anaconda3\\lib\\site-packages\\statsmodels\\tsa\\statespace\\sarimax.py:866: UserWarning: Too few observations to estimate starting parameters for seasonal ARMA. All parameters except for variances will be set to zeros.\n",
      "  warn('Too few observations to estimate starting parameters%s.'\n",
      "C:\\Users\\User\\anaconda3\\lib\\site-packages\\statsmodels\\base\\model.py:604: ConvergenceWarning: Maximum Likelihood optimization failed to converge. Check mle_retvals\n",
      "  warnings.warn(\"Maximum Likelihood optimization failed to \"\n"
     ]
    },
    {
     "name": "stdout",
     "output_type": "stream",
     "text": [
      "Complete for 225/288 MAE=0.2116676160341091, pdq=(3, 0, 0), seasonal_pdq=(2, 0, 2, 12)\n",
      "Complete for 226/288 MAE=0.3472011714656871, pdq=(3, 0, 1), seasonal_pdq=(0, 0, 0, 12)\n"
     ]
    },
    {
     "name": "stderr",
     "output_type": "stream",
     "text": [
      "C:\\Users\\User\\anaconda3\\lib\\site-packages\\statsmodels\\base\\model.py:604: ConvergenceWarning: Maximum Likelihood optimization failed to converge. Check mle_retvals\n",
      "  warnings.warn(\"Maximum Likelihood optimization failed to \"\n",
      "C:\\Users\\User\\anaconda3\\lib\\site-packages\\statsmodels\\tsa\\statespace\\sarimax.py:866: UserWarning: Too few observations to estimate starting parameters for seasonal ARMA. All parameters except for variances will be set to zeros.\n",
      "  warn('Too few observations to estimate starting parameters%s.'\n"
     ]
    },
    {
     "name": "stdout",
     "output_type": "stream",
     "text": [
      "Complete for 227/288 MAE=246156.57722788327, pdq=(3, 0, 1), seasonal_pdq=(0, 0, 1, 12)\n",
      "Complete for 228/288 MAE=0.21421942508500766, pdq=(3, 0, 1), seasonal_pdq=(0, 0, 2, 12)\n",
      "Complete for 229/288 MAE=0.17842384139041798, pdq=(3, 0, 1), seasonal_pdq=(1, 0, 0, 12)\n",
      "Complete for 230/288 MAE=0.15450843228392747, pdq=(3, 0, 1), seasonal_pdq=(1, 0, 1, 12)\n"
     ]
    },
    {
     "name": "stderr",
     "output_type": "stream",
     "text": [
      "C:\\Users\\User\\anaconda3\\lib\\site-packages\\statsmodels\\tsa\\statespace\\sarimax.py:866: UserWarning: Too few observations to estimate starting parameters for seasonal ARMA. All parameters except for variances will be set to zeros.\n",
      "  warn('Too few observations to estimate starting parameters%s.'\n",
      "C:\\Users\\User\\anaconda3\\lib\\site-packages\\statsmodels\\base\\model.py:604: ConvergenceWarning: Maximum Likelihood optimization failed to converge. Check mle_retvals\n",
      "  warnings.warn(\"Maximum Likelihood optimization failed to \"\n"
     ]
    },
    {
     "name": "stdout",
     "output_type": "stream",
     "text": [
      "Complete for 231/288 MAE=0.18411083413323115, pdq=(3, 0, 1), seasonal_pdq=(1, 0, 2, 12)\n"
     ]
    },
    {
     "name": "stderr",
     "output_type": "stream",
     "text": [
      "C:\\Users\\User\\anaconda3\\lib\\site-packages\\statsmodels\\base\\model.py:604: ConvergenceWarning: Maximum Likelihood optimization failed to converge. Check mle_retvals\n",
      "  warnings.warn(\"Maximum Likelihood optimization failed to \"\n"
     ]
    },
    {
     "name": "stdout",
     "output_type": "stream",
     "text": [
      "Complete for 232/288 MAE=0.20609198172991036, pdq=(3, 0, 1), seasonal_pdq=(2, 0, 0, 12)\n"
     ]
    },
    {
     "name": "stderr",
     "output_type": "stream",
     "text": [
      "C:\\Users\\User\\anaconda3\\lib\\site-packages\\statsmodels\\base\\model.py:604: ConvergenceWarning: Maximum Likelihood optimization failed to converge. Check mle_retvals\n",
      "  warnings.warn(\"Maximum Likelihood optimization failed to \"\n",
      "C:\\Users\\User\\anaconda3\\lib\\site-packages\\statsmodels\\tsa\\statespace\\sarimax.py:866: UserWarning: Too few observations to estimate starting parameters for seasonal ARMA. All parameters except for variances will be set to zeros.\n",
      "  warn('Too few observations to estimate starting parameters%s.'\n"
     ]
    },
    {
     "name": "stdout",
     "output_type": "stream",
     "text": [
      "Complete for 233/288 MAE=0.215923311283465, pdq=(3, 0, 1), seasonal_pdq=(2, 0, 1, 12)\n"
     ]
    },
    {
     "name": "stderr",
     "output_type": "stream",
     "text": [
      "C:\\Users\\User\\anaconda3\\lib\\site-packages\\statsmodels\\base\\model.py:604: ConvergenceWarning: Maximum Likelihood optimization failed to converge. Check mle_retvals\n",
      "  warnings.warn(\"Maximum Likelihood optimization failed to \"\n"
     ]
    },
    {
     "name": "stdout",
     "output_type": "stream",
     "text": [
      "Complete for 234/288 MAE=0.21293715841266314, pdq=(3, 0, 1), seasonal_pdq=(2, 0, 2, 12)\n",
      "Complete for 235/288 MAE=0.2970226472114821, pdq=(3, 0, 2), seasonal_pdq=(0, 0, 0, 12)\n",
      "Complete for 236/288 MAE=235081.49558902797, pdq=(3, 0, 2), seasonal_pdq=(0, 0, 1, 12)\n"
     ]
    },
    {
     "name": "stderr",
     "output_type": "stream",
     "text": [
      "C:\\Users\\User\\anaconda3\\lib\\site-packages\\statsmodels\\tsa\\statespace\\sarimax.py:866: UserWarning: Too few observations to estimate starting parameters for seasonal ARMA. All parameters except for variances will be set to zeros.\n",
      "  warn('Too few observations to estimate starting parameters%s.'\n",
      "C:\\Users\\User\\anaconda3\\lib\\site-packages\\statsmodels\\base\\model.py:604: ConvergenceWarning: Maximum Likelihood optimization failed to converge. Check mle_retvals\n",
      "  warnings.warn(\"Maximum Likelihood optimization failed to \"\n"
     ]
    },
    {
     "name": "stdout",
     "output_type": "stream",
     "text": [
      "Complete for 237/288 MAE=0.17312865154651355, pdq=(3, 0, 2), seasonal_pdq=(0, 0, 2, 12)\n",
      "Complete for 238/288 MAE=0.17297475215698113, pdq=(3, 0, 2), seasonal_pdq=(1, 0, 0, 12)\n"
     ]
    },
    {
     "name": "stderr",
     "output_type": "stream",
     "text": [
      "C:\\Users\\User\\anaconda3\\lib\\site-packages\\statsmodels\\base\\model.py:604: ConvergenceWarning: Maximum Likelihood optimization failed to converge. Check mle_retvals\n",
      "  warnings.warn(\"Maximum Likelihood optimization failed to \"\n",
      "C:\\Users\\User\\anaconda3\\lib\\site-packages\\statsmodels\\tsa\\statespace\\sarimax.py:866: UserWarning: Too few observations to estimate starting parameters for seasonal ARMA. All parameters except for variances will be set to zeros.\n",
      "  warn('Too few observations to estimate starting parameters%s.'\n"
     ]
    },
    {
     "name": "stdout",
     "output_type": "stream",
     "text": [
      "Complete for 239/288 MAE=0.1670725212519275, pdq=(3, 0, 2), seasonal_pdq=(1, 0, 1, 12)\n"
     ]
    },
    {
     "name": "stderr",
     "output_type": "stream",
     "text": [
      "C:\\Users\\User\\anaconda3\\lib\\site-packages\\statsmodels\\base\\model.py:604: ConvergenceWarning: Maximum Likelihood optimization failed to converge. Check mle_retvals\n",
      "  warnings.warn(\"Maximum Likelihood optimization failed to \"\n"
     ]
    },
    {
     "name": "stdout",
     "output_type": "stream",
     "text": [
      "Complete for 240/288 MAE=0.20647372650462523, pdq=(3, 0, 2), seasonal_pdq=(1, 0, 2, 12)\n"
     ]
    },
    {
     "name": "stderr",
     "output_type": "stream",
     "text": [
      "C:\\Users\\User\\anaconda3\\lib\\site-packages\\statsmodels\\base\\model.py:604: ConvergenceWarning: Maximum Likelihood optimization failed to converge. Check mle_retvals\n",
      "  warnings.warn(\"Maximum Likelihood optimization failed to \"\n"
     ]
    },
    {
     "name": "stdout",
     "output_type": "stream",
     "text": [
      "Complete for 241/288 MAE=0.1353550571740921, pdq=(3, 0, 2), seasonal_pdq=(2, 0, 0, 12)\n"
     ]
    },
    {
     "name": "stderr",
     "output_type": "stream",
     "text": [
      "C:\\Users\\User\\anaconda3\\lib\\site-packages\\statsmodels\\base\\model.py:604: ConvergenceWarning: Maximum Likelihood optimization failed to converge. Check mle_retvals\n",
      "  warnings.warn(\"Maximum Likelihood optimization failed to \"\n",
      "C:\\Users\\User\\anaconda3\\lib\\site-packages\\statsmodels\\tsa\\statespace\\sarimax.py:866: UserWarning: Too few observations to estimate starting parameters for seasonal ARMA. All parameters except for variances will be set to zeros.\n",
      "  warn('Too few observations to estimate starting parameters%s.'\n"
     ]
    },
    {
     "name": "stdout",
     "output_type": "stream",
     "text": [
      "Complete for 242/288 MAE=0.1793854251439205, pdq=(3, 0, 2), seasonal_pdq=(2, 0, 1, 12)\n"
     ]
    },
    {
     "name": "stderr",
     "output_type": "stream",
     "text": [
      "C:\\Users\\User\\anaconda3\\lib\\site-packages\\statsmodels\\base\\model.py:604: ConvergenceWarning: Maximum Likelihood optimization failed to converge. Check mle_retvals\n",
      "  warnings.warn(\"Maximum Likelihood optimization failed to \"\n"
     ]
    },
    {
     "name": "stdout",
     "output_type": "stream",
     "text": [
      "Complete for 243/288 MAE=0.21408146611771817, pdq=(3, 0, 2), seasonal_pdq=(2, 0, 2, 12)\n"
     ]
    },
    {
     "name": "stderr",
     "output_type": "stream",
     "text": [
      "C:\\Users\\User\\anaconda3\\lib\\site-packages\\statsmodels\\base\\model.py:604: ConvergenceWarning: Maximum Likelihood optimization failed to converge. Check mle_retvals\n",
      "  warnings.warn(\"Maximum Likelihood optimization failed to \"\n"
     ]
    },
    {
     "name": "stdout",
     "output_type": "stream",
     "text": [
      "Complete for 244/288 MAE=0.2747191134576407, pdq=(3, 0, 3), seasonal_pdq=(0, 0, 0, 12)\n"
     ]
    },
    {
     "name": "stderr",
     "output_type": "stream",
     "text": [
      "C:\\Users\\User\\anaconda3\\lib\\site-packages\\statsmodels\\base\\model.py:604: ConvergenceWarning: Maximum Likelihood optimization failed to converge. Check mle_retvals\n",
      "  warnings.warn(\"Maximum Likelihood optimization failed to \"\n",
      "C:\\Users\\User\\anaconda3\\lib\\site-packages\\statsmodels\\tsa\\statespace\\sarimax.py:866: UserWarning: Too few observations to estimate starting parameters for seasonal ARMA. All parameters except for variances will be set to zeros.\n",
      "  warn('Too few observations to estimate starting parameters%s.'\n"
     ]
    },
    {
     "name": "stdout",
     "output_type": "stream",
     "text": [
      "Complete for 245/288 MAE=11735142878.118387, pdq=(3, 0, 3), seasonal_pdq=(0, 0, 1, 12)\n"
     ]
    },
    {
     "name": "stderr",
     "output_type": "stream",
     "text": [
      "C:\\Users\\User\\anaconda3\\lib\\site-packages\\statsmodels\\base\\model.py:604: ConvergenceWarning: Maximum Likelihood optimization failed to converge. Check mle_retvals\n",
      "  warnings.warn(\"Maximum Likelihood optimization failed to \"\n"
     ]
    },
    {
     "name": "stdout",
     "output_type": "stream",
     "text": [
      "Complete for 246/288 MAE=0.22585344226612417, pdq=(3, 0, 3), seasonal_pdq=(0, 0, 2, 12)\n"
     ]
    },
    {
     "name": "stderr",
     "output_type": "stream",
     "text": [
      "C:\\Users\\User\\anaconda3\\lib\\site-packages\\statsmodels\\base\\model.py:604: ConvergenceWarning: Maximum Likelihood optimization failed to converge. Check mle_retvals\n",
      "  warnings.warn(\"Maximum Likelihood optimization failed to \"\n"
     ]
    },
    {
     "name": "stdout",
     "output_type": "stream",
     "text": [
      "Complete for 247/288 MAE=0.19517170514856133, pdq=(3, 0, 3), seasonal_pdq=(1, 0, 0, 12)\n"
     ]
    },
    {
     "name": "stderr",
     "output_type": "stream",
     "text": [
      "C:\\Users\\User\\anaconda3\\lib\\site-packages\\statsmodels\\base\\model.py:604: ConvergenceWarning: Maximum Likelihood optimization failed to converge. Check mle_retvals\n",
      "  warnings.warn(\"Maximum Likelihood optimization failed to \"\n",
      "C:\\Users\\User\\anaconda3\\lib\\site-packages\\statsmodels\\tsa\\statespace\\sarimax.py:866: UserWarning: Too few observations to estimate starting parameters for seasonal ARMA. All parameters except for variances will be set to zeros.\n",
      "  warn('Too few observations to estimate starting parameters%s.'\n"
     ]
    },
    {
     "name": "stdout",
     "output_type": "stream",
     "text": [
      "Complete for 248/288 MAE=0.17206554326971343, pdq=(3, 0, 3), seasonal_pdq=(1, 0, 1, 12)\n"
     ]
    },
    {
     "name": "stderr",
     "output_type": "stream",
     "text": [
      "C:\\Users\\User\\anaconda3\\lib\\site-packages\\statsmodels\\base\\model.py:604: ConvergenceWarning: Maximum Likelihood optimization failed to converge. Check mle_retvals\n",
      "  warnings.warn(\"Maximum Likelihood optimization failed to \"\n"
     ]
    },
    {
     "name": "stdout",
     "output_type": "stream",
     "text": [
      "Complete for 249/288 MAE=0.2086152782641052, pdq=(3, 0, 3), seasonal_pdq=(1, 0, 2, 12)\n"
     ]
    },
    {
     "name": "stderr",
     "output_type": "stream",
     "text": [
      "C:\\Users\\User\\anaconda3\\lib\\site-packages\\statsmodels\\base\\model.py:604: ConvergenceWarning: Maximum Likelihood optimization failed to converge. Check mle_retvals\n",
      "  warnings.warn(\"Maximum Likelihood optimization failed to \"\n"
     ]
    },
    {
     "name": "stdout",
     "output_type": "stream",
     "text": [
      "Complete for 250/288 MAE=0.22622181114000103, pdq=(3, 0, 3), seasonal_pdq=(2, 0, 0, 12)\n"
     ]
    },
    {
     "name": "stderr",
     "output_type": "stream",
     "text": [
      "C:\\Users\\User\\anaconda3\\lib\\site-packages\\statsmodels\\base\\model.py:604: ConvergenceWarning: Maximum Likelihood optimization failed to converge. Check mle_retvals\n",
      "  warnings.warn(\"Maximum Likelihood optimization failed to \"\n",
      "C:\\Users\\User\\anaconda3\\lib\\site-packages\\statsmodels\\tsa\\statespace\\sarimax.py:866: UserWarning: Too few observations to estimate starting parameters for seasonal ARMA. All parameters except for variances will be set to zeros.\n",
      "  warn('Too few observations to estimate starting parameters%s.'\n"
     ]
    },
    {
     "name": "stdout",
     "output_type": "stream",
     "text": [
      "Complete for 251/288 MAE=0.17822463262150834, pdq=(3, 0, 3), seasonal_pdq=(2, 0, 1, 12)\n"
     ]
    },
    {
     "name": "stderr",
     "output_type": "stream",
     "text": [
      "C:\\Users\\User\\anaconda3\\lib\\site-packages\\statsmodels\\base\\model.py:604: ConvergenceWarning: Maximum Likelihood optimization failed to converge. Check mle_retvals\n",
      "  warnings.warn(\"Maximum Likelihood optimization failed to \"\n"
     ]
    },
    {
     "name": "stdout",
     "output_type": "stream",
     "text": [
      "Complete for 252/288 MAE=0.2592521195830172, pdq=(3, 0, 3), seasonal_pdq=(2, 0, 2, 12)\n",
      "Complete for 253/288 MAE=0.30191835470450185, pdq=(3, 1, 0), seasonal_pdq=(0, 0, 0, 12)\n"
     ]
    },
    {
     "name": "stderr",
     "output_type": "stream",
     "text": [
      "C:\\Users\\User\\anaconda3\\lib\\site-packages\\statsmodels\\base\\model.py:604: ConvergenceWarning: Maximum Likelihood optimization failed to converge. Check mle_retvals\n",
      "  warnings.warn(\"Maximum Likelihood optimization failed to \"\n",
      "C:\\Users\\User\\anaconda3\\lib\\site-packages\\statsmodels\\tsa\\statespace\\sarimax.py:866: UserWarning: Too few observations to estimate starting parameters for seasonal ARMA. All parameters except for variances will be set to zeros.\n",
      "  warn('Too few observations to estimate starting parameters%s.'\n"
     ]
    },
    {
     "name": "stdout",
     "output_type": "stream",
     "text": [
      "Complete for 254/288 MAE=16188.925840828893, pdq=(3, 1, 0), seasonal_pdq=(0, 0, 1, 12)\n",
      "Complete for 255/288 MAE=0.16577294677069832, pdq=(3, 1, 0), seasonal_pdq=(0, 0, 2, 12)\n",
      "Complete for 256/288 MAE=0.18373145790858317, pdq=(3, 1, 0), seasonal_pdq=(1, 0, 0, 12)\n",
      "Complete for 257/288 MAE=1469118.4415202404, pdq=(3, 1, 0), seasonal_pdq=(1, 0, 1, 12)\n"
     ]
    },
    {
     "name": "stderr",
     "output_type": "stream",
     "text": [
      "C:\\Users\\User\\anaconda3\\lib\\site-packages\\statsmodels\\tsa\\statespace\\sarimax.py:866: UserWarning: Too few observations to estimate starting parameters for seasonal ARMA. All parameters except for variances will be set to zeros.\n",
      "  warn('Too few observations to estimate starting parameters%s.'\n"
     ]
    },
    {
     "name": "stdout",
     "output_type": "stream",
     "text": [
      "Complete for 258/288 MAE=0.20571001079026754, pdq=(3, 1, 0), seasonal_pdq=(1, 0, 2, 12)\n",
      "Complete for 259/288 MAE=0.13977910758098874, pdq=(3, 1, 0), seasonal_pdq=(2, 0, 0, 12)\n"
     ]
    },
    {
     "name": "stderr",
     "output_type": "stream",
     "text": [
      "C:\\Users\\User\\anaconda3\\lib\\site-packages\\statsmodels\\base\\model.py:604: ConvergenceWarning: Maximum Likelihood optimization failed to converge. Check mle_retvals\n",
      "  warnings.warn(\"Maximum Likelihood optimization failed to \"\n",
      "C:\\Users\\User\\anaconda3\\lib\\site-packages\\statsmodels\\tsa\\statespace\\sarimax.py:866: UserWarning: Too few observations to estimate starting parameters for seasonal ARMA. All parameters except for variances will be set to zeros.\n",
      "  warn('Too few observations to estimate starting parameters%s.'\n"
     ]
    },
    {
     "name": "stdout",
     "output_type": "stream",
     "text": [
      "Complete for 260/288 MAE=0.32129612899106896, pdq=(3, 1, 0), seasonal_pdq=(2, 0, 1, 12)\n",
      "Complete for 261/288 MAE=0.18208850830321208, pdq=(3, 1, 0), seasonal_pdq=(2, 0, 2, 12)\n",
      "Complete for 262/288 MAE=0.2884770960233864, pdq=(3, 1, 1), seasonal_pdq=(0, 0, 0, 12)\n"
     ]
    },
    {
     "name": "stderr",
     "output_type": "stream",
     "text": [
      "C:\\Users\\User\\anaconda3\\lib\\site-packages\\statsmodels\\base\\model.py:604: ConvergenceWarning: Maximum Likelihood optimization failed to converge. Check mle_retvals\n",
      "  warnings.warn(\"Maximum Likelihood optimization failed to \"\n",
      "C:\\Users\\User\\anaconda3\\lib\\site-packages\\statsmodels\\tsa\\statespace\\sarimax.py:866: UserWarning: Too few observations to estimate starting parameters for seasonal ARMA. All parameters except for variances will be set to zeros.\n",
      "  warn('Too few observations to estimate starting parameters%s.'\n"
     ]
    },
    {
     "name": "stdout",
     "output_type": "stream",
     "text": [
      "Complete for 263/288 MAE=1153199694779.743, pdq=(3, 1, 1), seasonal_pdq=(0, 0, 1, 12)\n",
      "Complete for 264/288 MAE=0.18498676290733415, pdq=(3, 1, 1), seasonal_pdq=(0, 0, 2, 12)\n",
      "Complete for 265/288 MAE=0.17243952472661483, pdq=(3, 1, 1), seasonal_pdq=(1, 0, 0, 12)\n"
     ]
    },
    {
     "name": "stderr",
     "output_type": "stream",
     "text": [
      "C:\\Users\\User\\anaconda3\\lib\\site-packages\\statsmodels\\base\\model.py:604: ConvergenceWarning: Maximum Likelihood optimization failed to converge. Check mle_retvals\n",
      "  warnings.warn(\"Maximum Likelihood optimization failed to \"\n",
      "C:\\Users\\User\\anaconda3\\lib\\site-packages\\statsmodels\\tsa\\statespace\\sarimax.py:866: UserWarning: Too few observations to estimate starting parameters for seasonal ARMA. All parameters except for variances will be set to zeros.\n",
      "  warn('Too few observations to estimate starting parameters%s.'\n"
     ]
    },
    {
     "name": "stdout",
     "output_type": "stream",
     "text": [
      "Complete for 266/288 MAE=55965982002.159454, pdq=(3, 1, 1), seasonal_pdq=(1, 0, 1, 12)\n",
      "Complete for 267/288 MAE=0.19787889754231877, pdq=(3, 1, 1), seasonal_pdq=(1, 0, 2, 12)\n",
      "Complete for 268/288 MAE=0.1412845827492127, pdq=(3, 1, 1), seasonal_pdq=(2, 0, 0, 12)\n"
     ]
    },
    {
     "name": "stderr",
     "output_type": "stream",
     "text": [
      "C:\\Users\\User\\anaconda3\\lib\\site-packages\\statsmodels\\base\\model.py:604: ConvergenceWarning: Maximum Likelihood optimization failed to converge. Check mle_retvals\n",
      "  warnings.warn(\"Maximum Likelihood optimization failed to \"\n",
      "C:\\Users\\User\\anaconda3\\lib\\site-packages\\statsmodels\\tsa\\statespace\\sarimax.py:866: UserWarning: Too few observations to estimate starting parameters for seasonal ARMA. All parameters except for variances will be set to zeros.\n",
      "  warn('Too few observations to estimate starting parameters%s.'\n"
     ]
    },
    {
     "name": "stdout",
     "output_type": "stream",
     "text": [
      "Complete for 269/288 MAE=0.32120390283258066, pdq=(3, 1, 1), seasonal_pdq=(2, 0, 1, 12)\n",
      "Complete for 270/288 MAE=0.16503874854879425, pdq=(3, 1, 1), seasonal_pdq=(2, 0, 2, 12)\n",
      "Complete for 271/288 MAE=0.2858495042066996, pdq=(3, 1, 2), seasonal_pdq=(0, 0, 0, 12)\n",
      "Complete for 272/288 MAE=2421587596820167.5, pdq=(3, 1, 2), seasonal_pdq=(0, 0, 1, 12)\n"
     ]
    },
    {
     "name": "stderr",
     "output_type": "stream",
     "text": [
      "C:\\Users\\User\\anaconda3\\lib\\site-packages\\statsmodels\\tsa\\statespace\\sarimax.py:866: UserWarning: Too few observations to estimate starting parameters for seasonal ARMA. All parameters except for variances will be set to zeros.\n",
      "  warn('Too few observations to estimate starting parameters%s.'\n"
     ]
    },
    {
     "name": "stdout",
     "output_type": "stream",
     "text": [
      "Complete for 273/288 MAE=0.1601602804655023, pdq=(3, 1, 2), seasonal_pdq=(0, 0, 2, 12)\n",
      "Complete for 274/288 MAE=0.17313872899443017, pdq=(3, 1, 2), seasonal_pdq=(1, 0, 0, 12)\n",
      "Complete for 275/288 MAE=2408135845360625.5, pdq=(3, 1, 2), seasonal_pdq=(1, 0, 1, 12)\n"
     ]
    },
    {
     "name": "stderr",
     "output_type": "stream",
     "text": [
      "C:\\Users\\User\\anaconda3\\lib\\site-packages\\statsmodels\\tsa\\statespace\\sarimax.py:866: UserWarning: Too few observations to estimate starting parameters for seasonal ARMA. All parameters except for variances will be set to zeros.\n",
      "  warn('Too few observations to estimate starting parameters%s.'\n",
      "C:\\Users\\User\\anaconda3\\lib\\site-packages\\statsmodels\\base\\model.py:604: ConvergenceWarning: Maximum Likelihood optimization failed to converge. Check mle_retvals\n",
      "  warnings.warn(\"Maximum Likelihood optimization failed to \"\n"
     ]
    },
    {
     "name": "stdout",
     "output_type": "stream",
     "text": [
      "Complete for 276/288 MAE=0.19493736213201387, pdq=(3, 1, 2), seasonal_pdq=(1, 0, 2, 12)\n",
      "Complete for 277/288 MAE=0.14131089112838244, pdq=(3, 1, 2), seasonal_pdq=(2, 0, 0, 12)\n"
     ]
    },
    {
     "name": "stderr",
     "output_type": "stream",
     "text": [
      "C:\\Users\\User\\anaconda3\\lib\\site-packages\\statsmodels\\base\\model.py:604: ConvergenceWarning: Maximum Likelihood optimization failed to converge. Check mle_retvals\n",
      "  warnings.warn(\"Maximum Likelihood optimization failed to \"\n",
      "C:\\Users\\User\\anaconda3\\lib\\site-packages\\statsmodels\\tsa\\statespace\\sarimax.py:866: UserWarning: Too few observations to estimate starting parameters for seasonal ARMA. All parameters except for variances will be set to zeros.\n",
      "  warn('Too few observations to estimate starting parameters%s.'\n"
     ]
    },
    {
     "name": "stdout",
     "output_type": "stream",
     "text": [
      "Complete for 278/288 MAE=1763108802728592.2, pdq=(3, 1, 2), seasonal_pdq=(2, 0, 1, 12)\n"
     ]
    },
    {
     "name": "stderr",
     "output_type": "stream",
     "text": [
      "C:\\Users\\User\\anaconda3\\lib\\site-packages\\statsmodels\\base\\model.py:604: ConvergenceWarning: Maximum Likelihood optimization failed to converge. Check mle_retvals\n",
      "  warnings.warn(\"Maximum Likelihood optimization failed to \"\n"
     ]
    },
    {
     "name": "stdout",
     "output_type": "stream",
     "text": [
      "Complete for 279/288 MAE=0.3077971600836337, pdq=(3, 1, 2), seasonal_pdq=(2, 0, 2, 12)\n",
      "Complete for 280/288 MAE=0.23850394896848606, pdq=(3, 1, 3), seasonal_pdq=(0, 0, 0, 12)\n"
     ]
    },
    {
     "name": "stderr",
     "output_type": "stream",
     "text": [
      "C:\\Users\\User\\anaconda3\\lib\\site-packages\\statsmodels\\base\\model.py:604: ConvergenceWarning: Maximum Likelihood optimization failed to converge. Check mle_retvals\n",
      "  warnings.warn(\"Maximum Likelihood optimization failed to \"\n",
      "C:\\Users\\User\\anaconda3\\lib\\site-packages\\statsmodels\\tsa\\statespace\\sarimax.py:866: UserWarning: Too few observations to estimate starting parameters for seasonal ARMA. All parameters except for variances will be set to zeros.\n",
      "  warn('Too few observations to estimate starting parameters%s.'\n"
     ]
    },
    {
     "name": "stdout",
     "output_type": "stream",
     "text": [
      "Complete for 281/288 MAE=13008155926.881134, pdq=(3, 1, 3), seasonal_pdq=(0, 0, 1, 12)\n"
     ]
    },
    {
     "name": "stderr",
     "output_type": "stream",
     "text": [
      "C:\\Users\\User\\anaconda3\\lib\\site-packages\\statsmodels\\base\\model.py:604: ConvergenceWarning: Maximum Likelihood optimization failed to converge. Check mle_retvals\n",
      "  warnings.warn(\"Maximum Likelihood optimization failed to \"\n"
     ]
    },
    {
     "name": "stdout",
     "output_type": "stream",
     "text": [
      "Complete for 282/288 MAE=0.11925795463461476, pdq=(3, 1, 3), seasonal_pdq=(0, 0, 2, 12)\n"
     ]
    },
    {
     "name": "stderr",
     "output_type": "stream",
     "text": [
      "C:\\Users\\User\\anaconda3\\lib\\site-packages\\statsmodels\\base\\model.py:604: ConvergenceWarning: Maximum Likelihood optimization failed to converge. Check mle_retvals\n",
      "  warnings.warn(\"Maximum Likelihood optimization failed to \"\n",
      "C:\\Users\\User\\anaconda3\\lib\\site-packages\\statsmodels\\tsa\\statespace\\sarimax.py:866: UserWarning: Too few observations to estimate starting parameters for seasonal ARMA. All parameters except for variances will be set to zeros.\n",
      "  warn('Too few observations to estimate starting parameters%s.'\n"
     ]
    },
    {
     "name": "stdout",
     "output_type": "stream",
     "text": [
      "Complete for 283/288 MAE=0.14739385350213716, pdq=(3, 1, 3), seasonal_pdq=(1, 0, 0, 12)\n",
      "Complete for 284/288 MAE=429539.19447703805, pdq=(3, 1, 3), seasonal_pdq=(1, 0, 1, 12)\n"
     ]
    },
    {
     "name": "stderr",
     "output_type": "stream",
     "text": [
      "C:\\Users\\User\\anaconda3\\lib\\site-packages\\statsmodels\\base\\model.py:604: ConvergenceWarning: Maximum Likelihood optimization failed to converge. Check mle_retvals\n",
      "  warnings.warn(\"Maximum Likelihood optimization failed to \"\n"
     ]
    },
    {
     "name": "stdout",
     "output_type": "stream",
     "text": [
      "Complete for 285/288 MAE=0.21601144622361837, pdq=(3, 1, 3), seasonal_pdq=(1, 0, 2, 12)\n"
     ]
    },
    {
     "name": "stderr",
     "output_type": "stream",
     "text": [
      "C:\\Users\\User\\anaconda3\\lib\\site-packages\\statsmodels\\base\\model.py:604: ConvergenceWarning: Maximum Likelihood optimization failed to converge. Check mle_retvals\n",
      "  warnings.warn(\"Maximum Likelihood optimization failed to \"\n"
     ]
    },
    {
     "name": "stdout",
     "output_type": "stream",
     "text": [
      "Complete for 286/288 MAE=0.4683545947672818, pdq=(3, 1, 3), seasonal_pdq=(2, 0, 0, 12)\n"
     ]
    },
    {
     "name": "stderr",
     "output_type": "stream",
     "text": [
      "C:\\Users\\User\\anaconda3\\lib\\site-packages\\statsmodels\\base\\model.py:604: ConvergenceWarning: Maximum Likelihood optimization failed to converge. Check mle_retvals\n",
      "  warnings.warn(\"Maximum Likelihood optimization failed to \"\n",
      "C:\\Users\\User\\anaconda3\\lib\\site-packages\\statsmodels\\tsa\\statespace\\sarimax.py:866: UserWarning: Too few observations to estimate starting parameters for seasonal ARMA. All parameters except for variances will be set to zeros.\n",
      "  warn('Too few observations to estimate starting parameters%s.'\n"
     ]
    },
    {
     "name": "stdout",
     "output_type": "stream",
     "text": [
      "Complete for 287/288 MAE=303.91860885353, pdq=(3, 1, 3), seasonal_pdq=(2, 0, 1, 12)\n",
      "Complete for 288/288 MAE=0.2584802491119549, pdq=(3, 1, 3), seasonal_pdq=(2, 0, 2, 12)\n"
     ]
    },
    {
     "name": "stderr",
     "output_type": "stream",
     "text": [
      "C:\\Users\\User\\anaconda3\\lib\\site-packages\\statsmodels\\base\\model.py:604: ConvergenceWarning: Maximum Likelihood optimization failed to converge. Check mle_retvals\n",
      "  warnings.warn(\"Maximum Likelihood optimization failed to \"\n"
     ]
    }
   ],
   "source": [
    "p=[0,1,2,3]\n",
    "d=[0,1]       \n",
    "q=[0,1,2,3]\n",
    "P=[0,1,2]\n",
    "D=[0]\n",
    "Q=[0,1,2]\n",
    "\n",
    "pdq=list(itertools.product(p,d,q))\n",
    "#Generate all different combinations of seasonal p,q,and d triplets\n",
    "seasonal_pdq=[(x[0],x[1],x[2],12) for x in list(itertools.product(P,D,Q))]\n",
    "best_pdq= None\n",
    "best_results=8673499999999997\n",
    "best_seasonal_pdq= None\n",
    "count=0\n",
    "for i in pdq:\n",
    "    for j in seasonal_pdq:\n",
    "        model1= sm.tsa.statespace.SARIMAX(train, order=i, seasonal_order=j,\n",
    "                                enforce_stationarity= False,\n",
    "                                enforce_invertibility= False).fit()\n",
    "        ftest= model1.forecast(6)\n",
    "        mae=np.mean(abs(test-ftest)/test)\n",
    "        count+=1\n",
    "        print(f\"Complete for {count}/288 MAE={mae}, pdq={i}, seasonal_pdq={j}\")\n",
    "        if best_results>mae:\n",
    "            best_results=mae\n",
    "            best_pdq=i\n",
    "            best_seasonal_pdq=j"
   ]
  },
  {
   "cell_type": "code",
   "execution_count": 68,
   "id": "378b7545",
   "metadata": {},
   "outputs": [
    {
     "data": {
      "text/plain": [
       "0.11268455067936385"
      ]
     },
     "execution_count": 68,
     "metadata": {},
     "output_type": "execute_result"
    }
   ],
   "source": [
    "best_results"
   ]
  },
  {
   "cell_type": "code",
   "execution_count": 69,
   "id": "670d542b",
   "metadata": {},
   "outputs": [
    {
     "data": {
      "text/plain": [
       "(1, 1, 3)"
      ]
     },
     "execution_count": 69,
     "metadata": {},
     "output_type": "execute_result"
    }
   ],
   "source": [
    "best_pdq"
   ]
  },
  {
   "cell_type": "code",
   "execution_count": 70,
   "id": "d275b7ee",
   "metadata": {},
   "outputs": [
    {
     "data": {
      "text/plain": [
       "(2, 0, 0, 12)"
      ]
     },
     "execution_count": 70,
     "metadata": {},
     "output_type": "execute_result"
    }
   ],
   "source": [
    "best_seasonal_pdq"
   ]
  },
  {
   "cell_type": "code",
   "execution_count": 71,
   "id": "fec2255a",
   "metadata": {},
   "outputs": [
    {
     "name": "stderr",
     "output_type": "stream",
     "text": [
      "C:\\Users\\User\\anaconda3\\lib\\site-packages\\statsmodels\\base\\model.py:604: ConvergenceWarning: Maximum Likelihood optimization failed to converge. Check mle_retvals\n",
      "  warnings.warn(\"Maximum Likelihood optimization failed to \"\n"
     ]
    }
   ],
   "source": [
    "model2 = sm.tsa.statespace.SARIMAX(train, order = (1,1,3), seasonal_order=(2,0,0,12),\n",
    "                                enforce_stationary = False,\n",
    "                                enforce_invertibility = False).fit()"
   ]
  },
  {
   "cell_type": "code",
   "execution_count": 72,
   "id": "1afec5f3",
   "metadata": {},
   "outputs": [
    {
     "data": {
      "text/plain": [
       "2017-07-01     784.151568\n",
       "2017-08-01     682.248192\n",
       "2017-09-01    1176.143112\n",
       "2017-10-01     654.769027\n",
       "2017-11-01    1187.229823\n",
       "2017-12-01    1137.816572\n",
       "2018-01-01     514.513390\n",
       "2018-02-01     499.021391\n",
       "2018-03-01     615.431358\n",
       "2018-04-01     617.889522\n",
       "2018-05-01     700.747829\n",
       "2018-06-01     814.024115\n",
       "Freq: MS, Name: predicted_mean, dtype: float64"
      ]
     },
     "execution_count": 72,
     "metadata": {},
     "output_type": "execute_result"
    }
   ],
   "source": [
    "ftest=model2.forecast(12)\n",
    "ftest"
   ]
  },
  {
   "cell_type": "code",
   "execution_count": 73,
   "id": "85912748",
   "metadata": {},
   "outputs": [
    {
     "data": {
      "text/plain": [
       "<AxesSubplot:>"
      ]
     },
     "execution_count": 73,
     "metadata": {},
     "output_type": "execute_result"
    },
    {
     "data": {
      "image/png": "[encoded data removed]",
      "text/plain": [
       "<Figure size 432x288 with 1 Axes>"
      ]
     },
     "metadata": {
      "needs_background": "light"
     },
     "output_type": "display_data"
    }
   ],
   "source": [
    "model2.forecast(12).plot()"
   ]
  },
  {
   "cell_type": "code",
   "execution_count": 74,
   "id": "b48fdc0c",
   "metadata": {},
   "outputs": [
    {
     "data": {
      "text/plain": [
       "<AxesSubplot:xlabel='order_date'>"
      ]
     },
     "execution_count": 74,
     "metadata": {},
     "output_type": "execute_result"
    },
    {
     "data": {
      "image/png": "[encoded data removed]",
      "text/plain": [
       "<Figure size 432x288 with 1 Axes>"
      ]
     },
     "metadata": {
      "needs_background": "light"
     },
     "output_type": "display_data"
    }
   ],
   "source": [
    "train.plot()"
   ]
  },
  {
   "cell_type": "code",
   "execution_count": 75,
   "id": "6d86f25c",
   "metadata": {},
   "outputs": [
    {
     "data": {
      "image/png": "[encoded data removed]",
      "text/plain": [
       "<Figure size 1080x432 with 1 Axes>"
      ]
     },
     "metadata": {
      "needs_background": "light"
     },
     "output_type": "display_data"
    }
   ],
   "source": [
    "# Plot the forecast along with the confidence band\n",
    "\n",
    "axis = train.plot(label = 'Observed', figsize = (15,6))\n",
    "ftest.plot(label = 'Forecast', alpha = 0.7)\n",
    "\n",
    "axis.set_xlabel('Years')\n",
    "axis.set_ylabel('Sales')\n",
    "plt.legend(loc='best')\n",
    "plt.show()"
   ]
  },
  {
   "cell_type": "code",
   "execution_count": 76,
   "id": "55e168d4",
   "metadata": {},
   "outputs": [
    {
     "name": "stdout",
     "output_type": "stream",
     "text": [
      "Performing stepwise search to minimize aic\n",
      " ARIMA(1,1,1)(1,1,1)[12]             : AIC=inf, Time=0.47 sec\n",
      " ARIMA(0,1,0)(0,1,0)[12]             : AIC=501.192, Time=0.03 sec\n",
      " ARIMA(1,1,0)(1,1,0)[12]             : AIC=491.854, Time=0.13 sec\n",
      " ARIMA(0,1,1)(0,1,1)[12]             : AIC=inf, Time=0.21 sec\n",
      " ARIMA(1,1,0)(0,1,0)[12]             : AIC=494.311, Time=0.03 sec\n",
      " ARIMA(1,1,0)(2,1,0)[12]             : AIC=492.729, Time=0.30 sec\n",
      " ARIMA(1,1,0)(1,1,1)[12]             : AIC=inf, Time=0.34 sec\n",
      " ARIMA(1,1,0)(0,1,1)[12]             : AIC=490.624, Time=0.19 sec\n",
      " ARIMA(1,1,0)(0,1,2)[12]             : AIC=inf, Time=0.86 sec\n",
      " ARIMA(1,1,0)(1,1,2)[12]             : AIC=inf, Time=1.05 sec\n",
      " ARIMA(0,1,0)(0,1,1)[12]             : AIC=498.221, Time=0.17 sec\n",
      " ARIMA(2,1,0)(0,1,1)[12]             : AIC=inf, Time=0.41 sec\n",
      " ARIMA(1,1,1)(0,1,1)[12]             : AIC=inf, Time=0.36 sec\n",
      " ARIMA(2,1,1)(0,1,1)[12]             : AIC=inf, Time=0.87 sec\n",
      " ARIMA(1,1,0)(0,1,1)[12] intercept   : AIC=492.535, Time=0.36 sec\n",
      "\n",
      "Best model:  ARIMA(1,1,0)(0,1,1)[12]          \n",
      "Total fit time: 5.802 seconds\n",
      "490.62427514883865\n"
     ]
    }
   ],
   "source": [
    "from pmdarima.arima import auto_arima\n",
    "\n",
    "stepwise_model = auto_arima(Yt_data2,\n",
    "                           start_p=1, start_q=1,\n",
    "                           max_p=5, max_q=4, m=12,\n",
    "                           start_P=1, max_P=3, seasonal=True,\n",
    "                           d=1, D=1, max_d = 3, max_D=3, trace=True, \n",
    "                            error_action='ignore',\n",
    "                            suppress_warnings=True,\n",
    "                            stepwise=True, scoring='mae')\n",
    "print(stepwise_model.aic())"
   ]
  },
  {
   "cell_type": "code",
   "execution_count": null,
   "id": "9cac9e30",
   "metadata": {},
   "outputs": [],
   "source": []
  },
  {
   "cell_type": "code",
   "execution_count": null,
   "id": "f65f3f7a",
   "metadata": {},
   "outputs": [],
   "source": []
  },
  {
   "cell_type": "code",
   "execution_count": null,
   "id": "10d56e5b",
   "metadata": {},
   "outputs": [],
   "source": []
  }
 ],
 "metadata": {
  "kernelspec": {
   "display_name": "Python 3 (ipykernel)",
   "language": "python",
   "name": "python3"
  },
  "language_info": {
   "codemirror_mode": {
    "name": "ipython",
    "version": 3
   },
   "file_extension": ".py",
   "mimetype": "text/x-python",
   "name": "python",
   "nbconvert_exporter": "python",
   "pygments_lexer": "ipython3",
   "version": "3.9.12"
  }
 },
 "nbformat": 4,
 "nbformat_minor": 5
}
